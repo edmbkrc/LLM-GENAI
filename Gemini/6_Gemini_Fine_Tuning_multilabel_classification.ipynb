{
  "cells": [
    {
      "cell_type": "markdown",
      "metadata": {
        "id": "Tce3stUlHN0L"
      },
      "source": [
        "##### Copyright 2024 Google LLC."
      ]
    },
    {
      "cell_type": "code",
      "execution_count": null,
      "metadata": {
        "id": "tuOe1ymfHZPu",
        "cellView": "form"
      },
      "outputs": [],
      "source": [
        "#@title Licensed under the Apache License, Version 2.0 (the \"License\");\n",
        "# you may not use this file except in compliance with the License.\n",
        "# You may obtain a copy of the License at\n",
        "#\n",
        "# https://www.apache.org/licenses/LICENSE-2.0\n",
        "#\n",
        "# Unless required by applicable law or agreed to in writing, software\n",
        "# distributed under the License is distributed on an \"AS IS\" BASIS,\n",
        "# WITHOUT WARRANTIES OR CONDITIONS OF ANY KIND, either express or implied.\n",
        "# See the License for the specific language governing permissions and\n",
        "# limitations under the License."
      ]
    },
    {
      "cell_type": "markdown",
      "metadata": {
        "id": "yeadDkMiISin"
      },
      "source": [
        "# Gemini API: Tuning Quickstart with Python"
      ]
    },
    {
      "cell_type": "markdown",
      "metadata": {
        "id": "Jp_CKyzxUqx6"
      },
      "source": [
        "In this notebook, you'll learn how to get started with the tuning service using the Python client library for the Gemini API. Here, you'll learn how to tune the text model behind the Gemini API's text generation service."
      ]
    },
    {
      "cell_type": "markdown",
      "metadata": {
        "id": "4JXd-HdCsKdZ"
      },
      "source": [
        "**Note**: At this time, tuning is only available for the `gemini-1.0-pro-001` model."
      ]
    },
    {
      "cell_type": "markdown",
      "metadata": {
        "id": "sOz_wyZAlCuQ"
      },
      "source": [
        "## Setup"
      ]
    },
    {
      "cell_type": "markdown",
      "metadata": {
        "id": "SWxKvwd-MSIV"
      },
      "source": [
        "### Authenticate"
      ]
    },
    {
      "cell_type": "markdown",
      "metadata": {
        "id": "JjS8Zy1ojIgc"
      },
      "source": [
        "The Gemini API lets you tune models on your own data. Since it's your data and\n",
        "your tuned models this needs stricter access controls than API-Keys can provide.\n",
        "\n",
        "Before you can run this tutorial, you'll need to\n",
        "[setup OAuth for your project](https://ai.google.dev/palm_docs/oauth_quickstart).\n",
        "\n",
        "\n",
        "In Colab the easiest wat to get setup is to copy the contents of your `client_secret.json` file into Colab's \"Secrets manager\" (under the key icon in the left panel) with the secret name `CLIENT_SECRET`."
      ]
    },
    {
      "cell_type": "markdown",
      "metadata": {
        "id": "I6zTC-3mJ0-2"
      },
      "source": [
        "This gcloud command turns the `client_secret.json` file into credentials that can be used to authenticate with the service.\n",
        "\n",
        "> Important: If you're running this in Colab, **don't just click the link it prints**. That will fail. Follow the instructions and copy the `gcloud` command it prints to your local machine and run it there, then paste the output from your local machine back here.\n"
      ]
    },
    {
      "cell_type": "code",
      "execution_count": 4,
      "metadata": {
        "id": "9FUwyB_MJ0-2",
        "outputId": "f7ec30f7-80bd-4afd-faf2-2ef2397b5e03",
        "colab": {
          "base_uri": "https://localhost:8080/"
        }
      },
      "outputs": [
        {
          "output_type": "stream",
          "name": "stdout",
          "text": [
            "You are authorizing client libraries without access to a web browser. Please run the following command on a machine with a web browser and copy its output back here. Make sure the installed gcloud version is 372.0.0 or newer.\n",
            "\n",
            "gcloud auth application-default login --remote-bootstrap=\"https://accounts.google.com/o/oauth2/auth?response_type=code&client_id=797569668330-tpt3t4g98dv6vb5umd9qotb414egh4dv.apps.googleusercontent.com&scope=https%3A%2F%2Fwww.googleapis.com%2Fauth%2Fcloud-platform+https%3A%2F%2Fwww.googleapis.com%2Fauth%2Fgenerative-language.tuning&state=TJJfCBuI7tftsQVSy95b5bREmPFnbv&access_type=offline&code_challenge=3_juJmBKMasay_BCsrzr2t1JWq8SbtBP91DKiccONE8&code_challenge_method=S256&token_usage=remote\"\n",
            "\n",
            "\n",
            "Enter the output of the above command: https://localhost:8085/?state=TJJfCBuI7tftsQVSy95b5bREmPFnbv&code=4/0AcvDMrDuywuI_G13LJuk3_g5rwhqeFWPP3VlQ_NwihaQay6fdlRjuhvSLlsOEcQz6J3UIw&scope=https://www.googleapis.com/auth/cloud-platform%20https://www.googleapis.com/auth/generative-language.tuning\n",
            "\n",
            "Credentials saved to file: [/content/.config/application_default_credentials.json]\n",
            "\n",
            "These credentials will be used by any library that requests Application Default Credentials (ADC).\n"
          ]
        }
      ],
      "source": [
        "import os\n",
        "if 'COLAB_RELEASE_TAG' in os.environ:\n",
        "\n",
        "  # Use `--no-browser` in colab\n",
        "  !gcloud auth application-default login --no-browser --client-id-file client_secret.json --scopes='https://www.googleapis.com/auth/cloud-platform,https://www.googleapis.com/auth/generative-language.tuning'\n",
        "else:\n",
        "  !gcloud auth application-default login --client-id-file client_secret.json --scopes='https://www.googleapis.com/auth/cloud-platform,https://www.googleapis.com/auth/generative-language.tuning'"
      ]
    },
    {
      "cell_type": "markdown",
      "metadata": {
        "id": "aHimx8NGMWDj"
      },
      "source": [
        "### Install the client library"
      ]
    },
    {
      "cell_type": "code",
      "execution_count": 5,
      "metadata": {
        "id": "cbcf72bcb56d"
      },
      "outputs": [],
      "source": [
        "!pip install -q -U google-generativeai"
      ]
    },
    {
      "cell_type": "markdown",
      "metadata": {
        "id": "jdIYSl2kN0cq"
      },
      "source": [
        "### Import libraries"
      ]
    },
    {
      "cell_type": "code",
      "source": [
        "import google.generativeai as genai\n",
        "\n",
        "print('Available base models:', [m.name for m in genai.list_models()])"
      ],
      "metadata": {
        "colab": {
          "base_uri": "https://localhost:8080/"
        },
        "id": "J1l_uR-v57VQ",
        "outputId": "e7dac203-34b3-4dd8-f60b-d9d61ede8a78"
      },
      "execution_count": 6,
      "outputs": [
        {
          "output_type": "stream",
          "name": "stdout",
          "text": [
            "Available base models: ['models/chat-bison-001', 'models/text-bison-001', 'models/embedding-gecko-001', 'models/gemini-1.0-pro', 'models/gemini-1.0-pro-001', 'models/gemini-1.0-pro-latest', 'models/gemini-1.0-pro-vision-latest', 'models/gemini-1.5-flash', 'models/gemini-1.5-flash-001', 'models/gemini-1.5-flash-latest', 'models/gemini-1.5-pro', 'models/gemini-1.5-pro-001', 'models/gemini-1.5-pro-latest', 'models/gemini-pro', 'models/gemini-pro-vision', 'models/embedding-001', 'models/text-embedding-004', 'models/aqa']\n"
          ]
        }
      ]
    },
    {
      "cell_type": "code",
      "source": [
        "!gcloud --version"
      ],
      "metadata": {
        "colab": {
          "base_uri": "https://localhost:8080/"
        },
        "id": "zD-ZZsF_Bpge",
        "outputId": "0109616c-6bcb-40b1-921c-8204a6ffdc5a"
      },
      "execution_count": 7,
      "outputs": [
        {
          "output_type": "stream",
          "name": "stdout",
          "text": [
            "Google Cloud SDK 484.0.0\n"
          ]
        }
      ]
    },
    {
      "cell_type": "markdown",
      "metadata": {
        "id": "P-MYZECwlRCq"
      },
      "source": [
        "You can check you existing tuned models with the `genai.list_tuned_model` method."
      ]
    },
    {
      "cell_type": "code",
      "source": [
        "print('My tuned models:', [m.name for m in genai.list_tuned_models()])"
      ],
      "metadata": {
        "colab": {
          "base_uri": "https://localhost:8080/"
        },
        "id": "oPPa8Pso6-lW",
        "outputId": "ea673137-26cf-4a28-8334-e26ac0e30b30"
      },
      "execution_count": 8,
      "outputs": [
        {
          "output_type": "stream",
          "name": "stdout",
          "text": [
            "My tuned models: []\n"
          ]
        }
      ]
    },
    {
      "cell_type": "markdown",
      "metadata": {
        "id": "BhkXRzciv3Dp"
      },
      "source": [
        "## Create tuned model"
      ]
    },
    {
      "cell_type": "markdown",
      "metadata": {
        "id": "OO8VZYAinLWc"
      },
      "source": [
        "To create a tuned model, you need to pass your dataset to the model in the `genai.create_tuned_model` method. You can do this be directly defining the input and output values in the call or importing from a file into a dataframe to pass to the method.\n",
        "\n",
        "For this example, you will tune a model to generate the next number in the sequence. For example, if the input is `1`, the model should output `2`. If the input is `one hundred`, the output should be `one hundred one`."
      ]
    },
    {
      "cell_type": "code",
      "execution_count": 9,
      "metadata": {
        "id": "w-EBSe9wTbLB",
        "outputId": "edd17611-cf71-4f5f-b35a-26de266152c6",
        "colab": {
          "base_uri": "https://localhost:8080/"
        }
      },
      "outputs": [
        {
          "output_type": "execute_result",
          "data": {
            "text/plain": [
              "Model(name='models/gemini-1.0-pro-001',\n",
              "      base_model_id='',\n",
              "      version='001',\n",
              "      display_name='Gemini 1.0 Pro 001 (Tuning)',\n",
              "      description=('The best model for scaling across a wide range of tasks. This is a stable '\n",
              "                   'model that supports tuning.'),\n",
              "      input_token_limit=30720,\n",
              "      output_token_limit=2048,\n",
              "      supported_generation_methods=['generateContent', 'countTokens', 'createTunedModel'],\n",
              "      temperature=0.9,\n",
              "      max_temperature=None,\n",
              "      top_p=1.0,\n",
              "      top_k=None)"
            ]
          },
          "metadata": {},
          "execution_count": 9
        }
      ],
      "source": [
        "base_model = [\n",
        "    m for m in genai.list_models()\n",
        "    if \"createTunedModel\" in m.supported_generation_methods][0]\n",
        "base_model"
      ]
    },
    {
      "cell_type": "code",
      "source": [
        "base_model.name"
      ],
      "metadata": {
        "colab": {
          "base_uri": "https://localhost:8080/",
          "height": 36
        },
        "id": "nFDFz3vDR0fX",
        "outputId": "0437450e-4ae5-4818-9ed2-c1e80aeacbc5"
      },
      "execution_count": 10,
      "outputs": [
        {
          "output_type": "execute_result",
          "data": {
            "text/plain": [
              "'models/gemini-1.0-pro-001'"
            ],
            "application/vnd.google.colaboratory.intrinsic+json": {
              "type": "string"
            }
          },
          "metadata": {},
          "execution_count": 10
        }
      ]
    },
    {
      "cell_type": "code",
      "source": [
        "base_model.output_token_limit"
      ],
      "metadata": {
        "colab": {
          "base_uri": "https://localhost:8080/"
        },
        "id": "0pZ0iSiUQBtA",
        "outputId": "93a34681-65a2-463c-85ff-72c400431e56"
      },
      "execution_count": 12,
      "outputs": [
        {
          "output_type": "execute_result",
          "data": {
            "text/plain": [
              "2048"
            ]
          },
          "metadata": {},
          "execution_count": 12
        }
      ]
    },
    {
      "cell_type": "code",
      "source": [
        "prompt= [\"The headphones are really great, but the delivery was very slow.\",\n",
        "\"I love the design of the laptop. The shipment was on time too!\",\n",
        "\"The book arrived damaged, very disappointed. The shipping was okay though.\",\n",
        "\"The quality of the furniture is top-notch! The courier service was terrible.\",\n",
        "\"The coffee maker works like a charm! Thank you for the fast delivery.\",\n",
        "\"Absolutely hate the sweater, feels so cheap. Kinda glad the shipping was fast though.\",\n",
        "\"The perfume smells amazing. The delivery was quick and well-packaged.\",\n",
        "\"The bicycle is durable and well-built. However, shipping took longer than expected.\",\n",
        "\"Sofa is not comfortable at all. Shipping was decent.\",\n",
        "\"Very pleased with my new TV! Shipping took ages to arrive.\",\n",
        "\"The gaming console is a dream come true. Shipping came sooner than expected!\",\n",
        "\"The jacket fits perfectly. The shipping was extremely slow!\",\n",
        "\"The kettle leaks water, very poor quality. Shipping was quick though.\",\n",
        "\"Love my new shoes, they fit perfectly. Delivery was late, however.\",\n",
        "\"The vacuum cleaner is very powerful. Delivery was smooth and on time.\",\n",
        "\"The tablet is amazing, but delivery took forever to arrive.\",\n",
        "\"Very dissatisfied with the camera quality. Shipping was mediocre.\",\n",
        "\"The bed frame is sturdy and beautiful. Delivery service was abysmal.\",\n",
        "\"Thrilled with the microwave performance. Shipping was prompt.\",\n",
        "\"The printer constantly malfunctions. Delivery was okay.\",\n",
        "\"These sunglasses are stylish and high-quality. Shipping was a nightmare.\",\n",
        "\"The blender is fantastic for smoothies. Shipping was hassle-free.\",\n",
        "\"Really disappointed in the headphones. Delivery was alright though.\",\n",
        "\"The shoes are exactly what I needed, but the shipment was delayed.\",\n",
        "\"Beautiful watch, works great. Delivery process was frustratingly slow.\",\n",
        "\"Terrible experience with the dishwasher. The shipping was reasonable.\",\n",
        "\"The monitor is excellent for gaming. The package arrived on time.\",\n",
        "\"The hairdryer is faulty and doesn't work. Shipping was punctual.\",\n",
        "\"So happy with the noise-cancelling feature of these earbuds. Delivery was late.\",\n",
        "\"This fitness tracker is just amazing. The delivery was quick and efficient.\",\n",
        "\"Really subpar quality of the backpack. Shipping was substandard too.\",\n",
        "\"The smart speaker works wonders! Delivery was on point.\",\n",
        "\"Lovely dress, fits just right. Shipping was delayed a bit.\",\n",
        "\"Hated the tablet, very slow and unresponsive. Shipping was swift.\",\n",
        "\"The air fryer is brilliant. Delivery service was a disaster.\",\n",
        "\"These curtains are perfect for my room. Shipping was straightforward.\",\n",
        "\"Very poor quality camera lens. The delivery was acceptable.\",\n",
        "\"The smartwatch is very functional. Package arrived so late.\",\n",
        "\"The dress wasn't what I expected. Shipping was on time.\",\n",
        "\"This gaming mouse is a game-changer. Delivery was slower than anticipated.\",\n",
        "\"The grill did not work properly. Shipment came faster than I thought it would.\",\n",
        "\"These boots are extremely comfy. Shipping experience was great too!\",\n",
        "\"The office chair was missing parts. Delivery was prompt.\",\n",
        "\"I love this camera! Shipping took a while to arrive.\",\n",
        "\"This baby stroller is very high-quality. Shipping was slower than promised.\",\n",
        "\"Not happy with the table lamp, it stopped working. Shipping was fast, though.\",\n",
        "\"Perfect oven for our needs! Delivery was serviceable.\",\n",
        "\"The rug feels cheap and looks bad. Delivery time was sufficient.\",\n",
        "\"Extremely happy with the new blender. Packaging and delivery were fine.\",\n",
        "\"My new winter coat is perfect. The shipping was the worst.\",\n",
        "\"This electric scooter is so much fun! Shipping was on time.\",\n",
        "\"This chair is so comfortable, I love it!\",\n",
        "\"The camera arrived late but is in perfect condition.\",\n",
        "\"I'm really impressed with the quality of this phone case.\",\n",
        "\"The delivery was really fast, thank you!\",\n",
        "\"Ordered a watch and it arrived damaged. Disappointed!\",\n",
        "\"The carpet fits perfectly in my living room.\",\n",
        "\"The package arrived later than expected.\",\n",
        "\"Very satisfied with this water bottle's design.\",\n",
        "\"The courier service was quite efficient.\",\n",
        "\"The shipping was a disaster, it took forever!\",\n",
        "\"The tablet is extremely fast and responsive, but the delivery was really slow.\",\n",
        "\"Amazing camera quality! Shipping was prompt and hassle-free.\",\n",
        "\"The refrigerator is faulty, doesn't cool properly. Shipping was on time though.\",\n",
        "\"Fantastic sound system, but the package arrived much later than expected.\",\n",
        "\"Very satisfied with this gaming laptop! Shipping was smooth and quick.\",\n",
        "\"Disappointed with the quality of this shirt. Shipping was fast, though.\",\n",
        "\"The garden tools are very durable and well-made. Delivery was efficient.\",\n",
        "\"The TV stand looks great, but shipping took forever to arrive.\",\n",
        "\"These running shoes are uncomfortable. Delivery was okay.\",\n",
        "\"Thrilled with the coffee machine! The courier service was horrible, though.\",\n",
        "\"The lamp is beautiful and works perfectly. Delivery was fast.\",\n",
        "\"Very unhappy with the mattress, it's too firm. Delivery was on time.\",\n",
        "\"The headphones sound incredible. The shipping was delayed, unfortunately.\",\n",
        "\"This backpack is very functional and stylish. Delivery was great too.\",\n",
        "\"The washing machine broke down after a week. Shipping was fast.\",\n",
        "\"Absolutely love this blender, but shipping was a nightmare.\",\n",
        "\"The winter boots are of poor quality. Delivery was quick, though.\",\n",
        "\"Very impressed with the smartphone! Shipping was also very fast.\",\n",
        "\"The electric kettle stopped working after a month. Delivery was timely.\",\n",
        "\"These wireless earbuds are fantastic! Delivery took longer than expected.\",\n",
        "\"The air conditioner cools efficiently. Shipping was mediocre.\",\n",
        "\"Not happy with this vacuum cleaner. Shipping was fast, however.\",\n",
        "\"This microwave oven is a great buy! The courier service was terrible.\",\n",
        "\"The desk is sturdy and stylish. Delivery was prompt.\",\n",
        "\"Very dissatisfied with the printer quality. Shipping was fine.\",\n",
        "\"The camera tripod is well-built and stable. The delivery was slow.\",\n",
        "\"This smartwatch has many useful features. Shipping was prompt.\",\n",
        "\"The electric scooter is a lot of fun! Shipping took a while, though.\",\n",
        "\"Extremely disappointed with the laptop stand. Delivery was fast.\",\n",
        "\"The kitchen mixer is perfect for my needs. Shipping was delayed.\",\n",
        "\"The curtains block out light perfectly. Delivery was swift.\",\n",
        "\"The watch stopped working after a week. Shipping was punctual.\",\n",
        "\"Very happy with this gaming chair! The shipping was slow, however.\",\n",
        "\"The bookshelf is elegant and sturdy. Delivery was on time.\",\n",
        "\"The blender jar cracked after one use. Shipping was quick.\",\n",
        "\"These slippers are so comfortable! Delivery was on point.\",\n",
        "\"The kitchen scale is inaccurate. Shipping was acceptable.\",\n",
        "\"Really pleased with this photo frame. The shipping was delayed.\",\n",
        "\"The suitcase is very spacious and durable. Delivery was on time.\",\n",
        "\"Disappointed in the quality of this hoodie. Shipping was smooth.\",\n",
        "\"The lawnmower works great! The delivery was a bit slow.\",\n",
        "\"This electric toothbrush is amazing. Delivery was quick and easy.\",\n",
        "\"The mirror arrived shattered. Shipping was on time, though.\",\n",
        "\"These jeans fit perfectly. The shipping was very slow.\",\n",
        "\"The blender works perfectly. Delivery was late, however.\",\n",
        "\"The gaming headset is top-notch! Shipping was delayed, though.\",\n",
        "\"This tablet case is very durable. Delivery was on time.\",\n",
        "\"The drill stopped working after a month. Delivery was fast.\",\n",
        "\"Love the new rug! Shipping was slower than expected.\",\n",
        "\"The pressure cooker is excellent. Delivery was quick and smooth.\",\n",
        "\"The gym bag is very flimsy. Shipping was fast, though.\",\n",
        "\"This monitor is perfect for my needs. Shipping took a while.\",\n",
        "\"The gaming console is faulty. Delivery was on time.\",\n",
        "\"Very happy with this office desk. Shipping was efficient.\",\n",
        "\"The phone case is of very poor quality. Shipping was quick.\",\n",
        "\"The electric grill is fantastic! The delivery took forever.\",\n",
        "\"These earbuds have excellent sound quality. Shipping was delayed.\",\n",
        "\"The laptop case is well-made. Delivery was on time.\",\n",
        "\"The water bottle leaks. Shipping was fast, though.\",\n",
        "\"This jacket is stylish and warm. Delivery was delayed, however.\",\n",
        "\"The vacuum cleaner is very powerful. Delivery was fast.\",\n",
        "\"Very dissatisfied with this smartwatch. The shipping was slow.\",\n",
        "\"The desk chair is extremely comfortable. Delivery was quick.\",\n",
        "\"The toaster broke after a week. Shipping was on time.\",\n",
        "\"The new keyboard is excellent! Delivery was faster than expected.\",\n",
        "\"The blender jar cracked easily. Shipping was fast, however.\",\n",
        "\"Absolutely love this sofa. Shipping took longer than anticipated.\",\n",
        "\"This router has poor signal strength. Delivery was on time.\",\n",
        "\"The smart bulb is very bright and energy-efficient. Delivery was quick.\",\n",
        "\"The carpet is of low quality. Delivery was punctual.\",\n",
        "\"The electric shaver works wonderfully. Shipping was delayed.\",\n",
        "\"These headphones are very uncomfortable. Shipping was fast.\",\n",
        "\"This smartwatch exceeded my expectations. Delivery was smooth.\",\n",
        "\"The blender motor burned out quickly. Delivery was fast, though.\",\n",
        "\"Love this hair straightener! Delivery was a bit late.\"]"
      ],
      "metadata": {
        "id": "BMh-HBIwnO0t"
      },
      "execution_count": 13,
      "outputs": []
    },
    {
      "cell_type": "code",
      "source": [
        "target=[\"{product: positive, shipping: negative}\",\n",
        "\"{product: positive, shipping: positive}\",\n",
        "\"{product: negative, shipping: neutral}\",\n",
        "\"{product: positive, shipping: negative}\",\n",
        "\"{product: positive, shipping: positive}\",\n",
        "\"{product: negative, shipping: positive}\",\n",
        "\"{product: positive, shipping: positive}\",\n",
        "\"{product: positive, shipping: negative}\",\n",
        "\"{product: negative, shipping: neutral}\",\n",
        "\"{product: positive, shipping: negative}\",\n",
        "\"{product: positive, shipping: positive}\",\n",
        "\"{product: positive, shipping: negative}\",\n",
        "\"{product: negative, shipping: positive}\",\n",
        "\"{product: positive, shipping: negative}\",\n",
        "\"{product: positive, shipping: positive}\",\n",
        "\"{product: positive, shipping: negative}\",\n",
        "\"{product: negative, shipping: neutral}\",\n",
        "\"{product: positive, shipping: negative}\",\n",
        "\"{product: positive, shipping: positive}\",\n",
        "\"{product: negative, shipping: neutral}\",\n",
        "\"{product: positive, shipping: negative}\",\n",
        "\"{product: positive, shipping: positive}\",\n",
        "\"{product: negative, shipping: neutral}\",\n",
        "\"{product: positive, shipping: negative}\",\n",
        "\"{product: positive, shipping: negative}\",\n",
        "\"{product: negative, shipping: neutral}\",\n",
        "\"{product: positive, shipping: positive}\",\n",
        "\"{product: negative, shipping: positive}\",\n",
        "\"{product: positive, shipping: negative}\",\n",
        "\"{product: positive, shipping: positive}\",\n",
        "\"{product: negative, shipping: negative}\",\n",
        "\"{product: positive, shipping: positive}\",\n",
        "\"{product: positive, shipping: negative}\",\n",
        "\"{product: negative, shipping: positive}\",\n",
        "\"{product: positive, shipping: negative}\",\n",
        "\"{product:positive, shipping: neutral}\",\n",
        "\"{product: negative, shipping: neutral}\",\n",
        "\"{product: positive, shipping: negative}\",\n",
        "\"{product: negative, shipping: positive}\",\n",
        "\"{product: positive, shipping: negative}\",\n",
        "\"{product: negative, shipping: positive}\",\n",
        "\"{product: positive, shipping: positive}\",\n",
        "\"{product: negative, shipping: positive}\",\n",
        "\"{product: positive, shipping: negative}\",\n",
        "\"{product: positive, shipping: negative}\",\n",
        "\"{product: negative, shipping: positive}\",\n",
        "\"{product: positive, shipping: neutral}\",\n",
        "\"{product: negative, shipping: neutral}\",\n",
        "\"{product: positive, shipping: neutral}\",\n",
        "\"{product: positive, shipping: negative}\",\n",
        "\"{product: positive, shipping: positive}\",\n",
        "\"{product: positive, shipping: None}\",\n",
        "\"{product: positive, shipping: negative}\",\n",
        "\"{product: positive, shipping: None}\",\n",
        "\"{product: None, shipping: positive}\",\n",
        "\"{product: negative, shipping: None}\",\n",
        "\"{product: positive, shipping: None}\",\n",
        "\"{product: None, shipping: negative}\",\n",
        "\"{product: positive, shipping: None}\",\n",
        "\"{product: None, shipping: positive}\",\n",
        "\"{product: None, shipping: negative}\",\n",
        "\"{product: positive, shipping: negative}\",\n",
        "\"{product: positive, shipping: positive}\",\n",
        "\"{product: negative, shipping: positive}\",\n",
        "\"{product: positive, shipping: negative}\",\n",
        "\"{product: positive, shipping: positive}\",\n",
        "\"{product: negative, shipping: positive}\",\n",
        "\"{product: positive, shipping: positive}\",\n",
        "\"{product: positive, shipping: negative}\",\n",
        "\"{product: negative, shipping: neutral}\",\n",
        "\"{product: positive, shipping: negative}\",\n",
        "\"{product: positive, shipping: positive}\",\n",
        "\"{product: negative, shipping: positive}\",\n",
        "\"{product: positive, shipping: negative}\",\n",
        "\"{product: positive, shipping: positive}\",\n",
        "\"{product: negative, shipping: positive}\",\n",
        "\"{product: positive, shipping: negative}\",\n",
        "\"{product: negative, shipping: positive}\",\n",
        "\"{product: positive, shipping: positive}\",\n",
        "\"{product: negative, shipping: positive}\",\n",
        "\"{product: positive, shipping: negative}\",\n",
        "\"{product: positive, shipping: neutral}\",\n",
        "\"{product: negative, shipping: positive}\",\n",
        "\"{product: positive, shipping: negative}\",\n",
        "\"{product: positive, shipping: positive}\",\n",
        "\"{product: negative, shipping: neutral}\",\n",
        "\"{product: positive, shipping: negative}\",\n",
        "\"{product: positive, shipping: positive}\",\n",
        "\"{product: positive, shipping: negative}\",\n",
        "\"{product: negative, shipping: positive}\",\n",
        "\"{product: positive, shipping: negative}\",\n",
        "\"{product: positive, shipping: positive}\",\n",
        "\"{product: negative, shipping: positive}\",\n",
        "\"{product: positive, shipping: negative}\",\n",
        "\"{product: positive, shipping: positive}\",\n",
        "\"{product: negative, shipping: positive}\",\n",
        "\"{product: positive, shipping: positive}\",\n",
        "\"{product: negative, shipping: neutral}\",\n",
        "\"{product: positive, shipping: negative}\",\n",
        "\"{product: positive, shipping: positive}\",\n",
        "\"{product: negative, shipping: positive}\",\n",
        "\"{product: positive, shipping: negative}\",\n",
        "\"{product: positive, shipping: positive}\",\n",
        "\"{product: negative, shipping: positive}\",\n",
        "\"{product: positive, shipping: negative}\",\n",
        "\"{product: positive, shipping: negative}\",\n",
        "\"{product: positive, shipping: negative}\",\n",
        "\"{product: positive, shipping: positive}\",\n",
        "\"{product: negative, shipping: positive}\",\n",
        "\"{product: positive, shipping: negative}\",\n",
        "\"{product: positive, shipping: positive}\",\n",
        "\"{product: negative, shipping: positive}\",\n",
        "\"{product: positive, shipping: negative}\",\n",
        "\"{product: negative, shipping: positive}\",\n",
        "\"{product: positive, shipping: positive}\",\n",
        "\"{product: negative, shipping: positive}\",\n",
        "\"{product: positive, shipping: negative}\",\n",
        "\"{product: positive, shipping: negative}\",\n",
        "\"{product: positive, shipping: positive}\",\n",
        "\"{product: negative, shipping: positive}\",\n",
        "\"{product: positive, shipping: negative}\",\n",
        "\"{product: positive, shipping: positive}\",\n",
        "\"{product: negative, shipping: negative}\",\n",
        "\"{product: positive, shipping: positive}\",\n",
        "\"{product: negative, shipping: positive}\",\n",
        "\"{product: positive, shipping: positive}\",\n",
        "\"{product: negative, shipping: positive}\",\n",
        "\"{product: positive, shipping: negative}\",\n",
        "\"{product: negative, shipping: positive}\",\n",
        "\"{product: positive, shipping: positive}\",\n",
        "\"{product: negative, shipping: positive}\",\n",
        "\"{product: positive, shipping: negative}\",\n",
        "\"{product: negative, shipping: positive}\",\n",
        "\"{product: positive, shipping: positive}\",\n",
        "\"{product: negative, shipping: positive}\",\n",
        "\"{product: positive, shipping: negative}\"]"
      ],
      "metadata": {
        "id": "TtwehSjhndAd"
      },
      "execution_count": 14,
      "outputs": []
    },
    {
      "cell_type": "code",
      "source": [
        "len(target)"
      ],
      "metadata": {
        "colab": {
          "base_uri": "https://localhost:8080/"
        },
        "id": "OM1A19t3t4eQ",
        "outputId": "b877527a-3aca-4b03-95df-073cf1a439b3"
      },
      "execution_count": 15,
      "outputs": [
        {
          "output_type": "execute_result",
          "data": {
            "text/plain": [
              "136"
            ]
          },
          "metadata": {},
          "execution_count": 15
        }
      ]
    },
    {
      "cell_type": "code",
      "source": [
        "system=\"Classify the text based on delimited by angle brackets comments about the product and shipping as positive, negative, neutral, and None.\"\n",
        "\n",
        "# commonly used delimiters:\n",
        "# triple quotes: \"\"\"\n",
        "# triple backticks: '''\n",
        "# riple dashes: ___\n",
        "# angle brackets : <>\n",
        "# curly brackets: {}\n",
        "# XML tags: <tag> </tag> ---> <text>This is sentence</text>"
      ],
      "metadata": {
        "id": "H1fTACFUomvL"
      },
      "execution_count": 16,
      "outputs": []
    },
    {
      "cell_type": "code",
      "source": [
        "def prompt_new(prompt):\n",
        "  new_prompt=[system + '<' + i +'>' for i in prompt]\n",
        "  return new_prompt"
      ],
      "metadata": {
        "id": "7YhbM0aLTc0K"
      },
      "execution_count": 17,
      "outputs": []
    },
    {
      "cell_type": "code",
      "source": [
        "new_prompt=prompt_new(prompt)"
      ],
      "metadata": {
        "id": "0xdUm6nZhh8-"
      },
      "execution_count": 18,
      "outputs": []
    },
    {
      "cell_type": "code",
      "source": [
        "new_prompt[0]"
      ],
      "metadata": {
        "colab": {
          "base_uri": "https://localhost:8080/",
          "height": 53
        },
        "id": "PnOyu0YP9F2b",
        "outputId": "87be34ab-e884-4906-86ca-836e94229fd6"
      },
      "execution_count": 19,
      "outputs": [
        {
          "output_type": "execute_result",
          "data": {
            "text/plain": [
              "'Classify the text based on delimited by angle brackets comments about the product and shipping as positive, negative, neutral, and None.<The headphones are really great, but the delivery was very slow.>'"
            ],
            "application/vnd.google.colaboratory.intrinsic+json": {
              "type": "string"
            }
          },
          "metadata": {},
          "execution_count": 19
        }
      ]
    },
    {
      "cell_type": "code",
      "source": [
        "import pandas as pd\n",
        "my_dict={\"text_input\":new_prompt, \"output\":target}\n",
        "df=pd.DataFrame(my_dict)\n",
        "df\n",
        "# text input ve output sabt sütun ismi değerleri"
      ],
      "metadata": {
        "colab": {
          "base_uri": "https://localhost:8080/",
          "height": 423
        },
        "id": "GDDNOWr7_mTd",
        "outputId": "d8cd8673-f861-4f73-8ec3-bc5b317db95b"
      },
      "execution_count": 21,
      "outputs": [
        {
          "output_type": "execute_result",
          "data": {
            "text/plain": [
              "                                            text_input  \\\n",
              "0    Classify the text based on delimited by angle ...   \n",
              "1    Classify the text based on delimited by angle ...   \n",
              "2    Classify the text based on delimited by angle ...   \n",
              "3    Classify the text based on delimited by angle ...   \n",
              "4    Classify the text based on delimited by angle ...   \n",
              "..                                                 ...   \n",
              "131  Classify the text based on delimited by angle ...   \n",
              "132  Classify the text based on delimited by angle ...   \n",
              "133  Classify the text based on delimited by angle ...   \n",
              "134  Classify the text based on delimited by angle ...   \n",
              "135  Classify the text based on delimited by angle ...   \n",
              "\n",
              "                                      output  \n",
              "0    {product: positive, shipping: negative}  \n",
              "1    {product: positive, shipping: positive}  \n",
              "2     {product: negative, shipping: neutral}  \n",
              "3    {product: positive, shipping: negative}  \n",
              "4    {product: positive, shipping: positive}  \n",
              "..                                       ...  \n",
              "131  {product: positive, shipping: negative}  \n",
              "132  {product: negative, shipping: positive}  \n",
              "133  {product: positive, shipping: positive}  \n",
              "134  {product: negative, shipping: positive}  \n",
              "135  {product: positive, shipping: negative}  \n",
              "\n",
              "[136 rows x 2 columns]"
            ],
            "text/html": [
              "\n",
              "  <div id=\"df-492b8fce-82cb-41bd-bb5a-9168cec77d5c\" class=\"colab-df-container\">\n",
              "    <div>\n",
              "<style scoped>\n",
              "    .dataframe tbody tr th:only-of-type {\n",
              "        vertical-align: middle;\n",
              "    }\n",
              "\n",
              "    .dataframe tbody tr th {\n",
              "        vertical-align: top;\n",
              "    }\n",
              "\n",
              "    .dataframe thead th {\n",
              "        text-align: right;\n",
              "    }\n",
              "</style>\n",
              "<table border=\"1\" class=\"dataframe\">\n",
              "  <thead>\n",
              "    <tr style=\"text-align: right;\">\n",
              "      <th></th>\n",
              "      <th>text_input</th>\n",
              "      <th>output</th>\n",
              "    </tr>\n",
              "  </thead>\n",
              "  <tbody>\n",
              "    <tr>\n",
              "      <th>0</th>\n",
              "      <td>Classify the text based on delimited by angle ...</td>\n",
              "      <td>{product: positive, shipping: negative}</td>\n",
              "    </tr>\n",
              "    <tr>\n",
              "      <th>1</th>\n",
              "      <td>Classify the text based on delimited by angle ...</td>\n",
              "      <td>{product: positive, shipping: positive}</td>\n",
              "    </tr>\n",
              "    <tr>\n",
              "      <th>2</th>\n",
              "      <td>Classify the text based on delimited by angle ...</td>\n",
              "      <td>{product: negative, shipping: neutral}</td>\n",
              "    </tr>\n",
              "    <tr>\n",
              "      <th>3</th>\n",
              "      <td>Classify the text based on delimited by angle ...</td>\n",
              "      <td>{product: positive, shipping: negative}</td>\n",
              "    </tr>\n",
              "    <tr>\n",
              "      <th>4</th>\n",
              "      <td>Classify the text based on delimited by angle ...</td>\n",
              "      <td>{product: positive, shipping: positive}</td>\n",
              "    </tr>\n",
              "    <tr>\n",
              "      <th>...</th>\n",
              "      <td>...</td>\n",
              "      <td>...</td>\n",
              "    </tr>\n",
              "    <tr>\n",
              "      <th>131</th>\n",
              "      <td>Classify the text based on delimited by angle ...</td>\n",
              "      <td>{product: positive, shipping: negative}</td>\n",
              "    </tr>\n",
              "    <tr>\n",
              "      <th>132</th>\n",
              "      <td>Classify the text based on delimited by angle ...</td>\n",
              "      <td>{product: negative, shipping: positive}</td>\n",
              "    </tr>\n",
              "    <tr>\n",
              "      <th>133</th>\n",
              "      <td>Classify the text based on delimited by angle ...</td>\n",
              "      <td>{product: positive, shipping: positive}</td>\n",
              "    </tr>\n",
              "    <tr>\n",
              "      <th>134</th>\n",
              "      <td>Classify the text based on delimited by angle ...</td>\n",
              "      <td>{product: negative, shipping: positive}</td>\n",
              "    </tr>\n",
              "    <tr>\n",
              "      <th>135</th>\n",
              "      <td>Classify the text based on delimited by angle ...</td>\n",
              "      <td>{product: positive, shipping: negative}</td>\n",
              "    </tr>\n",
              "  </tbody>\n",
              "</table>\n",
              "<p>136 rows × 2 columns</p>\n",
              "</div>\n",
              "    <div class=\"colab-df-buttons\">\n",
              "\n",
              "  <div class=\"colab-df-container\">\n",
              "    <button class=\"colab-df-convert\" onclick=\"convertToInteractive('df-492b8fce-82cb-41bd-bb5a-9168cec77d5c')\"\n",
              "            title=\"Convert this dataframe to an interactive table.\"\n",
              "            style=\"display:none;\">\n",
              "\n",
              "  <svg xmlns=\"http://www.w3.org/2000/svg\" height=\"24px\" viewBox=\"0 -960 960 960\">\n",
              "    <path d=\"M120-120v-720h720v720H120Zm60-500h600v-160H180v160Zm220 220h160v-160H400v160Zm0 220h160v-160H400v160ZM180-400h160v-160H180v160Zm440 0h160v-160H620v160ZM180-180h160v-160H180v160Zm440 0h160v-160H620v160Z\"/>\n",
              "  </svg>\n",
              "    </button>\n",
              "\n",
              "  <style>\n",
              "    .colab-df-container {\n",
              "      display:flex;\n",
              "      gap: 12px;\n",
              "    }\n",
              "\n",
              "    .colab-df-convert {\n",
              "      background-color: #E8F0FE;\n",
              "      border: none;\n",
              "      border-radius: 50%;\n",
              "      cursor: pointer;\n",
              "      display: none;\n",
              "      fill: #1967D2;\n",
              "      height: 32px;\n",
              "      padding: 0 0 0 0;\n",
              "      width: 32px;\n",
              "    }\n",
              "\n",
              "    .colab-df-convert:hover {\n",
              "      background-color: #E2EBFA;\n",
              "      box-shadow: 0px 1px 2px rgba(60, 64, 67, 0.3), 0px 1px 3px 1px rgba(60, 64, 67, 0.15);\n",
              "      fill: #174EA6;\n",
              "    }\n",
              "\n",
              "    .colab-df-buttons div {\n",
              "      margin-bottom: 4px;\n",
              "    }\n",
              "\n",
              "    [theme=dark] .colab-df-convert {\n",
              "      background-color: #3B4455;\n",
              "      fill: #D2E3FC;\n",
              "    }\n",
              "\n",
              "    [theme=dark] .colab-df-convert:hover {\n",
              "      background-color: #434B5C;\n",
              "      box-shadow: 0px 1px 3px 1px rgba(0, 0, 0, 0.15);\n",
              "      filter: drop-shadow(0px 1px 2px rgba(0, 0, 0, 0.3));\n",
              "      fill: #FFFFFF;\n",
              "    }\n",
              "  </style>\n",
              "\n",
              "    <script>\n",
              "      const buttonEl =\n",
              "        document.querySelector('#df-492b8fce-82cb-41bd-bb5a-9168cec77d5c button.colab-df-convert');\n",
              "      buttonEl.style.display =\n",
              "        google.colab.kernel.accessAllowed ? 'block' : 'none';\n",
              "\n",
              "      async function convertToInteractive(key) {\n",
              "        const element = document.querySelector('#df-492b8fce-82cb-41bd-bb5a-9168cec77d5c');\n",
              "        const dataTable =\n",
              "          await google.colab.kernel.invokeFunction('convertToInteractive',\n",
              "                                                    [key], {});\n",
              "        if (!dataTable) return;\n",
              "\n",
              "        const docLinkHtml = 'Like what you see? Visit the ' +\n",
              "          '<a target=\"_blank\" href=https://colab.research.google.com/notebooks/data_table.ipynb>data table notebook</a>'\n",
              "          + ' to learn more about interactive tables.';\n",
              "        element.innerHTML = '';\n",
              "        dataTable['output_type'] = 'display_data';\n",
              "        await google.colab.output.renderOutput(dataTable, element);\n",
              "        const docLink = document.createElement('div');\n",
              "        docLink.innerHTML = docLinkHtml;\n",
              "        element.appendChild(docLink);\n",
              "      }\n",
              "    </script>\n",
              "  </div>\n",
              "\n",
              "\n",
              "<div id=\"df-92c3d652-0c72-4e2d-99d3-cbbf701f050a\">\n",
              "  <button class=\"colab-df-quickchart\" onclick=\"quickchart('df-92c3d652-0c72-4e2d-99d3-cbbf701f050a')\"\n",
              "            title=\"Suggest charts\"\n",
              "            style=\"display:none;\">\n",
              "\n",
              "<svg xmlns=\"http://www.w3.org/2000/svg\" height=\"24px\"viewBox=\"0 0 24 24\"\n",
              "     width=\"24px\">\n",
              "    <g>\n",
              "        <path d=\"M19 3H5c-1.1 0-2 .9-2 2v14c0 1.1.9 2 2 2h14c1.1 0 2-.9 2-2V5c0-1.1-.9-2-2-2zM9 17H7v-7h2v7zm4 0h-2V7h2v10zm4 0h-2v-4h2v4z\"/>\n",
              "    </g>\n",
              "</svg>\n",
              "  </button>\n",
              "\n",
              "<style>\n",
              "  .colab-df-quickchart {\n",
              "      --bg-color: #E8F0FE;\n",
              "      --fill-color: #1967D2;\n",
              "      --hover-bg-color: #E2EBFA;\n",
              "      --hover-fill-color: #174EA6;\n",
              "      --disabled-fill-color: #AAA;\n",
              "      --disabled-bg-color: #DDD;\n",
              "  }\n",
              "\n",
              "  [theme=dark] .colab-df-quickchart {\n",
              "      --bg-color: #3B4455;\n",
              "      --fill-color: #D2E3FC;\n",
              "      --hover-bg-color: #434B5C;\n",
              "      --hover-fill-color: #FFFFFF;\n",
              "      --disabled-bg-color: #3B4455;\n",
              "      --disabled-fill-color: #666;\n",
              "  }\n",
              "\n",
              "  .colab-df-quickchart {\n",
              "    background-color: var(--bg-color);\n",
              "    border: none;\n",
              "    border-radius: 50%;\n",
              "    cursor: pointer;\n",
              "    display: none;\n",
              "    fill: var(--fill-color);\n",
              "    height: 32px;\n",
              "    padding: 0;\n",
              "    width: 32px;\n",
              "  }\n",
              "\n",
              "  .colab-df-quickchart:hover {\n",
              "    background-color: var(--hover-bg-color);\n",
              "    box-shadow: 0 1px 2px rgba(60, 64, 67, 0.3), 0 1px 3px 1px rgba(60, 64, 67, 0.15);\n",
              "    fill: var(--button-hover-fill-color);\n",
              "  }\n",
              "\n",
              "  .colab-df-quickchart-complete:disabled,\n",
              "  .colab-df-quickchart-complete:disabled:hover {\n",
              "    background-color: var(--disabled-bg-color);\n",
              "    fill: var(--disabled-fill-color);\n",
              "    box-shadow: none;\n",
              "  }\n",
              "\n",
              "  .colab-df-spinner {\n",
              "    border: 2px solid var(--fill-color);\n",
              "    border-color: transparent;\n",
              "    border-bottom-color: var(--fill-color);\n",
              "    animation:\n",
              "      spin 1s steps(1) infinite;\n",
              "  }\n",
              "\n",
              "  @keyframes spin {\n",
              "    0% {\n",
              "      border-color: transparent;\n",
              "      border-bottom-color: var(--fill-color);\n",
              "      border-left-color: var(--fill-color);\n",
              "    }\n",
              "    20% {\n",
              "      border-color: transparent;\n",
              "      border-left-color: var(--fill-color);\n",
              "      border-top-color: var(--fill-color);\n",
              "    }\n",
              "    30% {\n",
              "      border-color: transparent;\n",
              "      border-left-color: var(--fill-color);\n",
              "      border-top-color: var(--fill-color);\n",
              "      border-right-color: var(--fill-color);\n",
              "    }\n",
              "    40% {\n",
              "      border-color: transparent;\n",
              "      border-right-color: var(--fill-color);\n",
              "      border-top-color: var(--fill-color);\n",
              "    }\n",
              "    60% {\n",
              "      border-color: transparent;\n",
              "      border-right-color: var(--fill-color);\n",
              "    }\n",
              "    80% {\n",
              "      border-color: transparent;\n",
              "      border-right-color: var(--fill-color);\n",
              "      border-bottom-color: var(--fill-color);\n",
              "    }\n",
              "    90% {\n",
              "      border-color: transparent;\n",
              "      border-bottom-color: var(--fill-color);\n",
              "    }\n",
              "  }\n",
              "</style>\n",
              "\n",
              "  <script>\n",
              "    async function quickchart(key) {\n",
              "      const quickchartButtonEl =\n",
              "        document.querySelector('#' + key + ' button');\n",
              "      quickchartButtonEl.disabled = true;  // To prevent multiple clicks.\n",
              "      quickchartButtonEl.classList.add('colab-df-spinner');\n",
              "      try {\n",
              "        const charts = await google.colab.kernel.invokeFunction(\n",
              "            'suggestCharts', [key], {});\n",
              "      } catch (error) {\n",
              "        console.error('Error during call to suggestCharts:', error);\n",
              "      }\n",
              "      quickchartButtonEl.classList.remove('colab-df-spinner');\n",
              "      quickchartButtonEl.classList.add('colab-df-quickchart-complete');\n",
              "    }\n",
              "    (() => {\n",
              "      let quickchartButtonEl =\n",
              "        document.querySelector('#df-92c3d652-0c72-4e2d-99d3-cbbf701f050a button');\n",
              "      quickchartButtonEl.style.display =\n",
              "        google.colab.kernel.accessAllowed ? 'block' : 'none';\n",
              "    })();\n",
              "  </script>\n",
              "</div>\n",
              "\n",
              "  <div id=\"id_4a113ab4-019e-41f3-80f5-e13418358acf\">\n",
              "    <style>\n",
              "      .colab-df-generate {\n",
              "        background-color: #E8F0FE;\n",
              "        border: none;\n",
              "        border-radius: 50%;\n",
              "        cursor: pointer;\n",
              "        display: none;\n",
              "        fill: #1967D2;\n",
              "        height: 32px;\n",
              "        padding: 0 0 0 0;\n",
              "        width: 32px;\n",
              "      }\n",
              "\n",
              "      .colab-df-generate:hover {\n",
              "        background-color: #E2EBFA;\n",
              "        box-shadow: 0px 1px 2px rgba(60, 64, 67, 0.3), 0px 1px 3px 1px rgba(60, 64, 67, 0.15);\n",
              "        fill: #174EA6;\n",
              "      }\n",
              "\n",
              "      [theme=dark] .colab-df-generate {\n",
              "        background-color: #3B4455;\n",
              "        fill: #D2E3FC;\n",
              "      }\n",
              "\n",
              "      [theme=dark] .colab-df-generate:hover {\n",
              "        background-color: #434B5C;\n",
              "        box-shadow: 0px 1px 3px 1px rgba(0, 0, 0, 0.15);\n",
              "        filter: drop-shadow(0px 1px 2px rgba(0, 0, 0, 0.3));\n",
              "        fill: #FFFFFF;\n",
              "      }\n",
              "    </style>\n",
              "    <button class=\"colab-df-generate\" onclick=\"generateWithVariable('df')\"\n",
              "            title=\"Generate code using this dataframe.\"\n",
              "            style=\"display:none;\">\n",
              "\n",
              "  <svg xmlns=\"http://www.w3.org/2000/svg\" height=\"24px\"viewBox=\"0 0 24 24\"\n",
              "       width=\"24px\">\n",
              "    <path d=\"M7,19H8.4L18.45,9,17,7.55,7,17.6ZM5,21V16.75L18.45,3.32a2,2,0,0,1,2.83,0l1.4,1.43a1.91,1.91,0,0,1,.58,1.4,1.91,1.91,0,0,1-.58,1.4L9.25,21ZM18.45,9,17,7.55Zm-12,3A5.31,5.31,0,0,0,4.9,8.1,5.31,5.31,0,0,0,1,6.5,5.31,5.31,0,0,0,4.9,4.9,5.31,5.31,0,0,0,6.5,1,5.31,5.31,0,0,0,8.1,4.9,5.31,5.31,0,0,0,12,6.5,5.46,5.46,0,0,0,6.5,12Z\"/>\n",
              "  </svg>\n",
              "    </button>\n",
              "    <script>\n",
              "      (() => {\n",
              "      const buttonEl =\n",
              "        document.querySelector('#id_4a113ab4-019e-41f3-80f5-e13418358acf button.colab-df-generate');\n",
              "      buttonEl.style.display =\n",
              "        google.colab.kernel.accessAllowed ? 'block' : 'none';\n",
              "\n",
              "      buttonEl.onclick = () => {\n",
              "        google.colab.notebook.generateWithVariable('df');\n",
              "      }\n",
              "      })();\n",
              "    </script>\n",
              "  </div>\n",
              "\n",
              "    </div>\n",
              "  </div>\n"
            ],
            "application/vnd.google.colaboratory.intrinsic+json": {
              "type": "dataframe",
              "variable_name": "df",
              "summary": "{\n  \"name\": \"df\",\n  \"rows\": 136,\n  \"fields\": [\n    {\n      \"column\": \"text_input\",\n      \"properties\": {\n        \"dtype\": \"string\",\n        \"num_unique_values\": 136,\n        \"samples\": [\n          \"Classify the text based on delimited by angle brackets comments about the product and shipping as positive, negative, neutral, and None.<The headphones sound incredible. The shipping was delayed, unfortunately.>\",\n          \"Classify the text based on delimited by angle brackets comments about the product and shipping as positive, negative, neutral, and None.<Not happy with the table lamp, it stopped working. Shipping was fast, though.>\",\n          \"Classify the text based on delimited by angle brackets comments about the product and shipping as positive, negative, neutral, and None.<The shipping was a disaster, it took forever!>\"\n        ],\n        \"semantic_type\": \"\",\n        \"description\": \"\"\n      }\n    },\n    {\n      \"column\": \"output\",\n      \"properties\": {\n        \"dtype\": \"category\",\n        \"num_unique_values\": 11,\n        \"samples\": [\n          \"{product:positive, shipping: neutral}\",\n          \"{product: positive, shipping: negative}\",\n          \"{product: negative, shipping: None}\"\n        ],\n        \"semantic_type\": \"\",\n        \"description\": \"\"\n      }\n    }\n  ]\n}"
            }
          },
          "metadata": {},
          "execution_count": 21
        }
      ]
    },
    {
      "cell_type": "code",
      "source": [
        "df.to_csv(\"data.csv\")"
      ],
      "metadata": {
        "id": "15y1sD3OHIk-"
      },
      "execution_count": 22,
      "outputs": []
    },
    {
      "cell_type": "code",
      "execution_count": 23,
      "metadata": {
        "id": "baHjHh1oTTTC"
      },
      "outputs": [],
      "source": [
        "import random\n",
        "\n",
        "name = f'generatenum{random.randint(0,10000)}'\n",
        "operation = genai.create_tuned_model(\n",
        "    # You can use a tuned model here too. Set `source_model=\"tunedModels/...\"`\n",
        "    source_model=base_model.name,\n",
        "    description='NER_person_time',\n",
        "    display_name=name,\n",
        "    id=name,\n",
        "    training_data=\"/content/data.csv\",\n",
        "    epoch_count=5,\n",
        "    batch_size=4,\n",
        "    learning_rate=0.001,\n",
        "    temperature=0.0,\n",
        "    top_p=1.0\n",
        "\n",
        ")"
      ]
    },
    {
      "cell_type": "markdown",
      "metadata": {
        "id": "-As7ayWDK1w8"
      },
      "source": [
        "Your tuned model is immediately added to the list of tuned models, but its status is set to \"creating\" while the model is tuned."
      ]
    },
    {
      "cell_type": "code",
      "source": [
        "name"
      ],
      "metadata": {
        "colab": {
          "base_uri": "https://localhost:8080/",
          "height": 36
        },
        "id": "F_3ALePOex7D",
        "outputId": "4fa22df4-0c88-42f9-960e-ee7c11c83115"
      },
      "execution_count": 24,
      "outputs": [
        {
          "output_type": "execute_result",
          "data": {
            "text/plain": [
              "'generatenum1375'"
            ],
            "application/vnd.google.colaboratory.intrinsic+json": {
              "type": "string"
            }
          },
          "metadata": {},
          "execution_count": 24
        }
      ]
    },
    {
      "cell_type": "code",
      "source": [
        "models=[m.name for m in genai.list_tuned_models()]\n",
        "models"
      ],
      "metadata": {
        "colab": {
          "base_uri": "https://localhost:8080/"
        },
        "id": "rdmAKSNlWup5",
        "outputId": "3269306a-b962-42ff-abdd-1d80147fce4f"
      },
      "execution_count": 25,
      "outputs": [
        {
          "output_type": "execute_result",
          "data": {
            "text/plain": [
              "['tunedModels/generatenum1375']"
            ]
          },
          "metadata": {},
          "execution_count": 25
        }
      ]
    },
    {
      "cell_type": "code",
      "source": [
        "models[-1]"
      ],
      "metadata": {
        "colab": {
          "base_uri": "https://localhost:8080/",
          "height": 36
        },
        "id": "8Cs8p5GNfx5f",
        "outputId": "20b09f3c-bffe-4585-93f6-40ed73d905b1"
      },
      "execution_count": 26,
      "outputs": [
        {
          "output_type": "execute_result",
          "data": {
            "text/plain": [
              "'tunedModels/generatenum1375'"
            ],
            "application/vnd.google.colaboratory.intrinsic+json": {
              "type": "string"
            }
          },
          "metadata": {},
          "execution_count": 26
        }
      ]
    },
    {
      "cell_type": "code",
      "execution_count": 27,
      "metadata": {
        "id": "su64KgY4Uztj",
        "outputId": "b87723b6-65d8-403a-d56a-6f7223d891cb",
        "colab": {
          "base_uri": "https://localhost:8080/"
        }
      },
      "outputs": [
        {
          "output_type": "execute_result",
          "data": {
            "text/plain": [
              "TunedModel(name='tunedModels/generatenum1375',\n",
              "           source_model='models/gemini-1.0-pro-001',\n",
              "           base_model='models/gemini-1.0-pro-001',\n",
              "           display_name='generatenum1375',\n",
              "           description='NER_person_time',\n",
              "           temperature=0.0,\n",
              "           top_p=1.0,\n",
              "           top_k=0,\n",
              "           state=<State.CREATING: 1>,\n",
              "           create_time=datetime.datetime(2024, 7, 22, 13, 12, 39, 312458, tzinfo=datetime.timezone.utc),\n",
              "           update_time=datetime.datetime(2024, 7, 22, 13, 13, 36, 678927, tzinfo=datetime.timezone.utc),\n",
              "           tuning_task=TuningTask(start_time=datetime.datetime(2024, 7, 22, 13, 12, 40, 249109, tzinfo=datetime.timezone.utc),\n",
              "                                  complete_time=None,\n",
              "                                  snapshots=[...],\n",
              "                                  hyperparameters=Hyperparameters(epoch_count=5,\n",
              "                                                                  batch_size=4,\n",
              "                                                                  learning_rate=0.001)))"
            ]
          },
          "metadata": {},
          "execution_count": 27
        }
      ],
      "source": [
        "model = genai.get_tuned_model(f\"tunedModels/{name}\") #models[-1]\n",
        "\n",
        "model\n",
        "# sadece train data kullanabilioruz test ve validtaion yok"
      ]
    },
    {
      "cell_type": "code",
      "source": [
        "model.name"
      ],
      "metadata": {
        "colab": {
          "base_uri": "https://localhost:8080/",
          "height": 36
        },
        "id": "rQKx8jNh6Vnl",
        "outputId": "af5394db-0fdd-48e2-ab34-32f07a08f043"
      },
      "execution_count": 28,
      "outputs": [
        {
          "output_type": "execute_result",
          "data": {
            "text/plain": [
              "'tunedModels/generatenum1375'"
            ],
            "application/vnd.google.colaboratory.intrinsic+json": {
              "type": "string"
            }
          },
          "metadata": {},
          "execution_count": 28
        }
      ]
    },
    {
      "cell_type": "code",
      "execution_count": 29,
      "metadata": {
        "id": "EUodUwZkKPi-",
        "outputId": "657094e0-cee1-4c04-93e4-6bde142ec179",
        "colab": {
          "base_uri": "https://localhost:8080/"
        }
      },
      "outputs": [
        {
          "output_type": "execute_result",
          "data": {
            "text/plain": [
              "<State.CREATING: 1>"
            ]
          },
          "metadata": {},
          "execution_count": 29
        }
      ],
      "source": [
        "model.state"
      ]
    },
    {
      "cell_type": "markdown",
      "metadata": {
        "id": "Pi8X5vkQv-3_"
      },
      "source": [
        "### Check tuning progress"
      ]
    },
    {
      "cell_type": "markdown",
      "metadata": {
        "id": "tWI-vAh4LJIz"
      },
      "source": [
        "Use `metadata` to check the state:"
      ]
    },
    {
      "cell_type": "code",
      "execution_count": 30,
      "metadata": {
        "id": "g08vqtxYLMxT",
        "outputId": "f31f59c4-f663-4a55-af7f-62676852957b",
        "colab": {
          "base_uri": "https://localhost:8080/"
        }
      },
      "outputs": [
        {
          "output_type": "execute_result",
          "data": {
            "text/plain": [
              "total_steps: 170\n",
              "tuned_model: \"tunedModels/generatenum1375\""
            ]
          },
          "metadata": {},
          "execution_count": 30
        }
      ],
      "source": [
        "operation.metadata"
      ]
    },
    {
      "cell_type": "markdown",
      "metadata": {
        "id": "3lQ6gSMgK-kz"
      },
      "source": [
        "Wait for the training to finish using `operation.result()`, or `operation.wait_bar()`"
      ]
    },
    {
      "cell_type": "code",
      "execution_count": 31,
      "metadata": {
        "id": "SOUowIv1HgSE",
        "outputId": "e2abf739-4455-4b08-b2d1-d88534154888",
        "colab": {
          "referenced_widgets": [
            "106b57dcbdfa4fc697f8d47b5b2ce985",
            "f84c7847fc2e401b8b6395037dca8c4f",
            "23a267639b0040cc973bd973cc3f55a8",
            "aaa0b81e164a4abebe215d4fd4f86261",
            "df6906d8f16a47e6ac3b3cd3a55549f8",
            "ff2d9eb1e93742f0856253cd696d98bc",
            "251c986bcd654b3482a3f1b3ce048308",
            "9286ed2fdc0d444fbf9cb63c3657ae92",
            "98c6652c5c0644498124e9c59b6cdc24",
            "87f13a704388437bb83637df717f7c33",
            "1870ff17849746248ceb6f0bde17f44c"
          ],
          "base_uri": "https://localhost:8080/",
          "height": 49
        }
      },
      "outputs": [
        {
          "output_type": "display_data",
          "data": {
            "text/plain": [
              "  0%|          | 0/170 [00:00<?, ?it/s]"
            ],
            "application/vnd.jupyter.widget-view+json": {
              "version_major": 2,
              "version_minor": 0,
              "model_id": "106b57dcbdfa4fc697f8d47b5b2ce985"
            }
          },
          "metadata": {}
        }
      ],
      "source": [
        "import time\n",
        "\n",
        "for status in operation.wait_bar():\n",
        "  time.sleep(30)"
      ]
    },
    {
      "cell_type": "code",
      "source": [
        "operation.result()"
      ],
      "metadata": {
        "colab": {
          "base_uri": "https://localhost:8080/"
        },
        "id": "G8lYiyvOKrVP",
        "outputId": "33ebf235-c810-4a7f-b9d8-85d8d9b99594"
      },
      "execution_count": 32,
      "outputs": [
        {
          "output_type": "execute_result",
          "data": {
            "text/plain": [
              "TunedModel(name='tunedModels/generatenum1375',\n",
              "           source_model='models/gemini-1.0-pro-001',\n",
              "           base_model='models/gemini-1.0-pro-001',\n",
              "           display_name='generatenum1375',\n",
              "           description='NER_person_time',\n",
              "           temperature=0.0,\n",
              "           top_p=1.0,\n",
              "           top_k=0,\n",
              "           state=<State.ACTIVE: 2>,\n",
              "           create_time=datetime.datetime(2024, 7, 22, 13, 12, 39, 312458, tzinfo=datetime.timezone.utc),\n",
              "           update_time=datetime.datetime(2024, 7, 22, 13, 21, 7, 748864, tzinfo=datetime.timezone.utc),\n",
              "           tuning_task=TuningTask(start_time=datetime.datetime(2024, 7, 22, 13, 12, 40, 249109, tzinfo=datetime.timezone.utc),\n",
              "                                  complete_time=datetime.datetime(2024, 7, 22, 13, 21, 7, 748864, tzinfo=datetime.timezone.utc),\n",
              "                                  snapshots=[...],\n",
              "                                  hyperparameters=Hyperparameters(epoch_count=5,\n",
              "                                                                  batch_size=4,\n",
              "                                                                  learning_rate=0.001)))"
            ]
          },
          "metadata": {},
          "execution_count": 32
        }
      ]
    },
    {
      "cell_type": "markdown",
      "metadata": {
        "id": "4cg868HzqOx5"
      },
      "source": [
        "You can cancel your tuning job any time using the `cancel()` method. Uncomment the line below and run the code cell to cancel your job before it finishes."
      ]
    },
    {
      "cell_type": "code",
      "execution_count": null,
      "metadata": {
        "id": "oQuJ70_hqJi9",
        "colab": {
          "base_uri": "https://localhost:8080/"
        },
        "outputId": "a695592e-a899-41f9-ba2e-5928df673387"
      },
      "outputs": [
        {
          "output_type": "execute_result",
          "data": {
            "text/plain": [
              "True"
            ]
          },
          "metadata": {},
          "execution_count": 24
        }
      ],
      "source": [
        "#operation.cancel()"
      ]
    },
    {
      "cell_type": "markdown",
      "metadata": {
        "id": "lqiL0TWDqAPn"
      },
      "source": [
        "Once the tuning is complete, you can view the loss curve from the tuning results. The [loss curve](https://generativeai.devsite.corp.google.com/guide/model_tuning_guidance#recommended_configurations) shows how much the model's predictions deviate from the ideal outputs."
      ]
    },
    {
      "cell_type": "code",
      "source": [
        "snapshots = pd.DataFrame(operation.result().tuning_task.snapshots)\n",
        "snapshots"
      ],
      "metadata": {
        "colab": {
          "base_uri": "https://localhost:8080/",
          "height": 423
        },
        "id": "ARqGiXMPgwa8",
        "outputId": "6c52155a-2c72-4987-9e7b-23e1f02ea40c"
      },
      "execution_count": 33,
      "outputs": [
        {
          "output_type": "execute_result",
          "data": {
            "text/plain": [
              "     step  mean_loss  epoch                     compute_time\n",
              "0       1  18.060083      0 2024-07-22 13:12:41.925602+00:00\n",
              "1       2  15.293777      0 2024-07-22 13:12:44.685129+00:00\n",
              "2       3  10.379304      0 2024-07-22 13:12:47.538934+00:00\n",
              "3       4   5.014498      0 2024-07-22 13:12:50.351668+00:00\n",
              "4       5   1.962932      0 2024-07-22 13:12:53.035758+00:00\n",
              "..    ...        ...    ...                              ...\n",
              "165   166   0.012918      4 2024-07-22 13:20:51.639605+00:00\n",
              "166   167   0.018196      4 2024-07-22 13:20:54.559377+00:00\n",
              "167   168   0.016634      4 2024-07-22 13:20:57.403411+00:00\n",
              "168   169   0.021289      4 2024-07-22 13:21:00.539179+00:00\n",
              "169   170   0.014429      5 2024-07-22 13:21:03.377969+00:00\n",
              "\n",
              "[170 rows x 4 columns]"
            ],
            "text/html": [
              "\n",
              "  <div id=\"df-7edf8756-7607-44dd-abcd-2067a08f3156\" class=\"colab-df-container\">\n",
              "    <div>\n",
              "<style scoped>\n",
              "    .dataframe tbody tr th:only-of-type {\n",
              "        vertical-align: middle;\n",
              "    }\n",
              "\n",
              "    .dataframe tbody tr th {\n",
              "        vertical-align: top;\n",
              "    }\n",
              "\n",
              "    .dataframe thead th {\n",
              "        text-align: right;\n",
              "    }\n",
              "</style>\n",
              "<table border=\"1\" class=\"dataframe\">\n",
              "  <thead>\n",
              "    <tr style=\"text-align: right;\">\n",
              "      <th></th>\n",
              "      <th>step</th>\n",
              "      <th>mean_loss</th>\n",
              "      <th>epoch</th>\n",
              "      <th>compute_time</th>\n",
              "    </tr>\n",
              "  </thead>\n",
              "  <tbody>\n",
              "    <tr>\n",
              "      <th>0</th>\n",
              "      <td>1</td>\n",
              "      <td>18.060083</td>\n",
              "      <td>0</td>\n",
              "      <td>2024-07-22 13:12:41.925602+00:00</td>\n",
              "    </tr>\n",
              "    <tr>\n",
              "      <th>1</th>\n",
              "      <td>2</td>\n",
              "      <td>15.293777</td>\n",
              "      <td>0</td>\n",
              "      <td>2024-07-22 13:12:44.685129+00:00</td>\n",
              "    </tr>\n",
              "    <tr>\n",
              "      <th>2</th>\n",
              "      <td>3</td>\n",
              "      <td>10.379304</td>\n",
              "      <td>0</td>\n",
              "      <td>2024-07-22 13:12:47.538934+00:00</td>\n",
              "    </tr>\n",
              "    <tr>\n",
              "      <th>3</th>\n",
              "      <td>4</td>\n",
              "      <td>5.014498</td>\n",
              "      <td>0</td>\n",
              "      <td>2024-07-22 13:12:50.351668+00:00</td>\n",
              "    </tr>\n",
              "    <tr>\n",
              "      <th>4</th>\n",
              "      <td>5</td>\n",
              "      <td>1.962932</td>\n",
              "      <td>0</td>\n",
              "      <td>2024-07-22 13:12:53.035758+00:00</td>\n",
              "    </tr>\n",
              "    <tr>\n",
              "      <th>...</th>\n",
              "      <td>...</td>\n",
              "      <td>...</td>\n",
              "      <td>...</td>\n",
              "      <td>...</td>\n",
              "    </tr>\n",
              "    <tr>\n",
              "      <th>165</th>\n",
              "      <td>166</td>\n",
              "      <td>0.012918</td>\n",
              "      <td>4</td>\n",
              "      <td>2024-07-22 13:20:51.639605+00:00</td>\n",
              "    </tr>\n",
              "    <tr>\n",
              "      <th>166</th>\n",
              "      <td>167</td>\n",
              "      <td>0.018196</td>\n",
              "      <td>4</td>\n",
              "      <td>2024-07-22 13:20:54.559377+00:00</td>\n",
              "    </tr>\n",
              "    <tr>\n",
              "      <th>167</th>\n",
              "      <td>168</td>\n",
              "      <td>0.016634</td>\n",
              "      <td>4</td>\n",
              "      <td>2024-07-22 13:20:57.403411+00:00</td>\n",
              "    </tr>\n",
              "    <tr>\n",
              "      <th>168</th>\n",
              "      <td>169</td>\n",
              "      <td>0.021289</td>\n",
              "      <td>4</td>\n",
              "      <td>2024-07-22 13:21:00.539179+00:00</td>\n",
              "    </tr>\n",
              "    <tr>\n",
              "      <th>169</th>\n",
              "      <td>170</td>\n",
              "      <td>0.014429</td>\n",
              "      <td>5</td>\n",
              "      <td>2024-07-22 13:21:03.377969+00:00</td>\n",
              "    </tr>\n",
              "  </tbody>\n",
              "</table>\n",
              "<p>170 rows × 4 columns</p>\n",
              "</div>\n",
              "    <div class=\"colab-df-buttons\">\n",
              "\n",
              "  <div class=\"colab-df-container\">\n",
              "    <button class=\"colab-df-convert\" onclick=\"convertToInteractive('df-7edf8756-7607-44dd-abcd-2067a08f3156')\"\n",
              "            title=\"Convert this dataframe to an interactive table.\"\n",
              "            style=\"display:none;\">\n",
              "\n",
              "  <svg xmlns=\"http://www.w3.org/2000/svg\" height=\"24px\" viewBox=\"0 -960 960 960\">\n",
              "    <path d=\"M120-120v-720h720v720H120Zm60-500h600v-160H180v160Zm220 220h160v-160H400v160Zm0 220h160v-160H400v160ZM180-400h160v-160H180v160Zm440 0h160v-160H620v160ZM180-180h160v-160H180v160Zm440 0h160v-160H620v160Z\"/>\n",
              "  </svg>\n",
              "    </button>\n",
              "\n",
              "  <style>\n",
              "    .colab-df-container {\n",
              "      display:flex;\n",
              "      gap: 12px;\n",
              "    }\n",
              "\n",
              "    .colab-df-convert {\n",
              "      background-color: #E8F0FE;\n",
              "      border: none;\n",
              "      border-radius: 50%;\n",
              "      cursor: pointer;\n",
              "      display: none;\n",
              "      fill: #1967D2;\n",
              "      height: 32px;\n",
              "      padding: 0 0 0 0;\n",
              "      width: 32px;\n",
              "    }\n",
              "\n",
              "    .colab-df-convert:hover {\n",
              "      background-color: #E2EBFA;\n",
              "      box-shadow: 0px 1px 2px rgba(60, 64, 67, 0.3), 0px 1px 3px 1px rgba(60, 64, 67, 0.15);\n",
              "      fill: #174EA6;\n",
              "    }\n",
              "\n",
              "    .colab-df-buttons div {\n",
              "      margin-bottom: 4px;\n",
              "    }\n",
              "\n",
              "    [theme=dark] .colab-df-convert {\n",
              "      background-color: #3B4455;\n",
              "      fill: #D2E3FC;\n",
              "    }\n",
              "\n",
              "    [theme=dark] .colab-df-convert:hover {\n",
              "      background-color: #434B5C;\n",
              "      box-shadow: 0px 1px 3px 1px rgba(0, 0, 0, 0.15);\n",
              "      filter: drop-shadow(0px 1px 2px rgba(0, 0, 0, 0.3));\n",
              "      fill: #FFFFFF;\n",
              "    }\n",
              "  </style>\n",
              "\n",
              "    <script>\n",
              "      const buttonEl =\n",
              "        document.querySelector('#df-7edf8756-7607-44dd-abcd-2067a08f3156 button.colab-df-convert');\n",
              "      buttonEl.style.display =\n",
              "        google.colab.kernel.accessAllowed ? 'block' : 'none';\n",
              "\n",
              "      async function convertToInteractive(key) {\n",
              "        const element = document.querySelector('#df-7edf8756-7607-44dd-abcd-2067a08f3156');\n",
              "        const dataTable =\n",
              "          await google.colab.kernel.invokeFunction('convertToInteractive',\n",
              "                                                    [key], {});\n",
              "        if (!dataTable) return;\n",
              "\n",
              "        const docLinkHtml = 'Like what you see? Visit the ' +\n",
              "          '<a target=\"_blank\" href=https://colab.research.google.com/notebooks/data_table.ipynb>data table notebook</a>'\n",
              "          + ' to learn more about interactive tables.';\n",
              "        element.innerHTML = '';\n",
              "        dataTable['output_type'] = 'display_data';\n",
              "        await google.colab.output.renderOutput(dataTable, element);\n",
              "        const docLink = document.createElement('div');\n",
              "        docLink.innerHTML = docLinkHtml;\n",
              "        element.appendChild(docLink);\n",
              "      }\n",
              "    </script>\n",
              "  </div>\n",
              "\n",
              "\n",
              "<div id=\"df-002c193d-c850-4192-b838-ba397fea73f9\">\n",
              "  <button class=\"colab-df-quickchart\" onclick=\"quickchart('df-002c193d-c850-4192-b838-ba397fea73f9')\"\n",
              "            title=\"Suggest charts\"\n",
              "            style=\"display:none;\">\n",
              "\n",
              "<svg xmlns=\"http://www.w3.org/2000/svg\" height=\"24px\"viewBox=\"0 0 24 24\"\n",
              "     width=\"24px\">\n",
              "    <g>\n",
              "        <path d=\"M19 3H5c-1.1 0-2 .9-2 2v14c0 1.1.9 2 2 2h14c1.1 0 2-.9 2-2V5c0-1.1-.9-2-2-2zM9 17H7v-7h2v7zm4 0h-2V7h2v10zm4 0h-2v-4h2v4z\"/>\n",
              "    </g>\n",
              "</svg>\n",
              "  </button>\n",
              "\n",
              "<style>\n",
              "  .colab-df-quickchart {\n",
              "      --bg-color: #E8F0FE;\n",
              "      --fill-color: #1967D2;\n",
              "      --hover-bg-color: #E2EBFA;\n",
              "      --hover-fill-color: #174EA6;\n",
              "      --disabled-fill-color: #AAA;\n",
              "      --disabled-bg-color: #DDD;\n",
              "  }\n",
              "\n",
              "  [theme=dark] .colab-df-quickchart {\n",
              "      --bg-color: #3B4455;\n",
              "      --fill-color: #D2E3FC;\n",
              "      --hover-bg-color: #434B5C;\n",
              "      --hover-fill-color: #FFFFFF;\n",
              "      --disabled-bg-color: #3B4455;\n",
              "      --disabled-fill-color: #666;\n",
              "  }\n",
              "\n",
              "  .colab-df-quickchart {\n",
              "    background-color: var(--bg-color);\n",
              "    border: none;\n",
              "    border-radius: 50%;\n",
              "    cursor: pointer;\n",
              "    display: none;\n",
              "    fill: var(--fill-color);\n",
              "    height: 32px;\n",
              "    padding: 0;\n",
              "    width: 32px;\n",
              "  }\n",
              "\n",
              "  .colab-df-quickchart:hover {\n",
              "    background-color: var(--hover-bg-color);\n",
              "    box-shadow: 0 1px 2px rgba(60, 64, 67, 0.3), 0 1px 3px 1px rgba(60, 64, 67, 0.15);\n",
              "    fill: var(--button-hover-fill-color);\n",
              "  }\n",
              "\n",
              "  .colab-df-quickchart-complete:disabled,\n",
              "  .colab-df-quickchart-complete:disabled:hover {\n",
              "    background-color: var(--disabled-bg-color);\n",
              "    fill: var(--disabled-fill-color);\n",
              "    box-shadow: none;\n",
              "  }\n",
              "\n",
              "  .colab-df-spinner {\n",
              "    border: 2px solid var(--fill-color);\n",
              "    border-color: transparent;\n",
              "    border-bottom-color: var(--fill-color);\n",
              "    animation:\n",
              "      spin 1s steps(1) infinite;\n",
              "  }\n",
              "\n",
              "  @keyframes spin {\n",
              "    0% {\n",
              "      border-color: transparent;\n",
              "      border-bottom-color: var(--fill-color);\n",
              "      border-left-color: var(--fill-color);\n",
              "    }\n",
              "    20% {\n",
              "      border-color: transparent;\n",
              "      border-left-color: var(--fill-color);\n",
              "      border-top-color: var(--fill-color);\n",
              "    }\n",
              "    30% {\n",
              "      border-color: transparent;\n",
              "      border-left-color: var(--fill-color);\n",
              "      border-top-color: var(--fill-color);\n",
              "      border-right-color: var(--fill-color);\n",
              "    }\n",
              "    40% {\n",
              "      border-color: transparent;\n",
              "      border-right-color: var(--fill-color);\n",
              "      border-top-color: var(--fill-color);\n",
              "    }\n",
              "    60% {\n",
              "      border-color: transparent;\n",
              "      border-right-color: var(--fill-color);\n",
              "    }\n",
              "    80% {\n",
              "      border-color: transparent;\n",
              "      border-right-color: var(--fill-color);\n",
              "      border-bottom-color: var(--fill-color);\n",
              "    }\n",
              "    90% {\n",
              "      border-color: transparent;\n",
              "      border-bottom-color: var(--fill-color);\n",
              "    }\n",
              "  }\n",
              "</style>\n",
              "\n",
              "  <script>\n",
              "    async function quickchart(key) {\n",
              "      const quickchartButtonEl =\n",
              "        document.querySelector('#' + key + ' button');\n",
              "      quickchartButtonEl.disabled = true;  // To prevent multiple clicks.\n",
              "      quickchartButtonEl.classList.add('colab-df-spinner');\n",
              "      try {\n",
              "        const charts = await google.colab.kernel.invokeFunction(\n",
              "            'suggestCharts', [key], {});\n",
              "      } catch (error) {\n",
              "        console.error('Error during call to suggestCharts:', error);\n",
              "      }\n",
              "      quickchartButtonEl.classList.remove('colab-df-spinner');\n",
              "      quickchartButtonEl.classList.add('colab-df-quickchart-complete');\n",
              "    }\n",
              "    (() => {\n",
              "      let quickchartButtonEl =\n",
              "        document.querySelector('#df-002c193d-c850-4192-b838-ba397fea73f9 button');\n",
              "      quickchartButtonEl.style.display =\n",
              "        google.colab.kernel.accessAllowed ? 'block' : 'none';\n",
              "    })();\n",
              "  </script>\n",
              "</div>\n",
              "\n",
              "  <div id=\"id_5f37a989-df73-44b2-9f0d-333c93acdc79\">\n",
              "    <style>\n",
              "      .colab-df-generate {\n",
              "        background-color: #E8F0FE;\n",
              "        border: none;\n",
              "        border-radius: 50%;\n",
              "        cursor: pointer;\n",
              "        display: none;\n",
              "        fill: #1967D2;\n",
              "        height: 32px;\n",
              "        padding: 0 0 0 0;\n",
              "        width: 32px;\n",
              "      }\n",
              "\n",
              "      .colab-df-generate:hover {\n",
              "        background-color: #E2EBFA;\n",
              "        box-shadow: 0px 1px 2px rgba(60, 64, 67, 0.3), 0px 1px 3px 1px rgba(60, 64, 67, 0.15);\n",
              "        fill: #174EA6;\n",
              "      }\n",
              "\n",
              "      [theme=dark] .colab-df-generate {\n",
              "        background-color: #3B4455;\n",
              "        fill: #D2E3FC;\n",
              "      }\n",
              "\n",
              "      [theme=dark] .colab-df-generate:hover {\n",
              "        background-color: #434B5C;\n",
              "        box-shadow: 0px 1px 3px 1px rgba(0, 0, 0, 0.15);\n",
              "        filter: drop-shadow(0px 1px 2px rgba(0, 0, 0, 0.3));\n",
              "        fill: #FFFFFF;\n",
              "      }\n",
              "    </style>\n",
              "    <button class=\"colab-df-generate\" onclick=\"generateWithVariable('snapshots')\"\n",
              "            title=\"Generate code using this dataframe.\"\n",
              "            style=\"display:none;\">\n",
              "\n",
              "  <svg xmlns=\"http://www.w3.org/2000/svg\" height=\"24px\"viewBox=\"0 0 24 24\"\n",
              "       width=\"24px\">\n",
              "    <path d=\"M7,19H8.4L18.45,9,17,7.55,7,17.6ZM5,21V16.75L18.45,3.32a2,2,0,0,1,2.83,0l1.4,1.43a1.91,1.91,0,0,1,.58,1.4,1.91,1.91,0,0,1-.58,1.4L9.25,21ZM18.45,9,17,7.55Zm-12,3A5.31,5.31,0,0,0,4.9,8.1,5.31,5.31,0,0,0,1,6.5,5.31,5.31,0,0,0,4.9,4.9,5.31,5.31,0,0,0,6.5,1,5.31,5.31,0,0,0,8.1,4.9,5.31,5.31,0,0,0,12,6.5,5.46,5.46,0,0,0,6.5,12Z\"/>\n",
              "  </svg>\n",
              "    </button>\n",
              "    <script>\n",
              "      (() => {\n",
              "      const buttonEl =\n",
              "        document.querySelector('#id_5f37a989-df73-44b2-9f0d-333c93acdc79 button.colab-df-generate');\n",
              "      buttonEl.style.display =\n",
              "        google.colab.kernel.accessAllowed ? 'block' : 'none';\n",
              "\n",
              "      buttonEl.onclick = () => {\n",
              "        google.colab.notebook.generateWithVariable('snapshots');\n",
              "      }\n",
              "      })();\n",
              "    </script>\n",
              "  </div>\n",
              "\n",
              "    </div>\n",
              "  </div>\n"
            ],
            "application/vnd.google.colaboratory.intrinsic+json": {
              "type": "dataframe",
              "variable_name": "snapshots",
              "summary": "{\n  \"name\": \"snapshots\",\n  \"rows\": 170,\n  \"fields\": [\n    {\n      \"column\": \"step\",\n      \"properties\": {\n        \"dtype\": \"number\",\n        \"std\": 49,\n        \"min\": 1,\n        \"max\": 170,\n        \"num_unique_values\": 170,\n        \"samples\": [\n          140,\n          31,\n          120\n        ],\n        \"semantic_type\": \"\",\n        \"description\": \"\"\n      }\n    },\n    {\n      \"column\": \"mean_loss\",\n      \"properties\": {\n        \"dtype\": \"number\",\n        \"std\": 2.047314489746386,\n        \"min\": 9.790884e-05,\n        \"max\": 18.060083,\n        \"num_unique_values\": 170,\n        \"samples\": [\n          0.0011169831,\n          1.349424,\n          0.02057256\n        ],\n        \"semantic_type\": \"\",\n        \"description\": \"\"\n      }\n    },\n    {\n      \"column\": \"epoch\",\n      \"properties\": {\n        \"dtype\": \"number\",\n        \"std\": 1,\n        \"min\": 0,\n        \"max\": 5,\n        \"num_unique_values\": 6,\n        \"samples\": [\n          0,\n          1,\n          5\n        ],\n        \"semantic_type\": \"\",\n        \"description\": \"\"\n      }\n    },\n    {\n      \"column\": \"compute_time\",\n      \"properties\": {\n        \"dtype\": \"date\",\n        \"min\": \"2024-07-22 13:12:41.925602+00:00\",\n        \"max\": \"2024-07-22 13:21:03.377969+00:00\",\n        \"num_unique_values\": 170,\n        \"samples\": [\n          \"2024-07-22 13:19:10.043119+00:00\",\n          \"2024-07-22 13:14:05.858364+00:00\",\n          \"2024-07-22 13:18:13.108241+00:00\"\n        ],\n        \"semantic_type\": \"\",\n        \"description\": \"\"\n      }\n    }\n  ]\n}"
            }
          },
          "metadata": {},
          "execution_count": 33
        }
      ]
    },
    {
      "cell_type": "code",
      "execution_count": 34,
      "metadata": {
        "id": "bIiG57xWLhP7",
        "outputId": "3736c6d9-d7c2-4e43-a629-7b39e7fc260b",
        "colab": {
          "base_uri": "https://localhost:8080/",
          "height": 449
        }
      },
      "outputs": [
        {
          "output_type": "display_data",
          "data": {
            "text/plain": [
              "<Figure size 640x480 with 1 Axes>"
            ],
            "image/png": "[encoded data removed]"
          },
          "metadata": {}
        }
      ],
      "source": [
        "import pandas as pd\n",
        "import seaborn as sns\n",
        "\n",
        "model = operation.result()\n",
        "\n",
        "snapshots = pd.DataFrame(operation.result().tuning_task.snapshots)\n",
        "\n",
        "sns.lineplot(data=snapshots, x = 'epoch', y='mean_loss');\n"
      ]
    },
    {
      "cell_type": "markdown",
      "metadata": {
        "id": "rkoQTXb1vSBC"
      },
      "source": [
        "## Evaluate your model\n",
        "\n",
        "You can use the `genai.generate_text` method and specify the name of your model to test your model performance."
      ]
    },
    {
      "cell_type": "code",
      "execution_count": 35,
      "metadata": {
        "id": "zO0YcuSyxydZ"
      },
      "outputs": [],
      "source": [
        "model2 = genai.GenerativeModel(model_name=model.name)"
      ]
    },
    {
      "cell_type": "code",
      "source": [
        "model.name"
      ],
      "metadata": {
        "colab": {
          "base_uri": "https://localhost:8080/",
          "height": 36
        },
        "id": "4sOxFzu3f-Eh",
        "outputId": "8081e126-67eb-484a-bb5f-4c41c95e4709"
      },
      "execution_count": 36,
      "outputs": [
        {
          "output_type": "execute_result",
          "data": {
            "text/plain": [
              "'tunedModels/generatenum1375'"
            ],
            "application/vnd.google.colaboratory.intrinsic+json": {
              "type": "string"
            }
          },
          "metadata": {},
          "execution_count": 36
        }
      ]
    },
    {
      "cell_type": "code",
      "source": [
        "system"
      ],
      "metadata": {
        "id": "MiZTMIuiSOPK",
        "colab": {
          "base_uri": "https://localhost:8080/",
          "height": 36
        },
        "outputId": "c2018980-0b16-4f96-e6ce-d984ea1b9115"
      },
      "execution_count": 37,
      "outputs": [
        {
          "output_type": "execute_result",
          "data": {
            "text/plain": [
              "'Classify the text based on delimited by angle brackets comments about the product and shipping as positive, negative, neutral, and None.'"
            ],
            "application/vnd.google.colaboratory.intrinsic+json": {
              "type": "string"
            }
          },
          "metadata": {},
          "execution_count": 37
        }
      ]
    },
    {
      "cell_type": "code",
      "source": [
        "text1=\"the phone is very nice but kargo is bad\""
      ],
      "metadata": {
        "id": "X3Elgm5jK62E"
      },
      "execution_count": 38,
      "outputs": []
    },
    {
      "cell_type": "code",
      "source": [
        "prompt1=prompt_new([text1])\n",
        "prompt1"
      ],
      "metadata": {
        "colab": {
          "base_uri": "https://localhost:8080/"
        },
        "id": "oznfS0e1irBf",
        "outputId": "941f7f0b-342d-4254-de8d-e2690fb3eac3"
      },
      "execution_count": 39,
      "outputs": [
        {
          "output_type": "execute_result",
          "data": {
            "text/plain": [
              "['Classify the text based on delimited by angle brackets comments about the product and shipping as positive, negative, neutral, and None.<the phone is very nice but kargo is bad>']"
            ]
          },
          "metadata": {},
          "execution_count": 39
        }
      ]
    },
    {
      "cell_type": "code",
      "execution_count": 40,
      "metadata": {
        "id": "UwGrrj6hS_x2",
        "outputId": "af29b3f5-c744-4dc2-ca26-24b8b647c20c",
        "colab": {
          "base_uri": "https://localhost:8080/",
          "height": 36
        }
      },
      "outputs": [
        {
          "output_type": "execute_result",
          "data": {
            "text/plain": [
              "'{product: positive, shipping: negative}'"
            ],
            "application/vnd.google.colaboratory.intrinsic+json": {
              "type": "string"
            }
          },
          "metadata": {},
          "execution_count": 40
        }
      ],
      "source": [
        "result = model2.generate_content(prompt1)\n",
        "result.text"
      ]
    },
    {
      "cell_type": "code",
      "source": [
        "text2=prompt=\"phone is ok\""
      ],
      "metadata": {
        "id": "OhWg1u5zMGAm"
      },
      "execution_count": 41,
      "outputs": []
    },
    {
      "cell_type": "code",
      "execution_count": 42,
      "metadata": {
        "id": "YSNB2zjTx5SZ",
        "outputId": "16764dd4-224a-4e0f-84e7-ac026d9bfbcd",
        "colab": {
          "base_uri": "https://localhost:8080/",
          "height": 36
        }
      },
      "outputs": [
        {
          "output_type": "execute_result",
          "data": {
            "text/plain": [
              "'{product: None, shipping: None}'"
            ],
            "application/vnd.google.colaboratory.intrinsic+json": {
              "type": "string"
            }
          },
          "metadata": {},
          "execution_count": 42
        }
      ],
      "source": [
        "prompt2=prompt_new([text2])\n",
        "result = model2.generate_content(prompt2)\n",
        "result.text\n"
      ]
    },
    {
      "cell_type": "code",
      "source": [
        "text3=\"The phone is good but the shipping and customer services were very bad.\""
      ],
      "metadata": {
        "id": "JQEZXnvYMc0d"
      },
      "execution_count": 43,
      "outputs": []
    },
    {
      "cell_type": "code",
      "execution_count": 44,
      "metadata": {
        "id": "Y2YVO-m0Ut9H",
        "outputId": "413f655b-b0ce-43b7-bf40-6a5d501c4ad7",
        "colab": {
          "base_uri": "https://localhost:8080/",
          "height": 36
        }
      },
      "outputs": [
        {
          "output_type": "execute_result",
          "data": {
            "text/plain": [
              "'{product: positive, shipping: negative}'"
            ],
            "application/vnd.google.colaboratory.intrinsic+json": {
              "type": "string"
            }
          },
          "metadata": {},
          "execution_count": 44
        }
      ],
      "source": [
        "prompt3=prompt_new([text3])\n",
        "result = model2.generate_content(prompt3)\n",
        "result.text"
      ]
    },
    {
      "cell_type": "markdown",
      "metadata": {
        "id": "HpIA1IFevQQR"
      },
      "source": [
        "It really seems to have picked up the task despite the limited examples, but \"next\" is a simple concept, see the [tuning guide](https://ai.google.dev/docs/model_tuning_guidance) for more guidance on improving performance."
      ]
    },
    {
      "cell_type": "markdown",
      "metadata": {
        "id": "nmuQCbTYwIOx"
      },
      "source": [
        "## Update the description\n",
        "\n",
        "You can update the description of your tuned model any time using the `genai.update_tuned_model` method."
      ]
    },
    {
      "cell_type": "code",
      "execution_count": 45,
      "metadata": {
        "id": "9gAVuXT_wG3x"
      },
      "outputs": [],
      "source": [
        "genai.update_tuned_model(f'{model.name}', {\"description\":\"Multilabel classification for product and shipping.\"});"
      ]
    },
    {
      "cell_type": "code",
      "execution_count": 46,
      "metadata": {
        "id": "d-c3YerBxVYs",
        "outputId": "dfee3e8e-5a78-48f0-bff8-84707b0bbc2e",
        "colab": {
          "base_uri": "https://localhost:8080/",
          "height": 36
        }
      },
      "outputs": [
        {
          "output_type": "execute_result",
          "data": {
            "text/plain": [
              "'Multilabel classification for product and shipping.'"
            ],
            "application/vnd.google.colaboratory.intrinsic+json": {
              "type": "string"
            }
          },
          "metadata": {},
          "execution_count": 46
        }
      ],
      "source": [
        "model3 = genai.get_tuned_model(f'{model.name}')\n",
        "\n",
        "model3.description"
      ]
    },
    {
      "cell_type": "markdown",
      "metadata": {
        "id": "i_TpwvBB4bQ7"
      },
      "source": [
        "## Delete the model\n",
        "\n",
        "You can clean up your tuned model list by deleting models you no longer need. Use the `genai.delete_tuned_model` method to delete a model. If you canceled any tuning jobs, you may want to delete those as their performance may be unpredictable."
      ]
    },
    {
      "cell_type": "code",
      "execution_count": 47,
      "metadata": {
        "id": "cepfaUCvVGCo"
      },
      "outputs": [],
      "source": [
        "genai.delete_tuned_model(f'{model.name}')"
      ]
    },
    {
      "cell_type": "markdown",
      "metadata": {
        "id": "ljEssIshYDEr"
      },
      "source": [
        "The model no longer exists:"
      ]
    },
    {
      "cell_type": "code",
      "execution_count": 48,
      "metadata": {
        "id": "kN_bkut_4ayL",
        "outputId": "fe79615c-b1df-447f-9063-0c1c080244f2",
        "colab": {
          "base_uri": "https://localhost:8080/"
        }
      },
      "outputs": [
        {
          "output_type": "stream",
          "name": "stdout",
          "text": [
            "<class 'google.api_core.exceptions.NotFound'>: 404 Tuned model tunedModels/generatenum1375 does not exist.\n"
          ]
        }
      ],
      "source": [
        "try:\n",
        "  m = genai.get_tuned_model(f'{model.name}')\n",
        "  print(m)\n",
        "except Exception as e:\n",
        "  print(f\"{type(e)}: {e}\")"
      ]
    },
    {
      "cell_type": "code",
      "source": [],
      "metadata": {
        "id": "HVOFxPI0MfZs"
      },
      "execution_count": null,
      "outputs": []
    }
  ],
  "metadata": {
    "colab": {
      "provenance": []
    },
    "kernelspec": {
      "display_name": "Python 3",
      "name": "python3"
    },
    "widgets": {
      "application/vnd.jupyter.widget-state+json": {
        "106b57dcbdfa4fc697f8d47b5b2ce985": {
          "model_module": "@jupyter-widgets/controls",
          "model_name": "HBoxModel",
          "model_module_version": "1.5.0",
          "state": {
            "_dom_classes": [],
            "_model_module": "@jupyter-widgets/controls",
            "_model_module_version": "1.5.0",
            "_model_name": "HBoxModel",
            "_view_count": null,
            "_view_module": "@jupyter-widgets/controls",
            "_view_module_version": "1.5.0",
            "_view_name": "HBoxView",
            "box_style": "",
            "children": [
              "IPY_MODEL_f84c7847fc2e401b8b6395037dca8c4f",
              "IPY_MODEL_23a267639b0040cc973bd973cc3f55a8",
              "IPY_MODEL_aaa0b81e164a4abebe215d4fd4f86261"
            ],
            "layout": "IPY_MODEL_df6906d8f16a47e6ac3b3cd3a55549f8"
          }
        },
        "f84c7847fc2e401b8b6395037dca8c4f": {
          "model_module": "@jupyter-widgets/controls",
          "model_name": "HTMLModel",
          "model_module_version": "1.5.0",
          "state": {
            "_dom_classes": [],
            "_model_module": "@jupyter-widgets/controls",
            "_model_module_version": "1.5.0",
            "_model_name": "HTMLModel",
            "_view_count": null,
            "_view_module": "@jupyter-widgets/controls",
            "_view_module_version": "1.5.0",
            "_view_name": "HTMLView",
            "description": "",
            "description_tooltip": null,
            "layout": "IPY_MODEL_ff2d9eb1e93742f0856253cd696d98bc",
            "placeholder": "​",
            "style": "IPY_MODEL_251c986bcd654b3482a3f1b3ce048308",
            "value": "100%"
          }
        },
        "23a267639b0040cc973bd973cc3f55a8": {
          "model_module": "@jupyter-widgets/controls",
          "model_name": "FloatProgressModel",
          "model_module_version": "1.5.0",
          "state": {
            "_dom_classes": [],
            "_model_module": "@jupyter-widgets/controls",
            "_model_module_version": "1.5.0",
            "_model_name": "FloatProgressModel",
            "_view_count": null,
            "_view_module": "@jupyter-widgets/controls",
            "_view_module_version": "1.5.0",
            "_view_name": "ProgressView",
            "bar_style": "success",
            "description": "",
            "description_tooltip": null,
            "layout": "IPY_MODEL_9286ed2fdc0d444fbf9cb63c3657ae92",
            "max": 170,
            "min": 0,
            "orientation": "horizontal",
            "style": "IPY_MODEL_98c6652c5c0644498124e9c59b6cdc24",
            "value": 170
          }
        },
        "aaa0b81e164a4abebe215d4fd4f86261": {
          "model_module": "@jupyter-widgets/controls",
          "model_name": "HTMLModel",
          "model_module_version": "1.5.0",
          "state": {
            "_dom_classes": [],
            "_model_module": "@jupyter-widgets/controls",
            "_model_module_version": "1.5.0",
            "_model_name": "HTMLModel",
            "_view_count": null,
            "_view_module": "@jupyter-widgets/controls",
            "_view_module_version": "1.5.0",
            "_view_name": "HTMLView",
            "description": "",
            "description_tooltip": null,
            "layout": "IPY_MODEL_87f13a704388437bb83637df717f7c33",
            "placeholder": "​",
            "style": "IPY_MODEL_1870ff17849746248ceb6f0bde17f44c",
            "value": " 170/170 [03:47&lt;00:00, 126.58it/s]"
          }
        },
        "df6906d8f16a47e6ac3b3cd3a55549f8": {
          "model_module": "@jupyter-widgets/base",
          "model_name": "LayoutModel",
          "model_module_version": "1.2.0",
          "state": {
            "_model_module": "@jupyter-widgets/base",
            "_model_module_version": "1.2.0",
            "_model_name": "LayoutModel",
            "_view_count": null,
            "_view_module": "@jupyter-widgets/base",
            "_view_module_version": "1.2.0",
            "_view_name": "LayoutView",
            "align_content": null,
            "align_items": null,
            "align_self": null,
            "border": null,
            "bottom": null,
            "display": null,
            "flex": null,
            "flex_flow": null,
            "grid_area": null,
            "grid_auto_columns": null,
            "grid_auto_flow": null,
            "grid_auto_rows": null,
            "grid_column": null,
            "grid_gap": null,
            "grid_row": null,
            "grid_template_areas": null,
            "grid_template_columns": null,
            "grid_template_rows": null,
            "height": null,
            "justify_content": null,
            "justify_items": null,
            "left": null,
            "margin": null,
            "max_height": null,
            "max_width": null,
            "min_height": null,
            "min_width": null,
            "object_fit": null,
            "object_position": null,
            "order": null,
            "overflow": null,
            "overflow_x": null,
            "overflow_y": null,
            "padding": null,
            "right": null,
            "top": null,
            "visibility": null,
            "width": null
          }
        },
        "ff2d9eb1e93742f0856253cd696d98bc": {
          "model_module": "@jupyter-widgets/base",
          "model_name": "LayoutModel",
          "model_module_version": "1.2.0",
          "state": {
            "_model_module": "@jupyter-widgets/base",
            "_model_module_version": "1.2.0",
            "_model_name": "LayoutModel",
            "_view_count": null,
            "_view_module": "@jupyter-widgets/base",
            "_view_module_version": "1.2.0",
            "_view_name": "LayoutView",
            "align_content": null,
            "align_items": null,
            "align_self": null,
            "border": null,
            "bottom": null,
            "display": null,
            "flex": null,
            "flex_flow": null,
            "grid_area": null,
            "grid_auto_columns": null,
            "grid_auto_flow": null,
            "grid_auto_rows": null,
            "grid_column": null,
            "grid_gap": null,
            "grid_row": null,
            "grid_template_areas": null,
            "grid_template_columns": null,
            "grid_template_rows": null,
            "height": null,
            "justify_content": null,
            "justify_items": null,
            "left": null,
            "margin": null,
            "max_height": null,
            "max_width": null,
            "min_height": null,
            "min_width": null,
            "object_fit": null,
            "object_position": null,
            "order": null,
            "overflow": null,
            "overflow_x": null,
            "overflow_y": null,
            "padding": null,
            "right": null,
            "top": null,
            "visibility": null,
            "width": null
          }
        },
        "251c986bcd654b3482a3f1b3ce048308": {
          "model_module": "@jupyter-widgets/controls",
          "model_name": "DescriptionStyleModel",
          "model_module_version": "1.5.0",
          "state": {
            "_model_module": "@jupyter-widgets/controls",
            "_model_module_version": "1.5.0",
            "_model_name": "DescriptionStyleModel",
            "_view_count": null,
            "_view_module": "@jupyter-widgets/base",
            "_view_module_version": "1.2.0",
            "_view_name": "StyleView",
            "description_width": ""
          }
        },
        "9286ed2fdc0d444fbf9cb63c3657ae92": {
          "model_module": "@jupyter-widgets/base",
          "model_name": "LayoutModel",
          "model_module_version": "1.2.0",
          "state": {
            "_model_module": "@jupyter-widgets/base",
            "_model_module_version": "1.2.0",
            "_model_name": "LayoutModel",
            "_view_count": null,
            "_view_module": "@jupyter-widgets/base",
            "_view_module_version": "1.2.0",
            "_view_name": "LayoutView",
            "align_content": null,
            "align_items": null,
            "align_self": null,
            "border": null,
            "bottom": null,
            "display": null,
            "flex": null,
            "flex_flow": null,
            "grid_area": null,
            "grid_auto_columns": null,
            "grid_auto_flow": null,
            "grid_auto_rows": null,
            "grid_column": null,
            "grid_gap": null,
            "grid_row": null,
            "grid_template_areas": null,
            "grid_template_columns": null,
            "grid_template_rows": null,
            "height": null,
            "justify_content": null,
            "justify_items": null,
            "left": null,
            "margin": null,
            "max_height": null,
            "max_width": null,
            "min_height": null,
            "min_width": null,
            "object_fit": null,
            "object_position": null,
            "order": null,
            "overflow": null,
            "overflow_x": null,
            "overflow_y": null,
            "padding": null,
            "right": null,
            "top": null,
            "visibility": null,
            "width": null
          }
        },
        "98c6652c5c0644498124e9c59b6cdc24": {
          "model_module": "@jupyter-widgets/controls",
          "model_name": "ProgressStyleModel",
          "model_module_version": "1.5.0",
          "state": {
            "_model_module": "@jupyter-widgets/controls",
            "_model_module_version": "1.5.0",
            "_model_name": "ProgressStyleModel",
            "_view_count": null,
            "_view_module": "@jupyter-widgets/base",
            "_view_module_version": "1.2.0",
            "_view_name": "StyleView",
            "bar_color": null,
            "description_width": ""
          }
        },
        "87f13a704388437bb83637df717f7c33": {
          "model_module": "@jupyter-widgets/base",
          "model_name": "LayoutModel",
          "model_module_version": "1.2.0",
          "state": {
            "_model_module": "@jupyter-widgets/base",
            "_model_module_version": "1.2.0",
            "_model_name": "LayoutModel",
            "_view_count": null,
            "_view_module": "@jupyter-widgets/base",
            "_view_module_version": "1.2.0",
            "_view_name": "LayoutView",
            "align_content": null,
            "align_items": null,
            "align_self": null,
            "border": null,
            "bottom": null,
            "display": null,
            "flex": null,
            "flex_flow": null,
            "grid_area": null,
            "grid_auto_columns": null,
            "grid_auto_flow": null,
            "grid_auto_rows": null,
            "grid_column": null,
            "grid_gap": null,
            "grid_row": null,
            "grid_template_areas": null,
            "grid_template_columns": null,
            "grid_template_rows": null,
            "height": null,
            "justify_content": null,
            "justify_items": null,
            "left": null,
            "margin": null,
            "max_height": null,
            "max_width": null,
            "min_height": null,
            "min_width": null,
            "object_fit": null,
            "object_position": null,
            "order": null,
            "overflow": null,
            "overflow_x": null,
            "overflow_y": null,
            "padding": null,
            "right": null,
            "top": null,
            "visibility": null,
            "width": null
          }
        },
        "1870ff17849746248ceb6f0bde17f44c": {
          "model_module": "@jupyter-widgets/controls",
          "model_name": "DescriptionStyleModel",
          "model_module_version": "1.5.0",
          "state": {
            "_model_module": "@jupyter-widgets/controls",
            "_model_module_version": "1.5.0",
            "_model_name": "DescriptionStyleModel",
            "_view_count": null,
            "_view_module": "@jupyter-widgets/base",
            "_view_module_version": "1.2.0",
            "_view_name": "StyleView",
            "description_width": ""
          }
        }
      }
    }
  },
  "nbformat": 4,
  "nbformat_minor": 0
}