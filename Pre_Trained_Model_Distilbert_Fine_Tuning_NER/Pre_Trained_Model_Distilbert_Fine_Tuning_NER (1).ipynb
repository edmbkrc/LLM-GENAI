{
  "nbformat": 4,
  "nbformat_minor": 0,
  "metadata": {
    "colab": {
      "provenance": [],
      "gpuType": "T4"
    },
    "kernelspec": {
      "name": "python3",
      "display_name": "Python 3"
    },
    "language_info": {
      "name": "python"
    },
    "accelerator": "GPU",
    "widgets": {
      "application/vnd.jupyter.widget-state+json": {
        "a24c628a07fb4fb2a4f22709440ab405": {
          "model_module": "@jupyter-widgets/controls",
          "model_name": "VBoxModel",
          "model_module_version": "1.5.0",
          "state": {
            "_dom_classes": [],
            "_model_module": "@jupyter-widgets/controls",
            "_model_module_version": "1.5.0",
            "_model_name": "VBoxModel",
            "_view_count": null,
            "_view_module": "@jupyter-widgets/controls",
            "_view_module_version": "1.5.0",
            "_view_name": "VBoxView",
            "box_style": "",
            "children": [
              "IPY_MODEL_5c47ba5eb84b4c5b878096359414fa0d",
              "IPY_MODEL_c1792783f9d7401e8333ebcbdf1c8196",
              "IPY_MODEL_6447d1d2183342fbaa12754290a075ff",
              "IPY_MODEL_8cbaa08816db4ae9a55768e5779b1eec",
              "IPY_MODEL_38e6dc2f6beb4a0e9eafef555a912399"
            ],
            "layout": "IPY_MODEL_b503d135d2c5483badec4e24f4fb4814"
          }
        },
        "5c47ba5eb84b4c5b878096359414fa0d": {
          "model_module": "@jupyter-widgets/controls",
          "model_name": "HTMLModel",
          "model_module_version": "1.5.0",
          "state": {
            "_dom_classes": [],
            "_model_module": "@jupyter-widgets/controls",
            "_model_module_version": "1.5.0",
            "_model_name": "HTMLModel",
            "_view_count": null,
            "_view_module": "@jupyter-widgets/controls",
            "_view_module_version": "1.5.0",
            "_view_name": "HTMLView",
            "description": "",
            "description_tooltip": null,
            "layout": "IPY_MODEL_9a0fab40c5074158980ed89c7b5ae1fa",
            "placeholder": "​",
            "style": "IPY_MODEL_cf3cc1e271464428be8316bc9607955e",
            "value": "<center> <img\nsrc=https://huggingface.co/front/assets/huggingface_logo-noborder.svg\nalt='Hugging Face'> <br> Copy a token from <a\nhref=\"https://huggingface.co/settings/tokens\" target=\"_blank\">your Hugging Face\ntokens page</a> and paste it below. <br> Immediately click login after copying\nyour token or it might be stored in plain text in this notebook file. </center>"
          }
        },
        "c1792783f9d7401e8333ebcbdf1c8196": {
          "model_module": "@jupyter-widgets/controls",
          "model_name": "PasswordModel",
          "model_module_version": "1.5.0",
          "state": {
            "_dom_classes": [],
            "_model_module": "@jupyter-widgets/controls",
            "_model_module_version": "1.5.0",
            "_model_name": "PasswordModel",
            "_view_count": null,
            "_view_module": "@jupyter-widgets/controls",
            "_view_module_version": "1.5.0",
            "_view_name": "PasswordView",
            "continuous_update": true,
            "description": "Token:",
            "description_tooltip": null,
            "disabled": false,
            "layout": "IPY_MODEL_551cd918bdde480da21b9855e7ddb411",
            "placeholder": "​",
            "style": "IPY_MODEL_77580ca00ac248ca86a76787c223a9a2",
            "value": ""
          }
        },
        "6447d1d2183342fbaa12754290a075ff": {
          "model_module": "@jupyter-widgets/controls",
          "model_name": "CheckboxModel",
          "model_module_version": "1.5.0",
          "state": {
            "_dom_classes": [],
            "_model_module": "@jupyter-widgets/controls",
            "_model_module_version": "1.5.0",
            "_model_name": "CheckboxModel",
            "_view_count": null,
            "_view_module": "@jupyter-widgets/controls",
            "_view_module_version": "1.5.0",
            "_view_name": "CheckboxView",
            "description": "Add token as git credential?",
            "description_tooltip": null,
            "disabled": false,
            "indent": true,
            "layout": "IPY_MODEL_ebdc9ded3e3f4f969087210ca0779529",
            "style": "IPY_MODEL_50b335e8f871492591bb224148094e75",
            "value": true
          }
        },
        "8cbaa08816db4ae9a55768e5779b1eec": {
          "model_module": "@jupyter-widgets/controls",
          "model_name": "ButtonModel",
          "model_module_version": "1.5.0",
          "state": {
            "_dom_classes": [],
            "_model_module": "@jupyter-widgets/controls",
            "_model_module_version": "1.5.0",
            "_model_name": "ButtonModel",
            "_view_count": null,
            "_view_module": "@jupyter-widgets/controls",
            "_view_module_version": "1.5.0",
            "_view_name": "ButtonView",
            "button_style": "",
            "description": "Login",
            "disabled": false,
            "icon": "",
            "layout": "IPY_MODEL_a3ba825ebb8748c48c1399dcac8e3a7b",
            "style": "IPY_MODEL_1f5fb230edef4ebea7e08a8333dda62d",
            "tooltip": ""
          }
        },
        "38e6dc2f6beb4a0e9eafef555a912399": {
          "model_module": "@jupyter-widgets/controls",
          "model_name": "HTMLModel",
          "model_module_version": "1.5.0",
          "state": {
            "_dom_classes": [],
            "_model_module": "@jupyter-widgets/controls",
            "_model_module_version": "1.5.0",
            "_model_name": "HTMLModel",
            "_view_count": null,
            "_view_module": "@jupyter-widgets/controls",
            "_view_module_version": "1.5.0",
            "_view_name": "HTMLView",
            "description": "",
            "description_tooltip": null,
            "layout": "IPY_MODEL_6959aab0b6ff492fa934d13ba66a2b22",
            "placeholder": "​",
            "style": "IPY_MODEL_f91977d438eb4e2193090598209f3b07",
            "value": "\n<b>Pro Tip:</b> If you don't already have one, you can create a dedicated\n'notebooks' token with 'write' access, that you can then easily reuse for all\nnotebooks. </center>"
          }
        },
        "b503d135d2c5483badec4e24f4fb4814": {
          "model_module": "@jupyter-widgets/base",
          "model_name": "LayoutModel",
          "model_module_version": "1.2.0",
          "state": {
            "_model_module": "@jupyter-widgets/base",
            "_model_module_version": "1.2.0",
            "_model_name": "LayoutModel",
            "_view_count": null,
            "_view_module": "@jupyter-widgets/base",
            "_view_module_version": "1.2.0",
            "_view_name": "LayoutView",
            "align_content": null,
            "align_items": "center",
            "align_self": null,
            "border": null,
            "bottom": null,
            "display": "flex",
            "flex": null,
            "flex_flow": "column",
            "grid_area": null,
            "grid_auto_columns": null,
            "grid_auto_flow": null,
            "grid_auto_rows": null,
            "grid_column": null,
            "grid_gap": null,
            "grid_row": null,
            "grid_template_areas": null,
            "grid_template_columns": null,
            "grid_template_rows": null,
            "height": null,
            "justify_content": null,
            "justify_items": null,
            "left": null,
            "margin": null,
            "max_height": null,
            "max_width": null,
            "min_height": null,
            "min_width": null,
            "object_fit": null,
            "object_position": null,
            "order": null,
            "overflow": null,
            "overflow_x": null,
            "overflow_y": null,
            "padding": null,
            "right": null,
            "top": null,
            "visibility": null,
            "width": "50%"
          }
        },
        "9a0fab40c5074158980ed89c7b5ae1fa": {
          "model_module": "@jupyter-widgets/base",
          "model_name": "LayoutModel",
          "model_module_version": "1.2.0",
          "state": {
            "_model_module": "@jupyter-widgets/base",
            "_model_module_version": "1.2.0",
            "_model_name": "LayoutModel",
            "_view_count": null,
            "_view_module": "@jupyter-widgets/base",
            "_view_module_version": "1.2.0",
            "_view_name": "LayoutView",
            "align_content": null,
            "align_items": null,
            "align_self": null,
            "border": null,
            "bottom": null,
            "display": null,
            "flex": null,
            "flex_flow": null,
            "grid_area": null,
            "grid_auto_columns": null,
            "grid_auto_flow": null,
            "grid_auto_rows": null,
            "grid_column": null,
            "grid_gap": null,
            "grid_row": null,
            "grid_template_areas": null,
            "grid_template_columns": null,
            "grid_template_rows": null,
            "height": null,
            "justify_content": null,
            "justify_items": null,
            "left": null,
            "margin": null,
            "max_height": null,
            "max_width": null,
            "min_height": null,
            "min_width": null,
            "object_fit": null,
            "object_position": null,
            "order": null,
            "overflow": null,
            "overflow_x": null,
            "overflow_y": null,
            "padding": null,
            "right": null,
            "top": null,
            "visibility": null,
            "width": null
          }
        },
        "cf3cc1e271464428be8316bc9607955e": {
          "model_module": "@jupyter-widgets/controls",
          "model_name": "DescriptionStyleModel",
          "model_module_version": "1.5.0",
          "state": {
            "_model_module": "@jupyter-widgets/controls",
            "_model_module_version": "1.5.0",
            "_model_name": "DescriptionStyleModel",
            "_view_count": null,
            "_view_module": "@jupyter-widgets/base",
            "_view_module_version": "1.2.0",
            "_view_name": "StyleView",
            "description_width": ""
          }
        },
        "551cd918bdde480da21b9855e7ddb411": {
          "model_module": "@jupyter-widgets/base",
          "model_name": "LayoutModel",
          "model_module_version": "1.2.0",
          "state": {
            "_model_module": "@jupyter-widgets/base",
            "_model_module_version": "1.2.0",
            "_model_name": "LayoutModel",
            "_view_count": null,
            "_view_module": "@jupyter-widgets/base",
            "_view_module_version": "1.2.0",
            "_view_name": "LayoutView",
            "align_content": null,
            "align_items": null,
            "align_self": null,
            "border": null,
            "bottom": null,
            "display": null,
            "flex": null,
            "flex_flow": null,
            "grid_area": null,
            "grid_auto_columns": null,
            "grid_auto_flow": null,
            "grid_auto_rows": null,
            "grid_column": null,
            "grid_gap": null,
            "grid_row": null,
            "grid_template_areas": null,
            "grid_template_columns": null,
            "grid_template_rows": null,
            "height": null,
            "justify_content": null,
            "justify_items": null,
            "left": null,
            "margin": null,
            "max_height": null,
            "max_width": null,
            "min_height": null,
            "min_width": null,
            "object_fit": null,
            "object_position": null,
            "order": null,
            "overflow": null,
            "overflow_x": null,
            "overflow_y": null,
            "padding": null,
            "right": null,
            "top": null,
            "visibility": null,
            "width": null
          }
        },
        "77580ca00ac248ca86a76787c223a9a2": {
          "model_module": "@jupyter-widgets/controls",
          "model_name": "DescriptionStyleModel",
          "model_module_version": "1.5.0",
          "state": {
            "_model_module": "@jupyter-widgets/controls",
            "_model_module_version": "1.5.0",
            "_model_name": "DescriptionStyleModel",
            "_view_count": null,
            "_view_module": "@jupyter-widgets/base",
            "_view_module_version": "1.2.0",
            "_view_name": "StyleView",
            "description_width": ""
          }
        },
        "ebdc9ded3e3f4f969087210ca0779529": {
          "model_module": "@jupyter-widgets/base",
          "model_name": "LayoutModel",
          "model_module_version": "1.2.0",
          "state": {
            "_model_module": "@jupyter-widgets/base",
            "_model_module_version": "1.2.0",
            "_model_name": "LayoutModel",
            "_view_count": null,
            "_view_module": "@jupyter-widgets/base",
            "_view_module_version": "1.2.0",
            "_view_name": "LayoutView",
            "align_content": null,
            "align_items": null,
            "align_self": null,
            "border": null,
            "bottom": null,
            "display": null,
            "flex": null,
            "flex_flow": null,
            "grid_area": null,
            "grid_auto_columns": null,
            "grid_auto_flow": null,
            "grid_auto_rows": null,
            "grid_column": null,
            "grid_gap": null,
            "grid_row": null,
            "grid_template_areas": null,
            "grid_template_columns": null,
            "grid_template_rows": null,
            "height": null,
            "justify_content": null,
            "justify_items": null,
            "left": null,
            "margin": null,
            "max_height": null,
            "max_width": null,
            "min_height": null,
            "min_width": null,
            "object_fit": null,
            "object_position": null,
            "order": null,
            "overflow": null,
            "overflow_x": null,
            "overflow_y": null,
            "padding": null,
            "right": null,
            "top": null,
            "visibility": null,
            "width": null
          }
        },
        "50b335e8f871492591bb224148094e75": {
          "model_module": "@jupyter-widgets/controls",
          "model_name": "DescriptionStyleModel",
          "model_module_version": "1.5.0",
          "state": {
            "_model_module": "@jupyter-widgets/controls",
            "_model_module_version": "1.5.0",
            "_model_name": "DescriptionStyleModel",
            "_view_count": null,
            "_view_module": "@jupyter-widgets/base",
            "_view_module_version": "1.2.0",
            "_view_name": "StyleView",
            "description_width": ""
          }
        },
        "a3ba825ebb8748c48c1399dcac8e3a7b": {
          "model_module": "@jupyter-widgets/base",
          "model_name": "LayoutModel",
          "model_module_version": "1.2.0",
          "state": {
            "_model_module": "@jupyter-widgets/base",
            "_model_module_version": "1.2.0",
            "_model_name": "LayoutModel",
            "_view_count": null,
            "_view_module": "@jupyter-widgets/base",
            "_view_module_version": "1.2.0",
            "_view_name": "LayoutView",
            "align_content": null,
            "align_items": null,
            "align_self": null,
            "border": null,
            "bottom": null,
            "display": null,
            "flex": null,
            "flex_flow": null,
            "grid_area": null,
            "grid_auto_columns": null,
            "grid_auto_flow": null,
            "grid_auto_rows": null,
            "grid_column": null,
            "grid_gap": null,
            "grid_row": null,
            "grid_template_areas": null,
            "grid_template_columns": null,
            "grid_template_rows": null,
            "height": null,
            "justify_content": null,
            "justify_items": null,
            "left": null,
            "margin": null,
            "max_height": null,
            "max_width": null,
            "min_height": null,
            "min_width": null,
            "object_fit": null,
            "object_position": null,
            "order": null,
            "overflow": null,
            "overflow_x": null,
            "overflow_y": null,
            "padding": null,
            "right": null,
            "top": null,
            "visibility": null,
            "width": null
          }
        },
        "1f5fb230edef4ebea7e08a8333dda62d": {
          "model_module": "@jupyter-widgets/controls",
          "model_name": "ButtonStyleModel",
          "model_module_version": "1.5.0",
          "state": {
            "_model_module": "@jupyter-widgets/controls",
            "_model_module_version": "1.5.0",
            "_model_name": "ButtonStyleModel",
            "_view_count": null,
            "_view_module": "@jupyter-widgets/base",
            "_view_module_version": "1.2.0",
            "_view_name": "StyleView",
            "button_color": null,
            "font_weight": ""
          }
        },
        "6959aab0b6ff492fa934d13ba66a2b22": {
          "model_module": "@jupyter-widgets/base",
          "model_name": "LayoutModel",
          "model_module_version": "1.2.0",
          "state": {
            "_model_module": "@jupyter-widgets/base",
            "_model_module_version": "1.2.0",
            "_model_name": "LayoutModel",
            "_view_count": null,
            "_view_module": "@jupyter-widgets/base",
            "_view_module_version": "1.2.0",
            "_view_name": "LayoutView",
            "align_content": null,
            "align_items": null,
            "align_self": null,
            "border": null,
            "bottom": null,
            "display": null,
            "flex": null,
            "flex_flow": null,
            "grid_area": null,
            "grid_auto_columns": null,
            "grid_auto_flow": null,
            "grid_auto_rows": null,
            "grid_column": null,
            "grid_gap": null,
            "grid_row": null,
            "grid_template_areas": null,
            "grid_template_columns": null,
            "grid_template_rows": null,
            "height": null,
            "justify_content": null,
            "justify_items": null,
            "left": null,
            "margin": null,
            "max_height": null,
            "max_width": null,
            "min_height": null,
            "min_width": null,
            "object_fit": null,
            "object_position": null,
            "order": null,
            "overflow": null,
            "overflow_x": null,
            "overflow_y": null,
            "padding": null,
            "right": null,
            "top": null,
            "visibility": null,
            "width": null
          }
        },
        "f91977d438eb4e2193090598209f3b07": {
          "model_module": "@jupyter-widgets/controls",
          "model_name": "DescriptionStyleModel",
          "model_module_version": "1.5.0",
          "state": {
            "_model_module": "@jupyter-widgets/controls",
            "_model_module_version": "1.5.0",
            "_model_name": "DescriptionStyleModel",
            "_view_count": null,
            "_view_module": "@jupyter-widgets/base",
            "_view_module_version": "1.2.0",
            "_view_name": "StyleView",
            "description_width": ""
          }
        },
        "fd67bf0ea6bf4d16a8cc7b7d45ca1bf8": {
          "model_module": "@jupyter-widgets/controls",
          "model_name": "HBoxModel",
          "model_module_version": "1.5.0",
          "state": {
            "_dom_classes": [],
            "_model_module": "@jupyter-widgets/controls",
            "_model_module_version": "1.5.0",
            "_model_name": "HBoxModel",
            "_view_count": null,
            "_view_module": "@jupyter-widgets/controls",
            "_view_module_version": "1.5.0",
            "_view_name": "HBoxView",
            "box_style": "",
            "children": [
              "IPY_MODEL_e7bc8baa4b1b4587b2d87c509c305ca2",
              "IPY_MODEL_69c226542de2463b934e2d9bc406d0b7",
              "IPY_MODEL_7ea3cf31cd3e408ca7a448cfd29e32f7"
            ],
            "layout": "IPY_MODEL_92e6e6e926824cb9aa318fa933f027d4"
          }
        },
        "e7bc8baa4b1b4587b2d87c509c305ca2": {
          "model_module": "@jupyter-widgets/controls",
          "model_name": "HTMLModel",
          "model_module_version": "1.5.0",
          "state": {
            "_dom_classes": [],
            "_model_module": "@jupyter-widgets/controls",
            "_model_module_version": "1.5.0",
            "_model_name": "HTMLModel",
            "_view_count": null,
            "_view_module": "@jupyter-widgets/controls",
            "_view_module_version": "1.5.0",
            "_view_name": "HTMLView",
            "description": "",
            "description_tooltip": null,
            "layout": "IPY_MODEL_0d1d45cb0fbf43aca880c141e2d2ec67",
            "placeholder": "​",
            "style": "IPY_MODEL_d40497726edb4575b8e2daf2994c4408",
            "value": "Downloading builder script: 100%"
          }
        },
        "69c226542de2463b934e2d9bc406d0b7": {
          "model_module": "@jupyter-widgets/controls",
          "model_name": "FloatProgressModel",
          "model_module_version": "1.5.0",
          "state": {
            "_dom_classes": [],
            "_model_module": "@jupyter-widgets/controls",
            "_model_module_version": "1.5.0",
            "_model_name": "FloatProgressModel",
            "_view_count": null,
            "_view_module": "@jupyter-widgets/controls",
            "_view_module_version": "1.5.0",
            "_view_name": "ProgressView",
            "bar_style": "success",
            "description": "",
            "description_tooltip": null,
            "layout": "IPY_MODEL_14d66c4ac22a4fb29c05b1a075b25a03",
            "max": 9570,
            "min": 0,
            "orientation": "horizontal",
            "style": "IPY_MODEL_3e378e270c6f48c19919179f3f9d83da",
            "value": 9570
          }
        },
        "7ea3cf31cd3e408ca7a448cfd29e32f7": {
          "model_module": "@jupyter-widgets/controls",
          "model_name": "HTMLModel",
          "model_module_version": "1.5.0",
          "state": {
            "_dom_classes": [],
            "_model_module": "@jupyter-widgets/controls",
            "_model_module_version": "1.5.0",
            "_model_name": "HTMLModel",
            "_view_count": null,
            "_view_module": "@jupyter-widgets/controls",
            "_view_module_version": "1.5.0",
            "_view_name": "HTMLView",
            "description": "",
            "description_tooltip": null,
            "layout": "IPY_MODEL_976c557eed92495397d6aee80ba2086f",
            "placeholder": "​",
            "style": "IPY_MODEL_7c919337bdce461fb91cf1f37f46c209",
            "value": " 9.57k/9.57k [00:00&lt;00:00, 143kB/s]"
          }
        },
        "92e6e6e926824cb9aa318fa933f027d4": {
          "model_module": "@jupyter-widgets/base",
          "model_name": "LayoutModel",
          "model_module_version": "1.2.0",
          "state": {
            "_model_module": "@jupyter-widgets/base",
            "_model_module_version": "1.2.0",
            "_model_name": "LayoutModel",
            "_view_count": null,
            "_view_module": "@jupyter-widgets/base",
            "_view_module_version": "1.2.0",
            "_view_name": "LayoutView",
            "align_content": null,
            "align_items": null,
            "align_self": null,
            "border": null,
            "bottom": null,
            "display": null,
            "flex": null,
            "flex_flow": null,
            "grid_area": null,
            "grid_auto_columns": null,
            "grid_auto_flow": null,
            "grid_auto_rows": null,
            "grid_column": null,
            "grid_gap": null,
            "grid_row": null,
            "grid_template_areas": null,
            "grid_template_columns": null,
            "grid_template_rows": null,
            "height": null,
            "justify_content": null,
            "justify_items": null,
            "left": null,
            "margin": null,
            "max_height": null,
            "max_width": null,
            "min_height": null,
            "min_width": null,
            "object_fit": null,
            "object_position": null,
            "order": null,
            "overflow": null,
            "overflow_x": null,
            "overflow_y": null,
            "padding": null,
            "right": null,
            "top": null,
            "visibility": null,
            "width": null
          }
        },
        "0d1d45cb0fbf43aca880c141e2d2ec67": {
          "model_module": "@jupyter-widgets/base",
          "model_name": "LayoutModel",
          "model_module_version": "1.2.0",
          "state": {
            "_model_module": "@jupyter-widgets/base",
            "_model_module_version": "1.2.0",
            "_model_name": "LayoutModel",
            "_view_count": null,
            "_view_module": "@jupyter-widgets/base",
            "_view_module_version": "1.2.0",
            "_view_name": "LayoutView",
            "align_content": null,
            "align_items": null,
            "align_self": null,
            "border": null,
            "bottom": null,
            "display": null,
            "flex": null,
            "flex_flow": null,
            "grid_area": null,
            "grid_auto_columns": null,
            "grid_auto_flow": null,
            "grid_auto_rows": null,
            "grid_column": null,
            "grid_gap": null,
            "grid_row": null,
            "grid_template_areas": null,
            "grid_template_columns": null,
            "grid_template_rows": null,
            "height": null,
            "justify_content": null,
            "justify_items": null,
            "left": null,
            "margin": null,
            "max_height": null,
            "max_width": null,
            "min_height": null,
            "min_width": null,
            "object_fit": null,
            "object_position": null,
            "order": null,
            "overflow": null,
            "overflow_x": null,
            "overflow_y": null,
            "padding": null,
            "right": null,
            "top": null,
            "visibility": null,
            "width": null
          }
        },
        "d40497726edb4575b8e2daf2994c4408": {
          "model_module": "@jupyter-widgets/controls",
          "model_name": "DescriptionStyleModel",
          "model_module_version": "1.5.0",
          "state": {
            "_model_module": "@jupyter-widgets/controls",
            "_model_module_version": "1.5.0",
            "_model_name": "DescriptionStyleModel",
            "_view_count": null,
            "_view_module": "@jupyter-widgets/base",
            "_view_module_version": "1.2.0",
            "_view_name": "StyleView",
            "description_width": ""
          }
        },
        "14d66c4ac22a4fb29c05b1a075b25a03": {
          "model_module": "@jupyter-widgets/base",
          "model_name": "LayoutModel",
          "model_module_version": "1.2.0",
          "state": {
            "_model_module": "@jupyter-widgets/base",
            "_model_module_version": "1.2.0",
            "_model_name": "LayoutModel",
            "_view_count": null,
            "_view_module": "@jupyter-widgets/base",
            "_view_module_version": "1.2.0",
            "_view_name": "LayoutView",
            "align_content": null,
            "align_items": null,
            "align_self": null,
            "border": null,
            "bottom": null,
            "display": null,
            "flex": null,
            "flex_flow": null,
            "grid_area": null,
            "grid_auto_columns": null,
            "grid_auto_flow": null,
            "grid_auto_rows": null,
            "grid_column": null,
            "grid_gap": null,
            "grid_row": null,
            "grid_template_areas": null,
            "grid_template_columns": null,
            "grid_template_rows": null,
            "height": null,
            "justify_content": null,
            "justify_items": null,
            "left": null,
            "margin": null,
            "max_height": null,
            "max_width": null,
            "min_height": null,
            "min_width": null,
            "object_fit": null,
            "object_position": null,
            "order": null,
            "overflow": null,
            "overflow_x": null,
            "overflow_y": null,
            "padding": null,
            "right": null,
            "top": null,
            "visibility": null,
            "width": null
          }
        },
        "3e378e270c6f48c19919179f3f9d83da": {
          "model_module": "@jupyter-widgets/controls",
          "model_name": "ProgressStyleModel",
          "model_module_version": "1.5.0",
          "state": {
            "_model_module": "@jupyter-widgets/controls",
            "_model_module_version": "1.5.0",
            "_model_name": "ProgressStyleModel",
            "_view_count": null,
            "_view_module": "@jupyter-widgets/base",
            "_view_module_version": "1.2.0",
            "_view_name": "StyleView",
            "bar_color": null,
            "description_width": ""
          }
        },
        "976c557eed92495397d6aee80ba2086f": {
          "model_module": "@jupyter-widgets/base",
          "model_name": "LayoutModel",
          "model_module_version": "1.2.0",
          "state": {
            "_model_module": "@jupyter-widgets/base",
            "_model_module_version": "1.2.0",
            "_model_name": "LayoutModel",
            "_view_count": null,
            "_view_module": "@jupyter-widgets/base",
            "_view_module_version": "1.2.0",
            "_view_name": "LayoutView",
            "align_content": null,
            "align_items": null,
            "align_self": null,
            "border": null,
            "bottom": null,
            "display": null,
            "flex": null,
            "flex_flow": null,
            "grid_area": null,
            "grid_auto_columns": null,
            "grid_auto_flow": null,
            "grid_auto_rows": null,
            "grid_column": null,
            "grid_gap": null,
            "grid_row": null,
            "grid_template_areas": null,
            "grid_template_columns": null,
            "grid_template_rows": null,
            "height": null,
            "justify_content": null,
            "justify_items": null,
            "left": null,
            "margin": null,
            "max_height": null,
            "max_width": null,
            "min_height": null,
            "min_width": null,
            "object_fit": null,
            "object_position": null,
            "order": null,
            "overflow": null,
            "overflow_x": null,
            "overflow_y": null,
            "padding": null,
            "right": null,
            "top": null,
            "visibility": null,
            "width": null
          }
        },
        "7c919337bdce461fb91cf1f37f46c209": {
          "model_module": "@jupyter-widgets/controls",
          "model_name": "DescriptionStyleModel",
          "model_module_version": "1.5.0",
          "state": {
            "_model_module": "@jupyter-widgets/controls",
            "_model_module_version": "1.5.0",
            "_model_name": "DescriptionStyleModel",
            "_view_count": null,
            "_view_module": "@jupyter-widgets/base",
            "_view_module_version": "1.2.0",
            "_view_name": "StyleView",
            "description_width": ""
          }
        },
        "e60b86440c604120b1700f38a76b8f49": {
          "model_module": "@jupyter-widgets/controls",
          "model_name": "HBoxModel",
          "model_module_version": "1.5.0",
          "state": {
            "_dom_classes": [],
            "_model_module": "@jupyter-widgets/controls",
            "_model_module_version": "1.5.0",
            "_model_name": "HBoxModel",
            "_view_count": null,
            "_view_module": "@jupyter-widgets/controls",
            "_view_module_version": "1.5.0",
            "_view_name": "HBoxView",
            "box_style": "",
            "children": [
              "IPY_MODEL_06e0560940184fa2801f796d875abaec",
              "IPY_MODEL_254bcb224d4049b7ae312e977f1ea0e3",
              "IPY_MODEL_64c5ca01e97c47d49e06afeb763183f1"
            ],
            "layout": "IPY_MODEL_bbd64cf8052d4f8ba264fcaf45ace83b"
          }
        },
        "06e0560940184fa2801f796d875abaec": {
          "model_module": "@jupyter-widgets/controls",
          "model_name": "HTMLModel",
          "model_module_version": "1.5.0",
          "state": {
            "_dom_classes": [],
            "_model_module": "@jupyter-widgets/controls",
            "_model_module_version": "1.5.0",
            "_model_name": "HTMLModel",
            "_view_count": null,
            "_view_module": "@jupyter-widgets/controls",
            "_view_module_version": "1.5.0",
            "_view_name": "HTMLView",
            "description": "",
            "description_tooltip": null,
            "layout": "IPY_MODEL_884e4fbf01ec47328930a96496dccb0b",
            "placeholder": "​",
            "style": "IPY_MODEL_9a4d1c8067ee45cdaf942214bc50e727",
            "value": "Downloading readme: 100%"
          }
        },
        "254bcb224d4049b7ae312e977f1ea0e3": {
          "model_module": "@jupyter-widgets/controls",
          "model_name": "FloatProgressModel",
          "model_module_version": "1.5.0",
          "state": {
            "_dom_classes": [],
            "_model_module": "@jupyter-widgets/controls",
            "_model_module_version": "1.5.0",
            "_model_name": "FloatProgressModel",
            "_view_count": null,
            "_view_module": "@jupyter-widgets/controls",
            "_view_module_version": "1.5.0",
            "_view_name": "ProgressView",
            "bar_style": "success",
            "description": "",
            "description_tooltip": null,
            "layout": "IPY_MODEL_f4946d19a0d6489c847912e5faa5e7ac",
            "max": 12330,
            "min": 0,
            "orientation": "horizontal",
            "style": "IPY_MODEL_f6f975aad93542d496792a49e60a289f",
            "value": 12330
          }
        },
        "64c5ca01e97c47d49e06afeb763183f1": {
          "model_module": "@jupyter-widgets/controls",
          "model_name": "HTMLModel",
          "model_module_version": "1.5.0",
          "state": {
            "_dom_classes": [],
            "_model_module": "@jupyter-widgets/controls",
            "_model_module_version": "1.5.0",
            "_model_name": "HTMLModel",
            "_view_count": null,
            "_view_module": "@jupyter-widgets/controls",
            "_view_module_version": "1.5.0",
            "_view_name": "HTMLView",
            "description": "",
            "description_tooltip": null,
            "layout": "IPY_MODEL_1595905da6ca48489e2e90bb0e257e18",
            "placeholder": "​",
            "style": "IPY_MODEL_c963a9bee59349008d8d38682dd622de",
            "value": " 12.3k/12.3k [00:00&lt;00:00, 222kB/s]"
          }
        },
        "bbd64cf8052d4f8ba264fcaf45ace83b": {
          "model_module": "@jupyter-widgets/base",
          "model_name": "LayoutModel",
          "model_module_version": "1.2.0",
          "state": {
            "_model_module": "@jupyter-widgets/base",
            "_model_module_version": "1.2.0",
            "_model_name": "LayoutModel",
            "_view_count": null,
            "_view_module": "@jupyter-widgets/base",
            "_view_module_version": "1.2.0",
            "_view_name": "LayoutView",
            "align_content": null,
            "align_items": null,
            "align_self": null,
            "border": null,
            "bottom": null,
            "display": null,
            "flex": null,
            "flex_flow": null,
            "grid_area": null,
            "grid_auto_columns": null,
            "grid_auto_flow": null,
            "grid_auto_rows": null,
            "grid_column": null,
            "grid_gap": null,
            "grid_row": null,
            "grid_template_areas": null,
            "grid_template_columns": null,
            "grid_template_rows": null,
            "height": null,
            "justify_content": null,
            "justify_items": null,
            "left": null,
            "margin": null,
            "max_height": null,
            "max_width": null,
            "min_height": null,
            "min_width": null,
            "object_fit": null,
            "object_position": null,
            "order": null,
            "overflow": null,
            "overflow_x": null,
            "overflow_y": null,
            "padding": null,
            "right": null,
            "top": null,
            "visibility": null,
            "width": null
          }
        },
        "884e4fbf01ec47328930a96496dccb0b": {
          "model_module": "@jupyter-widgets/base",
          "model_name": "LayoutModel",
          "model_module_version": "1.2.0",
          "state": {
            "_model_module": "@jupyter-widgets/base",
            "_model_module_version": "1.2.0",
            "_model_name": "LayoutModel",
            "_view_count": null,
            "_view_module": "@jupyter-widgets/base",
            "_view_module_version": "1.2.0",
            "_view_name": "LayoutView",
            "align_content": null,
            "align_items": null,
            "align_self": null,
            "border": null,
            "bottom": null,
            "display": null,
            "flex": null,
            "flex_flow": null,
            "grid_area": null,
            "grid_auto_columns": null,
            "grid_auto_flow": null,
            "grid_auto_rows": null,
            "grid_column": null,
            "grid_gap": null,
            "grid_row": null,
            "grid_template_areas": null,
            "grid_template_columns": null,
            "grid_template_rows": null,
            "height": null,
            "justify_content": null,
            "justify_items": null,
            "left": null,
            "margin": null,
            "max_height": null,
            "max_width": null,
            "min_height": null,
            "min_width": null,
            "object_fit": null,
            "object_position": null,
            "order": null,
            "overflow": null,
            "overflow_x": null,
            "overflow_y": null,
            "padding": null,
            "right": null,
            "top": null,
            "visibility": null,
            "width": null
          }
        },
        "9a4d1c8067ee45cdaf942214bc50e727": {
          "model_module": "@jupyter-widgets/controls",
          "model_name": "DescriptionStyleModel",
          "model_module_version": "1.5.0",
          "state": {
            "_model_module": "@jupyter-widgets/controls",
            "_model_module_version": "1.5.0",
            "_model_name": "DescriptionStyleModel",
            "_view_count": null,
            "_view_module": "@jupyter-widgets/base",
            "_view_module_version": "1.2.0",
            "_view_name": "StyleView",
            "description_width": ""
          }
        },
        "f4946d19a0d6489c847912e5faa5e7ac": {
          "model_module": "@jupyter-widgets/base",
          "model_name": "LayoutModel",
          "model_module_version": "1.2.0",
          "state": {
            "_model_module": "@jupyter-widgets/base",
            "_model_module_version": "1.2.0",
            "_model_name": "LayoutModel",
            "_view_count": null,
            "_view_module": "@jupyter-widgets/base",
            "_view_module_version": "1.2.0",
            "_view_name": "LayoutView",
            "align_content": null,
            "align_items": null,
            "align_self": null,
            "border": null,
            "bottom": null,
            "display": null,
            "flex": null,
            "flex_flow": null,
            "grid_area": null,
            "grid_auto_columns": null,
            "grid_auto_flow": null,
            "grid_auto_rows": null,
            "grid_column": null,
            "grid_gap": null,
            "grid_row": null,
            "grid_template_areas": null,
            "grid_template_columns": null,
            "grid_template_rows": null,
            "height": null,
            "justify_content": null,
            "justify_items": null,
            "left": null,
            "margin": null,
            "max_height": null,
            "max_width": null,
            "min_height": null,
            "min_width": null,
            "object_fit": null,
            "object_position": null,
            "order": null,
            "overflow": null,
            "overflow_x": null,
            "overflow_y": null,
            "padding": null,
            "right": null,
            "top": null,
            "visibility": null,
            "width": null
          }
        },
        "f6f975aad93542d496792a49e60a289f": {
          "model_module": "@jupyter-widgets/controls",
          "model_name": "ProgressStyleModel",
          "model_module_version": "1.5.0",
          "state": {
            "_model_module": "@jupyter-widgets/controls",
            "_model_module_version": "1.5.0",
            "_model_name": "ProgressStyleModel",
            "_view_count": null,
            "_view_module": "@jupyter-widgets/base",
            "_view_module_version": "1.2.0",
            "_view_name": "StyleView",
            "bar_color": null,
            "description_width": ""
          }
        },
        "1595905da6ca48489e2e90bb0e257e18": {
          "model_module": "@jupyter-widgets/base",
          "model_name": "LayoutModel",
          "model_module_version": "1.2.0",
          "state": {
            "_model_module": "@jupyter-widgets/base",
            "_model_module_version": "1.2.0",
            "_model_name": "LayoutModel",
            "_view_count": null,
            "_view_module": "@jupyter-widgets/base",
            "_view_module_version": "1.2.0",
            "_view_name": "LayoutView",
            "align_content": null,
            "align_items": null,
            "align_self": null,
            "border": null,
            "bottom": null,
            "display": null,
            "flex": null,
            "flex_flow": null,
            "grid_area": null,
            "grid_auto_columns": null,
            "grid_auto_flow": null,
            "grid_auto_rows": null,
            "grid_column": null,
            "grid_gap": null,
            "grid_row": null,
            "grid_template_areas": null,
            "grid_template_columns": null,
            "grid_template_rows": null,
            "height": null,
            "justify_content": null,
            "justify_items": null,
            "left": null,
            "margin": null,
            "max_height": null,
            "max_width": null,
            "min_height": null,
            "min_width": null,
            "object_fit": null,
            "object_position": null,
            "order": null,
            "overflow": null,
            "overflow_x": null,
            "overflow_y": null,
            "padding": null,
            "right": null,
            "top": null,
            "visibility": null,
            "width": null
          }
        },
        "c963a9bee59349008d8d38682dd622de": {
          "model_module": "@jupyter-widgets/controls",
          "model_name": "DescriptionStyleModel",
          "model_module_version": "1.5.0",
          "state": {
            "_model_module": "@jupyter-widgets/controls",
            "_model_module_version": "1.5.0",
            "_model_name": "DescriptionStyleModel",
            "_view_count": null,
            "_view_module": "@jupyter-widgets/base",
            "_view_module_version": "1.2.0",
            "_view_name": "StyleView",
            "description_width": ""
          }
        },
        "10cac40341174f69af651d38dcc63e65": {
          "model_module": "@jupyter-widgets/controls",
          "model_name": "HBoxModel",
          "model_module_version": "1.5.0",
          "state": {
            "_dom_classes": [],
            "_model_module": "@jupyter-widgets/controls",
            "_model_module_version": "1.5.0",
            "_model_name": "HBoxModel",
            "_view_count": null,
            "_view_module": "@jupyter-widgets/controls",
            "_view_module_version": "1.5.0",
            "_view_name": "HBoxView",
            "box_style": "",
            "children": [
              "IPY_MODEL_d0aeddbae7ad4e88a42c93a085468c12",
              "IPY_MODEL_1d78de519a274b36bf5c169308314cfa",
              "IPY_MODEL_6282a37380bc4513a2a247f819033e91"
            ],
            "layout": "IPY_MODEL_0a4b392eb61e4aecbd60068835b278e3"
          }
        },
        "d0aeddbae7ad4e88a42c93a085468c12": {
          "model_module": "@jupyter-widgets/controls",
          "model_name": "HTMLModel",
          "model_module_version": "1.5.0",
          "state": {
            "_dom_classes": [],
            "_model_module": "@jupyter-widgets/controls",
            "_model_module_version": "1.5.0",
            "_model_name": "HTMLModel",
            "_view_count": null,
            "_view_module": "@jupyter-widgets/controls",
            "_view_module_version": "1.5.0",
            "_view_name": "HTMLView",
            "description": "",
            "description_tooltip": null,
            "layout": "IPY_MODEL_f8ce4570b59d4f4ca0aa2da894205f1b",
            "placeholder": "​",
            "style": "IPY_MODEL_afc0b73586c24535b8f306a866723506",
            "value": "Downloading data: 100%"
          }
        },
        "1d78de519a274b36bf5c169308314cfa": {
          "model_module": "@jupyter-widgets/controls",
          "model_name": "FloatProgressModel",
          "model_module_version": "1.5.0",
          "state": {
            "_dom_classes": [],
            "_model_module": "@jupyter-widgets/controls",
            "_model_module_version": "1.5.0",
            "_model_name": "FloatProgressModel",
            "_view_count": null,
            "_view_module": "@jupyter-widgets/controls",
            "_view_module_version": "1.5.0",
            "_view_name": "ProgressView",
            "bar_style": "success",
            "description": "",
            "description_tooltip": null,
            "layout": "IPY_MODEL_397e8c69a7c3469e8ea875a1cf0cd9e4",
            "max": 982975,
            "min": 0,
            "orientation": "horizontal",
            "style": "IPY_MODEL_90b9b0dfe4004a97ba4baa5931e60b5b",
            "value": 982975
          }
        },
        "6282a37380bc4513a2a247f819033e91": {
          "model_module": "@jupyter-widgets/controls",
          "model_name": "HTMLModel",
          "model_module_version": "1.5.0",
          "state": {
            "_dom_classes": [],
            "_model_module": "@jupyter-widgets/controls",
            "_model_module_version": "1.5.0",
            "_model_name": "HTMLModel",
            "_view_count": null,
            "_view_module": "@jupyter-widgets/controls",
            "_view_module_version": "1.5.0",
            "_view_name": "HTMLView",
            "description": "",
            "description_tooltip": null,
            "layout": "IPY_MODEL_bbb8435aa96240f3a1b6a1763630f812",
            "placeholder": "​",
            "style": "IPY_MODEL_d7df0e3744fb4d748be64f249c68ebdc",
            "value": " 983k/983k [00:00&lt;00:00, 8.09MB/s]"
          }
        },
        "0a4b392eb61e4aecbd60068835b278e3": {
          "model_module": "@jupyter-widgets/base",
          "model_name": "LayoutModel",
          "model_module_version": "1.2.0",
          "state": {
            "_model_module": "@jupyter-widgets/base",
            "_model_module_version": "1.2.0",
            "_model_name": "LayoutModel",
            "_view_count": null,
            "_view_module": "@jupyter-widgets/base",
            "_view_module_version": "1.2.0",
            "_view_name": "LayoutView",
            "align_content": null,
            "align_items": null,
            "align_self": null,
            "border": null,
            "bottom": null,
            "display": null,
            "flex": null,
            "flex_flow": null,
            "grid_area": null,
            "grid_auto_columns": null,
            "grid_auto_flow": null,
            "grid_auto_rows": null,
            "grid_column": null,
            "grid_gap": null,
            "grid_row": null,
            "grid_template_areas": null,
            "grid_template_columns": null,
            "grid_template_rows": null,
            "height": null,
            "justify_content": null,
            "justify_items": null,
            "left": null,
            "margin": null,
            "max_height": null,
            "max_width": null,
            "min_height": null,
            "min_width": null,
            "object_fit": null,
            "object_position": null,
            "order": null,
            "overflow": null,
            "overflow_x": null,
            "overflow_y": null,
            "padding": null,
            "right": null,
            "top": null,
            "visibility": null,
            "width": null
          }
        },
        "f8ce4570b59d4f4ca0aa2da894205f1b": {
          "model_module": "@jupyter-widgets/base",
          "model_name": "LayoutModel",
          "model_module_version": "1.2.0",
          "state": {
            "_model_module": "@jupyter-widgets/base",
            "_model_module_version": "1.2.0",
            "_model_name": "LayoutModel",
            "_view_count": null,
            "_view_module": "@jupyter-widgets/base",
            "_view_module_version": "1.2.0",
            "_view_name": "LayoutView",
            "align_content": null,
            "align_items": null,
            "align_self": null,
            "border": null,
            "bottom": null,
            "display": null,
            "flex": null,
            "flex_flow": null,
            "grid_area": null,
            "grid_auto_columns": null,
            "grid_auto_flow": null,
            "grid_auto_rows": null,
            "grid_column": null,
            "grid_gap": null,
            "grid_row": null,
            "grid_template_areas": null,
            "grid_template_columns": null,
            "grid_template_rows": null,
            "height": null,
            "justify_content": null,
            "justify_items": null,
            "left": null,
            "margin": null,
            "max_height": null,
            "max_width": null,
            "min_height": null,
            "min_width": null,
            "object_fit": null,
            "object_position": null,
            "order": null,
            "overflow": null,
            "overflow_x": null,
            "overflow_y": null,
            "padding": null,
            "right": null,
            "top": null,
            "visibility": null,
            "width": null
          }
        },
        "afc0b73586c24535b8f306a866723506": {
          "model_module": "@jupyter-widgets/controls",
          "model_name": "DescriptionStyleModel",
          "model_module_version": "1.5.0",
          "state": {
            "_model_module": "@jupyter-widgets/controls",
            "_model_module_version": "1.5.0",
            "_model_name": "DescriptionStyleModel",
            "_view_count": null,
            "_view_module": "@jupyter-widgets/base",
            "_view_module_version": "1.2.0",
            "_view_name": "StyleView",
            "description_width": ""
          }
        },
        "397e8c69a7c3469e8ea875a1cf0cd9e4": {
          "model_module": "@jupyter-widgets/base",
          "model_name": "LayoutModel",
          "model_module_version": "1.2.0",
          "state": {
            "_model_module": "@jupyter-widgets/base",
            "_model_module_version": "1.2.0",
            "_model_name": "LayoutModel",
            "_view_count": null,
            "_view_module": "@jupyter-widgets/base",
            "_view_module_version": "1.2.0",
            "_view_name": "LayoutView",
            "align_content": null,
            "align_items": null,
            "align_self": null,
            "border": null,
            "bottom": null,
            "display": null,
            "flex": null,
            "flex_flow": null,
            "grid_area": null,
            "grid_auto_columns": null,
            "grid_auto_flow": null,
            "grid_auto_rows": null,
            "grid_column": null,
            "grid_gap": null,
            "grid_row": null,
            "grid_template_areas": null,
            "grid_template_columns": null,
            "grid_template_rows": null,
            "height": null,
            "justify_content": null,
            "justify_items": null,
            "left": null,
            "margin": null,
            "max_height": null,
            "max_width": null,
            "min_height": null,
            "min_width": null,
            "object_fit": null,
            "object_position": null,
            "order": null,
            "overflow": null,
            "overflow_x": null,
            "overflow_y": null,
            "padding": null,
            "right": null,
            "top": null,
            "visibility": null,
            "width": null
          }
        },
        "90b9b0dfe4004a97ba4baa5931e60b5b": {
          "model_module": "@jupyter-widgets/controls",
          "model_name": "ProgressStyleModel",
          "model_module_version": "1.5.0",
          "state": {
            "_model_module": "@jupyter-widgets/controls",
            "_model_module_version": "1.5.0",
            "_model_name": "ProgressStyleModel",
            "_view_count": null,
            "_view_module": "@jupyter-widgets/base",
            "_view_module_version": "1.2.0",
            "_view_name": "StyleView",
            "bar_color": null,
            "description_width": ""
          }
        },
        "bbb8435aa96240f3a1b6a1763630f812": {
          "model_module": "@jupyter-widgets/base",
          "model_name": "LayoutModel",
          "model_module_version": "1.2.0",
          "state": {
            "_model_module": "@jupyter-widgets/base",
            "_model_module_version": "1.2.0",
            "_model_name": "LayoutModel",
            "_view_count": null,
            "_view_module": "@jupyter-widgets/base",
            "_view_module_version": "1.2.0",
            "_view_name": "LayoutView",
            "align_content": null,
            "align_items": null,
            "align_self": null,
            "border": null,
            "bottom": null,
            "display": null,
            "flex": null,
            "flex_flow": null,
            "grid_area": null,
            "grid_auto_columns": null,
            "grid_auto_flow": null,
            "grid_auto_rows": null,
            "grid_column": null,
            "grid_gap": null,
            "grid_row": null,
            "grid_template_areas": null,
            "grid_template_columns": null,
            "grid_template_rows": null,
            "height": null,
            "justify_content": null,
            "justify_items": null,
            "left": null,
            "margin": null,
            "max_height": null,
            "max_width": null,
            "min_height": null,
            "min_width": null,
            "object_fit": null,
            "object_position": null,
            "order": null,
            "overflow": null,
            "overflow_x": null,
            "overflow_y": null,
            "padding": null,
            "right": null,
            "top": null,
            "visibility": null,
            "width": null
          }
        },
        "d7df0e3744fb4d748be64f249c68ebdc": {
          "model_module": "@jupyter-widgets/controls",
          "model_name": "DescriptionStyleModel",
          "model_module_version": "1.5.0",
          "state": {
            "_model_module": "@jupyter-widgets/controls",
            "_model_module_version": "1.5.0",
            "_model_name": "DescriptionStyleModel",
            "_view_count": null,
            "_view_module": "@jupyter-widgets/base",
            "_view_module_version": "1.2.0",
            "_view_name": "StyleView",
            "description_width": ""
          }
        },
        "5900e700feaf43a3aad9144aa2789e52": {
          "model_module": "@jupyter-widgets/controls",
          "model_name": "HBoxModel",
          "model_module_version": "1.5.0",
          "state": {
            "_dom_classes": [],
            "_model_module": "@jupyter-widgets/controls",
            "_model_module_version": "1.5.0",
            "_model_name": "HBoxModel",
            "_view_count": null,
            "_view_module": "@jupyter-widgets/controls",
            "_view_module_version": "1.5.0",
            "_view_name": "HBoxView",
            "box_style": "",
            "children": [
              "IPY_MODEL_236998e37e4e4b559e81b137d854ae33",
              "IPY_MODEL_31ad17ac3bed48a39f3b908cce25948c",
              "IPY_MODEL_a2a7a4e381cf4178b7310d5a44c52270"
            ],
            "layout": "IPY_MODEL_f135aa98b00b4aa1ab87ad2e99a2abc1"
          }
        },
        "236998e37e4e4b559e81b137d854ae33": {
          "model_module": "@jupyter-widgets/controls",
          "model_name": "HTMLModel",
          "model_module_version": "1.5.0",
          "state": {
            "_dom_classes": [],
            "_model_module": "@jupyter-widgets/controls",
            "_model_module_version": "1.5.0",
            "_model_name": "HTMLModel",
            "_view_count": null,
            "_view_module": "@jupyter-widgets/controls",
            "_view_module_version": "1.5.0",
            "_view_name": "HTMLView",
            "description": "",
            "description_tooltip": null,
            "layout": "IPY_MODEL_4ebc1cd18ff6433c990843a9a87522fa",
            "placeholder": "​",
            "style": "IPY_MODEL_c58c5091b8be4d70b0945ebd63cda4e0",
            "value": "Generating train split: 100%"
          }
        },
        "31ad17ac3bed48a39f3b908cce25948c": {
          "model_module": "@jupyter-widgets/controls",
          "model_name": "FloatProgressModel",
          "model_module_version": "1.5.0",
          "state": {
            "_dom_classes": [],
            "_model_module": "@jupyter-widgets/controls",
            "_model_module_version": "1.5.0",
            "_model_name": "FloatProgressModel",
            "_view_count": null,
            "_view_module": "@jupyter-widgets/controls",
            "_view_module_version": "1.5.0",
            "_view_name": "ProgressView",
            "bar_style": "success",
            "description": "",
            "description_tooltip": null,
            "layout": "IPY_MODEL_5a43c9ff1665480fa40b547e6f751a57",
            "max": 14041,
            "min": 0,
            "orientation": "horizontal",
            "style": "IPY_MODEL_0fba96bc035c47ddb3655436e673f28c",
            "value": 14041
          }
        },
        "a2a7a4e381cf4178b7310d5a44c52270": {
          "model_module": "@jupyter-widgets/controls",
          "model_name": "HTMLModel",
          "model_module_version": "1.5.0",
          "state": {
            "_dom_classes": [],
            "_model_module": "@jupyter-widgets/controls",
            "_model_module_version": "1.5.0",
            "_model_name": "HTMLModel",
            "_view_count": null,
            "_view_module": "@jupyter-widgets/controls",
            "_view_module_version": "1.5.0",
            "_view_name": "HTMLView",
            "description": "",
            "description_tooltip": null,
            "layout": "IPY_MODEL_2bc1b146c97444509e50df60ab74ede2",
            "placeholder": "​",
            "style": "IPY_MODEL_72fe549d304c4146bd801ea3b2bbd93e",
            "value": " 14041/14041 [00:08&lt;00:00, 2227.74 examples/s]"
          }
        },
        "f135aa98b00b4aa1ab87ad2e99a2abc1": {
          "model_module": "@jupyter-widgets/base",
          "model_name": "LayoutModel",
          "model_module_version": "1.2.0",
          "state": {
            "_model_module": "@jupyter-widgets/base",
            "_model_module_version": "1.2.0",
            "_model_name": "LayoutModel",
            "_view_count": null,
            "_view_module": "@jupyter-widgets/base",
            "_view_module_version": "1.2.0",
            "_view_name": "LayoutView",
            "align_content": null,
            "align_items": null,
            "align_self": null,
            "border": null,
            "bottom": null,
            "display": null,
            "flex": null,
            "flex_flow": null,
            "grid_area": null,
            "grid_auto_columns": null,
            "grid_auto_flow": null,
            "grid_auto_rows": null,
            "grid_column": null,
            "grid_gap": null,
            "grid_row": null,
            "grid_template_areas": null,
            "grid_template_columns": null,
            "grid_template_rows": null,
            "height": null,
            "justify_content": null,
            "justify_items": null,
            "left": null,
            "margin": null,
            "max_height": null,
            "max_width": null,
            "min_height": null,
            "min_width": null,
            "object_fit": null,
            "object_position": null,
            "order": null,
            "overflow": null,
            "overflow_x": null,
            "overflow_y": null,
            "padding": null,
            "right": null,
            "top": null,
            "visibility": null,
            "width": null
          }
        },
        "4ebc1cd18ff6433c990843a9a87522fa": {
          "model_module": "@jupyter-widgets/base",
          "model_name": "LayoutModel",
          "model_module_version": "1.2.0",
          "state": {
            "_model_module": "@jupyter-widgets/base",
            "_model_module_version": "1.2.0",
            "_model_name": "LayoutModel",
            "_view_count": null,
            "_view_module": "@jupyter-widgets/base",
            "_view_module_version": "1.2.0",
            "_view_name": "LayoutView",
            "align_content": null,
            "align_items": null,
            "align_self": null,
            "border": null,
            "bottom": null,
            "display": null,
            "flex": null,
            "flex_flow": null,
            "grid_area": null,
            "grid_auto_columns": null,
            "grid_auto_flow": null,
            "grid_auto_rows": null,
            "grid_column": null,
            "grid_gap": null,
            "grid_row": null,
            "grid_template_areas": null,
            "grid_template_columns": null,
            "grid_template_rows": null,
            "height": null,
            "justify_content": null,
            "justify_items": null,
            "left": null,
            "margin": null,
            "max_height": null,
            "max_width": null,
            "min_height": null,
            "min_width": null,
            "object_fit": null,
            "object_position": null,
            "order": null,
            "overflow": null,
            "overflow_x": null,
            "overflow_y": null,
            "padding": null,
            "right": null,
            "top": null,
            "visibility": null,
            "width": null
          }
        },
        "c58c5091b8be4d70b0945ebd63cda4e0": {
          "model_module": "@jupyter-widgets/controls",
          "model_name": "DescriptionStyleModel",
          "model_module_version": "1.5.0",
          "state": {
            "_model_module": "@jupyter-widgets/controls",
            "_model_module_version": "1.5.0",
            "_model_name": "DescriptionStyleModel",
            "_view_count": null,
            "_view_module": "@jupyter-widgets/base",
            "_view_module_version": "1.2.0",
            "_view_name": "StyleView",
            "description_width": ""
          }
        },
        "5a43c9ff1665480fa40b547e6f751a57": {
          "model_module": "@jupyter-widgets/base",
          "model_name": "LayoutModel",
          "model_module_version": "1.2.0",
          "state": {
            "_model_module": "@jupyter-widgets/base",
            "_model_module_version": "1.2.0",
            "_model_name": "LayoutModel",
            "_view_count": null,
            "_view_module": "@jupyter-widgets/base",
            "_view_module_version": "1.2.0",
            "_view_name": "LayoutView",
            "align_content": null,
            "align_items": null,
            "align_self": null,
            "border": null,
            "bottom": null,
            "display": null,
            "flex": null,
            "flex_flow": null,
            "grid_area": null,
            "grid_auto_columns": null,
            "grid_auto_flow": null,
            "grid_auto_rows": null,
            "grid_column": null,
            "grid_gap": null,
            "grid_row": null,
            "grid_template_areas": null,
            "grid_template_columns": null,
            "grid_template_rows": null,
            "height": null,
            "justify_content": null,
            "justify_items": null,
            "left": null,
            "margin": null,
            "max_height": null,
            "max_width": null,
            "min_height": null,
            "min_width": null,
            "object_fit": null,
            "object_position": null,
            "order": null,
            "overflow": null,
            "overflow_x": null,
            "overflow_y": null,
            "padding": null,
            "right": null,
            "top": null,
            "visibility": null,
            "width": null
          }
        },
        "0fba96bc035c47ddb3655436e673f28c": {
          "model_module": "@jupyter-widgets/controls",
          "model_name": "ProgressStyleModel",
          "model_module_version": "1.5.0",
          "state": {
            "_model_module": "@jupyter-widgets/controls",
            "_model_module_version": "1.5.0",
            "_model_name": "ProgressStyleModel",
            "_view_count": null,
            "_view_module": "@jupyter-widgets/base",
            "_view_module_version": "1.2.0",
            "_view_name": "StyleView",
            "bar_color": null,
            "description_width": ""
          }
        },
        "2bc1b146c97444509e50df60ab74ede2": {
          "model_module": "@jupyter-widgets/base",
          "model_name": "LayoutModel",
          "model_module_version": "1.2.0",
          "state": {
            "_model_module": "@jupyter-widgets/base",
            "_model_module_version": "1.2.0",
            "_model_name": "LayoutModel",
            "_view_count": null,
            "_view_module": "@jupyter-widgets/base",
            "_view_module_version": "1.2.0",
            "_view_name": "LayoutView",
            "align_content": null,
            "align_items": null,
            "align_self": null,
            "border": null,
            "bottom": null,
            "display": null,
            "flex": null,
            "flex_flow": null,
            "grid_area": null,
            "grid_auto_columns": null,
            "grid_auto_flow": null,
            "grid_auto_rows": null,
            "grid_column": null,
            "grid_gap": null,
            "grid_row": null,
            "grid_template_areas": null,
            "grid_template_columns": null,
            "grid_template_rows": null,
            "height": null,
            "justify_content": null,
            "justify_items": null,
            "left": null,
            "margin": null,
            "max_height": null,
            "max_width": null,
            "min_height": null,
            "min_width": null,
            "object_fit": null,
            "object_position": null,
            "order": null,
            "overflow": null,
            "overflow_x": null,
            "overflow_y": null,
            "padding": null,
            "right": null,
            "top": null,
            "visibility": null,
            "width": null
          }
        },
        "72fe549d304c4146bd801ea3b2bbd93e": {
          "model_module": "@jupyter-widgets/controls",
          "model_name": "DescriptionStyleModel",
          "model_module_version": "1.5.0",
          "state": {
            "_model_module": "@jupyter-widgets/controls",
            "_model_module_version": "1.5.0",
            "_model_name": "DescriptionStyleModel",
            "_view_count": null,
            "_view_module": "@jupyter-widgets/base",
            "_view_module_version": "1.2.0",
            "_view_name": "StyleView",
            "description_width": ""
          }
        },
        "43152580ae514a1ab516fea6494c0f6c": {
          "model_module": "@jupyter-widgets/controls",
          "model_name": "HBoxModel",
          "model_module_version": "1.5.0",
          "state": {
            "_dom_classes": [],
            "_model_module": "@jupyter-widgets/controls",
            "_model_module_version": "1.5.0",
            "_model_name": "HBoxModel",
            "_view_count": null,
            "_view_module": "@jupyter-widgets/controls",
            "_view_module_version": "1.5.0",
            "_view_name": "HBoxView",
            "box_style": "",
            "children": [
              "IPY_MODEL_1e007a66446247c08f8b98b48689b0a1",
              "IPY_MODEL_549134e358f6405d89c2f994cef25aed",
              "IPY_MODEL_5a871c7b080b48409232b3f2db29c84e"
            ],
            "layout": "IPY_MODEL_19b35c687a4d4218bedeac0ef0dd3d80"
          }
        },
        "1e007a66446247c08f8b98b48689b0a1": {
          "model_module": "@jupyter-widgets/controls",
          "model_name": "HTMLModel",
          "model_module_version": "1.5.0",
          "state": {
            "_dom_classes": [],
            "_model_module": "@jupyter-widgets/controls",
            "_model_module_version": "1.5.0",
            "_model_name": "HTMLModel",
            "_view_count": null,
            "_view_module": "@jupyter-widgets/controls",
            "_view_module_version": "1.5.0",
            "_view_name": "HTMLView",
            "description": "",
            "description_tooltip": null,
            "layout": "IPY_MODEL_e264494a0b374bfcb2ee856f64d3245c",
            "placeholder": "​",
            "style": "IPY_MODEL_26c00721e96248aba3970fb995b6631b",
            "value": "Generating validation split: 100%"
          }
        },
        "549134e358f6405d89c2f994cef25aed": {
          "model_module": "@jupyter-widgets/controls",
          "model_name": "FloatProgressModel",
          "model_module_version": "1.5.0",
          "state": {
            "_dom_classes": [],
            "_model_module": "@jupyter-widgets/controls",
            "_model_module_version": "1.5.0",
            "_model_name": "FloatProgressModel",
            "_view_count": null,
            "_view_module": "@jupyter-widgets/controls",
            "_view_module_version": "1.5.0",
            "_view_name": "ProgressView",
            "bar_style": "success",
            "description": "",
            "description_tooltip": null,
            "layout": "IPY_MODEL_14978045a7ce4190a154e981c865b6e4",
            "max": 3250,
            "min": 0,
            "orientation": "horizontal",
            "style": "IPY_MODEL_7168e3bc00cc4d83a9d623d116dbc788",
            "value": 3250
          }
        },
        "5a871c7b080b48409232b3f2db29c84e": {
          "model_module": "@jupyter-widgets/controls",
          "model_name": "HTMLModel",
          "model_module_version": "1.5.0",
          "state": {
            "_dom_classes": [],
            "_model_module": "@jupyter-widgets/controls",
            "_model_module_version": "1.5.0",
            "_model_name": "HTMLModel",
            "_view_count": null,
            "_view_module": "@jupyter-widgets/controls",
            "_view_module_version": "1.5.0",
            "_view_name": "HTMLView",
            "description": "",
            "description_tooltip": null,
            "layout": "IPY_MODEL_c112787843174a23a0265f47eb31c4fb",
            "placeholder": "​",
            "style": "IPY_MODEL_3903a87a4915442392703048c7d00ac6",
            "value": " 3250/3250 [00:01&lt;00:00, 1749.79 examples/s]"
          }
        },
        "19b35c687a4d4218bedeac0ef0dd3d80": {
          "model_module": "@jupyter-widgets/base",
          "model_name": "LayoutModel",
          "model_module_version": "1.2.0",
          "state": {
            "_model_module": "@jupyter-widgets/base",
            "_model_module_version": "1.2.0",
            "_model_name": "LayoutModel",
            "_view_count": null,
            "_view_module": "@jupyter-widgets/base",
            "_view_module_version": "1.2.0",
            "_view_name": "LayoutView",
            "align_content": null,
            "align_items": null,
            "align_self": null,
            "border": null,
            "bottom": null,
            "display": null,
            "flex": null,
            "flex_flow": null,
            "grid_area": null,
            "grid_auto_columns": null,
            "grid_auto_flow": null,
            "grid_auto_rows": null,
            "grid_column": null,
            "grid_gap": null,
            "grid_row": null,
            "grid_template_areas": null,
            "grid_template_columns": null,
            "grid_template_rows": null,
            "height": null,
            "justify_content": null,
            "justify_items": null,
            "left": null,
            "margin": null,
            "max_height": null,
            "max_width": null,
            "min_height": null,
            "min_width": null,
            "object_fit": null,
            "object_position": null,
            "order": null,
            "overflow": null,
            "overflow_x": null,
            "overflow_y": null,
            "padding": null,
            "right": null,
            "top": null,
            "visibility": null,
            "width": null
          }
        },
        "e264494a0b374bfcb2ee856f64d3245c": {
          "model_module": "@jupyter-widgets/base",
          "model_name": "LayoutModel",
          "model_module_version": "1.2.0",
          "state": {
            "_model_module": "@jupyter-widgets/base",
            "_model_module_version": "1.2.0",
            "_model_name": "LayoutModel",
            "_view_count": null,
            "_view_module": "@jupyter-widgets/base",
            "_view_module_version": "1.2.0",
            "_view_name": "LayoutView",
            "align_content": null,
            "align_items": null,
            "align_self": null,
            "border": null,
            "bottom": null,
            "display": null,
            "flex": null,
            "flex_flow": null,
            "grid_area": null,
            "grid_auto_columns": null,
            "grid_auto_flow": null,
            "grid_auto_rows": null,
            "grid_column": null,
            "grid_gap": null,
            "grid_row": null,
            "grid_template_areas": null,
            "grid_template_columns": null,
            "grid_template_rows": null,
            "height": null,
            "justify_content": null,
            "justify_items": null,
            "left": null,
            "margin": null,
            "max_height": null,
            "max_width": null,
            "min_height": null,
            "min_width": null,
            "object_fit": null,
            "object_position": null,
            "order": null,
            "overflow": null,
            "overflow_x": null,
            "overflow_y": null,
            "padding": null,
            "right": null,
            "top": null,
            "visibility": null,
            "width": null
          }
        },
        "26c00721e96248aba3970fb995b6631b": {
          "model_module": "@jupyter-widgets/controls",
          "model_name": "DescriptionStyleModel",
          "model_module_version": "1.5.0",
          "state": {
            "_model_module": "@jupyter-widgets/controls",
            "_model_module_version": "1.5.0",
            "_model_name": "DescriptionStyleModel",
            "_view_count": null,
            "_view_module": "@jupyter-widgets/base",
            "_view_module_version": "1.2.0",
            "_view_name": "StyleView",
            "description_width": ""
          }
        },
        "14978045a7ce4190a154e981c865b6e4": {
          "model_module": "@jupyter-widgets/base",
          "model_name": "LayoutModel",
          "model_module_version": "1.2.0",
          "state": {
            "_model_module": "@jupyter-widgets/base",
            "_model_module_version": "1.2.0",
            "_model_name": "LayoutModel",
            "_view_count": null,
            "_view_module": "@jupyter-widgets/base",
            "_view_module_version": "1.2.0",
            "_view_name": "LayoutView",
            "align_content": null,
            "align_items": null,
            "align_self": null,
            "border": null,
            "bottom": null,
            "display": null,
            "flex": null,
            "flex_flow": null,
            "grid_area": null,
            "grid_auto_columns": null,
            "grid_auto_flow": null,
            "grid_auto_rows": null,
            "grid_column": null,
            "grid_gap": null,
            "grid_row": null,
            "grid_template_areas": null,
            "grid_template_columns": null,
            "grid_template_rows": null,
            "height": null,
            "justify_content": null,
            "justify_items": null,
            "left": null,
            "margin": null,
            "max_height": null,
            "max_width": null,
            "min_height": null,
            "min_width": null,
            "object_fit": null,
            "object_position": null,
            "order": null,
            "overflow": null,
            "overflow_x": null,
            "overflow_y": null,
            "padding": null,
            "right": null,
            "top": null,
            "visibility": null,
            "width": null
          }
        },
        "7168e3bc00cc4d83a9d623d116dbc788": {
          "model_module": "@jupyter-widgets/controls",
          "model_name": "ProgressStyleModel",
          "model_module_version": "1.5.0",
          "state": {
            "_model_module": "@jupyter-widgets/controls",
            "_model_module_version": "1.5.0",
            "_model_name": "ProgressStyleModel",
            "_view_count": null,
            "_view_module": "@jupyter-widgets/base",
            "_view_module_version": "1.2.0",
            "_view_name": "StyleView",
            "bar_color": null,
            "description_width": ""
          }
        },
        "c112787843174a23a0265f47eb31c4fb": {
          "model_module": "@jupyter-widgets/base",
          "model_name": "LayoutModel",
          "model_module_version": "1.2.0",
          "state": {
            "_model_module": "@jupyter-widgets/base",
            "_model_module_version": "1.2.0",
            "_model_name": "LayoutModel",
            "_view_count": null,
            "_view_module": "@jupyter-widgets/base",
            "_view_module_version": "1.2.0",
            "_view_name": "LayoutView",
            "align_content": null,
            "align_items": null,
            "align_self": null,
            "border": null,
            "bottom": null,
            "display": null,
            "flex": null,
            "flex_flow": null,
            "grid_area": null,
            "grid_auto_columns": null,
            "grid_auto_flow": null,
            "grid_auto_rows": null,
            "grid_column": null,
            "grid_gap": null,
            "grid_row": null,
            "grid_template_areas": null,
            "grid_template_columns": null,
            "grid_template_rows": null,
            "height": null,
            "justify_content": null,
            "justify_items": null,
            "left": null,
            "margin": null,
            "max_height": null,
            "max_width": null,
            "min_height": null,
            "min_width": null,
            "object_fit": null,
            "object_position": null,
            "order": null,
            "overflow": null,
            "overflow_x": null,
            "overflow_y": null,
            "padding": null,
            "right": null,
            "top": null,
            "visibility": null,
            "width": null
          }
        },
        "3903a87a4915442392703048c7d00ac6": {
          "model_module": "@jupyter-widgets/controls",
          "model_name": "DescriptionStyleModel",
          "model_module_version": "1.5.0",
          "state": {
            "_model_module": "@jupyter-widgets/controls",
            "_model_module_version": "1.5.0",
            "_model_name": "DescriptionStyleModel",
            "_view_count": null,
            "_view_module": "@jupyter-widgets/base",
            "_view_module_version": "1.2.0",
            "_view_name": "StyleView",
            "description_width": ""
          }
        },
        "dad4e7d52dd146e28be6c985a61f90fc": {
          "model_module": "@jupyter-widgets/controls",
          "model_name": "HBoxModel",
          "model_module_version": "1.5.0",
          "state": {
            "_dom_classes": [],
            "_model_module": "@jupyter-widgets/controls",
            "_model_module_version": "1.5.0",
            "_model_name": "HBoxModel",
            "_view_count": null,
            "_view_module": "@jupyter-widgets/controls",
            "_view_module_version": "1.5.0",
            "_view_name": "HBoxView",
            "box_style": "",
            "children": [
              "IPY_MODEL_530d18adb8784254bdee8f183ee7bb23",
              "IPY_MODEL_4d9ed42f21a144509f5e1b8644f9f959",
              "IPY_MODEL_fc3c88002a704ab799eb0a2fcc14aaae"
            ],
            "layout": "IPY_MODEL_8baf4378c6e3477299416961922f67d1"
          }
        },
        "530d18adb8784254bdee8f183ee7bb23": {
          "model_module": "@jupyter-widgets/controls",
          "model_name": "HTMLModel",
          "model_module_version": "1.5.0",
          "state": {
            "_dom_classes": [],
            "_model_module": "@jupyter-widgets/controls",
            "_model_module_version": "1.5.0",
            "_model_name": "HTMLModel",
            "_view_count": null,
            "_view_module": "@jupyter-widgets/controls",
            "_view_module_version": "1.5.0",
            "_view_name": "HTMLView",
            "description": "",
            "description_tooltip": null,
            "layout": "IPY_MODEL_319cce88826b4ed1a6d541514a9b61cf",
            "placeholder": "​",
            "style": "IPY_MODEL_c6eaac2d6d3344679d72c3aa76db2738",
            "value": "Generating test split: 100%"
          }
        },
        "4d9ed42f21a144509f5e1b8644f9f959": {
          "model_module": "@jupyter-widgets/controls",
          "model_name": "FloatProgressModel",
          "model_module_version": "1.5.0",
          "state": {
            "_dom_classes": [],
            "_model_module": "@jupyter-widgets/controls",
            "_model_module_version": "1.5.0",
            "_model_name": "FloatProgressModel",
            "_view_count": null,
            "_view_module": "@jupyter-widgets/controls",
            "_view_module_version": "1.5.0",
            "_view_name": "ProgressView",
            "bar_style": "success",
            "description": "",
            "description_tooltip": null,
            "layout": "IPY_MODEL_c5d4ec224d8c47afb6146e45253aff41",
            "max": 3453,
            "min": 0,
            "orientation": "horizontal",
            "style": "IPY_MODEL_7ce05019fa7948048be12b0027cc5ece",
            "value": 3453
          }
        },
        "fc3c88002a704ab799eb0a2fcc14aaae": {
          "model_module": "@jupyter-widgets/controls",
          "model_name": "HTMLModel",
          "model_module_version": "1.5.0",
          "state": {
            "_dom_classes": [],
            "_model_module": "@jupyter-widgets/controls",
            "_model_module_version": "1.5.0",
            "_model_name": "HTMLModel",
            "_view_count": null,
            "_view_module": "@jupyter-widgets/controls",
            "_view_module_version": "1.5.0",
            "_view_name": "HTMLView",
            "description": "",
            "description_tooltip": null,
            "layout": "IPY_MODEL_c73dac6cfdcd48a1b4d45a0fc223b5e7",
            "placeholder": "​",
            "style": "IPY_MODEL_35970744703d4287971aa77193e2006f",
            "value": " 3453/3453 [00:01&lt;00:00, 1981.30 examples/s]"
          }
        },
        "8baf4378c6e3477299416961922f67d1": {
          "model_module": "@jupyter-widgets/base",
          "model_name": "LayoutModel",
          "model_module_version": "1.2.0",
          "state": {
            "_model_module": "@jupyter-widgets/base",
            "_model_module_version": "1.2.0",
            "_model_name": "LayoutModel",
            "_view_count": null,
            "_view_module": "@jupyter-widgets/base",
            "_view_module_version": "1.2.0",
            "_view_name": "LayoutView",
            "align_content": null,
            "align_items": null,
            "align_self": null,
            "border": null,
            "bottom": null,
            "display": null,
            "flex": null,
            "flex_flow": null,
            "grid_area": null,
            "grid_auto_columns": null,
            "grid_auto_flow": null,
            "grid_auto_rows": null,
            "grid_column": null,
            "grid_gap": null,
            "grid_row": null,
            "grid_template_areas": null,
            "grid_template_columns": null,
            "grid_template_rows": null,
            "height": null,
            "justify_content": null,
            "justify_items": null,
            "left": null,
            "margin": null,
            "max_height": null,
            "max_width": null,
            "min_height": null,
            "min_width": null,
            "object_fit": null,
            "object_position": null,
            "order": null,
            "overflow": null,
            "overflow_x": null,
            "overflow_y": null,
            "padding": null,
            "right": null,
            "top": null,
            "visibility": null,
            "width": null
          }
        },
        "319cce88826b4ed1a6d541514a9b61cf": {
          "model_module": "@jupyter-widgets/base",
          "model_name": "LayoutModel",
          "model_module_version": "1.2.0",
          "state": {
            "_model_module": "@jupyter-widgets/base",
            "_model_module_version": "1.2.0",
            "_model_name": "LayoutModel",
            "_view_count": null,
            "_view_module": "@jupyter-widgets/base",
            "_view_module_version": "1.2.0",
            "_view_name": "LayoutView",
            "align_content": null,
            "align_items": null,
            "align_self": null,
            "border": null,
            "bottom": null,
            "display": null,
            "flex": null,
            "flex_flow": null,
            "grid_area": null,
            "grid_auto_columns": null,
            "grid_auto_flow": null,
            "grid_auto_rows": null,
            "grid_column": null,
            "grid_gap": null,
            "grid_row": null,
            "grid_template_areas": null,
            "grid_template_columns": null,
            "grid_template_rows": null,
            "height": null,
            "justify_content": null,
            "justify_items": null,
            "left": null,
            "margin": null,
            "max_height": null,
            "max_width": null,
            "min_height": null,
            "min_width": null,
            "object_fit": null,
            "object_position": null,
            "order": null,
            "overflow": null,
            "overflow_x": null,
            "overflow_y": null,
            "padding": null,
            "right": null,
            "top": null,
            "visibility": null,
            "width": null
          }
        },
        "c6eaac2d6d3344679d72c3aa76db2738": {
          "model_module": "@jupyter-widgets/controls",
          "model_name": "DescriptionStyleModel",
          "model_module_version": "1.5.0",
          "state": {
            "_model_module": "@jupyter-widgets/controls",
            "_model_module_version": "1.5.0",
            "_model_name": "DescriptionStyleModel",
            "_view_count": null,
            "_view_module": "@jupyter-widgets/base",
            "_view_module_version": "1.2.0",
            "_view_name": "StyleView",
            "description_width": ""
          }
        },
        "c5d4ec224d8c47afb6146e45253aff41": {
          "model_module": "@jupyter-widgets/base",
          "model_name": "LayoutModel",
          "model_module_version": "1.2.0",
          "state": {
            "_model_module": "@jupyter-widgets/base",
            "_model_module_version": "1.2.0",
            "_model_name": "LayoutModel",
            "_view_count": null,
            "_view_module": "@jupyter-widgets/base",
            "_view_module_version": "1.2.0",
            "_view_name": "LayoutView",
            "align_content": null,
            "align_items": null,
            "align_self": null,
            "border": null,
            "bottom": null,
            "display": null,
            "flex": null,
            "flex_flow": null,
            "grid_area": null,
            "grid_auto_columns": null,
            "grid_auto_flow": null,
            "grid_auto_rows": null,
            "grid_column": null,
            "grid_gap": null,
            "grid_row": null,
            "grid_template_areas": null,
            "grid_template_columns": null,
            "grid_template_rows": null,
            "height": null,
            "justify_content": null,
            "justify_items": null,
            "left": null,
            "margin": null,
            "max_height": null,
            "max_width": null,
            "min_height": null,
            "min_width": null,
            "object_fit": null,
            "object_position": null,
            "order": null,
            "overflow": null,
            "overflow_x": null,
            "overflow_y": null,
            "padding": null,
            "right": null,
            "top": null,
            "visibility": null,
            "width": null
          }
        },
        "7ce05019fa7948048be12b0027cc5ece": {
          "model_module": "@jupyter-widgets/controls",
          "model_name": "ProgressStyleModel",
          "model_module_version": "1.5.0",
          "state": {
            "_model_module": "@jupyter-widgets/controls",
            "_model_module_version": "1.5.0",
            "_model_name": "ProgressStyleModel",
            "_view_count": null,
            "_view_module": "@jupyter-widgets/base",
            "_view_module_version": "1.2.0",
            "_view_name": "StyleView",
            "bar_color": null,
            "description_width": ""
          }
        },
        "c73dac6cfdcd48a1b4d45a0fc223b5e7": {
          "model_module": "@jupyter-widgets/base",
          "model_name": "LayoutModel",
          "model_module_version": "1.2.0",
          "state": {
            "_model_module": "@jupyter-widgets/base",
            "_model_module_version": "1.2.0",
            "_model_name": "LayoutModel",
            "_view_count": null,
            "_view_module": "@jupyter-widgets/base",
            "_view_module_version": "1.2.0",
            "_view_name": "LayoutView",
            "align_content": null,
            "align_items": null,
            "align_self": null,
            "border": null,
            "bottom": null,
            "display": null,
            "flex": null,
            "flex_flow": null,
            "grid_area": null,
            "grid_auto_columns": null,
            "grid_auto_flow": null,
            "grid_auto_rows": null,
            "grid_column": null,
            "grid_gap": null,
            "grid_row": null,
            "grid_template_areas": null,
            "grid_template_columns": null,
            "grid_template_rows": null,
            "height": null,
            "justify_content": null,
            "justify_items": null,
            "left": null,
            "margin": null,
            "max_height": null,
            "max_width": null,
            "min_height": null,
            "min_width": null,
            "object_fit": null,
            "object_position": null,
            "order": null,
            "overflow": null,
            "overflow_x": null,
            "overflow_y": null,
            "padding": null,
            "right": null,
            "top": null,
            "visibility": null,
            "width": null
          }
        },
        "35970744703d4287971aa77193e2006f": {
          "model_module": "@jupyter-widgets/controls",
          "model_name": "DescriptionStyleModel",
          "model_module_version": "1.5.0",
          "state": {
            "_model_module": "@jupyter-widgets/controls",
            "_model_module_version": "1.5.0",
            "_model_name": "DescriptionStyleModel",
            "_view_count": null,
            "_view_module": "@jupyter-widgets/base",
            "_view_module_version": "1.2.0",
            "_view_name": "StyleView",
            "description_width": ""
          }
        },
        "b795504887f945e59f400b937f716b8c": {
          "model_module": "@jupyter-widgets/controls",
          "model_name": "HBoxModel",
          "model_module_version": "1.5.0",
          "state": {
            "_dom_classes": [],
            "_model_module": "@jupyter-widgets/controls",
            "_model_module_version": "1.5.0",
            "_model_name": "HBoxModel",
            "_view_count": null,
            "_view_module": "@jupyter-widgets/controls",
            "_view_module_version": "1.5.0",
            "_view_name": "HBoxView",
            "box_style": "",
            "children": [
              "IPY_MODEL_fecbbbe8cb2f4a3fae78b70018c50b31",
              "IPY_MODEL_5c33a1d0c1f74208925b6ada60aeadc0",
              "IPY_MODEL_d0a470c01ed346c9943be84cd480fe4c"
            ],
            "layout": "IPY_MODEL_5f32404b4dc348efb087e7bfd1360c49"
          }
        },
        "fecbbbe8cb2f4a3fae78b70018c50b31": {
          "model_module": "@jupyter-widgets/controls",
          "model_name": "HTMLModel",
          "model_module_version": "1.5.0",
          "state": {
            "_dom_classes": [],
            "_model_module": "@jupyter-widgets/controls",
            "_model_module_version": "1.5.0",
            "_model_name": "HTMLModel",
            "_view_count": null,
            "_view_module": "@jupyter-widgets/controls",
            "_view_module_version": "1.5.0",
            "_view_name": "HTMLView",
            "description": "",
            "description_tooltip": null,
            "layout": "IPY_MODEL_df12456f15c342b2bcb95b45dba68b78",
            "placeholder": "​",
            "style": "IPY_MODEL_ef906390053349338cf84246a5fd3416",
            "value": "tokenizer_config.json: 100%"
          }
        },
        "5c33a1d0c1f74208925b6ada60aeadc0": {
          "model_module": "@jupyter-widgets/controls",
          "model_name": "FloatProgressModel",
          "model_module_version": "1.5.0",
          "state": {
            "_dom_classes": [],
            "_model_module": "@jupyter-widgets/controls",
            "_model_module_version": "1.5.0",
            "_model_name": "FloatProgressModel",
            "_view_count": null,
            "_view_module": "@jupyter-widgets/controls",
            "_view_module_version": "1.5.0",
            "_view_name": "ProgressView",
            "bar_style": "success",
            "description": "",
            "description_tooltip": null,
            "layout": "IPY_MODEL_1dba54fbd5094570acf3886dd8b8c6aa",
            "max": 49,
            "min": 0,
            "orientation": "horizontal",
            "style": "IPY_MODEL_d361aba60adb448e9b1aadd0d926a6c8",
            "value": 49
          }
        },
        "d0a470c01ed346c9943be84cd480fe4c": {
          "model_module": "@jupyter-widgets/controls",
          "model_name": "HTMLModel",
          "model_module_version": "1.5.0",
          "state": {
            "_dom_classes": [],
            "_model_module": "@jupyter-widgets/controls",
            "_model_module_version": "1.5.0",
            "_model_name": "HTMLModel",
            "_view_count": null,
            "_view_module": "@jupyter-widgets/controls",
            "_view_module_version": "1.5.0",
            "_view_name": "HTMLView",
            "description": "",
            "description_tooltip": null,
            "layout": "IPY_MODEL_479f428705074229ab579290d8d8bf8f",
            "placeholder": "​",
            "style": "IPY_MODEL_da184cca544c47c19befb1f38ac7eb2f",
            "value": " 49.0/49.0 [00:00&lt;00:00, 1.47kB/s]"
          }
        },
        "5f32404b4dc348efb087e7bfd1360c49": {
          "model_module": "@jupyter-widgets/base",
          "model_name": "LayoutModel",
          "model_module_version": "1.2.0",
          "state": {
            "_model_module": "@jupyter-widgets/base",
            "_model_module_version": "1.2.0",
            "_model_name": "LayoutModel",
            "_view_count": null,
            "_view_module": "@jupyter-widgets/base",
            "_view_module_version": "1.2.0",
            "_view_name": "LayoutView",
            "align_content": null,
            "align_items": null,
            "align_self": null,
            "border": null,
            "bottom": null,
            "display": null,
            "flex": null,
            "flex_flow": null,
            "grid_area": null,
            "grid_auto_columns": null,
            "grid_auto_flow": null,
            "grid_auto_rows": null,
            "grid_column": null,
            "grid_gap": null,
            "grid_row": null,
            "grid_template_areas": null,
            "grid_template_columns": null,
            "grid_template_rows": null,
            "height": null,
            "justify_content": null,
            "justify_items": null,
            "left": null,
            "margin": null,
            "max_height": null,
            "max_width": null,
            "min_height": null,
            "min_width": null,
            "object_fit": null,
            "object_position": null,
            "order": null,
            "overflow": null,
            "overflow_x": null,
            "overflow_y": null,
            "padding": null,
            "right": null,
            "top": null,
            "visibility": null,
            "width": null
          }
        },
        "df12456f15c342b2bcb95b45dba68b78": {
          "model_module": "@jupyter-widgets/base",
          "model_name": "LayoutModel",
          "model_module_version": "1.2.0",
          "state": {
            "_model_module": "@jupyter-widgets/base",
            "_model_module_version": "1.2.0",
            "_model_name": "LayoutModel",
            "_view_count": null,
            "_view_module": "@jupyter-widgets/base",
            "_view_module_version": "1.2.0",
            "_view_name": "LayoutView",
            "align_content": null,
            "align_items": null,
            "align_self": null,
            "border": null,
            "bottom": null,
            "display": null,
            "flex": null,
            "flex_flow": null,
            "grid_area": null,
            "grid_auto_columns": null,
            "grid_auto_flow": null,
            "grid_auto_rows": null,
            "grid_column": null,
            "grid_gap": null,
            "grid_row": null,
            "grid_template_areas": null,
            "grid_template_columns": null,
            "grid_template_rows": null,
            "height": null,
            "justify_content": null,
            "justify_items": null,
            "left": null,
            "margin": null,
            "max_height": null,
            "max_width": null,
            "min_height": null,
            "min_width": null,
            "object_fit": null,
            "object_position": null,
            "order": null,
            "overflow": null,
            "overflow_x": null,
            "overflow_y": null,
            "padding": null,
            "right": null,
            "top": null,
            "visibility": null,
            "width": null
          }
        },
        "ef906390053349338cf84246a5fd3416": {
          "model_module": "@jupyter-widgets/controls",
          "model_name": "DescriptionStyleModel",
          "model_module_version": "1.5.0",
          "state": {
            "_model_module": "@jupyter-widgets/controls",
            "_model_module_version": "1.5.0",
            "_model_name": "DescriptionStyleModel",
            "_view_count": null,
            "_view_module": "@jupyter-widgets/base",
            "_view_module_version": "1.2.0",
            "_view_name": "StyleView",
            "description_width": ""
          }
        },
        "1dba54fbd5094570acf3886dd8b8c6aa": {
          "model_module": "@jupyter-widgets/base",
          "model_name": "LayoutModel",
          "model_module_version": "1.2.0",
          "state": {
            "_model_module": "@jupyter-widgets/base",
            "_model_module_version": "1.2.0",
            "_model_name": "LayoutModel",
            "_view_count": null,
            "_view_module": "@jupyter-widgets/base",
            "_view_module_version": "1.2.0",
            "_view_name": "LayoutView",
            "align_content": null,
            "align_items": null,
            "align_self": null,
            "border": null,
            "bottom": null,
            "display": null,
            "flex": null,
            "flex_flow": null,
            "grid_area": null,
            "grid_auto_columns": null,
            "grid_auto_flow": null,
            "grid_auto_rows": null,
            "grid_column": null,
            "grid_gap": null,
            "grid_row": null,
            "grid_template_areas": null,
            "grid_template_columns": null,
            "grid_template_rows": null,
            "height": null,
            "justify_content": null,
            "justify_items": null,
            "left": null,
            "margin": null,
            "max_height": null,
            "max_width": null,
            "min_height": null,
            "min_width": null,
            "object_fit": null,
            "object_position": null,
            "order": null,
            "overflow": null,
            "overflow_x": null,
            "overflow_y": null,
            "padding": null,
            "right": null,
            "top": null,
            "visibility": null,
            "width": null
          }
        },
        "d361aba60adb448e9b1aadd0d926a6c8": {
          "model_module": "@jupyter-widgets/controls",
          "model_name": "ProgressStyleModel",
          "model_module_version": "1.5.0",
          "state": {
            "_model_module": "@jupyter-widgets/controls",
            "_model_module_version": "1.5.0",
            "_model_name": "ProgressStyleModel",
            "_view_count": null,
            "_view_module": "@jupyter-widgets/base",
            "_view_module_version": "1.2.0",
            "_view_name": "StyleView",
            "bar_color": null,
            "description_width": ""
          }
        },
        "479f428705074229ab579290d8d8bf8f": {
          "model_module": "@jupyter-widgets/base",
          "model_name": "LayoutModel",
          "model_module_version": "1.2.0",
          "state": {
            "_model_module": "@jupyter-widgets/base",
            "_model_module_version": "1.2.0",
            "_model_name": "LayoutModel",
            "_view_count": null,
            "_view_module": "@jupyter-widgets/base",
            "_view_module_version": "1.2.0",
            "_view_name": "LayoutView",
            "align_content": null,
            "align_items": null,
            "align_self": null,
            "border": null,
            "bottom": null,
            "display": null,
            "flex": null,
            "flex_flow": null,
            "grid_area": null,
            "grid_auto_columns": null,
            "grid_auto_flow": null,
            "grid_auto_rows": null,
            "grid_column": null,
            "grid_gap": null,
            "grid_row": null,
            "grid_template_areas": null,
            "grid_template_columns": null,
            "grid_template_rows": null,
            "height": null,
            "justify_content": null,
            "justify_items": null,
            "left": null,
            "margin": null,
            "max_height": null,
            "max_width": null,
            "min_height": null,
            "min_width": null,
            "object_fit": null,
            "object_position": null,
            "order": null,
            "overflow": null,
            "overflow_x": null,
            "overflow_y": null,
            "padding": null,
            "right": null,
            "top": null,
            "visibility": null,
            "width": null
          }
        },
        "da184cca544c47c19befb1f38ac7eb2f": {
          "model_module": "@jupyter-widgets/controls",
          "model_name": "DescriptionStyleModel",
          "model_module_version": "1.5.0",
          "state": {
            "_model_module": "@jupyter-widgets/controls",
            "_model_module_version": "1.5.0",
            "_model_name": "DescriptionStyleModel",
            "_view_count": null,
            "_view_module": "@jupyter-widgets/base",
            "_view_module_version": "1.2.0",
            "_view_name": "StyleView",
            "description_width": ""
          }
        },
        "a2b26c3f569a4e30b5409670b9b3f936": {
          "model_module": "@jupyter-widgets/controls",
          "model_name": "HBoxModel",
          "model_module_version": "1.5.0",
          "state": {
            "_dom_classes": [],
            "_model_module": "@jupyter-widgets/controls",
            "_model_module_version": "1.5.0",
            "_model_name": "HBoxModel",
            "_view_count": null,
            "_view_module": "@jupyter-widgets/controls",
            "_view_module_version": "1.5.0",
            "_view_name": "HBoxView",
            "box_style": "",
            "children": [
              "IPY_MODEL_c2b010ee83ec41dfa5cb165706946b8f",
              "IPY_MODEL_26a644623a8a4ecaa70663f748de5a9a",
              "IPY_MODEL_ca3f99bc14c84f79b09289ad5240ed9a"
            ],
            "layout": "IPY_MODEL_f1ed2bc1f46f45fab5a44116a80672e1"
          }
        },
        "c2b010ee83ec41dfa5cb165706946b8f": {
          "model_module": "@jupyter-widgets/controls",
          "model_name": "HTMLModel",
          "model_module_version": "1.5.0",
          "state": {
            "_dom_classes": [],
            "_model_module": "@jupyter-widgets/controls",
            "_model_module_version": "1.5.0",
            "_model_name": "HTMLModel",
            "_view_count": null,
            "_view_module": "@jupyter-widgets/controls",
            "_view_module_version": "1.5.0",
            "_view_name": "HTMLView",
            "description": "",
            "description_tooltip": null,
            "layout": "IPY_MODEL_82c88f8ee65f42139bf796e64165b621",
            "placeholder": "​",
            "style": "IPY_MODEL_9a24edd39e1a4e6bac9acc9c0f9c42dd",
            "value": "config.json: 100%"
          }
        },
        "26a644623a8a4ecaa70663f748de5a9a": {
          "model_module": "@jupyter-widgets/controls",
          "model_name": "FloatProgressModel",
          "model_module_version": "1.5.0",
          "state": {
            "_dom_classes": [],
            "_model_module": "@jupyter-widgets/controls",
            "_model_module_version": "1.5.0",
            "_model_name": "FloatProgressModel",
            "_view_count": null,
            "_view_module": "@jupyter-widgets/controls",
            "_view_module_version": "1.5.0",
            "_view_name": "ProgressView",
            "bar_style": "success",
            "description": "",
            "description_tooltip": null,
            "layout": "IPY_MODEL_7fbedf16e5cb41809bca41a199a11f5a",
            "max": 465,
            "min": 0,
            "orientation": "horizontal",
            "style": "IPY_MODEL_c12b403fe2e34817b71b3cbf1261c5ad",
            "value": 465
          }
        },
        "ca3f99bc14c84f79b09289ad5240ed9a": {
          "model_module": "@jupyter-widgets/controls",
          "model_name": "HTMLModel",
          "model_module_version": "1.5.0",
          "state": {
            "_dom_classes": [],
            "_model_module": "@jupyter-widgets/controls",
            "_model_module_version": "1.5.0",
            "_model_name": "HTMLModel",
            "_view_count": null,
            "_view_module": "@jupyter-widgets/controls",
            "_view_module_version": "1.5.0",
            "_view_name": "HTMLView",
            "description": "",
            "description_tooltip": null,
            "layout": "IPY_MODEL_662bea3beb6a43c7afb4210cd7b22342",
            "placeholder": "​",
            "style": "IPY_MODEL_4c5e363c818c462fad145e40d6610370",
            "value": " 465/465 [00:00&lt;00:00, 9.80kB/s]"
          }
        },
        "f1ed2bc1f46f45fab5a44116a80672e1": {
          "model_module": "@jupyter-widgets/base",
          "model_name": "LayoutModel",
          "model_module_version": "1.2.0",
          "state": {
            "_model_module": "@jupyter-widgets/base",
            "_model_module_version": "1.2.0",
            "_model_name": "LayoutModel",
            "_view_count": null,
            "_view_module": "@jupyter-widgets/base",
            "_view_module_version": "1.2.0",
            "_view_name": "LayoutView",
            "align_content": null,
            "align_items": null,
            "align_self": null,
            "border": null,
            "bottom": null,
            "display": null,
            "flex": null,
            "flex_flow": null,
            "grid_area": null,
            "grid_auto_columns": null,
            "grid_auto_flow": null,
            "grid_auto_rows": null,
            "grid_column": null,
            "grid_gap": null,
            "grid_row": null,
            "grid_template_areas": null,
            "grid_template_columns": null,
            "grid_template_rows": null,
            "height": null,
            "justify_content": null,
            "justify_items": null,
            "left": null,
            "margin": null,
            "max_height": null,
            "max_width": null,
            "min_height": null,
            "min_width": null,
            "object_fit": null,
            "object_position": null,
            "order": null,
            "overflow": null,
            "overflow_x": null,
            "overflow_y": null,
            "padding": null,
            "right": null,
            "top": null,
            "visibility": null,
            "width": null
          }
        },
        "82c88f8ee65f42139bf796e64165b621": {
          "model_module": "@jupyter-widgets/base",
          "model_name": "LayoutModel",
          "model_module_version": "1.2.0",
          "state": {
            "_model_module": "@jupyter-widgets/base",
            "_model_module_version": "1.2.0",
            "_model_name": "LayoutModel",
            "_view_count": null,
            "_view_module": "@jupyter-widgets/base",
            "_view_module_version": "1.2.0",
            "_view_name": "LayoutView",
            "align_content": null,
            "align_items": null,
            "align_self": null,
            "border": null,
            "bottom": null,
            "display": null,
            "flex": null,
            "flex_flow": null,
            "grid_area": null,
            "grid_auto_columns": null,
            "grid_auto_flow": null,
            "grid_auto_rows": null,
            "grid_column": null,
            "grid_gap": null,
            "grid_row": null,
            "grid_template_areas": null,
            "grid_template_columns": null,
            "grid_template_rows": null,
            "height": null,
            "justify_content": null,
            "justify_items": null,
            "left": null,
            "margin": null,
            "max_height": null,
            "max_width": null,
            "min_height": null,
            "min_width": null,
            "object_fit": null,
            "object_position": null,
            "order": null,
            "overflow": null,
            "overflow_x": null,
            "overflow_y": null,
            "padding": null,
            "right": null,
            "top": null,
            "visibility": null,
            "width": null
          }
        },
        "9a24edd39e1a4e6bac9acc9c0f9c42dd": {
          "model_module": "@jupyter-widgets/controls",
          "model_name": "DescriptionStyleModel",
          "model_module_version": "1.5.0",
          "state": {
            "_model_module": "@jupyter-widgets/controls",
            "_model_module_version": "1.5.0",
            "_model_name": "DescriptionStyleModel",
            "_view_count": null,
            "_view_module": "@jupyter-widgets/base",
            "_view_module_version": "1.2.0",
            "_view_name": "StyleView",
            "description_width": ""
          }
        },
        "7fbedf16e5cb41809bca41a199a11f5a": {
          "model_module": "@jupyter-widgets/base",
          "model_name": "LayoutModel",
          "model_module_version": "1.2.0",
          "state": {
            "_model_module": "@jupyter-widgets/base",
            "_model_module_version": "1.2.0",
            "_model_name": "LayoutModel",
            "_view_count": null,
            "_view_module": "@jupyter-widgets/base",
            "_view_module_version": "1.2.0",
            "_view_name": "LayoutView",
            "align_content": null,
            "align_items": null,
            "align_self": null,
            "border": null,
            "bottom": null,
            "display": null,
            "flex": null,
            "flex_flow": null,
            "grid_area": null,
            "grid_auto_columns": null,
            "grid_auto_flow": null,
            "grid_auto_rows": null,
            "grid_column": null,
            "grid_gap": null,
            "grid_row": null,
            "grid_template_areas": null,
            "grid_template_columns": null,
            "grid_template_rows": null,
            "height": null,
            "justify_content": null,
            "justify_items": null,
            "left": null,
            "margin": null,
            "max_height": null,
            "max_width": null,
            "min_height": null,
            "min_width": null,
            "object_fit": null,
            "object_position": null,
            "order": null,
            "overflow": null,
            "overflow_x": null,
            "overflow_y": null,
            "padding": null,
            "right": null,
            "top": null,
            "visibility": null,
            "width": null
          }
        },
        "c12b403fe2e34817b71b3cbf1261c5ad": {
          "model_module": "@jupyter-widgets/controls",
          "model_name": "ProgressStyleModel",
          "model_module_version": "1.5.0",
          "state": {
            "_model_module": "@jupyter-widgets/controls",
            "_model_module_version": "1.5.0",
            "_model_name": "ProgressStyleModel",
            "_view_count": null,
            "_view_module": "@jupyter-widgets/base",
            "_view_module_version": "1.2.0",
            "_view_name": "StyleView",
            "bar_color": null,
            "description_width": ""
          }
        },
        "662bea3beb6a43c7afb4210cd7b22342": {
          "model_module": "@jupyter-widgets/base",
          "model_name": "LayoutModel",
          "model_module_version": "1.2.0",
          "state": {
            "_model_module": "@jupyter-widgets/base",
            "_model_module_version": "1.2.0",
            "_model_name": "LayoutModel",
            "_view_count": null,
            "_view_module": "@jupyter-widgets/base",
            "_view_module_version": "1.2.0",
            "_view_name": "LayoutView",
            "align_content": null,
            "align_items": null,
            "align_self": null,
            "border": null,
            "bottom": null,
            "display": null,
            "flex": null,
            "flex_flow": null,
            "grid_area": null,
            "grid_auto_columns": null,
            "grid_auto_flow": null,
            "grid_auto_rows": null,
            "grid_column": null,
            "grid_gap": null,
            "grid_row": null,
            "grid_template_areas": null,
            "grid_template_columns": null,
            "grid_template_rows": null,
            "height": null,
            "justify_content": null,
            "justify_items": null,
            "left": null,
            "margin": null,
            "max_height": null,
            "max_width": null,
            "min_height": null,
            "min_width": null,
            "object_fit": null,
            "object_position": null,
            "order": null,
            "overflow": null,
            "overflow_x": null,
            "overflow_y": null,
            "padding": null,
            "right": null,
            "top": null,
            "visibility": null,
            "width": null
          }
        },
        "4c5e363c818c462fad145e40d6610370": {
          "model_module": "@jupyter-widgets/controls",
          "model_name": "DescriptionStyleModel",
          "model_module_version": "1.5.0",
          "state": {
            "_model_module": "@jupyter-widgets/controls",
            "_model_module_version": "1.5.0",
            "_model_name": "DescriptionStyleModel",
            "_view_count": null,
            "_view_module": "@jupyter-widgets/base",
            "_view_module_version": "1.2.0",
            "_view_name": "StyleView",
            "description_width": ""
          }
        },
        "a3bc705ed9654c3aadbc9a61966d3e00": {
          "model_module": "@jupyter-widgets/controls",
          "model_name": "HBoxModel",
          "model_module_version": "1.5.0",
          "state": {
            "_dom_classes": [],
            "_model_module": "@jupyter-widgets/controls",
            "_model_module_version": "1.5.0",
            "_model_name": "HBoxModel",
            "_view_count": null,
            "_view_module": "@jupyter-widgets/controls",
            "_view_module_version": "1.5.0",
            "_view_name": "HBoxView",
            "box_style": "",
            "children": [
              "IPY_MODEL_bf2e53c10d1f4ddab534d931b70df6eb",
              "IPY_MODEL_5b9cbd8cfa1c459fabd2d4a18a0935e7",
              "IPY_MODEL_bf098618881142cca5080e352ef48bd6"
            ],
            "layout": "IPY_MODEL_31503bea62084bfa8c1db7b6d452c039"
          }
        },
        "bf2e53c10d1f4ddab534d931b70df6eb": {
          "model_module": "@jupyter-widgets/controls",
          "model_name": "HTMLModel",
          "model_module_version": "1.5.0",
          "state": {
            "_dom_classes": [],
            "_model_module": "@jupyter-widgets/controls",
            "_model_module_version": "1.5.0",
            "_model_name": "HTMLModel",
            "_view_count": null,
            "_view_module": "@jupyter-widgets/controls",
            "_view_module_version": "1.5.0",
            "_view_name": "HTMLView",
            "description": "",
            "description_tooltip": null,
            "layout": "IPY_MODEL_55cd76d594384319b762aaea45dc832d",
            "placeholder": "​",
            "style": "IPY_MODEL_c4114953f7d14deb896c0292ca87e3bd",
            "value": "vocab.txt: 100%"
          }
        },
        "5b9cbd8cfa1c459fabd2d4a18a0935e7": {
          "model_module": "@jupyter-widgets/controls",
          "model_name": "FloatProgressModel",
          "model_module_version": "1.5.0",
          "state": {
            "_dom_classes": [],
            "_model_module": "@jupyter-widgets/controls",
            "_model_module_version": "1.5.0",
            "_model_name": "FloatProgressModel",
            "_view_count": null,
            "_view_module": "@jupyter-widgets/controls",
            "_view_module_version": "1.5.0",
            "_view_name": "ProgressView",
            "bar_style": "success",
            "description": "",
            "description_tooltip": null,
            "layout": "IPY_MODEL_178602d3cce44cc3b863c103e1f3fb6d",
            "max": 213450,
            "min": 0,
            "orientation": "horizontal",
            "style": "IPY_MODEL_f9dc5ffb598b4587b6b4f00998a2f67b",
            "value": 213450
          }
        },
        "bf098618881142cca5080e352ef48bd6": {
          "model_module": "@jupyter-widgets/controls",
          "model_name": "HTMLModel",
          "model_module_version": "1.5.0",
          "state": {
            "_dom_classes": [],
            "_model_module": "@jupyter-widgets/controls",
            "_model_module_version": "1.5.0",
            "_model_name": "HTMLModel",
            "_view_count": null,
            "_view_module": "@jupyter-widgets/controls",
            "_view_module_version": "1.5.0",
            "_view_name": "HTMLView",
            "description": "",
            "description_tooltip": null,
            "layout": "IPY_MODEL_149242274290445ca8b69c1ddcf60075",
            "placeholder": "​",
            "style": "IPY_MODEL_f2ef6641c5c442d8b7ae8e3b9955b71b",
            "value": " 213k/213k [00:00&lt;00:00, 1.33MB/s]"
          }
        },
        "31503bea62084bfa8c1db7b6d452c039": {
          "model_module": "@jupyter-widgets/base",
          "model_name": "LayoutModel",
          "model_module_version": "1.2.0",
          "state": {
            "_model_module": "@jupyter-widgets/base",
            "_model_module_version": "1.2.0",
            "_model_name": "LayoutModel",
            "_view_count": null,
            "_view_module": "@jupyter-widgets/base",
            "_view_module_version": "1.2.0",
            "_view_name": "LayoutView",
            "align_content": null,
            "align_items": null,
            "align_self": null,
            "border": null,
            "bottom": null,
            "display": null,
            "flex": null,
            "flex_flow": null,
            "grid_area": null,
            "grid_auto_columns": null,
            "grid_auto_flow": null,
            "grid_auto_rows": null,
            "grid_column": null,
            "grid_gap": null,
            "grid_row": null,
            "grid_template_areas": null,
            "grid_template_columns": null,
            "grid_template_rows": null,
            "height": null,
            "justify_content": null,
            "justify_items": null,
            "left": null,
            "margin": null,
            "max_height": null,
            "max_width": null,
            "min_height": null,
            "min_width": null,
            "object_fit": null,
            "object_position": null,
            "order": null,
            "overflow": null,
            "overflow_x": null,
            "overflow_y": null,
            "padding": null,
            "right": null,
            "top": null,
            "visibility": null,
            "width": null
          }
        },
        "55cd76d594384319b762aaea45dc832d": {
          "model_module": "@jupyter-widgets/base",
          "model_name": "LayoutModel",
          "model_module_version": "1.2.0",
          "state": {
            "_model_module": "@jupyter-widgets/base",
            "_model_module_version": "1.2.0",
            "_model_name": "LayoutModel",
            "_view_count": null,
            "_view_module": "@jupyter-widgets/base",
            "_view_module_version": "1.2.0",
            "_view_name": "LayoutView",
            "align_content": null,
            "align_items": null,
            "align_self": null,
            "border": null,
            "bottom": null,
            "display": null,
            "flex": null,
            "flex_flow": null,
            "grid_area": null,
            "grid_auto_columns": null,
            "grid_auto_flow": null,
            "grid_auto_rows": null,
            "grid_column": null,
            "grid_gap": null,
            "grid_row": null,
            "grid_template_areas": null,
            "grid_template_columns": null,
            "grid_template_rows": null,
            "height": null,
            "justify_content": null,
            "justify_items": null,
            "left": null,
            "margin": null,
            "max_height": null,
            "max_width": null,
            "min_height": null,
            "min_width": null,
            "object_fit": null,
            "object_position": null,
            "order": null,
            "overflow": null,
            "overflow_x": null,
            "overflow_y": null,
            "padding": null,
            "right": null,
            "top": null,
            "visibility": null,
            "width": null
          }
        },
        "c4114953f7d14deb896c0292ca87e3bd": {
          "model_module": "@jupyter-widgets/controls",
          "model_name": "DescriptionStyleModel",
          "model_module_version": "1.5.0",
          "state": {
            "_model_module": "@jupyter-widgets/controls",
            "_model_module_version": "1.5.0",
            "_model_name": "DescriptionStyleModel",
            "_view_count": null,
            "_view_module": "@jupyter-widgets/base",
            "_view_module_version": "1.2.0",
            "_view_name": "StyleView",
            "description_width": ""
          }
        },
        "178602d3cce44cc3b863c103e1f3fb6d": {
          "model_module": "@jupyter-widgets/base",
          "model_name": "LayoutModel",
          "model_module_version": "1.2.0",
          "state": {
            "_model_module": "@jupyter-widgets/base",
            "_model_module_version": "1.2.0",
            "_model_name": "LayoutModel",
            "_view_count": null,
            "_view_module": "@jupyter-widgets/base",
            "_view_module_version": "1.2.0",
            "_view_name": "LayoutView",
            "align_content": null,
            "align_items": null,
            "align_self": null,
            "border": null,
            "bottom": null,
            "display": null,
            "flex": null,
            "flex_flow": null,
            "grid_area": null,
            "grid_auto_columns": null,
            "grid_auto_flow": null,
            "grid_auto_rows": null,
            "grid_column": null,
            "grid_gap": null,
            "grid_row": null,
            "grid_template_areas": null,
            "grid_template_columns": null,
            "grid_template_rows": null,
            "height": null,
            "justify_content": null,
            "justify_items": null,
            "left": null,
            "margin": null,
            "max_height": null,
            "max_width": null,
            "min_height": null,
            "min_width": null,
            "object_fit": null,
            "object_position": null,
            "order": null,
            "overflow": null,
            "overflow_x": null,
            "overflow_y": null,
            "padding": null,
            "right": null,
            "top": null,
            "visibility": null,
            "width": null
          }
        },
        "f9dc5ffb598b4587b6b4f00998a2f67b": {
          "model_module": "@jupyter-widgets/controls",
          "model_name": "ProgressStyleModel",
          "model_module_version": "1.5.0",
          "state": {
            "_model_module": "@jupyter-widgets/controls",
            "_model_module_version": "1.5.0",
            "_model_name": "ProgressStyleModel",
            "_view_count": null,
            "_view_module": "@jupyter-widgets/base",
            "_view_module_version": "1.2.0",
            "_view_name": "StyleView",
            "bar_color": null,
            "description_width": ""
          }
        },
        "149242274290445ca8b69c1ddcf60075": {
          "model_module": "@jupyter-widgets/base",
          "model_name": "LayoutModel",
          "model_module_version": "1.2.0",
          "state": {
            "_model_module": "@jupyter-widgets/base",
            "_model_module_version": "1.2.0",
            "_model_name": "LayoutModel",
            "_view_count": null,
            "_view_module": "@jupyter-widgets/base",
            "_view_module_version": "1.2.0",
            "_view_name": "LayoutView",
            "align_content": null,
            "align_items": null,
            "align_self": null,
            "border": null,
            "bottom": null,
            "display": null,
            "flex": null,
            "flex_flow": null,
            "grid_area": null,
            "grid_auto_columns": null,
            "grid_auto_flow": null,
            "grid_auto_rows": null,
            "grid_column": null,
            "grid_gap": null,
            "grid_row": null,
            "grid_template_areas": null,
            "grid_template_columns": null,
            "grid_template_rows": null,
            "height": null,
            "justify_content": null,
            "justify_items": null,
            "left": null,
            "margin": null,
            "max_height": null,
            "max_width": null,
            "min_height": null,
            "min_width": null,
            "object_fit": null,
            "object_position": null,
            "order": null,
            "overflow": null,
            "overflow_x": null,
            "overflow_y": null,
            "padding": null,
            "right": null,
            "top": null,
            "visibility": null,
            "width": null
          }
        },
        "f2ef6641c5c442d8b7ae8e3b9955b71b": {
          "model_module": "@jupyter-widgets/controls",
          "model_name": "DescriptionStyleModel",
          "model_module_version": "1.5.0",
          "state": {
            "_model_module": "@jupyter-widgets/controls",
            "_model_module_version": "1.5.0",
            "_model_name": "DescriptionStyleModel",
            "_view_count": null,
            "_view_module": "@jupyter-widgets/base",
            "_view_module_version": "1.2.0",
            "_view_name": "StyleView",
            "description_width": ""
          }
        },
        "2a57bad47bc64ac3ab5ab6b3359a3403": {
          "model_module": "@jupyter-widgets/controls",
          "model_name": "HBoxModel",
          "model_module_version": "1.5.0",
          "state": {
            "_dom_classes": [],
            "_model_module": "@jupyter-widgets/controls",
            "_model_module_version": "1.5.0",
            "_model_name": "HBoxModel",
            "_view_count": null,
            "_view_module": "@jupyter-widgets/controls",
            "_view_module_version": "1.5.0",
            "_view_name": "HBoxView",
            "box_style": "",
            "children": [
              "IPY_MODEL_8bc558cf8c514cf093e9aaa78f8f999d",
              "IPY_MODEL_34bedee25c544d63956a5bd2e5d533fc",
              "IPY_MODEL_eb744cd92ffb49ed9b88ff994d962336"
            ],
            "layout": "IPY_MODEL_ae49ecce06794218a7a416b5643c61ee"
          }
        },
        "8bc558cf8c514cf093e9aaa78f8f999d": {
          "model_module": "@jupyter-widgets/controls",
          "model_name": "HTMLModel",
          "model_module_version": "1.5.0",
          "state": {
            "_dom_classes": [],
            "_model_module": "@jupyter-widgets/controls",
            "_model_module_version": "1.5.0",
            "_model_name": "HTMLModel",
            "_view_count": null,
            "_view_module": "@jupyter-widgets/controls",
            "_view_module_version": "1.5.0",
            "_view_name": "HTMLView",
            "description": "",
            "description_tooltip": null,
            "layout": "IPY_MODEL_ad6849bf9a2c45f6aad7c91b990850ed",
            "placeholder": "​",
            "style": "IPY_MODEL_f6ec51a561c4466997172eadf1596bd3",
            "value": "tokenizer.json: 100%"
          }
        },
        "34bedee25c544d63956a5bd2e5d533fc": {
          "model_module": "@jupyter-widgets/controls",
          "model_name": "FloatProgressModel",
          "model_module_version": "1.5.0",
          "state": {
            "_dom_classes": [],
            "_model_module": "@jupyter-widgets/controls",
            "_model_module_version": "1.5.0",
            "_model_name": "FloatProgressModel",
            "_view_count": null,
            "_view_module": "@jupyter-widgets/controls",
            "_view_module_version": "1.5.0",
            "_view_name": "ProgressView",
            "bar_style": "success",
            "description": "",
            "description_tooltip": null,
            "layout": "IPY_MODEL_e6d7537a85c945588d0afae0ce5d6c50",
            "max": 435797,
            "min": 0,
            "orientation": "horizontal",
            "style": "IPY_MODEL_f16e1e19bdf74927a52ac96f5cf861e9",
            "value": 435797
          }
        },
        "eb744cd92ffb49ed9b88ff994d962336": {
          "model_module": "@jupyter-widgets/controls",
          "model_name": "HTMLModel",
          "model_module_version": "1.5.0",
          "state": {
            "_dom_classes": [],
            "_model_module": "@jupyter-widgets/controls",
            "_model_module_version": "1.5.0",
            "_model_name": "HTMLModel",
            "_view_count": null,
            "_view_module": "@jupyter-widgets/controls",
            "_view_module_version": "1.5.0",
            "_view_name": "HTMLView",
            "description": "",
            "description_tooltip": null,
            "layout": "IPY_MODEL_6f2649520cdc4d518e11c2dc89c50656",
            "placeholder": "​",
            "style": "IPY_MODEL_6b646eb82ea2400386458c3a24766597",
            "value": " 436k/436k [00:00&lt;00:00, 1.81MB/s]"
          }
        },
        "ae49ecce06794218a7a416b5643c61ee": {
          "model_module": "@jupyter-widgets/base",
          "model_name": "LayoutModel",
          "model_module_version": "1.2.0",
          "state": {
            "_model_module": "@jupyter-widgets/base",
            "_model_module_version": "1.2.0",
            "_model_name": "LayoutModel",
            "_view_count": null,
            "_view_module": "@jupyter-widgets/base",
            "_view_module_version": "1.2.0",
            "_view_name": "LayoutView",
            "align_content": null,
            "align_items": null,
            "align_self": null,
            "border": null,
            "bottom": null,
            "display": null,
            "flex": null,
            "flex_flow": null,
            "grid_area": null,
            "grid_auto_columns": null,
            "grid_auto_flow": null,
            "grid_auto_rows": null,
            "grid_column": null,
            "grid_gap": null,
            "grid_row": null,
            "grid_template_areas": null,
            "grid_template_columns": null,
            "grid_template_rows": null,
            "height": null,
            "justify_content": null,
            "justify_items": null,
            "left": null,
            "margin": null,
            "max_height": null,
            "max_width": null,
            "min_height": null,
            "min_width": null,
            "object_fit": null,
            "object_position": null,
            "order": null,
            "overflow": null,
            "overflow_x": null,
            "overflow_y": null,
            "padding": null,
            "right": null,
            "top": null,
            "visibility": null,
            "width": null
          }
        },
        "ad6849bf9a2c45f6aad7c91b990850ed": {
          "model_module": "@jupyter-widgets/base",
          "model_name": "LayoutModel",
          "model_module_version": "1.2.0",
          "state": {
            "_model_module": "@jupyter-widgets/base",
            "_model_module_version": "1.2.0",
            "_model_name": "LayoutModel",
            "_view_count": null,
            "_view_module": "@jupyter-widgets/base",
            "_view_module_version": "1.2.0",
            "_view_name": "LayoutView",
            "align_content": null,
            "align_items": null,
            "align_self": null,
            "border": null,
            "bottom": null,
            "display": null,
            "flex": null,
            "flex_flow": null,
            "grid_area": null,
            "grid_auto_columns": null,
            "grid_auto_flow": null,
            "grid_auto_rows": null,
            "grid_column": null,
            "grid_gap": null,
            "grid_row": null,
            "grid_template_areas": null,
            "grid_template_columns": null,
            "grid_template_rows": null,
            "height": null,
            "justify_content": null,
            "justify_items": null,
            "left": null,
            "margin": null,
            "max_height": null,
            "max_width": null,
            "min_height": null,
            "min_width": null,
            "object_fit": null,
            "object_position": null,
            "order": null,
            "overflow": null,
            "overflow_x": null,
            "overflow_y": null,
            "padding": null,
            "right": null,
            "top": null,
            "visibility": null,
            "width": null
          }
        },
        "f6ec51a561c4466997172eadf1596bd3": {
          "model_module": "@jupyter-widgets/controls",
          "model_name": "DescriptionStyleModel",
          "model_module_version": "1.5.0",
          "state": {
            "_model_module": "@jupyter-widgets/controls",
            "_model_module_version": "1.5.0",
            "_model_name": "DescriptionStyleModel",
            "_view_count": null,
            "_view_module": "@jupyter-widgets/base",
            "_view_module_version": "1.2.0",
            "_view_name": "StyleView",
            "description_width": ""
          }
        },
        "e6d7537a85c945588d0afae0ce5d6c50": {
          "model_module": "@jupyter-widgets/base",
          "model_name": "LayoutModel",
          "model_module_version": "1.2.0",
          "state": {
            "_model_module": "@jupyter-widgets/base",
            "_model_module_version": "1.2.0",
            "_model_name": "LayoutModel",
            "_view_count": null,
            "_view_module": "@jupyter-widgets/base",
            "_view_module_version": "1.2.0",
            "_view_name": "LayoutView",
            "align_content": null,
            "align_items": null,
            "align_self": null,
            "border": null,
            "bottom": null,
            "display": null,
            "flex": null,
            "flex_flow": null,
            "grid_area": null,
            "grid_auto_columns": null,
            "grid_auto_flow": null,
            "grid_auto_rows": null,
            "grid_column": null,
            "grid_gap": null,
            "grid_row": null,
            "grid_template_areas": null,
            "grid_template_columns": null,
            "grid_template_rows": null,
            "height": null,
            "justify_content": null,
            "justify_items": null,
            "left": null,
            "margin": null,
            "max_height": null,
            "max_width": null,
            "min_height": null,
            "min_width": null,
            "object_fit": null,
            "object_position": null,
            "order": null,
            "overflow": null,
            "overflow_x": null,
            "overflow_y": null,
            "padding": null,
            "right": null,
            "top": null,
            "visibility": null,
            "width": null
          }
        },
        "f16e1e19bdf74927a52ac96f5cf861e9": {
          "model_module": "@jupyter-widgets/controls",
          "model_name": "ProgressStyleModel",
          "model_module_version": "1.5.0",
          "state": {
            "_model_module": "@jupyter-widgets/controls",
            "_model_module_version": "1.5.0",
            "_model_name": "ProgressStyleModel",
            "_view_count": null,
            "_view_module": "@jupyter-widgets/base",
            "_view_module_version": "1.2.0",
            "_view_name": "StyleView",
            "bar_color": null,
            "description_width": ""
          }
        },
        "6f2649520cdc4d518e11c2dc89c50656": {
          "model_module": "@jupyter-widgets/base",
          "model_name": "LayoutModel",
          "model_module_version": "1.2.0",
          "state": {
            "_model_module": "@jupyter-widgets/base",
            "_model_module_version": "1.2.0",
            "_model_name": "LayoutModel",
            "_view_count": null,
            "_view_module": "@jupyter-widgets/base",
            "_view_module_version": "1.2.0",
            "_view_name": "LayoutView",
            "align_content": null,
            "align_items": null,
            "align_self": null,
            "border": null,
            "bottom": null,
            "display": null,
            "flex": null,
            "flex_flow": null,
            "grid_area": null,
            "grid_auto_columns": null,
            "grid_auto_flow": null,
            "grid_auto_rows": null,
            "grid_column": null,
            "grid_gap": null,
            "grid_row": null,
            "grid_template_areas": null,
            "grid_template_columns": null,
            "grid_template_rows": null,
            "height": null,
            "justify_content": null,
            "justify_items": null,
            "left": null,
            "margin": null,
            "max_height": null,
            "max_width": null,
            "min_height": null,
            "min_width": null,
            "object_fit": null,
            "object_position": null,
            "order": null,
            "overflow": null,
            "overflow_x": null,
            "overflow_y": null,
            "padding": null,
            "right": null,
            "top": null,
            "visibility": null,
            "width": null
          }
        },
        "6b646eb82ea2400386458c3a24766597": {
          "model_module": "@jupyter-widgets/controls",
          "model_name": "DescriptionStyleModel",
          "model_module_version": "1.5.0",
          "state": {
            "_model_module": "@jupyter-widgets/controls",
            "_model_module_version": "1.5.0",
            "_model_name": "DescriptionStyleModel",
            "_view_count": null,
            "_view_module": "@jupyter-widgets/base",
            "_view_module_version": "1.2.0",
            "_view_name": "StyleView",
            "description_width": ""
          }
        },
        "e3b67ab98eba444da1ce7ea9389c732e": {
          "model_module": "@jupyter-widgets/controls",
          "model_name": "HBoxModel",
          "model_module_version": "1.5.0",
          "state": {
            "_dom_classes": [],
            "_model_module": "@jupyter-widgets/controls",
            "_model_module_version": "1.5.0",
            "_model_name": "HBoxModel",
            "_view_count": null,
            "_view_module": "@jupyter-widgets/controls",
            "_view_module_version": "1.5.0",
            "_view_name": "HBoxView",
            "box_style": "",
            "children": [
              "IPY_MODEL_293dbdc088bd461c9185266bcdddca65",
              "IPY_MODEL_551f6aaa9b0e45698ac17ac721855bed",
              "IPY_MODEL_ded4cd393588466e982edb3695c86a93"
            ],
            "layout": "IPY_MODEL_1d64011924784c5ab72d97298058a0f6"
          }
        },
        "293dbdc088bd461c9185266bcdddca65": {
          "model_module": "@jupyter-widgets/controls",
          "model_name": "HTMLModel",
          "model_module_version": "1.5.0",
          "state": {
            "_dom_classes": [],
            "_model_module": "@jupyter-widgets/controls",
            "_model_module_version": "1.5.0",
            "_model_name": "HTMLModel",
            "_view_count": null,
            "_view_module": "@jupyter-widgets/controls",
            "_view_module_version": "1.5.0",
            "_view_name": "HTMLView",
            "description": "",
            "description_tooltip": null,
            "layout": "IPY_MODEL_823571b19d64424497aac6314eea4a1d",
            "placeholder": "​",
            "style": "IPY_MODEL_fcb6e4b8e95a41e8b09acce0785da93e",
            "value": "Map: 100%"
          }
        },
        "551f6aaa9b0e45698ac17ac721855bed": {
          "model_module": "@jupyter-widgets/controls",
          "model_name": "FloatProgressModel",
          "model_module_version": "1.5.0",
          "state": {
            "_dom_classes": [],
            "_model_module": "@jupyter-widgets/controls",
            "_model_module_version": "1.5.0",
            "_model_name": "FloatProgressModel",
            "_view_count": null,
            "_view_module": "@jupyter-widgets/controls",
            "_view_module_version": "1.5.0",
            "_view_name": "ProgressView",
            "bar_style": "success",
            "description": "",
            "description_tooltip": null,
            "layout": "IPY_MODEL_93bd2c5e986d453c8369ed7611ba080b",
            "max": 14041,
            "min": 0,
            "orientation": "horizontal",
            "style": "IPY_MODEL_cf3bfd853e4d42e6b171c1a4ccf07640",
            "value": 14041
          }
        },
        "ded4cd393588466e982edb3695c86a93": {
          "model_module": "@jupyter-widgets/controls",
          "model_name": "HTMLModel",
          "model_module_version": "1.5.0",
          "state": {
            "_dom_classes": [],
            "_model_module": "@jupyter-widgets/controls",
            "_model_module_version": "1.5.0",
            "_model_name": "HTMLModel",
            "_view_count": null,
            "_view_module": "@jupyter-widgets/controls",
            "_view_module_version": "1.5.0",
            "_view_name": "HTMLView",
            "description": "",
            "description_tooltip": null,
            "layout": "IPY_MODEL_2fe672ebd0ce426d815922c82ee192ca",
            "placeholder": "​",
            "style": "IPY_MODEL_45065e9f4e5646f4b14d9da0bdc28182",
            "value": " 14041/14041 [00:05&lt;00:00, 2560.85 examples/s]"
          }
        },
        "1d64011924784c5ab72d97298058a0f6": {
          "model_module": "@jupyter-widgets/base",
          "model_name": "LayoutModel",
          "model_module_version": "1.2.0",
          "state": {
            "_model_module": "@jupyter-widgets/base",
            "_model_module_version": "1.2.0",
            "_model_name": "LayoutModel",
            "_view_count": null,
            "_view_module": "@jupyter-widgets/base",
            "_view_module_version": "1.2.0",
            "_view_name": "LayoutView",
            "align_content": null,
            "align_items": null,
            "align_self": null,
            "border": null,
            "bottom": null,
            "display": null,
            "flex": null,
            "flex_flow": null,
            "grid_area": null,
            "grid_auto_columns": null,
            "grid_auto_flow": null,
            "grid_auto_rows": null,
            "grid_column": null,
            "grid_gap": null,
            "grid_row": null,
            "grid_template_areas": null,
            "grid_template_columns": null,
            "grid_template_rows": null,
            "height": null,
            "justify_content": null,
            "justify_items": null,
            "left": null,
            "margin": null,
            "max_height": null,
            "max_width": null,
            "min_height": null,
            "min_width": null,
            "object_fit": null,
            "object_position": null,
            "order": null,
            "overflow": null,
            "overflow_x": null,
            "overflow_y": null,
            "padding": null,
            "right": null,
            "top": null,
            "visibility": null,
            "width": null
          }
        },
        "823571b19d64424497aac6314eea4a1d": {
          "model_module": "@jupyter-widgets/base",
          "model_name": "LayoutModel",
          "model_module_version": "1.2.0",
          "state": {
            "_model_module": "@jupyter-widgets/base",
            "_model_module_version": "1.2.0",
            "_model_name": "LayoutModel",
            "_view_count": null,
            "_view_module": "@jupyter-widgets/base",
            "_view_module_version": "1.2.0",
            "_view_name": "LayoutView",
            "align_content": null,
            "align_items": null,
            "align_self": null,
            "border": null,
            "bottom": null,
            "display": null,
            "flex": null,
            "flex_flow": null,
            "grid_area": null,
            "grid_auto_columns": null,
            "grid_auto_flow": null,
            "grid_auto_rows": null,
            "grid_column": null,
            "grid_gap": null,
            "grid_row": null,
            "grid_template_areas": null,
            "grid_template_columns": null,
            "grid_template_rows": null,
            "height": null,
            "justify_content": null,
            "justify_items": null,
            "left": null,
            "margin": null,
            "max_height": null,
            "max_width": null,
            "min_height": null,
            "min_width": null,
            "object_fit": null,
            "object_position": null,
            "order": null,
            "overflow": null,
            "overflow_x": null,
            "overflow_y": null,
            "padding": null,
            "right": null,
            "top": null,
            "visibility": null,
            "width": null
          }
        },
        "fcb6e4b8e95a41e8b09acce0785da93e": {
          "model_module": "@jupyter-widgets/controls",
          "model_name": "DescriptionStyleModel",
          "model_module_version": "1.5.0",
          "state": {
            "_model_module": "@jupyter-widgets/controls",
            "_model_module_version": "1.5.0",
            "_model_name": "DescriptionStyleModel",
            "_view_count": null,
            "_view_module": "@jupyter-widgets/base",
            "_view_module_version": "1.2.0",
            "_view_name": "StyleView",
            "description_width": ""
          }
        },
        "93bd2c5e986d453c8369ed7611ba080b": {
          "model_module": "@jupyter-widgets/base",
          "model_name": "LayoutModel",
          "model_module_version": "1.2.0",
          "state": {
            "_model_module": "@jupyter-widgets/base",
            "_model_module_version": "1.2.0",
            "_model_name": "LayoutModel",
            "_view_count": null,
            "_view_module": "@jupyter-widgets/base",
            "_view_module_version": "1.2.0",
            "_view_name": "LayoutView",
            "align_content": null,
            "align_items": null,
            "align_self": null,
            "border": null,
            "bottom": null,
            "display": null,
            "flex": null,
            "flex_flow": null,
            "grid_area": null,
            "grid_auto_columns": null,
            "grid_auto_flow": null,
            "grid_auto_rows": null,
            "grid_column": null,
            "grid_gap": null,
            "grid_row": null,
            "grid_template_areas": null,
            "grid_template_columns": null,
            "grid_template_rows": null,
            "height": null,
            "justify_content": null,
            "justify_items": null,
            "left": null,
            "margin": null,
            "max_height": null,
            "max_width": null,
            "min_height": null,
            "min_width": null,
            "object_fit": null,
            "object_position": null,
            "order": null,
            "overflow": null,
            "overflow_x": null,
            "overflow_y": null,
            "padding": null,
            "right": null,
            "top": null,
            "visibility": null,
            "width": null
          }
        },
        "cf3bfd853e4d42e6b171c1a4ccf07640": {
          "model_module": "@jupyter-widgets/controls",
          "model_name": "ProgressStyleModel",
          "model_module_version": "1.5.0",
          "state": {
            "_model_module": "@jupyter-widgets/controls",
            "_model_module_version": "1.5.0",
            "_model_name": "ProgressStyleModel",
            "_view_count": null,
            "_view_module": "@jupyter-widgets/base",
            "_view_module_version": "1.2.0",
            "_view_name": "StyleView",
            "bar_color": null,
            "description_width": ""
          }
        },
        "2fe672ebd0ce426d815922c82ee192ca": {
          "model_module": "@jupyter-widgets/base",
          "model_name": "LayoutModel",
          "model_module_version": "1.2.0",
          "state": {
            "_model_module": "@jupyter-widgets/base",
            "_model_module_version": "1.2.0",
            "_model_name": "LayoutModel",
            "_view_count": null,
            "_view_module": "@jupyter-widgets/base",
            "_view_module_version": "1.2.0",
            "_view_name": "LayoutView",
            "align_content": null,
            "align_items": null,
            "align_self": null,
            "border": null,
            "bottom": null,
            "display": null,
            "flex": null,
            "flex_flow": null,
            "grid_area": null,
            "grid_auto_columns": null,
            "grid_auto_flow": null,
            "grid_auto_rows": null,
            "grid_column": null,
            "grid_gap": null,
            "grid_row": null,
            "grid_template_areas": null,
            "grid_template_columns": null,
            "grid_template_rows": null,
            "height": null,
            "justify_content": null,
            "justify_items": null,
            "left": null,
            "margin": null,
            "max_height": null,
            "max_width": null,
            "min_height": null,
            "min_width": null,
            "object_fit": null,
            "object_position": null,
            "order": null,
            "overflow": null,
            "overflow_x": null,
            "overflow_y": null,
            "padding": null,
            "right": null,
            "top": null,
            "visibility": null,
            "width": null
          }
        },
        "45065e9f4e5646f4b14d9da0bdc28182": {
          "model_module": "@jupyter-widgets/controls",
          "model_name": "DescriptionStyleModel",
          "model_module_version": "1.5.0",
          "state": {
            "_model_module": "@jupyter-widgets/controls",
            "_model_module_version": "1.5.0",
            "_model_name": "DescriptionStyleModel",
            "_view_count": null,
            "_view_module": "@jupyter-widgets/base",
            "_view_module_version": "1.2.0",
            "_view_name": "StyleView",
            "description_width": ""
          }
        },
        "40487d0b95834313813daae089e29d36": {
          "model_module": "@jupyter-widgets/controls",
          "model_name": "HBoxModel",
          "model_module_version": "1.5.0",
          "state": {
            "_dom_classes": [],
            "_model_module": "@jupyter-widgets/controls",
            "_model_module_version": "1.5.0",
            "_model_name": "HBoxModel",
            "_view_count": null,
            "_view_module": "@jupyter-widgets/controls",
            "_view_module_version": "1.5.0",
            "_view_name": "HBoxView",
            "box_style": "",
            "children": [
              "IPY_MODEL_4998bc41e71a4eecb07cb47d6b39d4a9",
              "IPY_MODEL_39e694b93c39466e8b4177ed495623ec",
              "IPY_MODEL_2c1d8acaa9134aa589125483029e0216"
            ],
            "layout": "IPY_MODEL_7b575f89130b4918870df3d52c47d45f"
          }
        },
        "4998bc41e71a4eecb07cb47d6b39d4a9": {
          "model_module": "@jupyter-widgets/controls",
          "model_name": "HTMLModel",
          "model_module_version": "1.5.0",
          "state": {
            "_dom_classes": [],
            "_model_module": "@jupyter-widgets/controls",
            "_model_module_version": "1.5.0",
            "_model_name": "HTMLModel",
            "_view_count": null,
            "_view_module": "@jupyter-widgets/controls",
            "_view_module_version": "1.5.0",
            "_view_name": "HTMLView",
            "description": "",
            "description_tooltip": null,
            "layout": "IPY_MODEL_6857cad03b5f4e79af9e804c12bd9ac2",
            "placeholder": "​",
            "style": "IPY_MODEL_e79926b212b44d7dba6e8b0171ea89f5",
            "value": "Map: 100%"
          }
        },
        "39e694b93c39466e8b4177ed495623ec": {
          "model_module": "@jupyter-widgets/controls",
          "model_name": "FloatProgressModel",
          "model_module_version": "1.5.0",
          "state": {
            "_dom_classes": [],
            "_model_module": "@jupyter-widgets/controls",
            "_model_module_version": "1.5.0",
            "_model_name": "FloatProgressModel",
            "_view_count": null,
            "_view_module": "@jupyter-widgets/controls",
            "_view_module_version": "1.5.0",
            "_view_name": "ProgressView",
            "bar_style": "success",
            "description": "",
            "description_tooltip": null,
            "layout": "IPY_MODEL_4ba544675e7348b294213719badb1830",
            "max": 3250,
            "min": 0,
            "orientation": "horizontal",
            "style": "IPY_MODEL_054efe962f1546cfb79ea53f84a37d74",
            "value": 3250
          }
        },
        "2c1d8acaa9134aa589125483029e0216": {
          "model_module": "@jupyter-widgets/controls",
          "model_name": "HTMLModel",
          "model_module_version": "1.5.0",
          "state": {
            "_dom_classes": [],
            "_model_module": "@jupyter-widgets/controls",
            "_model_module_version": "1.5.0",
            "_model_name": "HTMLModel",
            "_view_count": null,
            "_view_module": "@jupyter-widgets/controls",
            "_view_module_version": "1.5.0",
            "_view_name": "HTMLView",
            "description": "",
            "description_tooltip": null,
            "layout": "IPY_MODEL_b51b5acaa9f243a682b567d08fd4d6e6",
            "placeholder": "​",
            "style": "IPY_MODEL_7a7234117cf046788c20a9d308d9d6f8",
            "value": " 3250/3250 [00:01&lt;00:00, 2237.83 examples/s]"
          }
        },
        "7b575f89130b4918870df3d52c47d45f": {
          "model_module": "@jupyter-widgets/base",
          "model_name": "LayoutModel",
          "model_module_version": "1.2.0",
          "state": {
            "_model_module": "@jupyter-widgets/base",
            "_model_module_version": "1.2.0",
            "_model_name": "LayoutModel",
            "_view_count": null,
            "_view_module": "@jupyter-widgets/base",
            "_view_module_version": "1.2.0",
            "_view_name": "LayoutView",
            "align_content": null,
            "align_items": null,
            "align_self": null,
            "border": null,
            "bottom": null,
            "display": null,
            "flex": null,
            "flex_flow": null,
            "grid_area": null,
            "grid_auto_columns": null,
            "grid_auto_flow": null,
            "grid_auto_rows": null,
            "grid_column": null,
            "grid_gap": null,
            "grid_row": null,
            "grid_template_areas": null,
            "grid_template_columns": null,
            "grid_template_rows": null,
            "height": null,
            "justify_content": null,
            "justify_items": null,
            "left": null,
            "margin": null,
            "max_height": null,
            "max_width": null,
            "min_height": null,
            "min_width": null,
            "object_fit": null,
            "object_position": null,
            "order": null,
            "overflow": null,
            "overflow_x": null,
            "overflow_y": null,
            "padding": null,
            "right": null,
            "top": null,
            "visibility": null,
            "width": null
          }
        },
        "6857cad03b5f4e79af9e804c12bd9ac2": {
          "model_module": "@jupyter-widgets/base",
          "model_name": "LayoutModel",
          "model_module_version": "1.2.0",
          "state": {
            "_model_module": "@jupyter-widgets/base",
            "_model_module_version": "1.2.0",
            "_model_name": "LayoutModel",
            "_view_count": null,
            "_view_module": "@jupyter-widgets/base",
            "_view_module_version": "1.2.0",
            "_view_name": "LayoutView",
            "align_content": null,
            "align_items": null,
            "align_self": null,
            "border": null,
            "bottom": null,
            "display": null,
            "flex": null,
            "flex_flow": null,
            "grid_area": null,
            "grid_auto_columns": null,
            "grid_auto_flow": null,
            "grid_auto_rows": null,
            "grid_column": null,
            "grid_gap": null,
            "grid_row": null,
            "grid_template_areas": null,
            "grid_template_columns": null,
            "grid_template_rows": null,
            "height": null,
            "justify_content": null,
            "justify_items": null,
            "left": null,
            "margin": null,
            "max_height": null,
            "max_width": null,
            "min_height": null,
            "min_width": null,
            "object_fit": null,
            "object_position": null,
            "order": null,
            "overflow": null,
            "overflow_x": null,
            "overflow_y": null,
            "padding": null,
            "right": null,
            "top": null,
            "visibility": null,
            "width": null
          }
        },
        "e79926b212b44d7dba6e8b0171ea89f5": {
          "model_module": "@jupyter-widgets/controls",
          "model_name": "DescriptionStyleModel",
          "model_module_version": "1.5.0",
          "state": {
            "_model_module": "@jupyter-widgets/controls",
            "_model_module_version": "1.5.0",
            "_model_name": "DescriptionStyleModel",
            "_view_count": null,
            "_view_module": "@jupyter-widgets/base",
            "_view_module_version": "1.2.0",
            "_view_name": "StyleView",
            "description_width": ""
          }
        },
        "4ba544675e7348b294213719badb1830": {
          "model_module": "@jupyter-widgets/base",
          "model_name": "LayoutModel",
          "model_module_version": "1.2.0",
          "state": {
            "_model_module": "@jupyter-widgets/base",
            "_model_module_version": "1.2.0",
            "_model_name": "LayoutModel",
            "_view_count": null,
            "_view_module": "@jupyter-widgets/base",
            "_view_module_version": "1.2.0",
            "_view_name": "LayoutView",
            "align_content": null,
            "align_items": null,
            "align_self": null,
            "border": null,
            "bottom": null,
            "display": null,
            "flex": null,
            "flex_flow": null,
            "grid_area": null,
            "grid_auto_columns": null,
            "grid_auto_flow": null,
            "grid_auto_rows": null,
            "grid_column": null,
            "grid_gap": null,
            "grid_row": null,
            "grid_template_areas": null,
            "grid_template_columns": null,
            "grid_template_rows": null,
            "height": null,
            "justify_content": null,
            "justify_items": null,
            "left": null,
            "margin": null,
            "max_height": null,
            "max_width": null,
            "min_height": null,
            "min_width": null,
            "object_fit": null,
            "object_position": null,
            "order": null,
            "overflow": null,
            "overflow_x": null,
            "overflow_y": null,
            "padding": null,
            "right": null,
            "top": null,
            "visibility": null,
            "width": null
          }
        },
        "054efe962f1546cfb79ea53f84a37d74": {
          "model_module": "@jupyter-widgets/controls",
          "model_name": "ProgressStyleModel",
          "model_module_version": "1.5.0",
          "state": {
            "_model_module": "@jupyter-widgets/controls",
            "_model_module_version": "1.5.0",
            "_model_name": "ProgressStyleModel",
            "_view_count": null,
            "_view_module": "@jupyter-widgets/base",
            "_view_module_version": "1.2.0",
            "_view_name": "StyleView",
            "bar_color": null,
            "description_width": ""
          }
        },
        "b51b5acaa9f243a682b567d08fd4d6e6": {
          "model_module": "@jupyter-widgets/base",
          "model_name": "LayoutModel",
          "model_module_version": "1.2.0",
          "state": {
            "_model_module": "@jupyter-widgets/base",
            "_model_module_version": "1.2.0",
            "_model_name": "LayoutModel",
            "_view_count": null,
            "_view_module": "@jupyter-widgets/base",
            "_view_module_version": "1.2.0",
            "_view_name": "LayoutView",
            "align_content": null,
            "align_items": null,
            "align_self": null,
            "border": null,
            "bottom": null,
            "display": null,
            "flex": null,
            "flex_flow": null,
            "grid_area": null,
            "grid_auto_columns": null,
            "grid_auto_flow": null,
            "grid_auto_rows": null,
            "grid_column": null,
            "grid_gap": null,
            "grid_row": null,
            "grid_template_areas": null,
            "grid_template_columns": null,
            "grid_template_rows": null,
            "height": null,
            "justify_content": null,
            "justify_items": null,
            "left": null,
            "margin": null,
            "max_height": null,
            "max_width": null,
            "min_height": null,
            "min_width": null,
            "object_fit": null,
            "object_position": null,
            "order": null,
            "overflow": null,
            "overflow_x": null,
            "overflow_y": null,
            "padding": null,
            "right": null,
            "top": null,
            "visibility": null,
            "width": null
          }
        },
        "7a7234117cf046788c20a9d308d9d6f8": {
          "model_module": "@jupyter-widgets/controls",
          "model_name": "DescriptionStyleModel",
          "model_module_version": "1.5.0",
          "state": {
            "_model_module": "@jupyter-widgets/controls",
            "_model_module_version": "1.5.0",
            "_model_name": "DescriptionStyleModel",
            "_view_count": null,
            "_view_module": "@jupyter-widgets/base",
            "_view_module_version": "1.2.0",
            "_view_name": "StyleView",
            "description_width": ""
          }
        },
        "53679abd56e64bb18492b61d87d879c1": {
          "model_module": "@jupyter-widgets/controls",
          "model_name": "HBoxModel",
          "model_module_version": "1.5.0",
          "state": {
            "_dom_classes": [],
            "_model_module": "@jupyter-widgets/controls",
            "_model_module_version": "1.5.0",
            "_model_name": "HBoxModel",
            "_view_count": null,
            "_view_module": "@jupyter-widgets/controls",
            "_view_module_version": "1.5.0",
            "_view_name": "HBoxView",
            "box_style": "",
            "children": [
              "IPY_MODEL_087728aa7ee04f93ada746cd4ff53f10",
              "IPY_MODEL_ba3e79be0761451e96f68bbfcf4800c2",
              "IPY_MODEL_53a0a0bad2c947ef9f2576d3126c76fd"
            ],
            "layout": "IPY_MODEL_d6bdaa4fa2aa41cb9ef43b6cb8e151d3"
          }
        },
        "087728aa7ee04f93ada746cd4ff53f10": {
          "model_module": "@jupyter-widgets/controls",
          "model_name": "HTMLModel",
          "model_module_version": "1.5.0",
          "state": {
            "_dom_classes": [],
            "_model_module": "@jupyter-widgets/controls",
            "_model_module_version": "1.5.0",
            "_model_name": "HTMLModel",
            "_view_count": null,
            "_view_module": "@jupyter-widgets/controls",
            "_view_module_version": "1.5.0",
            "_view_name": "HTMLView",
            "description": "",
            "description_tooltip": null,
            "layout": "IPY_MODEL_4b0d7b3fc0e54591a8260250f200c23d",
            "placeholder": "​",
            "style": "IPY_MODEL_29a7e5f83dee4556b756e17a0dde2656",
            "value": "Map: 100%"
          }
        },
        "ba3e79be0761451e96f68bbfcf4800c2": {
          "model_module": "@jupyter-widgets/controls",
          "model_name": "FloatProgressModel",
          "model_module_version": "1.5.0",
          "state": {
            "_dom_classes": [],
            "_model_module": "@jupyter-widgets/controls",
            "_model_module_version": "1.5.0",
            "_model_name": "FloatProgressModel",
            "_view_count": null,
            "_view_module": "@jupyter-widgets/controls",
            "_view_module_version": "1.5.0",
            "_view_name": "ProgressView",
            "bar_style": "success",
            "description": "",
            "description_tooltip": null,
            "layout": "IPY_MODEL_7c85a72d290341128901497e8fd1cbb2",
            "max": 3453,
            "min": 0,
            "orientation": "horizontal",
            "style": "IPY_MODEL_d63c1d516044477896a1ed0b0bd27f33",
            "value": 3453
          }
        },
        "53a0a0bad2c947ef9f2576d3126c76fd": {
          "model_module": "@jupyter-widgets/controls",
          "model_name": "HTMLModel",
          "model_module_version": "1.5.0",
          "state": {
            "_dom_classes": [],
            "_model_module": "@jupyter-widgets/controls",
            "_model_module_version": "1.5.0",
            "_model_name": "HTMLModel",
            "_view_count": null,
            "_view_module": "@jupyter-widgets/controls",
            "_view_module_version": "1.5.0",
            "_view_name": "HTMLView",
            "description": "",
            "description_tooltip": null,
            "layout": "IPY_MODEL_515e09d65646456ba99ed388a2c1f457",
            "placeholder": "​",
            "style": "IPY_MODEL_4bf64a975a644c5f9250eace8edbb831",
            "value": " 3453/3453 [00:01&lt;00:00, 3166.98 examples/s]"
          }
        },
        "d6bdaa4fa2aa41cb9ef43b6cb8e151d3": {
          "model_module": "@jupyter-widgets/base",
          "model_name": "LayoutModel",
          "model_module_version": "1.2.0",
          "state": {
            "_model_module": "@jupyter-widgets/base",
            "_model_module_version": "1.2.0",
            "_model_name": "LayoutModel",
            "_view_count": null,
            "_view_module": "@jupyter-widgets/base",
            "_view_module_version": "1.2.0",
            "_view_name": "LayoutView",
            "align_content": null,
            "align_items": null,
            "align_self": null,
            "border": null,
            "bottom": null,
            "display": null,
            "flex": null,
            "flex_flow": null,
            "grid_area": null,
            "grid_auto_columns": null,
            "grid_auto_flow": null,
            "grid_auto_rows": null,
            "grid_column": null,
            "grid_gap": null,
            "grid_row": null,
            "grid_template_areas": null,
            "grid_template_columns": null,
            "grid_template_rows": null,
            "height": null,
            "justify_content": null,
            "justify_items": null,
            "left": null,
            "margin": null,
            "max_height": null,
            "max_width": null,
            "min_height": null,
            "min_width": null,
            "object_fit": null,
            "object_position": null,
            "order": null,
            "overflow": null,
            "overflow_x": null,
            "overflow_y": null,
            "padding": null,
            "right": null,
            "top": null,
            "visibility": null,
            "width": null
          }
        },
        "4b0d7b3fc0e54591a8260250f200c23d": {
          "model_module": "@jupyter-widgets/base",
          "model_name": "LayoutModel",
          "model_module_version": "1.2.0",
          "state": {
            "_model_module": "@jupyter-widgets/base",
            "_model_module_version": "1.2.0",
            "_model_name": "LayoutModel",
            "_view_count": null,
            "_view_module": "@jupyter-widgets/base",
            "_view_module_version": "1.2.0",
            "_view_name": "LayoutView",
            "align_content": null,
            "align_items": null,
            "align_self": null,
            "border": null,
            "bottom": null,
            "display": null,
            "flex": null,
            "flex_flow": null,
            "grid_area": null,
            "grid_auto_columns": null,
            "grid_auto_flow": null,
            "grid_auto_rows": null,
            "grid_column": null,
            "grid_gap": null,
            "grid_row": null,
            "grid_template_areas": null,
            "grid_template_columns": null,
            "grid_template_rows": null,
            "height": null,
            "justify_content": null,
            "justify_items": null,
            "left": null,
            "margin": null,
            "max_height": null,
            "max_width": null,
            "min_height": null,
            "min_width": null,
            "object_fit": null,
            "object_position": null,
            "order": null,
            "overflow": null,
            "overflow_x": null,
            "overflow_y": null,
            "padding": null,
            "right": null,
            "top": null,
            "visibility": null,
            "width": null
          }
        },
        "29a7e5f83dee4556b756e17a0dde2656": {
          "model_module": "@jupyter-widgets/controls",
          "model_name": "DescriptionStyleModel",
          "model_module_version": "1.5.0",
          "state": {
            "_model_module": "@jupyter-widgets/controls",
            "_model_module_version": "1.5.0",
            "_model_name": "DescriptionStyleModel",
            "_view_count": null,
            "_view_module": "@jupyter-widgets/base",
            "_view_module_version": "1.2.0",
            "_view_name": "StyleView",
            "description_width": ""
          }
        },
        "7c85a72d290341128901497e8fd1cbb2": {
          "model_module": "@jupyter-widgets/base",
          "model_name": "LayoutModel",
          "model_module_version": "1.2.0",
          "state": {
            "_model_module": "@jupyter-widgets/base",
            "_model_module_version": "1.2.0",
            "_model_name": "LayoutModel",
            "_view_count": null,
            "_view_module": "@jupyter-widgets/base",
            "_view_module_version": "1.2.0",
            "_view_name": "LayoutView",
            "align_content": null,
            "align_items": null,
            "align_self": null,
            "border": null,
            "bottom": null,
            "display": null,
            "flex": null,
            "flex_flow": null,
            "grid_area": null,
            "grid_auto_columns": null,
            "grid_auto_flow": null,
            "grid_auto_rows": null,
            "grid_column": null,
            "grid_gap": null,
            "grid_row": null,
            "grid_template_areas": null,
            "grid_template_columns": null,
            "grid_template_rows": null,
            "height": null,
            "justify_content": null,
            "justify_items": null,
            "left": null,
            "margin": null,
            "max_height": null,
            "max_width": null,
            "min_height": null,
            "min_width": null,
            "object_fit": null,
            "object_position": null,
            "order": null,
            "overflow": null,
            "overflow_x": null,
            "overflow_y": null,
            "padding": null,
            "right": null,
            "top": null,
            "visibility": null,
            "width": null
          }
        },
        "d63c1d516044477896a1ed0b0bd27f33": {
          "model_module": "@jupyter-widgets/controls",
          "model_name": "ProgressStyleModel",
          "model_module_version": "1.5.0",
          "state": {
            "_model_module": "@jupyter-widgets/controls",
            "_model_module_version": "1.5.0",
            "_model_name": "ProgressStyleModel",
            "_view_count": null,
            "_view_module": "@jupyter-widgets/base",
            "_view_module_version": "1.2.0",
            "_view_name": "StyleView",
            "bar_color": null,
            "description_width": ""
          }
        },
        "515e09d65646456ba99ed388a2c1f457": {
          "model_module": "@jupyter-widgets/base",
          "model_name": "LayoutModel",
          "model_module_version": "1.2.0",
          "state": {
            "_model_module": "@jupyter-widgets/base",
            "_model_module_version": "1.2.0",
            "_model_name": "LayoutModel",
            "_view_count": null,
            "_view_module": "@jupyter-widgets/base",
            "_view_module_version": "1.2.0",
            "_view_name": "LayoutView",
            "align_content": null,
            "align_items": null,
            "align_self": null,
            "border": null,
            "bottom": null,
            "display": null,
            "flex": null,
            "flex_flow": null,
            "grid_area": null,
            "grid_auto_columns": null,
            "grid_auto_flow": null,
            "grid_auto_rows": null,
            "grid_column": null,
            "grid_gap": null,
            "grid_row": null,
            "grid_template_areas": null,
            "grid_template_columns": null,
            "grid_template_rows": null,
            "height": null,
            "justify_content": null,
            "justify_items": null,
            "left": null,
            "margin": null,
            "max_height": null,
            "max_width": null,
            "min_height": null,
            "min_width": null,
            "object_fit": null,
            "object_position": null,
            "order": null,
            "overflow": null,
            "overflow_x": null,
            "overflow_y": null,
            "padding": null,
            "right": null,
            "top": null,
            "visibility": null,
            "width": null
          }
        },
        "4bf64a975a644c5f9250eace8edbb831": {
          "model_module": "@jupyter-widgets/controls",
          "model_name": "DescriptionStyleModel",
          "model_module_version": "1.5.0",
          "state": {
            "_model_module": "@jupyter-widgets/controls",
            "_model_module_version": "1.5.0",
            "_model_name": "DescriptionStyleModel",
            "_view_count": null,
            "_view_module": "@jupyter-widgets/base",
            "_view_module_version": "1.2.0",
            "_view_name": "StyleView",
            "description_width": ""
          }
        },
        "344d23d57a40406396838228b95ddf38": {
          "model_module": "@jupyter-widgets/controls",
          "model_name": "HBoxModel",
          "model_module_version": "1.5.0",
          "state": {
            "_dom_classes": [],
            "_model_module": "@jupyter-widgets/controls",
            "_model_module_version": "1.5.0",
            "_model_name": "HBoxModel",
            "_view_count": null,
            "_view_module": "@jupyter-widgets/controls",
            "_view_module_version": "1.5.0",
            "_view_name": "HBoxView",
            "box_style": "",
            "children": [
              "IPY_MODEL_000a08a00df84f7895f6ca58b9956cc8",
              "IPY_MODEL_a735bfab0428465099acb6995b8c6df0",
              "IPY_MODEL_2dc76829c7d146298910dffeb81f200e"
            ],
            "layout": "IPY_MODEL_9086c2b14c164f408e3745190ed05569"
          }
        },
        "000a08a00df84f7895f6ca58b9956cc8": {
          "model_module": "@jupyter-widgets/controls",
          "model_name": "HTMLModel",
          "model_module_version": "1.5.0",
          "state": {
            "_dom_classes": [],
            "_model_module": "@jupyter-widgets/controls",
            "_model_module_version": "1.5.0",
            "_model_name": "HTMLModel",
            "_view_count": null,
            "_view_module": "@jupyter-widgets/controls",
            "_view_module_version": "1.5.0",
            "_view_name": "HTMLView",
            "description": "",
            "description_tooltip": null,
            "layout": "IPY_MODEL_3ba6850c5df7461283eb9c77f6d973ac",
            "placeholder": "​",
            "style": "IPY_MODEL_d5627fc031ca4ff1af675640bbd3b6d7",
            "value": "model.safetensors: 100%"
          }
        },
        "a735bfab0428465099acb6995b8c6df0": {
          "model_module": "@jupyter-widgets/controls",
          "model_name": "FloatProgressModel",
          "model_module_version": "1.5.0",
          "state": {
            "_dom_classes": [],
            "_model_module": "@jupyter-widgets/controls",
            "_model_module_version": "1.5.0",
            "_model_name": "FloatProgressModel",
            "_view_count": null,
            "_view_module": "@jupyter-widgets/controls",
            "_view_module_version": "1.5.0",
            "_view_name": "ProgressView",
            "bar_style": "success",
            "description": "",
            "description_tooltip": null,
            "layout": "IPY_MODEL_52bf619f30de44eaa2df15b5595ab0f8",
            "max": 263260784,
            "min": 0,
            "orientation": "horizontal",
            "style": "IPY_MODEL_55c1f977ae4940cc8cf6cfe067131ed3",
            "value": 263260784
          }
        },
        "2dc76829c7d146298910dffeb81f200e": {
          "model_module": "@jupyter-widgets/controls",
          "model_name": "HTMLModel",
          "model_module_version": "1.5.0",
          "state": {
            "_dom_classes": [],
            "_model_module": "@jupyter-widgets/controls",
            "_model_module_version": "1.5.0",
            "_model_name": "HTMLModel",
            "_view_count": null,
            "_view_module": "@jupyter-widgets/controls",
            "_view_module_version": "1.5.0",
            "_view_name": "HTMLView",
            "description": "",
            "description_tooltip": null,
            "layout": "IPY_MODEL_98870391fc8a454e8cf8d42b0c38a2ec",
            "placeholder": "​",
            "style": "IPY_MODEL_003e0b289c1d42a6ab274e7bdc58fe0d",
            "value": " 263M/263M [00:01&lt;00:00, 266MB/s]"
          }
        },
        "9086c2b14c164f408e3745190ed05569": {
          "model_module": "@jupyter-widgets/base",
          "model_name": "LayoutModel",
          "model_module_version": "1.2.0",
          "state": {
            "_model_module": "@jupyter-widgets/base",
            "_model_module_version": "1.2.0",
            "_model_name": "LayoutModel",
            "_view_count": null,
            "_view_module": "@jupyter-widgets/base",
            "_view_module_version": "1.2.0",
            "_view_name": "LayoutView",
            "align_content": null,
            "align_items": null,
            "align_self": null,
            "border": null,
            "bottom": null,
            "display": null,
            "flex": null,
            "flex_flow": null,
            "grid_area": null,
            "grid_auto_columns": null,
            "grid_auto_flow": null,
            "grid_auto_rows": null,
            "grid_column": null,
            "grid_gap": null,
            "grid_row": null,
            "grid_template_areas": null,
            "grid_template_columns": null,
            "grid_template_rows": null,
            "height": null,
            "justify_content": null,
            "justify_items": null,
            "left": null,
            "margin": null,
            "max_height": null,
            "max_width": null,
            "min_height": null,
            "min_width": null,
            "object_fit": null,
            "object_position": null,
            "order": null,
            "overflow": null,
            "overflow_x": null,
            "overflow_y": null,
            "padding": null,
            "right": null,
            "top": null,
            "visibility": null,
            "width": null
          }
        },
        "3ba6850c5df7461283eb9c77f6d973ac": {
          "model_module": "@jupyter-widgets/base",
          "model_name": "LayoutModel",
          "model_module_version": "1.2.0",
          "state": {
            "_model_module": "@jupyter-widgets/base",
            "_model_module_version": "1.2.0",
            "_model_name": "LayoutModel",
            "_view_count": null,
            "_view_module": "@jupyter-widgets/base",
            "_view_module_version": "1.2.0",
            "_view_name": "LayoutView",
            "align_content": null,
            "align_items": null,
            "align_self": null,
            "border": null,
            "bottom": null,
            "display": null,
            "flex": null,
            "flex_flow": null,
            "grid_area": null,
            "grid_auto_columns": null,
            "grid_auto_flow": null,
            "grid_auto_rows": null,
            "grid_column": null,
            "grid_gap": null,
            "grid_row": null,
            "grid_template_areas": null,
            "grid_template_columns": null,
            "grid_template_rows": null,
            "height": null,
            "justify_content": null,
            "justify_items": null,
            "left": null,
            "margin": null,
            "max_height": null,
            "max_width": null,
            "min_height": null,
            "min_width": null,
            "object_fit": null,
            "object_position": null,
            "order": null,
            "overflow": null,
            "overflow_x": null,
            "overflow_y": null,
            "padding": null,
            "right": null,
            "top": null,
            "visibility": null,
            "width": null
          }
        },
        "d5627fc031ca4ff1af675640bbd3b6d7": {
          "model_module": "@jupyter-widgets/controls",
          "model_name": "DescriptionStyleModel",
          "model_module_version": "1.5.0",
          "state": {
            "_model_module": "@jupyter-widgets/controls",
            "_model_module_version": "1.5.0",
            "_model_name": "DescriptionStyleModel",
            "_view_count": null,
            "_view_module": "@jupyter-widgets/base",
            "_view_module_version": "1.2.0",
            "_view_name": "StyleView",
            "description_width": ""
          }
        },
        "52bf619f30de44eaa2df15b5595ab0f8": {
          "model_module": "@jupyter-widgets/base",
          "model_name": "LayoutModel",
          "model_module_version": "1.2.0",
          "state": {
            "_model_module": "@jupyter-widgets/base",
            "_model_module_version": "1.2.0",
            "_model_name": "LayoutModel",
            "_view_count": null,
            "_view_module": "@jupyter-widgets/base",
            "_view_module_version": "1.2.0",
            "_view_name": "LayoutView",
            "align_content": null,
            "align_items": null,
            "align_self": null,
            "border": null,
            "bottom": null,
            "display": null,
            "flex": null,
            "flex_flow": null,
            "grid_area": null,
            "grid_auto_columns": null,
            "grid_auto_flow": null,
            "grid_auto_rows": null,
            "grid_column": null,
            "grid_gap": null,
            "grid_row": null,
            "grid_template_areas": null,
            "grid_template_columns": null,
            "grid_template_rows": null,
            "height": null,
            "justify_content": null,
            "justify_items": null,
            "left": null,
            "margin": null,
            "max_height": null,
            "max_width": null,
            "min_height": null,
            "min_width": null,
            "object_fit": null,
            "object_position": null,
            "order": null,
            "overflow": null,
            "overflow_x": null,
            "overflow_y": null,
            "padding": null,
            "right": null,
            "top": null,
            "visibility": null,
            "width": null
          }
        },
        "55c1f977ae4940cc8cf6cfe067131ed3": {
          "model_module": "@jupyter-widgets/controls",
          "model_name": "ProgressStyleModel",
          "model_module_version": "1.5.0",
          "state": {
            "_model_module": "@jupyter-widgets/controls",
            "_model_module_version": "1.5.0",
            "_model_name": "ProgressStyleModel",
            "_view_count": null,
            "_view_module": "@jupyter-widgets/base",
            "_view_module_version": "1.2.0",
            "_view_name": "StyleView",
            "bar_color": null,
            "description_width": ""
          }
        },
        "98870391fc8a454e8cf8d42b0c38a2ec": {
          "model_module": "@jupyter-widgets/base",
          "model_name": "LayoutModel",
          "model_module_version": "1.2.0",
          "state": {
            "_model_module": "@jupyter-widgets/base",
            "_model_module_version": "1.2.0",
            "_model_name": "LayoutModel",
            "_view_count": null,
            "_view_module": "@jupyter-widgets/base",
            "_view_module_version": "1.2.0",
            "_view_name": "LayoutView",
            "align_content": null,
            "align_items": null,
            "align_self": null,
            "border": null,
            "bottom": null,
            "display": null,
            "flex": null,
            "flex_flow": null,
            "grid_area": null,
            "grid_auto_columns": null,
            "grid_auto_flow": null,
            "grid_auto_rows": null,
            "grid_column": null,
            "grid_gap": null,
            "grid_row": null,
            "grid_template_areas": null,
            "grid_template_columns": null,
            "grid_template_rows": null,
            "height": null,
            "justify_content": null,
            "justify_items": null,
            "left": null,
            "margin": null,
            "max_height": null,
            "max_width": null,
            "min_height": null,
            "min_width": null,
            "object_fit": null,
            "object_position": null,
            "order": null,
            "overflow": null,
            "overflow_x": null,
            "overflow_y": null,
            "padding": null,
            "right": null,
            "top": null,
            "visibility": null,
            "width": null
          }
        },
        "003e0b289c1d42a6ab274e7bdc58fe0d": {
          "model_module": "@jupyter-widgets/controls",
          "model_name": "DescriptionStyleModel",
          "model_module_version": "1.5.0",
          "state": {
            "_model_module": "@jupyter-widgets/controls",
            "_model_module_version": "1.5.0",
            "_model_name": "DescriptionStyleModel",
            "_view_count": null,
            "_view_module": "@jupyter-widgets/base",
            "_view_module_version": "1.2.0",
            "_view_name": "StyleView",
            "description_width": ""
          }
        },
        "181478061d76427b84b50f54baa403cc": {
          "model_module": "@jupyter-widgets/controls",
          "model_name": "HBoxModel",
          "model_module_version": "1.5.0",
          "state": {
            "_dom_classes": [],
            "_model_module": "@jupyter-widgets/controls",
            "_model_module_version": "1.5.0",
            "_model_name": "HBoxModel",
            "_view_count": null,
            "_view_module": "@jupyter-widgets/controls",
            "_view_module_version": "1.5.0",
            "_view_name": "HBoxView",
            "box_style": "",
            "children": [
              "IPY_MODEL_027e5a58d67a44c69714682dea1ce7b4",
              "IPY_MODEL_f14895b4b4a54787a0addcd35849f681",
              "IPY_MODEL_90c87c3308fc402aaa8d08e71fff094f"
            ],
            "layout": "IPY_MODEL_4b3f4ab1c0344e57a1e034a3cb4aeb40"
          }
        },
        "027e5a58d67a44c69714682dea1ce7b4": {
          "model_module": "@jupyter-widgets/controls",
          "model_name": "HTMLModel",
          "model_module_version": "1.5.0",
          "state": {
            "_dom_classes": [],
            "_model_module": "@jupyter-widgets/controls",
            "_model_module_version": "1.5.0",
            "_model_name": "HTMLModel",
            "_view_count": null,
            "_view_module": "@jupyter-widgets/controls",
            "_view_module_version": "1.5.0",
            "_view_name": "HTMLView",
            "description": "",
            "description_tooltip": null,
            "layout": "IPY_MODEL_16ff4063183c49f0bf2f1bfaf6040edf",
            "placeholder": "​",
            "style": "IPY_MODEL_66cfd3b4adc442a8b4c52c2538755552",
            "value": "Download file tf_model.h5: 100%"
          }
        },
        "f14895b4b4a54787a0addcd35849f681": {
          "model_module": "@jupyter-widgets/controls",
          "model_name": "FloatProgressModel",
          "model_module_version": "1.5.0",
          "state": {
            "_dom_classes": [],
            "_model_module": "@jupyter-widgets/controls",
            "_model_module_version": "1.5.0",
            "_model_name": "FloatProgressModel",
            "_view_count": null,
            "_view_module": "@jupyter-widgets/controls",
            "_view_module_version": "1.5.0",
            "_view_name": "ProgressView",
            "bar_style": "success",
            "description": "",
            "description_tooltip": null,
            "layout": "IPY_MODEL_0966b9f43a9748a0a8583023d7a0dd64",
            "max": 260918544,
            "min": 0,
            "orientation": "horizontal",
            "style": "IPY_MODEL_2eaa561526514e0a9123a6d1d9b51447",
            "value": 260918544
          }
        },
        "90c87c3308fc402aaa8d08e71fff094f": {
          "model_module": "@jupyter-widgets/controls",
          "model_name": "HTMLModel",
          "model_module_version": "1.5.0",
          "state": {
            "_dom_classes": [],
            "_model_module": "@jupyter-widgets/controls",
            "_model_module_version": "1.5.0",
            "_model_name": "HTMLModel",
            "_view_count": null,
            "_view_module": "@jupyter-widgets/controls",
            "_view_module_version": "1.5.0",
            "_view_name": "HTMLView",
            "description": "",
            "description_tooltip": null,
            "layout": "IPY_MODEL_5f654399f2ea45198b9993eda432a09f",
            "placeholder": "​",
            "style": "IPY_MODEL_1779588adac64589a1a40c3c9db10e0c",
            "value": " 249M/249M [01:02&lt;00:00, 688kB/s]"
          }
        },
        "4b3f4ab1c0344e57a1e034a3cb4aeb40": {
          "model_module": "@jupyter-widgets/base",
          "model_name": "LayoutModel",
          "model_module_version": "1.2.0",
          "state": {
            "_model_module": "@jupyter-widgets/base",
            "_model_module_version": "1.2.0",
            "_model_name": "LayoutModel",
            "_view_count": null,
            "_view_module": "@jupyter-widgets/base",
            "_view_module_version": "1.2.0",
            "_view_name": "LayoutView",
            "align_content": null,
            "align_items": null,
            "align_self": null,
            "border": null,
            "bottom": null,
            "display": null,
            "flex": null,
            "flex_flow": null,
            "grid_area": null,
            "grid_auto_columns": null,
            "grid_auto_flow": null,
            "grid_auto_rows": null,
            "grid_column": null,
            "grid_gap": null,
            "grid_row": null,
            "grid_template_areas": null,
            "grid_template_columns": null,
            "grid_template_rows": null,
            "height": null,
            "justify_content": null,
            "justify_items": null,
            "left": null,
            "margin": null,
            "max_height": null,
            "max_width": null,
            "min_height": null,
            "min_width": null,
            "object_fit": null,
            "object_position": null,
            "order": null,
            "overflow": null,
            "overflow_x": null,
            "overflow_y": null,
            "padding": null,
            "right": null,
            "top": null,
            "visibility": null,
            "width": null
          }
        },
        "16ff4063183c49f0bf2f1bfaf6040edf": {
          "model_module": "@jupyter-widgets/base",
          "model_name": "LayoutModel",
          "model_module_version": "1.2.0",
          "state": {
            "_model_module": "@jupyter-widgets/base",
            "_model_module_version": "1.2.0",
            "_model_name": "LayoutModel",
            "_view_count": null,
            "_view_module": "@jupyter-widgets/base",
            "_view_module_version": "1.2.0",
            "_view_name": "LayoutView",
            "align_content": null,
            "align_items": null,
            "align_self": null,
            "border": null,
            "bottom": null,
            "display": null,
            "flex": null,
            "flex_flow": null,
            "grid_area": null,
            "grid_auto_columns": null,
            "grid_auto_flow": null,
            "grid_auto_rows": null,
            "grid_column": null,
            "grid_gap": null,
            "grid_row": null,
            "grid_template_areas": null,
            "grid_template_columns": null,
            "grid_template_rows": null,
            "height": null,
            "justify_content": null,
            "justify_items": null,
            "left": null,
            "margin": null,
            "max_height": null,
            "max_width": null,
            "min_height": null,
            "min_width": null,
            "object_fit": null,
            "object_position": null,
            "order": null,
            "overflow": null,
            "overflow_x": null,
            "overflow_y": null,
            "padding": null,
            "right": null,
            "top": null,
            "visibility": null,
            "width": null
          }
        },
        "66cfd3b4adc442a8b4c52c2538755552": {
          "model_module": "@jupyter-widgets/controls",
          "model_name": "DescriptionStyleModel",
          "model_module_version": "1.5.0",
          "state": {
            "_model_module": "@jupyter-widgets/controls",
            "_model_module_version": "1.5.0",
            "_model_name": "DescriptionStyleModel",
            "_view_count": null,
            "_view_module": "@jupyter-widgets/base",
            "_view_module_version": "1.2.0",
            "_view_name": "StyleView",
            "description_width": ""
          }
        },
        "0966b9f43a9748a0a8583023d7a0dd64": {
          "model_module": "@jupyter-widgets/base",
          "model_name": "LayoutModel",
          "model_module_version": "1.2.0",
          "state": {
            "_model_module": "@jupyter-widgets/base",
            "_model_module_version": "1.2.0",
            "_model_name": "LayoutModel",
            "_view_count": null,
            "_view_module": "@jupyter-widgets/base",
            "_view_module_version": "1.2.0",
            "_view_name": "LayoutView",
            "align_content": null,
            "align_items": null,
            "align_self": null,
            "border": null,
            "bottom": null,
            "display": null,
            "flex": null,
            "flex_flow": null,
            "grid_area": null,
            "grid_auto_columns": null,
            "grid_auto_flow": null,
            "grid_auto_rows": null,
            "grid_column": null,
            "grid_gap": null,
            "grid_row": null,
            "grid_template_areas": null,
            "grid_template_columns": null,
            "grid_template_rows": null,
            "height": null,
            "justify_content": null,
            "justify_items": null,
            "left": null,
            "margin": null,
            "max_height": null,
            "max_width": null,
            "min_height": null,
            "min_width": null,
            "object_fit": null,
            "object_position": null,
            "order": null,
            "overflow": null,
            "overflow_x": null,
            "overflow_y": null,
            "padding": null,
            "right": null,
            "top": null,
            "visibility": null,
            "width": null
          }
        },
        "2eaa561526514e0a9123a6d1d9b51447": {
          "model_module": "@jupyter-widgets/controls",
          "model_name": "ProgressStyleModel",
          "model_module_version": "1.5.0",
          "state": {
            "_model_module": "@jupyter-widgets/controls",
            "_model_module_version": "1.5.0",
            "_model_name": "ProgressStyleModel",
            "_view_count": null,
            "_view_module": "@jupyter-widgets/base",
            "_view_module_version": "1.2.0",
            "_view_name": "StyleView",
            "bar_color": null,
            "description_width": ""
          }
        },
        "5f654399f2ea45198b9993eda432a09f": {
          "model_module": "@jupyter-widgets/base",
          "model_name": "LayoutModel",
          "model_module_version": "1.2.0",
          "state": {
            "_model_module": "@jupyter-widgets/base",
            "_model_module_version": "1.2.0",
            "_model_name": "LayoutModel",
            "_view_count": null,
            "_view_module": "@jupyter-widgets/base",
            "_view_module_version": "1.2.0",
            "_view_name": "LayoutView",
            "align_content": null,
            "align_items": null,
            "align_self": null,
            "border": null,
            "bottom": null,
            "display": null,
            "flex": null,
            "flex_flow": null,
            "grid_area": null,
            "grid_auto_columns": null,
            "grid_auto_flow": null,
            "grid_auto_rows": null,
            "grid_column": null,
            "grid_gap": null,
            "grid_row": null,
            "grid_template_areas": null,
            "grid_template_columns": null,
            "grid_template_rows": null,
            "height": null,
            "justify_content": null,
            "justify_items": null,
            "left": null,
            "margin": null,
            "max_height": null,
            "max_width": null,
            "min_height": null,
            "min_width": null,
            "object_fit": null,
            "object_position": null,
            "order": null,
            "overflow": null,
            "overflow_x": null,
            "overflow_y": null,
            "padding": null,
            "right": null,
            "top": null,
            "visibility": null,
            "width": null
          }
        },
        "1779588adac64589a1a40c3c9db10e0c": {
          "model_module": "@jupyter-widgets/controls",
          "model_name": "DescriptionStyleModel",
          "model_module_version": "1.5.0",
          "state": {
            "_model_module": "@jupyter-widgets/controls",
            "_model_module_version": "1.5.0",
            "_model_name": "DescriptionStyleModel",
            "_view_count": null,
            "_view_module": "@jupyter-widgets/base",
            "_view_module_version": "1.2.0",
            "_view_name": "StyleView",
            "description_width": ""
          }
        },
        "0b77d2155c604a058c3c78ec7cfb5446": {
          "model_module": "@jupyter-widgets/controls",
          "model_name": "HBoxModel",
          "model_module_version": "1.5.0",
          "state": {
            "_dom_classes": [],
            "_model_module": "@jupyter-widgets/controls",
            "_model_module_version": "1.5.0",
            "_model_name": "HBoxModel",
            "_view_count": null,
            "_view_module": "@jupyter-widgets/controls",
            "_view_module_version": "1.5.0",
            "_view_name": "HBoxView",
            "box_style": "",
            "children": [
              "IPY_MODEL_518606190657462593daf8c347bd6709",
              "IPY_MODEL_f4be6839c97746878bf610db69c5f8c5",
              "IPY_MODEL_7211762425d949a6a0c4a08660364a76"
            ],
            "layout": "IPY_MODEL_fbd0145c351e4e9d947b365f77244b87"
          }
        },
        "518606190657462593daf8c347bd6709": {
          "model_module": "@jupyter-widgets/controls",
          "model_name": "HTMLModel",
          "model_module_version": "1.5.0",
          "state": {
            "_dom_classes": [],
            "_model_module": "@jupyter-widgets/controls",
            "_model_module_version": "1.5.0",
            "_model_name": "HTMLModel",
            "_view_count": null,
            "_view_module": "@jupyter-widgets/controls",
            "_view_module_version": "1.5.0",
            "_view_name": "HTMLView",
            "description": "",
            "description_tooltip": null,
            "layout": "IPY_MODEL_eea7fe9110824532bfaf2f50edd45af7",
            "placeholder": "​",
            "style": "IPY_MODEL_269dea0d5f03444c903a2ca922d2b67a",
            "value": "Clean file tf_model.h5: 100%"
          }
        },
        "f4be6839c97746878bf610db69c5f8c5": {
          "model_module": "@jupyter-widgets/controls",
          "model_name": "FloatProgressModel",
          "model_module_version": "1.5.0",
          "state": {
            "_dom_classes": [],
            "_model_module": "@jupyter-widgets/controls",
            "_model_module_version": "1.5.0",
            "_model_name": "FloatProgressModel",
            "_view_count": null,
            "_view_module": "@jupyter-widgets/controls",
            "_view_module_version": "1.5.0",
            "_view_name": "ProgressView",
            "bar_style": "success",
            "description": "",
            "description_tooltip": null,
            "layout": "IPY_MODEL_228d3598aee04ab1bc205e5ce796f934",
            "max": 260918544,
            "min": 0,
            "orientation": "horizontal",
            "style": "IPY_MODEL_7d0e467e5bae45ef83fa54fc2243a284",
            "value": 260918544
          }
        },
        "7211762425d949a6a0c4a08660364a76": {
          "model_module": "@jupyter-widgets/controls",
          "model_name": "HTMLModel",
          "model_module_version": "1.5.0",
          "state": {
            "_dom_classes": [],
            "_model_module": "@jupyter-widgets/controls",
            "_model_module_version": "1.5.0",
            "_model_name": "HTMLModel",
            "_view_count": null,
            "_view_module": "@jupyter-widgets/controls",
            "_view_module_version": "1.5.0",
            "_view_name": "HTMLView",
            "description": "",
            "description_tooltip": null,
            "layout": "IPY_MODEL_9507e300a9e34bbe8a0df07a06a37413",
            "placeholder": "​",
            "style": "IPY_MODEL_47a94aab7b6748b1b93163dff62725a4",
            "value": " 249M/249M [00:27&lt;00:00, 9.99MB/s]"
          }
        },
        "fbd0145c351e4e9d947b365f77244b87": {
          "model_module": "@jupyter-widgets/base",
          "model_name": "LayoutModel",
          "model_module_version": "1.2.0",
          "state": {
            "_model_module": "@jupyter-widgets/base",
            "_model_module_version": "1.2.0",
            "_model_name": "LayoutModel",
            "_view_count": null,
            "_view_module": "@jupyter-widgets/base",
            "_view_module_version": "1.2.0",
            "_view_name": "LayoutView",
            "align_content": null,
            "align_items": null,
            "align_self": null,
            "border": null,
            "bottom": null,
            "display": null,
            "flex": null,
            "flex_flow": null,
            "grid_area": null,
            "grid_auto_columns": null,
            "grid_auto_flow": null,
            "grid_auto_rows": null,
            "grid_column": null,
            "grid_gap": null,
            "grid_row": null,
            "grid_template_areas": null,
            "grid_template_columns": null,
            "grid_template_rows": null,
            "height": null,
            "justify_content": null,
            "justify_items": null,
            "left": null,
            "margin": null,
            "max_height": null,
            "max_width": null,
            "min_height": null,
            "min_width": null,
            "object_fit": null,
            "object_position": null,
            "order": null,
            "overflow": null,
            "overflow_x": null,
            "overflow_y": null,
            "padding": null,
            "right": null,
            "top": null,
            "visibility": null,
            "width": null
          }
        },
        "eea7fe9110824532bfaf2f50edd45af7": {
          "model_module": "@jupyter-widgets/base",
          "model_name": "LayoutModel",
          "model_module_version": "1.2.0",
          "state": {
            "_model_module": "@jupyter-widgets/base",
            "_model_module_version": "1.2.0",
            "_model_name": "LayoutModel",
            "_view_count": null,
            "_view_module": "@jupyter-widgets/base",
            "_view_module_version": "1.2.0",
            "_view_name": "LayoutView",
            "align_content": null,
            "align_items": null,
            "align_self": null,
            "border": null,
            "bottom": null,
            "display": null,
            "flex": null,
            "flex_flow": null,
            "grid_area": null,
            "grid_auto_columns": null,
            "grid_auto_flow": null,
            "grid_auto_rows": null,
            "grid_column": null,
            "grid_gap": null,
            "grid_row": null,
            "grid_template_areas": null,
            "grid_template_columns": null,
            "grid_template_rows": null,
            "height": null,
            "justify_content": null,
            "justify_items": null,
            "left": null,
            "margin": null,
            "max_height": null,
            "max_width": null,
            "min_height": null,
            "min_width": null,
            "object_fit": null,
            "object_position": null,
            "order": null,
            "overflow": null,
            "overflow_x": null,
            "overflow_y": null,
            "padding": null,
            "right": null,
            "top": null,
            "visibility": null,
            "width": null
          }
        },
        "269dea0d5f03444c903a2ca922d2b67a": {
          "model_module": "@jupyter-widgets/controls",
          "model_name": "DescriptionStyleModel",
          "model_module_version": "1.5.0",
          "state": {
            "_model_module": "@jupyter-widgets/controls",
            "_model_module_version": "1.5.0",
            "_model_name": "DescriptionStyleModel",
            "_view_count": null,
            "_view_module": "@jupyter-widgets/base",
            "_view_module_version": "1.2.0",
            "_view_name": "StyleView",
            "description_width": ""
          }
        },
        "228d3598aee04ab1bc205e5ce796f934": {
          "model_module": "@jupyter-widgets/base",
          "model_name": "LayoutModel",
          "model_module_version": "1.2.0",
          "state": {
            "_model_module": "@jupyter-widgets/base",
            "_model_module_version": "1.2.0",
            "_model_name": "LayoutModel",
            "_view_count": null,
            "_view_module": "@jupyter-widgets/base",
            "_view_module_version": "1.2.0",
            "_view_name": "LayoutView",
            "align_content": null,
            "align_items": null,
            "align_self": null,
            "border": null,
            "bottom": null,
            "display": null,
            "flex": null,
            "flex_flow": null,
            "grid_area": null,
            "grid_auto_columns": null,
            "grid_auto_flow": null,
            "grid_auto_rows": null,
            "grid_column": null,
            "grid_gap": null,
            "grid_row": null,
            "grid_template_areas": null,
            "grid_template_columns": null,
            "grid_template_rows": null,
            "height": null,
            "justify_content": null,
            "justify_items": null,
            "left": null,
            "margin": null,
            "max_height": null,
            "max_width": null,
            "min_height": null,
            "min_width": null,
            "object_fit": null,
            "object_position": null,
            "order": null,
            "overflow": null,
            "overflow_x": null,
            "overflow_y": null,
            "padding": null,
            "right": null,
            "top": null,
            "visibility": null,
            "width": null
          }
        },
        "7d0e467e5bae45ef83fa54fc2243a284": {
          "model_module": "@jupyter-widgets/controls",
          "model_name": "ProgressStyleModel",
          "model_module_version": "1.5.0",
          "state": {
            "_model_module": "@jupyter-widgets/controls",
            "_model_module_version": "1.5.0",
            "_model_name": "ProgressStyleModel",
            "_view_count": null,
            "_view_module": "@jupyter-widgets/base",
            "_view_module_version": "1.2.0",
            "_view_name": "StyleView",
            "bar_color": null,
            "description_width": ""
          }
        },
        "9507e300a9e34bbe8a0df07a06a37413": {
          "model_module": "@jupyter-widgets/base",
          "model_name": "LayoutModel",
          "model_module_version": "1.2.0",
          "state": {
            "_model_module": "@jupyter-widgets/base",
            "_model_module_version": "1.2.0",
            "_model_name": "LayoutModel",
            "_view_count": null,
            "_view_module": "@jupyter-widgets/base",
            "_view_module_version": "1.2.0",
            "_view_name": "LayoutView",
            "align_content": null,
            "align_items": null,
            "align_self": null,
            "border": null,
            "bottom": null,
            "display": null,
            "flex": null,
            "flex_flow": null,
            "grid_area": null,
            "grid_auto_columns": null,
            "grid_auto_flow": null,
            "grid_auto_rows": null,
            "grid_column": null,
            "grid_gap": null,
            "grid_row": null,
            "grid_template_areas": null,
            "grid_template_columns": null,
            "grid_template_rows": null,
            "height": null,
            "justify_content": null,
            "justify_items": null,
            "left": null,
            "margin": null,
            "max_height": null,
            "max_width": null,
            "min_height": null,
            "min_width": null,
            "object_fit": null,
            "object_position": null,
            "order": null,
            "overflow": null,
            "overflow_x": null,
            "overflow_y": null,
            "padding": null,
            "right": null,
            "top": null,
            "visibility": null,
            "width": null
          }
        },
        "47a94aab7b6748b1b93163dff62725a4": {
          "model_module": "@jupyter-widgets/controls",
          "model_name": "DescriptionStyleModel",
          "model_module_version": "1.5.0",
          "state": {
            "_model_module": "@jupyter-widgets/controls",
            "_model_module_version": "1.5.0",
            "_model_name": "DescriptionStyleModel",
            "_view_count": null,
            "_view_module": "@jupyter-widgets/base",
            "_view_module_version": "1.2.0",
            "_view_name": "StyleView",
            "description_width": ""
          }
        },
        "032d5089e6c44a7e9717954496945c88": {
          "model_module": "@jupyter-widgets/controls",
          "model_name": "HBoxModel",
          "model_module_version": "1.5.0",
          "state": {
            "_dom_classes": [],
            "_model_module": "@jupyter-widgets/controls",
            "_model_module_version": "1.5.0",
            "_model_name": "HBoxModel",
            "_view_count": null,
            "_view_module": "@jupyter-widgets/controls",
            "_view_module_version": "1.5.0",
            "_view_name": "HBoxView",
            "box_style": "",
            "children": [
              "IPY_MODEL_7b701e22c13546cca8fee761a537eda2",
              "IPY_MODEL_2f7df6c871bb47feae57369f738ec3a8",
              "IPY_MODEL_91ac0fa12b2545709565c5b9068ceeed"
            ],
            "layout": "IPY_MODEL_9a67f09d4a584890aedd07455c40ff48"
          }
        },
        "7b701e22c13546cca8fee761a537eda2": {
          "model_module": "@jupyter-widgets/controls",
          "model_name": "HTMLModel",
          "model_module_version": "1.5.0",
          "state": {
            "_dom_classes": [],
            "_model_module": "@jupyter-widgets/controls",
            "_model_module_version": "1.5.0",
            "_model_name": "HTMLModel",
            "_view_count": null,
            "_view_module": "@jupyter-widgets/controls",
            "_view_module_version": "1.5.0",
            "_view_name": "HTMLView",
            "description": "",
            "description_tooltip": null,
            "layout": "IPY_MODEL_0220b88798ed40df8d24c87074a729b5",
            "placeholder": "​",
            "style": "IPY_MODEL_a9da1304a8e54b3ab4147a58be19c25b",
            "value": "config.json: 100%"
          }
        },
        "2f7df6c871bb47feae57369f738ec3a8": {
          "model_module": "@jupyter-widgets/controls",
          "model_name": "FloatProgressModel",
          "model_module_version": "1.5.0",
          "state": {
            "_dom_classes": [],
            "_model_module": "@jupyter-widgets/controls",
            "_model_module_version": "1.5.0",
            "_model_name": "FloatProgressModel",
            "_view_count": null,
            "_view_module": "@jupyter-widgets/controls",
            "_view_module_version": "1.5.0",
            "_view_name": "ProgressView",
            "bar_style": "success",
            "description": "",
            "description_tooltip": null,
            "layout": "IPY_MODEL_83a39e18049f44aaaa0cbf5998fa5e5e",
            "max": 898,
            "min": 0,
            "orientation": "horizontal",
            "style": "IPY_MODEL_e7b2238a23d649b68da43c51fa772c12",
            "value": 898
          }
        },
        "91ac0fa12b2545709565c5b9068ceeed": {
          "model_module": "@jupyter-widgets/controls",
          "model_name": "HTMLModel",
          "model_module_version": "1.5.0",
          "state": {
            "_dom_classes": [],
            "_model_module": "@jupyter-widgets/controls",
            "_model_module_version": "1.5.0",
            "_model_name": "HTMLModel",
            "_view_count": null,
            "_view_module": "@jupyter-widgets/controls",
            "_view_module_version": "1.5.0",
            "_view_name": "HTMLView",
            "description": "",
            "description_tooltip": null,
            "layout": "IPY_MODEL_a9b7b04173b64619bc4bc741e21093b5",
            "placeholder": "​",
            "style": "IPY_MODEL_b4a5eeb7d6394c28a7c85373bff834ac",
            "value": " 898/898 [00:00&lt;00:00, 31.8kB/s]"
          }
        },
        "9a67f09d4a584890aedd07455c40ff48": {
          "model_module": "@jupyter-widgets/base",
          "model_name": "LayoutModel",
          "model_module_version": "1.2.0",
          "state": {
            "_model_module": "@jupyter-widgets/base",
            "_model_module_version": "1.2.0",
            "_model_name": "LayoutModel",
            "_view_count": null,
            "_view_module": "@jupyter-widgets/base",
            "_view_module_version": "1.2.0",
            "_view_name": "LayoutView",
            "align_content": null,
            "align_items": null,
            "align_self": null,
            "border": null,
            "bottom": null,
            "display": null,
            "flex": null,
            "flex_flow": null,
            "grid_area": null,
            "grid_auto_columns": null,
            "grid_auto_flow": null,
            "grid_auto_rows": null,
            "grid_column": null,
            "grid_gap": null,
            "grid_row": null,
            "grid_template_areas": null,
            "grid_template_columns": null,
            "grid_template_rows": null,
            "height": null,
            "justify_content": null,
            "justify_items": null,
            "left": null,
            "margin": null,
            "max_height": null,
            "max_width": null,
            "min_height": null,
            "min_width": null,
            "object_fit": null,
            "object_position": null,
            "order": null,
            "overflow": null,
            "overflow_x": null,
            "overflow_y": null,
            "padding": null,
            "right": null,
            "top": null,
            "visibility": null,
            "width": null
          }
        },
        "0220b88798ed40df8d24c87074a729b5": {
          "model_module": "@jupyter-widgets/base",
          "model_name": "LayoutModel",
          "model_module_version": "1.2.0",
          "state": {
            "_model_module": "@jupyter-widgets/base",
            "_model_module_version": "1.2.0",
            "_model_name": "LayoutModel",
            "_view_count": null,
            "_view_module": "@jupyter-widgets/base",
            "_view_module_version": "1.2.0",
            "_view_name": "LayoutView",
            "align_content": null,
            "align_items": null,
            "align_self": null,
            "border": null,
            "bottom": null,
            "display": null,
            "flex": null,
            "flex_flow": null,
            "grid_area": null,
            "grid_auto_columns": null,
            "grid_auto_flow": null,
            "grid_auto_rows": null,
            "grid_column": null,
            "grid_gap": null,
            "grid_row": null,
            "grid_template_areas": null,
            "grid_template_columns": null,
            "grid_template_rows": null,
            "height": null,
            "justify_content": null,
            "justify_items": null,
            "left": null,
            "margin": null,
            "max_height": null,
            "max_width": null,
            "min_height": null,
            "min_width": null,
            "object_fit": null,
            "object_position": null,
            "order": null,
            "overflow": null,
            "overflow_x": null,
            "overflow_y": null,
            "padding": null,
            "right": null,
            "top": null,
            "visibility": null,
            "width": null
          }
        },
        "a9da1304a8e54b3ab4147a58be19c25b": {
          "model_module": "@jupyter-widgets/controls",
          "model_name": "DescriptionStyleModel",
          "model_module_version": "1.5.0",
          "state": {
            "_model_module": "@jupyter-widgets/controls",
            "_model_module_version": "1.5.0",
            "_model_name": "DescriptionStyleModel",
            "_view_count": null,
            "_view_module": "@jupyter-widgets/base",
            "_view_module_version": "1.2.0",
            "_view_name": "StyleView",
            "description_width": ""
          }
        },
        "83a39e18049f44aaaa0cbf5998fa5e5e": {
          "model_module": "@jupyter-widgets/base",
          "model_name": "LayoutModel",
          "model_module_version": "1.2.0",
          "state": {
            "_model_module": "@jupyter-widgets/base",
            "_model_module_version": "1.2.0",
            "_model_name": "LayoutModel",
            "_view_count": null,
            "_view_module": "@jupyter-widgets/base",
            "_view_module_version": "1.2.0",
            "_view_name": "LayoutView",
            "align_content": null,
            "align_items": null,
            "align_self": null,
            "border": null,
            "bottom": null,
            "display": null,
            "flex": null,
            "flex_flow": null,
            "grid_area": null,
            "grid_auto_columns": null,
            "grid_auto_flow": null,
            "grid_auto_rows": null,
            "grid_column": null,
            "grid_gap": null,
            "grid_row": null,
            "grid_template_areas": null,
            "grid_template_columns": null,
            "grid_template_rows": null,
            "height": null,
            "justify_content": null,
            "justify_items": null,
            "left": null,
            "margin": null,
            "max_height": null,
            "max_width": null,
            "min_height": null,
            "min_width": null,
            "object_fit": null,
            "object_position": null,
            "order": null,
            "overflow": null,
            "overflow_x": null,
            "overflow_y": null,
            "padding": null,
            "right": null,
            "top": null,
            "visibility": null,
            "width": null
          }
        },
        "e7b2238a23d649b68da43c51fa772c12": {
          "model_module": "@jupyter-widgets/controls",
          "model_name": "ProgressStyleModel",
          "model_module_version": "1.5.0",
          "state": {
            "_model_module": "@jupyter-widgets/controls",
            "_model_module_version": "1.5.0",
            "_model_name": "ProgressStyleModel",
            "_view_count": null,
            "_view_module": "@jupyter-widgets/base",
            "_view_module_version": "1.2.0",
            "_view_name": "StyleView",
            "bar_color": null,
            "description_width": ""
          }
        },
        "a9b7b04173b64619bc4bc741e21093b5": {
          "model_module": "@jupyter-widgets/base",
          "model_name": "LayoutModel",
          "model_module_version": "1.2.0",
          "state": {
            "_model_module": "@jupyter-widgets/base",
            "_model_module_version": "1.2.0",
            "_model_name": "LayoutModel",
            "_view_count": null,
            "_view_module": "@jupyter-widgets/base",
            "_view_module_version": "1.2.0",
            "_view_name": "LayoutView",
            "align_content": null,
            "align_items": null,
            "align_self": null,
            "border": null,
            "bottom": null,
            "display": null,
            "flex": null,
            "flex_flow": null,
            "grid_area": null,
            "grid_auto_columns": null,
            "grid_auto_flow": null,
            "grid_auto_rows": null,
            "grid_column": null,
            "grid_gap": null,
            "grid_row": null,
            "grid_template_areas": null,
            "grid_template_columns": null,
            "grid_template_rows": null,
            "height": null,
            "justify_content": null,
            "justify_items": null,
            "left": null,
            "margin": null,
            "max_height": null,
            "max_width": null,
            "min_height": null,
            "min_width": null,
            "object_fit": null,
            "object_position": null,
            "order": null,
            "overflow": null,
            "overflow_x": null,
            "overflow_y": null,
            "padding": null,
            "right": null,
            "top": null,
            "visibility": null,
            "width": null
          }
        },
        "b4a5eeb7d6394c28a7c85373bff834ac": {
          "model_module": "@jupyter-widgets/controls",
          "model_name": "DescriptionStyleModel",
          "model_module_version": "1.5.0",
          "state": {
            "_model_module": "@jupyter-widgets/controls",
            "_model_module_version": "1.5.0",
            "_model_name": "DescriptionStyleModel",
            "_view_count": null,
            "_view_module": "@jupyter-widgets/base",
            "_view_module_version": "1.2.0",
            "_view_name": "StyleView",
            "description_width": ""
          }
        },
        "62eb3fc07457424dbba8204f5cb983da": {
          "model_module": "@jupyter-widgets/controls",
          "model_name": "HBoxModel",
          "model_module_version": "1.5.0",
          "state": {
            "_dom_classes": [],
            "_model_module": "@jupyter-widgets/controls",
            "_model_module_version": "1.5.0",
            "_model_name": "HBoxModel",
            "_view_count": null,
            "_view_module": "@jupyter-widgets/controls",
            "_view_module_version": "1.5.0",
            "_view_name": "HBoxView",
            "box_style": "",
            "children": [
              "IPY_MODEL_b0cb55f10e874fa59ce1963e60449e9b",
              "IPY_MODEL_97cb43f46fcf47b3bd893dd1591425d7",
              "IPY_MODEL_40a863e7152c4f61ab58c8d8a6c63e24"
            ],
            "layout": "IPY_MODEL_10726f6ef5cc4d3e930e55af32dbc8cf"
          }
        },
        "b0cb55f10e874fa59ce1963e60449e9b": {
          "model_module": "@jupyter-widgets/controls",
          "model_name": "HTMLModel",
          "model_module_version": "1.5.0",
          "state": {
            "_dom_classes": [],
            "_model_module": "@jupyter-widgets/controls",
            "_model_module_version": "1.5.0",
            "_model_name": "HTMLModel",
            "_view_count": null,
            "_view_module": "@jupyter-widgets/controls",
            "_view_module_version": "1.5.0",
            "_view_name": "HTMLView",
            "description": "",
            "description_tooltip": null,
            "layout": "IPY_MODEL_d6c1a3b3363d47468b31308fcf5afb84",
            "placeholder": "​",
            "style": "IPY_MODEL_e6e99bc8357a4f438f75b2d26f5185d1",
            "value": "tf_model.h5: 100%"
          }
        },
        "97cb43f46fcf47b3bd893dd1591425d7": {
          "model_module": "@jupyter-widgets/controls",
          "model_name": "FloatProgressModel",
          "model_module_version": "1.5.0",
          "state": {
            "_dom_classes": [],
            "_model_module": "@jupyter-widgets/controls",
            "_model_module_version": "1.5.0",
            "_model_name": "FloatProgressModel",
            "_view_count": null,
            "_view_module": "@jupyter-widgets/controls",
            "_view_module_version": "1.5.0",
            "_view_name": "ProgressView",
            "bar_style": "success",
            "description": "",
            "description_tooltip": null,
            "layout": "IPY_MODEL_9741dd86f332449f86bc41b66a0d3c01",
            "max": 260918544,
            "min": 0,
            "orientation": "horizontal",
            "style": "IPY_MODEL_c66ff1c6726948d0a18543240beb4ec8",
            "value": 260918544
          }
        },
        "40a863e7152c4f61ab58c8d8a6c63e24": {
          "model_module": "@jupyter-widgets/controls",
          "model_name": "HTMLModel",
          "model_module_version": "1.5.0",
          "state": {
            "_dom_classes": [],
            "_model_module": "@jupyter-widgets/controls",
            "_model_module_version": "1.5.0",
            "_model_name": "HTMLModel",
            "_view_count": null,
            "_view_module": "@jupyter-widgets/controls",
            "_view_module_version": "1.5.0",
            "_view_name": "HTMLView",
            "description": "",
            "description_tooltip": null,
            "layout": "IPY_MODEL_769d1d940702426ba7859bf9e2fd5961",
            "placeholder": "​",
            "style": "IPY_MODEL_39d7cee17abd486f9031e6577c8b25c0",
            "value": " 261M/261M [00:01&lt;00:00, 275MB/s]"
          }
        },
        "10726f6ef5cc4d3e930e55af32dbc8cf": {
          "model_module": "@jupyter-widgets/base",
          "model_name": "LayoutModel",
          "model_module_version": "1.2.0",
          "state": {
            "_model_module": "@jupyter-widgets/base",
            "_model_module_version": "1.2.0",
            "_model_name": "LayoutModel",
            "_view_count": null,
            "_view_module": "@jupyter-widgets/base",
            "_view_module_version": "1.2.0",
            "_view_name": "LayoutView",
            "align_content": null,
            "align_items": null,
            "align_self": null,
            "border": null,
            "bottom": null,
            "display": null,
            "flex": null,
            "flex_flow": null,
            "grid_area": null,
            "grid_auto_columns": null,
            "grid_auto_flow": null,
            "grid_auto_rows": null,
            "grid_column": null,
            "grid_gap": null,
            "grid_row": null,
            "grid_template_areas": null,
            "grid_template_columns": null,
            "grid_template_rows": null,
            "height": null,
            "justify_content": null,
            "justify_items": null,
            "left": null,
            "margin": null,
            "max_height": null,
            "max_width": null,
            "min_height": null,
            "min_width": null,
            "object_fit": null,
            "object_position": null,
            "order": null,
            "overflow": null,
            "overflow_x": null,
            "overflow_y": null,
            "padding": null,
            "right": null,
            "top": null,
            "visibility": null,
            "width": null
          }
        },
        "d6c1a3b3363d47468b31308fcf5afb84": {
          "model_module": "@jupyter-widgets/base",
          "model_name": "LayoutModel",
          "model_module_version": "1.2.0",
          "state": {
            "_model_module": "@jupyter-widgets/base",
            "_model_module_version": "1.2.0",
            "_model_name": "LayoutModel",
            "_view_count": null,
            "_view_module": "@jupyter-widgets/base",
            "_view_module_version": "1.2.0",
            "_view_name": "LayoutView",
            "align_content": null,
            "align_items": null,
            "align_self": null,
            "border": null,
            "bottom": null,
            "display": null,
            "flex": null,
            "flex_flow": null,
            "grid_area": null,
            "grid_auto_columns": null,
            "grid_auto_flow": null,
            "grid_auto_rows": null,
            "grid_column": null,
            "grid_gap": null,
            "grid_row": null,
            "grid_template_areas": null,
            "grid_template_columns": null,
            "grid_template_rows": null,
            "height": null,
            "justify_content": null,
            "justify_items": null,
            "left": null,
            "margin": null,
            "max_height": null,
            "max_width": null,
            "min_height": null,
            "min_width": null,
            "object_fit": null,
            "object_position": null,
            "order": null,
            "overflow": null,
            "overflow_x": null,
            "overflow_y": null,
            "padding": null,
            "right": null,
            "top": null,
            "visibility": null,
            "width": null
          }
        },
        "e6e99bc8357a4f438f75b2d26f5185d1": {
          "model_module": "@jupyter-widgets/controls",
          "model_name": "DescriptionStyleModel",
          "model_module_version": "1.5.0",
          "state": {
            "_model_module": "@jupyter-widgets/controls",
            "_model_module_version": "1.5.0",
            "_model_name": "DescriptionStyleModel",
            "_view_count": null,
            "_view_module": "@jupyter-widgets/base",
            "_view_module_version": "1.2.0",
            "_view_name": "StyleView",
            "description_width": ""
          }
        },
        "9741dd86f332449f86bc41b66a0d3c01": {
          "model_module": "@jupyter-widgets/base",
          "model_name": "LayoutModel",
          "model_module_version": "1.2.0",
          "state": {
            "_model_module": "@jupyter-widgets/base",
            "_model_module_version": "1.2.0",
            "_model_name": "LayoutModel",
            "_view_count": null,
            "_view_module": "@jupyter-widgets/base",
            "_view_module_version": "1.2.0",
            "_view_name": "LayoutView",
            "align_content": null,
            "align_items": null,
            "align_self": null,
            "border": null,
            "bottom": null,
            "display": null,
            "flex": null,
            "flex_flow": null,
            "grid_area": null,
            "grid_auto_columns": null,
            "grid_auto_flow": null,
            "grid_auto_rows": null,
            "grid_column": null,
            "grid_gap": null,
            "grid_row": null,
            "grid_template_areas": null,
            "grid_template_columns": null,
            "grid_template_rows": null,
            "height": null,
            "justify_content": null,
            "justify_items": null,
            "left": null,
            "margin": null,
            "max_height": null,
            "max_width": null,
            "min_height": null,
            "min_width": null,
            "object_fit": null,
            "object_position": null,
            "order": null,
            "overflow": null,
            "overflow_x": null,
            "overflow_y": null,
            "padding": null,
            "right": null,
            "top": null,
            "visibility": null,
            "width": null
          }
        },
        "c66ff1c6726948d0a18543240beb4ec8": {
          "model_module": "@jupyter-widgets/controls",
          "model_name": "ProgressStyleModel",
          "model_module_version": "1.5.0",
          "state": {
            "_model_module": "@jupyter-widgets/controls",
            "_model_module_version": "1.5.0",
            "_model_name": "ProgressStyleModel",
            "_view_count": null,
            "_view_module": "@jupyter-widgets/base",
            "_view_module_version": "1.2.0",
            "_view_name": "StyleView",
            "bar_color": null,
            "description_width": ""
          }
        },
        "769d1d940702426ba7859bf9e2fd5961": {
          "model_module": "@jupyter-widgets/base",
          "model_name": "LayoutModel",
          "model_module_version": "1.2.0",
          "state": {
            "_model_module": "@jupyter-widgets/base",
            "_model_module_version": "1.2.0",
            "_model_name": "LayoutModel",
            "_view_count": null,
            "_view_module": "@jupyter-widgets/base",
            "_view_module_version": "1.2.0",
            "_view_name": "LayoutView",
            "align_content": null,
            "align_items": null,
            "align_self": null,
            "border": null,
            "bottom": null,
            "display": null,
            "flex": null,
            "flex_flow": null,
            "grid_area": null,
            "grid_auto_columns": null,
            "grid_auto_flow": null,
            "grid_auto_rows": null,
            "grid_column": null,
            "grid_gap": null,
            "grid_row": null,
            "grid_template_areas": null,
            "grid_template_columns": null,
            "grid_template_rows": null,
            "height": null,
            "justify_content": null,
            "justify_items": null,
            "left": null,
            "margin": null,
            "max_height": null,
            "max_width": null,
            "min_height": null,
            "min_width": null,
            "object_fit": null,
            "object_position": null,
            "order": null,
            "overflow": null,
            "overflow_x": null,
            "overflow_y": null,
            "padding": null,
            "right": null,
            "top": null,
            "visibility": null,
            "width": null
          }
        },
        "39d7cee17abd486f9031e6577c8b25c0": {
          "model_module": "@jupyter-widgets/controls",
          "model_name": "DescriptionStyleModel",
          "model_module_version": "1.5.0",
          "state": {
            "_model_module": "@jupyter-widgets/controls",
            "_model_module_version": "1.5.0",
            "_model_name": "DescriptionStyleModel",
            "_view_count": null,
            "_view_module": "@jupyter-widgets/base",
            "_view_module_version": "1.2.0",
            "_view_name": "StyleView",
            "description_width": ""
          }
        },
        "986dd71f0d0f4a36b5c40951f9281020": {
          "model_module": "@jupyter-widgets/controls",
          "model_name": "HBoxModel",
          "model_module_version": "1.5.0",
          "state": {
            "_dom_classes": [],
            "_model_module": "@jupyter-widgets/controls",
            "_model_module_version": "1.5.0",
            "_model_name": "HBoxModel",
            "_view_count": null,
            "_view_module": "@jupyter-widgets/controls",
            "_view_module_version": "1.5.0",
            "_view_name": "HBoxView",
            "box_style": "",
            "children": [
              "IPY_MODEL_164ac199547e45de99461c33e54b2bb6",
              "IPY_MODEL_7846f145105c49ed966c982a8f0d0392",
              "IPY_MODEL_4e63a4205770402084ec8de26526352d"
            ],
            "layout": "IPY_MODEL_994a30534c174ca4b4f32e3df69055fc"
          }
        },
        "164ac199547e45de99461c33e54b2bb6": {
          "model_module": "@jupyter-widgets/controls",
          "model_name": "HTMLModel",
          "model_module_version": "1.5.0",
          "state": {
            "_dom_classes": [],
            "_model_module": "@jupyter-widgets/controls",
            "_model_module_version": "1.5.0",
            "_model_name": "HTMLModel",
            "_view_count": null,
            "_view_module": "@jupyter-widgets/controls",
            "_view_module_version": "1.5.0",
            "_view_name": "HTMLView",
            "description": "",
            "description_tooltip": null,
            "layout": "IPY_MODEL_075fe64881be453b8b4f11ca290ff5df",
            "placeholder": "​",
            "style": "IPY_MODEL_4111433c21f34a53a9b99f2af1902899",
            "value": "tokenizer_config.json: 100%"
          }
        },
        "7846f145105c49ed966c982a8f0d0392": {
          "model_module": "@jupyter-widgets/controls",
          "model_name": "FloatProgressModel",
          "model_module_version": "1.5.0",
          "state": {
            "_dom_classes": [],
            "_model_module": "@jupyter-widgets/controls",
            "_model_module_version": "1.5.0",
            "_model_name": "FloatProgressModel",
            "_view_count": null,
            "_view_module": "@jupyter-widgets/controls",
            "_view_module_version": "1.5.0",
            "_view_name": "ProgressView",
            "bar_style": "success",
            "description": "",
            "description_tooltip": null,
            "layout": "IPY_MODEL_9db5be6cd4044085ba93f3e3cb835162",
            "max": 1197,
            "min": 0,
            "orientation": "horizontal",
            "style": "IPY_MODEL_d311a5e617f6414383f9fa19fdffb54d",
            "value": 1197
          }
        },
        "4e63a4205770402084ec8de26526352d": {
          "model_module": "@jupyter-widgets/controls",
          "model_name": "HTMLModel",
          "model_module_version": "1.5.0",
          "state": {
            "_dom_classes": [],
            "_model_module": "@jupyter-widgets/controls",
            "_model_module_version": "1.5.0",
            "_model_name": "HTMLModel",
            "_view_count": null,
            "_view_module": "@jupyter-widgets/controls",
            "_view_module_version": "1.5.0",
            "_view_name": "HTMLView",
            "description": "",
            "description_tooltip": null,
            "layout": "IPY_MODEL_0d4e8a70be7b40d38319f339de565178",
            "placeholder": "​",
            "style": "IPY_MODEL_600225a0f6b64bbb93b80d45b3ebf008",
            "value": " 1.20k/1.20k [00:00&lt;00:00, 61.6kB/s]"
          }
        },
        "994a30534c174ca4b4f32e3df69055fc": {
          "model_module": "@jupyter-widgets/base",
          "model_name": "LayoutModel",
          "model_module_version": "1.2.0",
          "state": {
            "_model_module": "@jupyter-widgets/base",
            "_model_module_version": "1.2.0",
            "_model_name": "LayoutModel",
            "_view_count": null,
            "_view_module": "@jupyter-widgets/base",
            "_view_module_version": "1.2.0",
            "_view_name": "LayoutView",
            "align_content": null,
            "align_items": null,
            "align_self": null,
            "border": null,
            "bottom": null,
            "display": null,
            "flex": null,
            "flex_flow": null,
            "grid_area": null,
            "grid_auto_columns": null,
            "grid_auto_flow": null,
            "grid_auto_rows": null,
            "grid_column": null,
            "grid_gap": null,
            "grid_row": null,
            "grid_template_areas": null,
            "grid_template_columns": null,
            "grid_template_rows": null,
            "height": null,
            "justify_content": null,
            "justify_items": null,
            "left": null,
            "margin": null,
            "max_height": null,
            "max_width": null,
            "min_height": null,
            "min_width": null,
            "object_fit": null,
            "object_position": null,
            "order": null,
            "overflow": null,
            "overflow_x": null,
            "overflow_y": null,
            "padding": null,
            "right": null,
            "top": null,
            "visibility": null,
            "width": null
          }
        },
        "075fe64881be453b8b4f11ca290ff5df": {
          "model_module": "@jupyter-widgets/base",
          "model_name": "LayoutModel",
          "model_module_version": "1.2.0",
          "state": {
            "_model_module": "@jupyter-widgets/base",
            "_model_module_version": "1.2.0",
            "_model_name": "LayoutModel",
            "_view_count": null,
            "_view_module": "@jupyter-widgets/base",
            "_view_module_version": "1.2.0",
            "_view_name": "LayoutView",
            "align_content": null,
            "align_items": null,
            "align_self": null,
            "border": null,
            "bottom": null,
            "display": null,
            "flex": null,
            "flex_flow": null,
            "grid_area": null,
            "grid_auto_columns": null,
            "grid_auto_flow": null,
            "grid_auto_rows": null,
            "grid_column": null,
            "grid_gap": null,
            "grid_row": null,
            "grid_template_areas": null,
            "grid_template_columns": null,
            "grid_template_rows": null,
            "height": null,
            "justify_content": null,
            "justify_items": null,
            "left": null,
            "margin": null,
            "max_height": null,
            "max_width": null,
            "min_height": null,
            "min_width": null,
            "object_fit": null,
            "object_position": null,
            "order": null,
            "overflow": null,
            "overflow_x": null,
            "overflow_y": null,
            "padding": null,
            "right": null,
            "top": null,
            "visibility": null,
            "width": null
          }
        },
        "4111433c21f34a53a9b99f2af1902899": {
          "model_module": "@jupyter-widgets/controls",
          "model_name": "DescriptionStyleModel",
          "model_module_version": "1.5.0",
          "state": {
            "_model_module": "@jupyter-widgets/controls",
            "_model_module_version": "1.5.0",
            "_model_name": "DescriptionStyleModel",
            "_view_count": null,
            "_view_module": "@jupyter-widgets/base",
            "_view_module_version": "1.2.0",
            "_view_name": "StyleView",
            "description_width": ""
          }
        },
        "9db5be6cd4044085ba93f3e3cb835162": {
          "model_module": "@jupyter-widgets/base",
          "model_name": "LayoutModel",
          "model_module_version": "1.2.0",
          "state": {
            "_model_module": "@jupyter-widgets/base",
            "_model_module_version": "1.2.0",
            "_model_name": "LayoutModel",
            "_view_count": null,
            "_view_module": "@jupyter-widgets/base",
            "_view_module_version": "1.2.0",
            "_view_name": "LayoutView",
            "align_content": null,
            "align_items": null,
            "align_self": null,
            "border": null,
            "bottom": null,
            "display": null,
            "flex": null,
            "flex_flow": null,
            "grid_area": null,
            "grid_auto_columns": null,
            "grid_auto_flow": null,
            "grid_auto_rows": null,
            "grid_column": null,
            "grid_gap": null,
            "grid_row": null,
            "grid_template_areas": null,
            "grid_template_columns": null,
            "grid_template_rows": null,
            "height": null,
            "justify_content": null,
            "justify_items": null,
            "left": null,
            "margin": null,
            "max_height": null,
            "max_width": null,
            "min_height": null,
            "min_width": null,
            "object_fit": null,
            "object_position": null,
            "order": null,
            "overflow": null,
            "overflow_x": null,
            "overflow_y": null,
            "padding": null,
            "right": null,
            "top": null,
            "visibility": null,
            "width": null
          }
        },
        "d311a5e617f6414383f9fa19fdffb54d": {
          "model_module": "@jupyter-widgets/controls",
          "model_name": "ProgressStyleModel",
          "model_module_version": "1.5.0",
          "state": {
            "_model_module": "@jupyter-widgets/controls",
            "_model_module_version": "1.5.0",
            "_model_name": "ProgressStyleModel",
            "_view_count": null,
            "_view_module": "@jupyter-widgets/base",
            "_view_module_version": "1.2.0",
            "_view_name": "StyleView",
            "bar_color": null,
            "description_width": ""
          }
        },
        "0d4e8a70be7b40d38319f339de565178": {
          "model_module": "@jupyter-widgets/base",
          "model_name": "LayoutModel",
          "model_module_version": "1.2.0",
          "state": {
            "_model_module": "@jupyter-widgets/base",
            "_model_module_version": "1.2.0",
            "_model_name": "LayoutModel",
            "_view_count": null,
            "_view_module": "@jupyter-widgets/base",
            "_view_module_version": "1.2.0",
            "_view_name": "LayoutView",
            "align_content": null,
            "align_items": null,
            "align_self": null,
            "border": null,
            "bottom": null,
            "display": null,
            "flex": null,
            "flex_flow": null,
            "grid_area": null,
            "grid_auto_columns": null,
            "grid_auto_flow": null,
            "grid_auto_rows": null,
            "grid_column": null,
            "grid_gap": null,
            "grid_row": null,
            "grid_template_areas": null,
            "grid_template_columns": null,
            "grid_template_rows": null,
            "height": null,
            "justify_content": null,
            "justify_items": null,
            "left": null,
            "margin": null,
            "max_height": null,
            "max_width": null,
            "min_height": null,
            "min_width": null,
            "object_fit": null,
            "object_position": null,
            "order": null,
            "overflow": null,
            "overflow_x": null,
            "overflow_y": null,
            "padding": null,
            "right": null,
            "top": null,
            "visibility": null,
            "width": null
          }
        },
        "600225a0f6b64bbb93b80d45b3ebf008": {
          "model_module": "@jupyter-widgets/controls",
          "model_name": "DescriptionStyleModel",
          "model_module_version": "1.5.0",
          "state": {
            "_model_module": "@jupyter-widgets/controls",
            "_model_module_version": "1.5.0",
            "_model_name": "DescriptionStyleModel",
            "_view_count": null,
            "_view_module": "@jupyter-widgets/base",
            "_view_module_version": "1.2.0",
            "_view_name": "StyleView",
            "description_width": ""
          }
        },
        "ee6a7b6aec9f42faa87607926fee44ba": {
          "model_module": "@jupyter-widgets/controls",
          "model_name": "HBoxModel",
          "model_module_version": "1.5.0",
          "state": {
            "_dom_classes": [],
            "_model_module": "@jupyter-widgets/controls",
            "_model_module_version": "1.5.0",
            "_model_name": "HBoxModel",
            "_view_count": null,
            "_view_module": "@jupyter-widgets/controls",
            "_view_module_version": "1.5.0",
            "_view_name": "HBoxView",
            "box_style": "",
            "children": [
              "IPY_MODEL_3b2da85bb3604cc1a851d815c22f7ce0",
              "IPY_MODEL_be3153850f2445df86a9a4e81c4ed283",
              "IPY_MODEL_5f96705dab4544cfb66b5fbeba145a76"
            ],
            "layout": "IPY_MODEL_84a6da4a2e4a4d34827b3607922a3fdc"
          }
        },
        "3b2da85bb3604cc1a851d815c22f7ce0": {
          "model_module": "@jupyter-widgets/controls",
          "model_name": "HTMLModel",
          "model_module_version": "1.5.0",
          "state": {
            "_dom_classes": [],
            "_model_module": "@jupyter-widgets/controls",
            "_model_module_version": "1.5.0",
            "_model_name": "HTMLModel",
            "_view_count": null,
            "_view_module": "@jupyter-widgets/controls",
            "_view_module_version": "1.5.0",
            "_view_name": "HTMLView",
            "description": "",
            "description_tooltip": null,
            "layout": "IPY_MODEL_2ca5d6b35922497e9b0abc69f4c21f52",
            "placeholder": "​",
            "style": "IPY_MODEL_461c4ca9900b45e9b41f0d9649234948",
            "value": "vocab.txt: 100%"
          }
        },
        "be3153850f2445df86a9a4e81c4ed283": {
          "model_module": "@jupyter-widgets/controls",
          "model_name": "FloatProgressModel",
          "model_module_version": "1.5.0",
          "state": {
            "_dom_classes": [],
            "_model_module": "@jupyter-widgets/controls",
            "_model_module_version": "1.5.0",
            "_model_name": "FloatProgressModel",
            "_view_count": null,
            "_view_module": "@jupyter-widgets/controls",
            "_view_module_version": "1.5.0",
            "_view_name": "ProgressView",
            "bar_style": "success",
            "description": "",
            "description_tooltip": null,
            "layout": "IPY_MODEL_df1b494cc8f04f13986c3a00b4648c6b",
            "max": 213450,
            "min": 0,
            "orientation": "horizontal",
            "style": "IPY_MODEL_3131fc13fee146b4b7cd71949fbf611e",
            "value": 213450
          }
        },
        "5f96705dab4544cfb66b5fbeba145a76": {
          "model_module": "@jupyter-widgets/controls",
          "model_name": "HTMLModel",
          "model_module_version": "1.5.0",
          "state": {
            "_dom_classes": [],
            "_model_module": "@jupyter-widgets/controls",
            "_model_module_version": "1.5.0",
            "_model_name": "HTMLModel",
            "_view_count": null,
            "_view_module": "@jupyter-widgets/controls",
            "_view_module_version": "1.5.0",
            "_view_name": "HTMLView",
            "description": "",
            "description_tooltip": null,
            "layout": "IPY_MODEL_d7a0d5888ec84b178a19de5fffe365ea",
            "placeholder": "​",
            "style": "IPY_MODEL_efdd5b6078bc4dd79ae9b1a39056bb7a",
            "value": " 213k/213k [00:00&lt;00:00, 1.30MB/s]"
          }
        },
        "84a6da4a2e4a4d34827b3607922a3fdc": {
          "model_module": "@jupyter-widgets/base",
          "model_name": "LayoutModel",
          "model_module_version": "1.2.0",
          "state": {
            "_model_module": "@jupyter-widgets/base",
            "_model_module_version": "1.2.0",
            "_model_name": "LayoutModel",
            "_view_count": null,
            "_view_module": "@jupyter-widgets/base",
            "_view_module_version": "1.2.0",
            "_view_name": "LayoutView",
            "align_content": null,
            "align_items": null,
            "align_self": null,
            "border": null,
            "bottom": null,
            "display": null,
            "flex": null,
            "flex_flow": null,
            "grid_area": null,
            "grid_auto_columns": null,
            "grid_auto_flow": null,
            "grid_auto_rows": null,
            "grid_column": null,
            "grid_gap": null,
            "grid_row": null,
            "grid_template_areas": null,
            "grid_template_columns": null,
            "grid_template_rows": null,
            "height": null,
            "justify_content": null,
            "justify_items": null,
            "left": null,
            "margin": null,
            "max_height": null,
            "max_width": null,
            "min_height": null,
            "min_width": null,
            "object_fit": null,
            "object_position": null,
            "order": null,
            "overflow": null,
            "overflow_x": null,
            "overflow_y": null,
            "padding": null,
            "right": null,
            "top": null,
            "visibility": null,
            "width": null
          }
        },
        "2ca5d6b35922497e9b0abc69f4c21f52": {
          "model_module": "@jupyter-widgets/base",
          "model_name": "LayoutModel",
          "model_module_version": "1.2.0",
          "state": {
            "_model_module": "@jupyter-widgets/base",
            "_model_module_version": "1.2.0",
            "_model_name": "LayoutModel",
            "_view_count": null,
            "_view_module": "@jupyter-widgets/base",
            "_view_module_version": "1.2.0",
            "_view_name": "LayoutView",
            "align_content": null,
            "align_items": null,
            "align_self": null,
            "border": null,
            "bottom": null,
            "display": null,
            "flex": null,
            "flex_flow": null,
            "grid_area": null,
            "grid_auto_columns": null,
            "grid_auto_flow": null,
            "grid_auto_rows": null,
            "grid_column": null,
            "grid_gap": null,
            "grid_row": null,
            "grid_template_areas": null,
            "grid_template_columns": null,
            "grid_template_rows": null,
            "height": null,
            "justify_content": null,
            "justify_items": null,
            "left": null,
            "margin": null,
            "max_height": null,
            "max_width": null,
            "min_height": null,
            "min_width": null,
            "object_fit": null,
            "object_position": null,
            "order": null,
            "overflow": null,
            "overflow_x": null,
            "overflow_y": null,
            "padding": null,
            "right": null,
            "top": null,
            "visibility": null,
            "width": null
          }
        },
        "461c4ca9900b45e9b41f0d9649234948": {
          "model_module": "@jupyter-widgets/controls",
          "model_name": "DescriptionStyleModel",
          "model_module_version": "1.5.0",
          "state": {
            "_model_module": "@jupyter-widgets/controls",
            "_model_module_version": "1.5.0",
            "_model_name": "DescriptionStyleModel",
            "_view_count": null,
            "_view_module": "@jupyter-widgets/base",
            "_view_module_version": "1.2.0",
            "_view_name": "StyleView",
            "description_width": ""
          }
        },
        "df1b494cc8f04f13986c3a00b4648c6b": {
          "model_module": "@jupyter-widgets/base",
          "model_name": "LayoutModel",
          "model_module_version": "1.2.0",
          "state": {
            "_model_module": "@jupyter-widgets/base",
            "_model_module_version": "1.2.0",
            "_model_name": "LayoutModel",
            "_view_count": null,
            "_view_module": "@jupyter-widgets/base",
            "_view_module_version": "1.2.0",
            "_view_name": "LayoutView",
            "align_content": null,
            "align_items": null,
            "align_self": null,
            "border": null,
            "bottom": null,
            "display": null,
            "flex": null,
            "flex_flow": null,
            "grid_area": null,
            "grid_auto_columns": null,
            "grid_auto_flow": null,
            "grid_auto_rows": null,
            "grid_column": null,
            "grid_gap": null,
            "grid_row": null,
            "grid_template_areas": null,
            "grid_template_columns": null,
            "grid_template_rows": null,
            "height": null,
            "justify_content": null,
            "justify_items": null,
            "left": null,
            "margin": null,
            "max_height": null,
            "max_width": null,
            "min_height": null,
            "min_width": null,
            "object_fit": null,
            "object_position": null,
            "order": null,
            "overflow": null,
            "overflow_x": null,
            "overflow_y": null,
            "padding": null,
            "right": null,
            "top": null,
            "visibility": null,
            "width": null
          }
        },
        "3131fc13fee146b4b7cd71949fbf611e": {
          "model_module": "@jupyter-widgets/controls",
          "model_name": "ProgressStyleModel",
          "model_module_version": "1.5.0",
          "state": {
            "_model_module": "@jupyter-widgets/controls",
            "_model_module_version": "1.5.0",
            "_model_name": "ProgressStyleModel",
            "_view_count": null,
            "_view_module": "@jupyter-widgets/base",
            "_view_module_version": "1.2.0",
            "_view_name": "StyleView",
            "bar_color": null,
            "description_width": ""
          }
        },
        "d7a0d5888ec84b178a19de5fffe365ea": {
          "model_module": "@jupyter-widgets/base",
          "model_name": "LayoutModel",
          "model_module_version": "1.2.0",
          "state": {
            "_model_module": "@jupyter-widgets/base",
            "_model_module_version": "1.2.0",
            "_model_name": "LayoutModel",
            "_view_count": null,
            "_view_module": "@jupyter-widgets/base",
            "_view_module_version": "1.2.0",
            "_view_name": "LayoutView",
            "align_content": null,
            "align_items": null,
            "align_self": null,
            "border": null,
            "bottom": null,
            "display": null,
            "flex": null,
            "flex_flow": null,
            "grid_area": null,
            "grid_auto_columns": null,
            "grid_auto_flow": null,
            "grid_auto_rows": null,
            "grid_column": null,
            "grid_gap": null,
            "grid_row": null,
            "grid_template_areas": null,
            "grid_template_columns": null,
            "grid_template_rows": null,
            "height": null,
            "justify_content": null,
            "justify_items": null,
            "left": null,
            "margin": null,
            "max_height": null,
            "max_width": null,
            "min_height": null,
            "min_width": null,
            "object_fit": null,
            "object_position": null,
            "order": null,
            "overflow": null,
            "overflow_x": null,
            "overflow_y": null,
            "padding": null,
            "right": null,
            "top": null,
            "visibility": null,
            "width": null
          }
        },
        "efdd5b6078bc4dd79ae9b1a39056bb7a": {
          "model_module": "@jupyter-widgets/controls",
          "model_name": "DescriptionStyleModel",
          "model_module_version": "1.5.0",
          "state": {
            "_model_module": "@jupyter-widgets/controls",
            "_model_module_version": "1.5.0",
            "_model_name": "DescriptionStyleModel",
            "_view_count": null,
            "_view_module": "@jupyter-widgets/base",
            "_view_module_version": "1.2.0",
            "_view_name": "StyleView",
            "description_width": ""
          }
        },
        "6ede0715854a47a7af1ad0aad9765913": {
          "model_module": "@jupyter-widgets/controls",
          "model_name": "HBoxModel",
          "model_module_version": "1.5.0",
          "state": {
            "_dom_classes": [],
            "_model_module": "@jupyter-widgets/controls",
            "_model_module_version": "1.5.0",
            "_model_name": "HBoxModel",
            "_view_count": null,
            "_view_module": "@jupyter-widgets/controls",
            "_view_module_version": "1.5.0",
            "_view_name": "HBoxView",
            "box_style": "",
            "children": [
              "IPY_MODEL_0075807713ff4ce9bfc19562c90bd26b",
              "IPY_MODEL_f93dd20875ea450ab9e1b939b1e33414",
              "IPY_MODEL_93d3e32d3e8a4edcb7fefa133b37bf3d"
            ],
            "layout": "IPY_MODEL_b85a9d5739d846c89dd22d0c289a7df2"
          }
        },
        "0075807713ff4ce9bfc19562c90bd26b": {
          "model_module": "@jupyter-widgets/controls",
          "model_name": "HTMLModel",
          "model_module_version": "1.5.0",
          "state": {
            "_dom_classes": [],
            "_model_module": "@jupyter-widgets/controls",
            "_model_module_version": "1.5.0",
            "_model_name": "HTMLModel",
            "_view_count": null,
            "_view_module": "@jupyter-widgets/controls",
            "_view_module_version": "1.5.0",
            "_view_name": "HTMLView",
            "description": "",
            "description_tooltip": null,
            "layout": "IPY_MODEL_7cc8a1a7cec84ff69133c7b2b41ace8e",
            "placeholder": "​",
            "style": "IPY_MODEL_41087bec079b41b8bb388a3b18f9ac9e",
            "value": "tokenizer.json: 100%"
          }
        },
        "f93dd20875ea450ab9e1b939b1e33414": {
          "model_module": "@jupyter-widgets/controls",
          "model_name": "FloatProgressModel",
          "model_module_version": "1.5.0",
          "state": {
            "_dom_classes": [],
            "_model_module": "@jupyter-widgets/controls",
            "_model_module_version": "1.5.0",
            "_model_name": "FloatProgressModel",
            "_view_count": null,
            "_view_module": "@jupyter-widgets/controls",
            "_view_module_version": "1.5.0",
            "_view_name": "ProgressView",
            "bar_style": "success",
            "description": "",
            "description_tooltip": null,
            "layout": "IPY_MODEL_0b58278452af4797b86107caa6482501",
            "max": 669188,
            "min": 0,
            "orientation": "horizontal",
            "style": "IPY_MODEL_cb201ab364ad49e38a76e4c89b57bf61",
            "value": 669188
          }
        },
        "93d3e32d3e8a4edcb7fefa133b37bf3d": {
          "model_module": "@jupyter-widgets/controls",
          "model_name": "HTMLModel",
          "model_module_version": "1.5.0",
          "state": {
            "_dom_classes": [],
            "_model_module": "@jupyter-widgets/controls",
            "_model_module_version": "1.5.0",
            "_model_name": "HTMLModel",
            "_view_count": null,
            "_view_module": "@jupyter-widgets/controls",
            "_view_module_version": "1.5.0",
            "_view_name": "HTMLView",
            "description": "",
            "description_tooltip": null,
            "layout": "IPY_MODEL_6b88241d8dd849139dacb47b57f1e099",
            "placeholder": "​",
            "style": "IPY_MODEL_37cca89ef09f436785e26a965f30b410",
            "value": " 669k/669k [00:00&lt;00:00, 2.04MB/s]"
          }
        },
        "b85a9d5739d846c89dd22d0c289a7df2": {
          "model_module": "@jupyter-widgets/base",
          "model_name": "LayoutModel",
          "model_module_version": "1.2.0",
          "state": {
            "_model_module": "@jupyter-widgets/base",
            "_model_module_version": "1.2.0",
            "_model_name": "LayoutModel",
            "_view_count": null,
            "_view_module": "@jupyter-widgets/base",
            "_view_module_version": "1.2.0",
            "_view_name": "LayoutView",
            "align_content": null,
            "align_items": null,
            "align_self": null,
            "border": null,
            "bottom": null,
            "display": null,
            "flex": null,
            "flex_flow": null,
            "grid_area": null,
            "grid_auto_columns": null,
            "grid_auto_flow": null,
            "grid_auto_rows": null,
            "grid_column": null,
            "grid_gap": null,
            "grid_row": null,
            "grid_template_areas": null,
            "grid_template_columns": null,
            "grid_template_rows": null,
            "height": null,
            "justify_content": null,
            "justify_items": null,
            "left": null,
            "margin": null,
            "max_height": null,
            "max_width": null,
            "min_height": null,
            "min_width": null,
            "object_fit": null,
            "object_position": null,
            "order": null,
            "overflow": null,
            "overflow_x": null,
            "overflow_y": null,
            "padding": null,
            "right": null,
            "top": null,
            "visibility": null,
            "width": null
          }
        },
        "7cc8a1a7cec84ff69133c7b2b41ace8e": {
          "model_module": "@jupyter-widgets/base",
          "model_name": "LayoutModel",
          "model_module_version": "1.2.0",
          "state": {
            "_model_module": "@jupyter-widgets/base",
            "_model_module_version": "1.2.0",
            "_model_name": "LayoutModel",
            "_view_count": null,
            "_view_module": "@jupyter-widgets/base",
            "_view_module_version": "1.2.0",
            "_view_name": "LayoutView",
            "align_content": null,
            "align_items": null,
            "align_self": null,
            "border": null,
            "bottom": null,
            "display": null,
            "flex": null,
            "flex_flow": null,
            "grid_area": null,
            "grid_auto_columns": null,
            "grid_auto_flow": null,
            "grid_auto_rows": null,
            "grid_column": null,
            "grid_gap": null,
            "grid_row": null,
            "grid_template_areas": null,
            "grid_template_columns": null,
            "grid_template_rows": null,
            "height": null,
            "justify_content": null,
            "justify_items": null,
            "left": null,
            "margin": null,
            "max_height": null,
            "max_width": null,
            "min_height": null,
            "min_width": null,
            "object_fit": null,
            "object_position": null,
            "order": null,
            "overflow": null,
            "overflow_x": null,
            "overflow_y": null,
            "padding": null,
            "right": null,
            "top": null,
            "visibility": null,
            "width": null
          }
        },
        "41087bec079b41b8bb388a3b18f9ac9e": {
          "model_module": "@jupyter-widgets/controls",
          "model_name": "DescriptionStyleModel",
          "model_module_version": "1.5.0",
          "state": {
            "_model_module": "@jupyter-widgets/controls",
            "_model_module_version": "1.5.0",
            "_model_name": "DescriptionStyleModel",
            "_view_count": null,
            "_view_module": "@jupyter-widgets/base",
            "_view_module_version": "1.2.0",
            "_view_name": "StyleView",
            "description_width": ""
          }
        },
        "0b58278452af4797b86107caa6482501": {
          "model_module": "@jupyter-widgets/base",
          "model_name": "LayoutModel",
          "model_module_version": "1.2.0",
          "state": {
            "_model_module": "@jupyter-widgets/base",
            "_model_module_version": "1.2.0",
            "_model_name": "LayoutModel",
            "_view_count": null,
            "_view_module": "@jupyter-widgets/base",
            "_view_module_version": "1.2.0",
            "_view_name": "LayoutView",
            "align_content": null,
            "align_items": null,
            "align_self": null,
            "border": null,
            "bottom": null,
            "display": null,
            "flex": null,
            "flex_flow": null,
            "grid_area": null,
            "grid_auto_columns": null,
            "grid_auto_flow": null,
            "grid_auto_rows": null,
            "grid_column": null,
            "grid_gap": null,
            "grid_row": null,
            "grid_template_areas": null,
            "grid_template_columns": null,
            "grid_template_rows": null,
            "height": null,
            "justify_content": null,
            "justify_items": null,
            "left": null,
            "margin": null,
            "max_height": null,
            "max_width": null,
            "min_height": null,
            "min_width": null,
            "object_fit": null,
            "object_position": null,
            "order": null,
            "overflow": null,
            "overflow_x": null,
            "overflow_y": null,
            "padding": null,
            "right": null,
            "top": null,
            "visibility": null,
            "width": null
          }
        },
        "cb201ab364ad49e38a76e4c89b57bf61": {
          "model_module": "@jupyter-widgets/controls",
          "model_name": "ProgressStyleModel",
          "model_module_version": "1.5.0",
          "state": {
            "_model_module": "@jupyter-widgets/controls",
            "_model_module_version": "1.5.0",
            "_model_name": "ProgressStyleModel",
            "_view_count": null,
            "_view_module": "@jupyter-widgets/base",
            "_view_module_version": "1.2.0",
            "_view_name": "StyleView",
            "bar_color": null,
            "description_width": ""
          }
        },
        "6b88241d8dd849139dacb47b57f1e099": {
          "model_module": "@jupyter-widgets/base",
          "model_name": "LayoutModel",
          "model_module_version": "1.2.0",
          "state": {
            "_model_module": "@jupyter-widgets/base",
            "_model_module_version": "1.2.0",
            "_model_name": "LayoutModel",
            "_view_count": null,
            "_view_module": "@jupyter-widgets/base",
            "_view_module_version": "1.2.0",
            "_view_name": "LayoutView",
            "align_content": null,
            "align_items": null,
            "align_self": null,
            "border": null,
            "bottom": null,
            "display": null,
            "flex": null,
            "flex_flow": null,
            "grid_area": null,
            "grid_auto_columns": null,
            "grid_auto_flow": null,
            "grid_auto_rows": null,
            "grid_column": null,
            "grid_gap": null,
            "grid_row": null,
            "grid_template_areas": null,
            "grid_template_columns": null,
            "grid_template_rows": null,
            "height": null,
            "justify_content": null,
            "justify_items": null,
            "left": null,
            "margin": null,
            "max_height": null,
            "max_width": null,
            "min_height": null,
            "min_width": null,
            "object_fit": null,
            "object_position": null,
            "order": null,
            "overflow": null,
            "overflow_x": null,
            "overflow_y": null,
            "padding": null,
            "right": null,
            "top": null,
            "visibility": null,
            "width": null
          }
        },
        "37cca89ef09f436785e26a965f30b410": {
          "model_module": "@jupyter-widgets/controls",
          "model_name": "DescriptionStyleModel",
          "model_module_version": "1.5.0",
          "state": {
            "_model_module": "@jupyter-widgets/controls",
            "_model_module_version": "1.5.0",
            "_model_name": "DescriptionStyleModel",
            "_view_count": null,
            "_view_module": "@jupyter-widgets/base",
            "_view_module_version": "1.2.0",
            "_view_name": "StyleView",
            "description_width": ""
          }
        },
        "eb0ee4d94ad547b0a71285cd5fd33164": {
          "model_module": "@jupyter-widgets/controls",
          "model_name": "HBoxModel",
          "model_module_version": "1.5.0",
          "state": {
            "_dom_classes": [],
            "_model_module": "@jupyter-widgets/controls",
            "_model_module_version": "1.5.0",
            "_model_name": "HBoxModel",
            "_view_count": null,
            "_view_module": "@jupyter-widgets/controls",
            "_view_module_version": "1.5.0",
            "_view_name": "HBoxView",
            "box_style": "",
            "children": [
              "IPY_MODEL_bd97fcf69ec94307aa318712cf57a823",
              "IPY_MODEL_0f94ce6f0c4f4067a081cbd3b07e7b07",
              "IPY_MODEL_cb76bef501b645c1acf4ac4b88ea205b"
            ],
            "layout": "IPY_MODEL_a89a5af71c244a54bce18663ea4c8cc7"
          }
        },
        "bd97fcf69ec94307aa318712cf57a823": {
          "model_module": "@jupyter-widgets/controls",
          "model_name": "HTMLModel",
          "model_module_version": "1.5.0",
          "state": {
            "_dom_classes": [],
            "_model_module": "@jupyter-widgets/controls",
            "_model_module_version": "1.5.0",
            "_model_name": "HTMLModel",
            "_view_count": null,
            "_view_module": "@jupyter-widgets/controls",
            "_view_module_version": "1.5.0",
            "_view_name": "HTMLView",
            "description": "",
            "description_tooltip": null,
            "layout": "IPY_MODEL_562ea904ab9a4bb5a272f2311a30e1be",
            "placeholder": "​",
            "style": "IPY_MODEL_3256b5bc297149ac9b7a2872f602fe3e",
            "value": "special_tokens_map.json: 100%"
          }
        },
        "0f94ce6f0c4f4067a081cbd3b07e7b07": {
          "model_module": "@jupyter-widgets/controls",
          "model_name": "FloatProgressModel",
          "model_module_version": "1.5.0",
          "state": {
            "_dom_classes": [],
            "_model_module": "@jupyter-widgets/controls",
            "_model_module_version": "1.5.0",
            "_model_name": "FloatProgressModel",
            "_view_count": null,
            "_view_module": "@jupyter-widgets/controls",
            "_view_module_version": "1.5.0",
            "_view_name": "ProgressView",
            "bar_style": "success",
            "description": "",
            "description_tooltip": null,
            "layout": "IPY_MODEL_bb06e5b9883c45f78f012b26f8368ef4",
            "max": 125,
            "min": 0,
            "orientation": "horizontal",
            "style": "IPY_MODEL_7f1c8a3a7efb44afb8728cbb6e31c4d3",
            "value": 125
          }
        },
        "cb76bef501b645c1acf4ac4b88ea205b": {
          "model_module": "@jupyter-widgets/controls",
          "model_name": "HTMLModel",
          "model_module_version": "1.5.0",
          "state": {
            "_dom_classes": [],
            "_model_module": "@jupyter-widgets/controls",
            "_model_module_version": "1.5.0",
            "_model_name": "HTMLModel",
            "_view_count": null,
            "_view_module": "@jupyter-widgets/controls",
            "_view_module_version": "1.5.0",
            "_view_name": "HTMLView",
            "description": "",
            "description_tooltip": null,
            "layout": "IPY_MODEL_70e86ae507b543f98632a293e79fed94",
            "placeholder": "​",
            "style": "IPY_MODEL_c8a5a44707fc4965aced4c25c06e6072",
            "value": " 125/125 [00:00&lt;00:00, 7.24kB/s]"
          }
        },
        "a89a5af71c244a54bce18663ea4c8cc7": {
          "model_module": "@jupyter-widgets/base",
          "model_name": "LayoutModel",
          "model_module_version": "1.2.0",
          "state": {
            "_model_module": "@jupyter-widgets/base",
            "_model_module_version": "1.2.0",
            "_model_name": "LayoutModel",
            "_view_count": null,
            "_view_module": "@jupyter-widgets/base",
            "_view_module_version": "1.2.0",
            "_view_name": "LayoutView",
            "align_content": null,
            "align_items": null,
            "align_self": null,
            "border": null,
            "bottom": null,
            "display": null,
            "flex": null,
            "flex_flow": null,
            "grid_area": null,
            "grid_auto_columns": null,
            "grid_auto_flow": null,
            "grid_auto_rows": null,
            "grid_column": null,
            "grid_gap": null,
            "grid_row": null,
            "grid_template_areas": null,
            "grid_template_columns": null,
            "grid_template_rows": null,
            "height": null,
            "justify_content": null,
            "justify_items": null,
            "left": null,
            "margin": null,
            "max_height": null,
            "max_width": null,
            "min_height": null,
            "min_width": null,
            "object_fit": null,
            "object_position": null,
            "order": null,
            "overflow": null,
            "overflow_x": null,
            "overflow_y": null,
            "padding": null,
            "right": null,
            "top": null,
            "visibility": null,
            "width": null
          }
        },
        "562ea904ab9a4bb5a272f2311a30e1be": {
          "model_module": "@jupyter-widgets/base",
          "model_name": "LayoutModel",
          "model_module_version": "1.2.0",
          "state": {
            "_model_module": "@jupyter-widgets/base",
            "_model_module_version": "1.2.0",
            "_model_name": "LayoutModel",
            "_view_count": null,
            "_view_module": "@jupyter-widgets/base",
            "_view_module_version": "1.2.0",
            "_view_name": "LayoutView",
            "align_content": null,
            "align_items": null,
            "align_self": null,
            "border": null,
            "bottom": null,
            "display": null,
            "flex": null,
            "flex_flow": null,
            "grid_area": null,
            "grid_auto_columns": null,
            "grid_auto_flow": null,
            "grid_auto_rows": null,
            "grid_column": null,
            "grid_gap": null,
            "grid_row": null,
            "grid_template_areas": null,
            "grid_template_columns": null,
            "grid_template_rows": null,
            "height": null,
            "justify_content": null,
            "justify_items": null,
            "left": null,
            "margin": null,
            "max_height": null,
            "max_width": null,
            "min_height": null,
            "min_width": null,
            "object_fit": null,
            "object_position": null,
            "order": null,
            "overflow": null,
            "overflow_x": null,
            "overflow_y": null,
            "padding": null,
            "right": null,
            "top": null,
            "visibility": null,
            "width": null
          }
        },
        "3256b5bc297149ac9b7a2872f602fe3e": {
          "model_module": "@jupyter-widgets/controls",
          "model_name": "DescriptionStyleModel",
          "model_module_version": "1.5.0",
          "state": {
            "_model_module": "@jupyter-widgets/controls",
            "_model_module_version": "1.5.0",
            "_model_name": "DescriptionStyleModel",
            "_view_count": null,
            "_view_module": "@jupyter-widgets/base",
            "_view_module_version": "1.2.0",
            "_view_name": "StyleView",
            "description_width": ""
          }
        },
        "bb06e5b9883c45f78f012b26f8368ef4": {
          "model_module": "@jupyter-widgets/base",
          "model_name": "LayoutModel",
          "model_module_version": "1.2.0",
          "state": {
            "_model_module": "@jupyter-widgets/base",
            "_model_module_version": "1.2.0",
            "_model_name": "LayoutModel",
            "_view_count": null,
            "_view_module": "@jupyter-widgets/base",
            "_view_module_version": "1.2.0",
            "_view_name": "LayoutView",
            "align_content": null,
            "align_items": null,
            "align_self": null,
            "border": null,
            "bottom": null,
            "display": null,
            "flex": null,
            "flex_flow": null,
            "grid_area": null,
            "grid_auto_columns": null,
            "grid_auto_flow": null,
            "grid_auto_rows": null,
            "grid_column": null,
            "grid_gap": null,
            "grid_row": null,
            "grid_template_areas": null,
            "grid_template_columns": null,
            "grid_template_rows": null,
            "height": null,
            "justify_content": null,
            "justify_items": null,
            "left": null,
            "margin": null,
            "max_height": null,
            "max_width": null,
            "min_height": null,
            "min_width": null,
            "object_fit": null,
            "object_position": null,
            "order": null,
            "overflow": null,
            "overflow_x": null,
            "overflow_y": null,
            "padding": null,
            "right": null,
            "top": null,
            "visibility": null,
            "width": null
          }
        },
        "7f1c8a3a7efb44afb8728cbb6e31c4d3": {
          "model_module": "@jupyter-widgets/controls",
          "model_name": "ProgressStyleModel",
          "model_module_version": "1.5.0",
          "state": {
            "_model_module": "@jupyter-widgets/controls",
            "_model_module_version": "1.5.0",
            "_model_name": "ProgressStyleModel",
            "_view_count": null,
            "_view_module": "@jupyter-widgets/base",
            "_view_module_version": "1.2.0",
            "_view_name": "StyleView",
            "bar_color": null,
            "description_width": ""
          }
        },
        "70e86ae507b543f98632a293e79fed94": {
          "model_module": "@jupyter-widgets/base",
          "model_name": "LayoutModel",
          "model_module_version": "1.2.0",
          "state": {
            "_model_module": "@jupyter-widgets/base",
            "_model_module_version": "1.2.0",
            "_model_name": "LayoutModel",
            "_view_count": null,
            "_view_module": "@jupyter-widgets/base",
            "_view_module_version": "1.2.0",
            "_view_name": "LayoutView",
            "align_content": null,
            "align_items": null,
            "align_self": null,
            "border": null,
            "bottom": null,
            "display": null,
            "flex": null,
            "flex_flow": null,
            "grid_area": null,
            "grid_auto_columns": null,
            "grid_auto_flow": null,
            "grid_auto_rows": null,
            "grid_column": null,
            "grid_gap": null,
            "grid_row": null,
            "grid_template_areas": null,
            "grid_template_columns": null,
            "grid_template_rows": null,
            "height": null,
            "justify_content": null,
            "justify_items": null,
            "left": null,
            "margin": null,
            "max_height": null,
            "max_width": null,
            "min_height": null,
            "min_width": null,
            "object_fit": null,
            "object_position": null,
            "order": null,
            "overflow": null,
            "overflow_x": null,
            "overflow_y": null,
            "padding": null,
            "right": null,
            "top": null,
            "visibility": null,
            "width": null
          }
        },
        "c8a5a44707fc4965aced4c25c06e6072": {
          "model_module": "@jupyter-widgets/controls",
          "model_name": "DescriptionStyleModel",
          "model_module_version": "1.5.0",
          "state": {
            "_model_module": "@jupyter-widgets/controls",
            "_model_module_version": "1.5.0",
            "_model_name": "DescriptionStyleModel",
            "_view_count": null,
            "_view_module": "@jupyter-widgets/base",
            "_view_module_version": "1.2.0",
            "_view_name": "StyleView",
            "description_width": ""
          }
        }
      }
    }
  },
  "cells": [
    {
      "cell_type": "markdown",
      "source": [
        "# Token Classification (Named Entity Recognition)"
      ],
      "metadata": {
        "id": "Cbw_J1xQLLbo"
      }
    },
    {
      "cell_type": "markdown",
      "source": [
        "![image.png](data:image/png;base64,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)"
      ],
      "metadata": {
        "id": "-ecHjUb9LOEg"
      }
    },
    {
      "cell_type": "code",
      "source": [
        "# Transformers installation\n",
        "! pip install -q datasets"
      ],
      "metadata": {
        "colab": {
          "base_uri": "https://localhost:8080/"
        },
        "id": "pSQxN9JzLM6G",
        "outputId": "b7cf6de3-ce8b-4a0f-a77a-d704d35b91ec"
      },
      "execution_count": 1,
      "outputs": [
        {
          "output_type": "stream",
          "name": "stdout",
          "text": [
            "\u001b[2K     \u001b[90m━━━━━━━━━━━━━━━━━━━━━━━━━━━━━━━━━━━━━━━━\u001b[0m \u001b[32m547.8/547.8 kB\u001b[0m \u001b[31m6.9 MB/s\u001b[0m eta \u001b[36m0:00:00\u001b[0m\n",
            "\u001b[2K     \u001b[90m━━━━━━━━━━━━━━━━━━━━━━━━━━━━━━━━━━━━━━━━\u001b[0m \u001b[32m40.8/40.8 MB\u001b[0m \u001b[31m7.8 MB/s\u001b[0m eta \u001b[36m0:00:00\u001b[0m\n",
            "\u001b[2K     \u001b[90m━━━━━━━━━━━━━━━━━━━━━━━━━━━━━━━━━━━━━━━━\u001b[0m \u001b[32m116.3/116.3 kB\u001b[0m \u001b[31m8.0 MB/s\u001b[0m eta \u001b[36m0:00:00\u001b[0m\n",
            "\u001b[2K     \u001b[90m━━━━━━━━━━━━━━━━━━━━━━━━━━━━━━━━━━━━━━━━\u001b[0m \u001b[32m64.9/64.9 kB\u001b[0m \u001b[31m5.5 MB/s\u001b[0m eta \u001b[36m0:00:00\u001b[0m\n",
            "\u001b[2K     \u001b[90m━━━━━━━━━━━━━━━━━━━━━━━━━━━━━━━━━━━━━━━━\u001b[0m \u001b[32m194.1/194.1 kB\u001b[0m \u001b[31m7.4 MB/s\u001b[0m eta \u001b[36m0:00:00\u001b[0m\n",
            "\u001b[2K     \u001b[90m━━━━━━━━━━━━━━━━━━━━━━━━━━━━━━━━━━━━━━━━\u001b[0m \u001b[32m134.8/134.8 kB\u001b[0m \u001b[31m13.6 MB/s\u001b[0m eta \u001b[36m0:00:00\u001b[0m\n",
            "\u001b[?25h\u001b[31mERROR: pip's dependency resolver does not currently take into account all the packages that are installed. This behaviour is the source of the following dependency conflicts.\n",
            "cudf-cu12 24.4.1 requires pyarrow<15.0.0a0,>=14.0.1, but you have pyarrow 16.1.0 which is incompatible.\n",
            "google-colab 1.0.0 requires requests==2.31.0, but you have requests 2.32.3 which is incompatible.\n",
            "ibis-framework 8.0.0 requires pyarrow<16,>=2, but you have pyarrow 16.1.0 which is incompatible.\u001b[0m\u001b[31m\n",
            "\u001b[0m"
          ]
        }
      ]
    },
    {
      "cell_type": "code",
      "source": [
        "#@title\n",
        "from IPython.display import HTML\n",
        "\n",
        "HTML('<iframe width=\"560\" height=\"315\" src=\"https://www.youtube.com/embed/wVHdVlPScxA?rel=0&amp;controls=0&amp;showinfo=0\" frameborder=\"0\" allowfullscreen></iframe>')"
      ],
      "metadata": {
        "colab": {
          "base_uri": "https://localhost:8080/",
          "height": 371
        },
        "id": "VSqCgOOkLUu2",
        "outputId": "d1f63686-e362-450c-e63f-c2a77ae1e922"
      },
      "execution_count": 2,
      "outputs": [
        {
          "output_type": "stream",
          "name": "stderr",
          "text": [
            "/usr/local/lib/python3.10/dist-packages/IPython/core/display.py:724: UserWarning: Consider using IPython.display.IFrame instead\n",
            "  warnings.warn(\"Consider using IPython.display.IFrame instead\")\n"
          ]
        },
        {
          "output_type": "execute_result",
          "data": {
            "text/plain": [
              "<IPython.core.display.HTML object>"
            ],
            "text/html": [
              "<iframe width=\"560\" height=\"315\" src=\"https://www.youtube.com/embed/wVHdVlPScxA?rel=0&amp;controls=0&amp;showinfo=0\" frameborder=\"0\" allowfullscreen></iframe>"
            ]
          },
          "metadata": {},
          "execution_count": 2
        }
      ]
    },
    {
      "cell_type": "markdown",
      "source": [
        "Token classification assigns a label to individual tokens in a sentence. One of the most common token classification tasks is Named Entity Recognition (NER). NER attempts to find a label for each entity in a sentence, such as a person, location, or organization.\n",
        "\n",
        "This guide will show you how to:\n",
        "\n",
        "1. Finetune [DistilBERT](https://huggingface.co/distilbert-base-uncased) on the [conll2003](https://huggingface.co/datasets/eriktks/conll2003) dataset to detect new entities.\n",
        "2. Use your finetuned model for inference.\n",
        "\n",
        "<Tip>\n",
        "The task illustrated in this tutorial is supported by the following model architectures:\n",
        "\n",
        "<!--This tip is automatically generated by `make fix-copies`, do not fill manually!-->\n",
        "\n",
        "[ALBERT](https://huggingface.co/docs/transformers/main/en/tasks/../model_doc/albert), [BERT](https://huggingface.co/docs/transformers/main/en/tasks/../model_doc/bert), [BigBird](https://huggingface.co/docs/transformers/main/en/tasks/../model_doc/big_bird), [BioGpt](https://huggingface.co/docs/transformers/main/en/tasks/../model_doc/biogpt), [BLOOM](https://huggingface.co/docs/transformers/main/en/tasks/../model_doc/bloom), [CamemBERT](https://huggingface.co/docs/transformers/main/en/tasks/../model_doc/camembert), [CANINE](https://huggingface.co/docs/transformers/main/en/tasks/../model_doc/canine), [ConvBERT](https://huggingface.co/docs/transformers/main/en/tasks/../model_doc/convbert), [Data2VecText](https://huggingface.co/docs/transformers/main/en/tasks/../model_doc/data2vec-text), [DeBERTa](https://huggingface.co/docs/transformers/main/en/tasks/../model_doc/deberta), [DeBERTa-v2](https://huggingface.co/docs/transformers/main/en/tasks/../model_doc/deberta-v2), [DistilBERT](https://huggingface.co/docs/transformers/main/en/tasks/../model_doc/distilbert), [ELECTRA](https://huggingface.co/docs/transformers/main/en/tasks/../model_doc/electra), [ERNIE](https://huggingface.co/docs/transformers/main/en/tasks/../model_doc/ernie), [ErnieM](https://huggingface.co/docs/transformers/main/en/tasks/../model_doc/ernie_m), [ESM](https://huggingface.co/docs/transformers/main/en/tasks/../model_doc/esm), [FlauBERT](https://huggingface.co/docs/transformers/main/en/tasks/../model_doc/flaubert), [FNet](https://huggingface.co/docs/transformers/main/en/tasks/../model_doc/fnet), [Funnel Transformer](https://huggingface.co/docs/transformers/main/en/tasks/../model_doc/funnel), [GPT-Sw3](https://huggingface.co/docs/transformers/main/en/tasks/../model_doc/gpt-sw3), [OpenAI GPT-2](https://huggingface.co/docs/transformers/main/en/tasks/../model_doc/gpt2), [GPTBigCode](https://huggingface.co/docs/transformers/main/en/tasks/../model_doc/gpt_bigcode), [GPT Neo](https://huggingface.co/docs/transformers/main/en/tasks/../model_doc/gpt_neo), [GPT NeoX](https://huggingface.co/docs/transformers/main/en/tasks/../model_doc/gpt_neox), [I-BERT](https://huggingface.co/docs/transformers/main/en/tasks/../model_doc/ibert), [LayoutLM](https://huggingface.co/docs/transformers/main/en/tasks/../model_doc/layoutlm), [LayoutLMv2](https://huggingface.co/docs/transformers/main/en/tasks/../model_doc/layoutlmv2), [LayoutLMv3](https://huggingface.co/docs/transformers/main/en/tasks/../model_doc/layoutlmv3), [LiLT](https://huggingface.co/docs/transformers/main/en/tasks/../model_doc/lilt), [Longformer](https://huggingface.co/docs/transformers/main/en/tasks/../model_doc/longformer), [LUKE](https://huggingface.co/docs/transformers/main/en/tasks/../model_doc/luke), [MarkupLM](https://huggingface.co/docs/transformers/main/en/tasks/../model_doc/markuplm), [MEGA](https://huggingface.co/docs/transformers/main/en/tasks/../model_doc/mega), [Megatron-BERT](https://huggingface.co/docs/transformers/main/en/tasks/../model_doc/megatron-bert), [MobileBERT](https://huggingface.co/docs/transformers/main/en/tasks/../model_doc/mobilebert), [MPNet](https://huggingface.co/docs/transformers/main/en/tasks/../model_doc/mpnet), [Nezha](https://huggingface.co/docs/transformers/main/en/tasks/../model_doc/nezha), [Nyströmformer](https://huggingface.co/docs/transformers/main/en/tasks/../model_doc/nystromformer), [QDQBert](https://huggingface.co/docs/transformers/main/en/tasks/../model_doc/qdqbert), [RemBERT](https://huggingface.co/docs/transformers/main/en/tasks/../model_doc/rembert), [RoBERTa](https://huggingface.co/docs/transformers/main/en/tasks/../model_doc/roberta), [RoBERTa-PreLayerNorm](https://huggingface.co/docs/transformers/main/en/tasks/../model_doc/roberta-prelayernorm), [RoCBert](https://huggingface.co/docs/transformers/main/en/tasks/../model_doc/roc_bert), [RoFormer](https://huggingface.co/docs/transformers/main/en/tasks/../model_doc/roformer), [SqueezeBERT](https://huggingface.co/docs/transformers/main/en/tasks/../model_doc/squeezebert), [XLM](https://huggingface.co/docs/transformers/main/en/tasks/../model_doc/xlm), [XLM-RoBERTa](https://huggingface.co/docs/transformers/main/en/tasks/../model_doc/xlm-roberta), [XLM-RoBERTa-XL](https://huggingface.co/docs/transformers/main/en/tasks/../model_doc/xlm-roberta-xl), [XLNet](https://huggingface.co/docs/transformers/main/en/tasks/../model_doc/xlnet), [X-MOD](https://huggingface.co/docs/transformers/main/en/tasks/../model_doc/xmod), [YOSO](https://huggingface.co/docs/transformers/main/en/tasks/../model_doc/yoso)\n",
        "\n",
        "<!--End of the generated tip-->\n",
        "\n",
        "</Tip>\n",
        "\n",
        "\n",
        "We encourage you to login to your Hugging Face account so you can upload and share your model with the community. When prompted, enter your token to login:"
      ],
      "metadata": {
        "id": "PvqwuuQqMU0m"
      }
    },
    {
      "cell_type": "code",
      "source": [
        "from huggingface_hub import notebook_login\n",
        "\n",
        "notebook_login()"
      ],
      "metadata": {
        "colab": {
          "base_uri": "https://localhost:8080/",
          "height": 359,
          "referenced_widgets": [
            "a24c628a07fb4fb2a4f22709440ab405",
            "5c47ba5eb84b4c5b878096359414fa0d",
            "c1792783f9d7401e8333ebcbdf1c8196",
            "6447d1d2183342fbaa12754290a075ff",
            "8cbaa08816db4ae9a55768e5779b1eec",
            "38e6dc2f6beb4a0e9eafef555a912399",
            "b503d135d2c5483badec4e24f4fb4814",
            "9a0fab40c5074158980ed89c7b5ae1fa",
            "cf3cc1e271464428be8316bc9607955e",
            "551cd918bdde480da21b9855e7ddb411",
            "77580ca00ac248ca86a76787c223a9a2",
            "ebdc9ded3e3f4f969087210ca0779529",
            "50b335e8f871492591bb224148094e75",
            "a3ba825ebb8748c48c1399dcac8e3a7b",
            "1f5fb230edef4ebea7e08a8333dda62d",
            "6959aab0b6ff492fa934d13ba66a2b22",
            "f91977d438eb4e2193090598209f3b07"
          ]
        },
        "id": "IxBBYL06MWam",
        "outputId": "3e114ca7-89ed-48f3-ce88-f440b4325d45"
      },
      "execution_count": 3,
      "outputs": [
        {
          "output_type": "display_data",
          "data": {
            "text/plain": [
              "VBox(children=(HTML(value='<center> <img\\nsrc=https://huggingface.co/front/assets/huggingface_logo-noborder.sv…"
            ],
            "application/vnd.jupyter.widget-view+json": {
              "version_major": 2,
              "version_minor": 0,
              "model_id": "a24c628a07fb4fb2a4f22709440ab405"
            }
          },
          "metadata": {}
        }
      ]
    },
    {
      "cell_type": "code",
      "source": [
        "import os\n",
        "from google.colab import userdata\n",
        "os.environ['HF_READ_TOKEN']=userdata.get('HF_READ_TOKEN')\n",
        "os.environ['HF_WRITE_TOKEN']=userdata.get('HF_WRITE_TOKEN')"
      ],
      "metadata": {
        "id": "bjYYRxMAMlYO"
      },
      "execution_count": 4,
      "outputs": []
    },
    {
      "cell_type": "markdown",
      "source": [
        "## Load conll2003 dataset"
      ],
      "metadata": {
        "id": "YV6k7ItkQS1a"
      }
    },
    {
      "cell_type": "code",
      "source": [
        "from datasets import load_dataset\n",
        "\n",
        "conll = load_dataset(\"conll2003\", trust_remote_code=True)"
      ],
      "metadata": {
        "colab": {
          "base_uri": "https://localhost:8080/",
          "height": 333,
          "referenced_widgets": [
            "fd67bf0ea6bf4d16a8cc7b7d45ca1bf8",
            "e7bc8baa4b1b4587b2d87c509c305ca2",
            "69c226542de2463b934e2d9bc406d0b7",
            "7ea3cf31cd3e408ca7a448cfd29e32f7",
            "92e6e6e926824cb9aa318fa933f027d4",
            "0d1d45cb0fbf43aca880c141e2d2ec67",
            "d40497726edb4575b8e2daf2994c4408",
            "14d66c4ac22a4fb29c05b1a075b25a03",
            "3e378e270c6f48c19919179f3f9d83da",
            "976c557eed92495397d6aee80ba2086f",
            "7c919337bdce461fb91cf1f37f46c209",
            "e60b86440c604120b1700f38a76b8f49",
            "06e0560940184fa2801f796d875abaec",
            "254bcb224d4049b7ae312e977f1ea0e3",
            "64c5ca01e97c47d49e06afeb763183f1",
            "bbd64cf8052d4f8ba264fcaf45ace83b",
            "884e4fbf01ec47328930a96496dccb0b",
            "9a4d1c8067ee45cdaf942214bc50e727",
            "f4946d19a0d6489c847912e5faa5e7ac",
            "f6f975aad93542d496792a49e60a289f",
            "1595905da6ca48489e2e90bb0e257e18",
            "c963a9bee59349008d8d38682dd622de",
            "10cac40341174f69af651d38dcc63e65",
            "d0aeddbae7ad4e88a42c93a085468c12",
            "1d78de519a274b36bf5c169308314cfa",
            "6282a37380bc4513a2a247f819033e91",
            "0a4b392eb61e4aecbd60068835b278e3",
            "f8ce4570b59d4f4ca0aa2da894205f1b",
            "afc0b73586c24535b8f306a866723506",
            "397e8c69a7c3469e8ea875a1cf0cd9e4",
            "90b9b0dfe4004a97ba4baa5931e60b5b",
            "bbb8435aa96240f3a1b6a1763630f812",
            "d7df0e3744fb4d748be64f249c68ebdc",
            "5900e700feaf43a3aad9144aa2789e52",
            "236998e37e4e4b559e81b137d854ae33",
            "31ad17ac3bed48a39f3b908cce25948c",
            "a2a7a4e381cf4178b7310d5a44c52270",
            "f135aa98b00b4aa1ab87ad2e99a2abc1",
            "4ebc1cd18ff6433c990843a9a87522fa",
            "c58c5091b8be4d70b0945ebd63cda4e0",
            "5a43c9ff1665480fa40b547e6f751a57",
            "0fba96bc035c47ddb3655436e673f28c",
            "2bc1b146c97444509e50df60ab74ede2",
            "72fe549d304c4146bd801ea3b2bbd93e",
            "43152580ae514a1ab516fea6494c0f6c",
            "1e007a66446247c08f8b98b48689b0a1",
            "549134e358f6405d89c2f994cef25aed",
            "5a871c7b080b48409232b3f2db29c84e",
            "19b35c687a4d4218bedeac0ef0dd3d80",
            "e264494a0b374bfcb2ee856f64d3245c",
            "26c00721e96248aba3970fb995b6631b",
            "14978045a7ce4190a154e981c865b6e4",
            "7168e3bc00cc4d83a9d623d116dbc788",
            "c112787843174a23a0265f47eb31c4fb",
            "3903a87a4915442392703048c7d00ac6",
            "dad4e7d52dd146e28be6c985a61f90fc",
            "530d18adb8784254bdee8f183ee7bb23",
            "4d9ed42f21a144509f5e1b8644f9f959",
            "fc3c88002a704ab799eb0a2fcc14aaae",
            "8baf4378c6e3477299416961922f67d1",
            "319cce88826b4ed1a6d541514a9b61cf",
            "c6eaac2d6d3344679d72c3aa76db2738",
            "c5d4ec224d8c47afb6146e45253aff41",
            "7ce05019fa7948048be12b0027cc5ece",
            "c73dac6cfdcd48a1b4d45a0fc223b5e7",
            "35970744703d4287971aa77193e2006f"
          ]
        },
        "id": "ZJStCemeMehX",
        "outputId": "a9cd6b8b-9424-4ecc-ec9a-a7eec50a691b"
      },
      "execution_count": 5,
      "outputs": [
        {
          "output_type": "stream",
          "name": "stderr",
          "text": [
            "/usr/local/lib/python3.10/dist-packages/huggingface_hub/utils/_token.py:89: UserWarning: \n",
            "The secret `HF_TOKEN` does not exist in your Colab secrets.\n",
            "To authenticate with the Hugging Face Hub, create a token in your settings tab (https://huggingface.co/settings/tokens), set it as secret in your Google Colab and restart your session.\n",
            "You will be able to reuse this secret in all of your notebooks.\n",
            "Please note that authentication is recommended but still optional to access public models or datasets.\n",
            "  warnings.warn(\n"
          ]
        },
        {
          "output_type": "display_data",
          "data": {
            "text/plain": [
              "Downloading builder script:   0%|          | 0.00/9.57k [00:00<?, ?B/s]"
            ],
            "application/vnd.jupyter.widget-view+json": {
              "version_major": 2,
              "version_minor": 0,
              "model_id": "fd67bf0ea6bf4d16a8cc7b7d45ca1bf8"
            }
          },
          "metadata": {}
        },
        {
          "output_type": "display_data",
          "data": {
            "text/plain": [
              "Downloading readme:   0%|          | 0.00/12.3k [00:00<?, ?B/s]"
            ],
            "application/vnd.jupyter.widget-view+json": {
              "version_major": 2,
              "version_minor": 0,
              "model_id": "e60b86440c604120b1700f38a76b8f49"
            }
          },
          "metadata": {}
        },
        {
          "output_type": "display_data",
          "data": {
            "text/plain": [
              "Downloading data:   0%|          | 0.00/983k [00:00<?, ?B/s]"
            ],
            "application/vnd.jupyter.widget-view+json": {
              "version_major": 2,
              "version_minor": 0,
              "model_id": "10cac40341174f69af651d38dcc63e65"
            }
          },
          "metadata": {}
        },
        {
          "output_type": "display_data",
          "data": {
            "text/plain": [
              "Generating train split:   0%|          | 0/14041 [00:00<?, ? examples/s]"
            ],
            "application/vnd.jupyter.widget-view+json": {
              "version_major": 2,
              "version_minor": 0,
              "model_id": "5900e700feaf43a3aad9144aa2789e52"
            }
          },
          "metadata": {}
        },
        {
          "output_type": "display_data",
          "data": {
            "text/plain": [
              "Generating validation split:   0%|          | 0/3250 [00:00<?, ? examples/s]"
            ],
            "application/vnd.jupyter.widget-view+json": {
              "version_major": 2,
              "version_minor": 0,
              "model_id": "43152580ae514a1ab516fea6494c0f6c"
            }
          },
          "metadata": {}
        },
        {
          "output_type": "display_data",
          "data": {
            "text/plain": [
              "Generating test split:   0%|          | 0/3453 [00:00<?, ? examples/s]"
            ],
            "application/vnd.jupyter.widget-view+json": {
              "version_major": 2,
              "version_minor": 0,
              "model_id": "dad4e7d52dd146e28be6c985a61f90fc"
            }
          },
          "metadata": {}
        }
      ]
    },
    {
      "cell_type": "code",
      "source": [
        "conll[\"train\"][0]"
      ],
      "metadata": {
        "colab": {
          "base_uri": "https://localhost:8080/"
        },
        "id": "qEatrLWKQj76",
        "outputId": "4529207f-9ab6-4a15-989c-44c234655735"
      },
      "execution_count": 6,
      "outputs": [
        {
          "output_type": "execute_result",
          "data": {
            "text/plain": [
              "{'id': '0',\n",
              " 'tokens': ['EU',\n",
              "  'rejects',\n",
              "  'German',\n",
              "  'call',\n",
              "  'to',\n",
              "  'boycott',\n",
              "  'British',\n",
              "  'lamb',\n",
              "  '.'],\n",
              " 'pos_tags': [22, 42, 16, 21, 35, 37, 16, 21, 7],\n",
              " 'chunk_tags': [11, 21, 11, 12, 21, 22, 11, 12, 0],\n",
              " 'ner_tags': [3, 0, 7, 0, 0, 0, 7, 0, 0]}"
            ]
          },
          "metadata": {},
          "execution_count": 6
        }
      ]
    },
    {
      "cell_type": "markdown",
      "source": [
        "Each number in `ner_tags` represents an entity. Convert the numbers to their label names to find out what the entities are:"
      ],
      "metadata": {
        "id": "FBUuLacFRYRy"
      }
    },
    {
      "cell_type": "code",
      "source": [
        "conll[\"train\"].features[\"ner_tags\"]"
      ],
      "metadata": {
        "colab": {
          "base_uri": "https://localhost:8080/"
        },
        "id": "NvLbL6UfQtAd",
        "outputId": "339823e8-e181-40af-80ad-f51e9ea2ef1a"
      },
      "execution_count": 7,
      "outputs": [
        {
          "output_type": "execute_result",
          "data": {
            "text/plain": [
              "Sequence(feature=ClassLabel(names=['O', 'B-PER', 'I-PER', 'B-ORG', 'I-ORG', 'B-LOC', 'I-LOC', 'B-MISC', 'I-MISC'], id=None), length=-1, id=None)"
            ]
          },
          "metadata": {},
          "execution_count": 7
        }
      ]
    },
    {
      "cell_type": "code",
      "source": [
        "label_list = conll[\"train\"].features[\"ner_tags\"].feature.names"
      ],
      "metadata": {
        "id": "SLnXHoehRj_0"
      },
      "execution_count": 8,
      "outputs": []
    },
    {
      "cell_type": "code",
      "source": [
        "label_list"
      ],
      "metadata": {
        "colab": {
          "base_uri": "https://localhost:8080/"
        },
        "id": "7Yl0n41DBp3F",
        "outputId": "30527290-3d58-46db-fc6d-1148bceef45c"
      },
      "execution_count": 9,
      "outputs": [
        {
          "output_type": "execute_result",
          "data": {
            "text/plain": [
              "['O', 'B-PER', 'I-PER', 'B-ORG', 'I-ORG', 'B-LOC', 'I-LOC', 'B-MISC', 'I-MISC']"
            ]
          },
          "metadata": {},
          "execution_count": 9
        }
      ]
    },
    {
      "cell_type": "markdown",
      "source": [
        "The letter that prefixes each `ner_tag` indicates the token position of the entity:\n",
        "\n",
        "- `B-` indicates the beginning of an entity.\n",
        "- `I-` indicates a token is contained inside the same entity (for example, the `State` token is a part of an entity like\n",
        "  `Empire State Building`).\n",
        "- `0` indicates the token doesn't correspond to any entity."
      ],
      "metadata": {
        "id": "Fom3Atd8C_mk"
      }
    },
    {
      "cell_type": "markdown",
      "source": [
        "Yukardaki labellar Named Entity Recognition (NER) sisteminde kullanılan etiketlerdir ve IOB (Inside-Outside-Beginning) formatını kullanırlar. NER, metinlerdeki özel isimleri ve bu isimlerin türlerini belirlemek için kullanılır. IOB formatı, metindeki her kelimenin bir etiketle işaretlendiği bir yöntemdir ve bu etiketler kelimenin bir varlık isminin başlangıcında mı, içinde mi yoksa hiçbir varlığa ait değil mi olduğunu belirtir. İşte bu etiketlerin detaylı açıklamaları:\n",
        "\n",
        "### IOB Formatı:\n",
        "\n",
        "- **O (Outside)**: Kelime herhangi bir varlık ismine ait değildir.\n",
        "- **B- (Beginning)**: Kelime bir varlık isminin başlangıcındadır.\n",
        "- **I- (Inside)**: Kelime bir varlık isminin içindedir.\n",
        "\n",
        "### Varlık Türleri:\n",
        "\n",
        "- **PER (Person)**: Kişi isimleri\n",
        "- **ORG (Organization)**: Kuruluş isimleri\n",
        "- **LOC (Location)**: Yer isimleri (şehirler, ülkeler, dağlar, vs.)\n",
        "- **MISC (Miscellaneous)**: Diğer özel isimler (milliyetler, olaylar, eser isimleri, vs.)\n",
        "\n",
        "### Etiketlerin Detaylı Açıklamaları:\n",
        "\n",
        "- **O**: Bu etiket, kelimenin herhangi bir özel isimle ilgisi olmadığını belirtir. Örneğin, \"The cat sat on the mat.\" cümlesinde tüm kelimeler \"O\" etiketi alır.\n",
        "  \n",
        "- **B-PER**: Bu etiket, kelimenin bir kişi isminin başlangıcında olduğunu belirtir. Örneğin, \"John Doe\" adında, \"John\" kelimesi \"B-PER\" etiketi alır.\n",
        "  \n",
        "- **I-PER**: Bu etiket, kelimenin bir kişi isminin içinde olduğunu belirtir. Örneğin, \"John Doe\" adında, \"Doe\" kelimesi \"I-PER\" etiketi alır.\n",
        "  \n",
        "- **B-ORG**: Bu etiket, kelimenin bir kuruluş isminin başlangıcında olduğunu belirtir. Örneğin, \"OpenAI Inc.\" adında, \"OpenAI\" kelimesi \"B-ORG\" etiketi alır.\n",
        "  \n",
        "- **I-ORG**: Bu etiket, kelimenin bir kuruluş isminin içinde olduğunu belirtir. Örneğin, \"OpenAI Inc.\" adında, \"Inc.\" kelimesi \"I-ORG\" etiketi alır.\n",
        "  \n",
        "- **B-LOC**: Bu etiket, kelimenin bir yer isminin başlangıcında olduğunu belirtir. Örneğin, \"New York\" adında, \"New\" kelimesi \"B-LOC\" etiketi alır.\n",
        "  \n",
        "- **I-LOC**: Bu etiket, kelimenin bir yer isminin içinde olduğunu belirtir. Örneğin, \"New York\" adında, \"York\" kelimesi \"I-LOC\" etiketi alır.\n",
        "  \n",
        "- **B-MISC**: Bu etiket, kelimenin diğer özel isimlerin (milliyetler, olaylar, eser isimleri, vs.) başlangıcında olduğunu belirtir. Örneğin, \"Olympic Games\" adında, \"Olympic\" kelimesi \"B-MISC\" etiketi alır.\n",
        "  \n",
        "- **I-MISC**: Bu etiket, kelimenin diğer özel isimlerin içinde olduğunu belirtir. Örneğin, \"Olympic Games\" adında, \"Games\" kelimesi \"I-MISC\" etiketi alır.\n",
        "\n",
        "### Örnek Cümle:\n",
        "\n",
        "Örneğin, \"Barack Obama was born in Hawaii.\" cümlesindeki etiketler şu şekilde olabilir:\n",
        "- **Barack (B-PER)**\n",
        "- **Obama (I-PER)**\n",
        "- **was (O)**\n",
        "- **born (O)**\n",
        "- **in (O)**\n",
        "- **Hawaii (B-LOC)**\n",
        "\n",
        "Bu etiketler, metinlerdeki özel isimleri otomatik olarak tanımaya ve anlamaya yardımcı olur."
      ],
      "metadata": {
        "id": "udcwuCOCDMMW"
      }
    },
    {
      "cell_type": "markdown",
      "source": [
        "The labels above are the labels used in the Named Entity Recognition (NER) system and use the IOB (Inside-Outside-Beginning) format. NER is used to identify proper names and their types in text. The IOB format is a way of marking each word in the text with a tag, and these tags indicate whether the word is at the beginning of an entity name, inside an entity name, or does not belong to any entity. Here are detailed descriptions of these tags:\n",
        "\n",
        "#### IOB Format:\n",
        "\n",
        "- **O (Outside)**: The word does not belong to any entity name.\n",
        "- **B- (Beginning)**: The word is at the beginning of an entity name.\n",
        "- **I- (Inside)**: The word is inside an entity name.\n",
        "\n",
        "### Entity Types:\n",
        "\n",
        "- **PER (Person)**: Person names\n",
        "- **ORG (Organization)**: Organization names\n",
        "- **LOC (Location)**: Place names (cities, countries, mountains, etc.)\n",
        "- **MISC (Miscellaneous)**: Other proper names (nationalities, events, names of artifacts, etc.)"
      ],
      "metadata": {
        "id": "6dKCwL-9HFPD"
      }
    },
    {
      "cell_type": "code",
      "source": [
        "conll[\"train\"].features[\"pos_tags\"]\n",
        "# Penn Treebank POS (Part-of-Speech) etiketleridir. Bu etiketler, bir cümledeki kelimelerin hangi gramer kategorisine veya türüne ait olduğunu belirlemek için kullanılır. İşte bu etiketlerin anlamları:\n",
        "\n",
        "#- **\"**: Sol çift tırnak\n",
        "#- **''**: Sağ çift tırnak\n",
        "#- **#**: Hash işareti\n",
        "#- **$**: Dolar işareti\n",
        "#- **( )**: Sol ve sağ parantez\n",
        "#- **,**: Virgül\n",
        "#- **.**: Nokta\n",
        "#- **:**: İki nokta üst üste veya noktalı virgül\n",
        "#- **``**: Ters çift tırnak\n",
        "#- **CC**: Koordinat bağlaç (and, or, but)\n",
        "#- **CD**: Kardinal sayı (one, two, 2)\n",
        "#- **DT**: Belirleyici (a, an, the)\n",
        "#- **EX**: Var-yok sözcüğü (there as in \"there is\")\n",
        "#- **FW**: Yabancı sözcük\n",
        "#- **IN**: Edat veya bağlaç (in, of, like)\n",
        "#- **JJ**: Sıfat (big)\n",
        "#- **JJR**: Karşılaştırma sıfatı (bigger)\n",
        "#- **JJS**: Üstünlük sıfatı (biggest)\n",
        "#- **LS**: Liste işareti (1, A)\n",
        "#- **MD**: Modifiye edici fiil (can, should)\n",
        "#- **NN**: Tekil isim (dog)\n",
        "#- **NNP**: Özel isim (John)\n",
        "#- **NNPS**: Özel isim, çoğul (Vikings)\n",
        "#- **NNS**: Çoğul isim (dogs)\n",
        "#- **NN|SYM**: Sembol veya diğer (NN ve SYM bir arada kullanılır)\n",
        "#- **PDT**: Predeterminer (all the kids)\n",
        "#- **POS**: İyelik ekleri (’s, ’)\n",
        "#- **PRP**: Kişi zamiri (I, he, she)\n",
        "#- **PRP$**: İyelik zamiri (my, his, her)\n",
        "#- **RB**: Zarf (quickly)\n",
        "#- **RBR**: Karşılaştırma zarfı (faster)\n",
        "#- **RBS**: Üstünlük zarfı (fastest)\n",
        "#- **RP**: Edat (give up)\n",
        "#- **SYM**: Sembol\n",
        "#- **TO**: To (to go)\n",
        "#- **UH**: Ünlem (oh, oops)\n",
        "#- **VB**: Fiil, temel form (take)\n",
        "#- **VBD**: Fiil, geçmiş zaman (took)\n",
        "#- **VBG**: Fiil, şimdiki zaman (taking)\n",
        "#- **VBN**: Fiil, geçmiş zaman fiil hali (taken)\n",
        "#- **VBP**: Fiil, geniş zaman (take)\n",
        "#- **VBZ**: Fiil, 3. tekil şahıs geniş zaman (takes)\n",
        "#- **WDT**: Soru belirleyici (which)\n",
        "#- **WP**: Soru zamiri (who, what)\n",
        "#- **WP$**: Soru iyelik zamiri (whose)\n",
        "#- **WRB**: Soru zarfı (where, when)\n",
        "\n",
        "#Bu etiketler, kelimelerin türlerini belirlemeye ve cümlenin yapısını anlamaya yardımcı olur."
      ],
      "metadata": {
        "colab": {
          "base_uri": "https://localhost:8080/"
        },
        "id": "0v2k1ExuH-si",
        "outputId": "12130968-37fc-42f5-fdd1-faafbd3211ce"
      },
      "execution_count": 10,
      "outputs": [
        {
          "output_type": "execute_result",
          "data": {
            "text/plain": [
              "Sequence(feature=ClassLabel(names=['\"', \"''\", '#', '$', '(', ')', ',', '.', ':', '``', 'CC', 'CD', 'DT', 'EX', 'FW', 'IN', 'JJ', 'JJR', 'JJS', 'LS', 'MD', 'NN', 'NNP', 'NNPS', 'NNS', 'NN|SYM', 'PDT', 'POS', 'PRP', 'PRP$', 'RB', 'RBR', 'RBS', 'RP', 'SYM', 'TO', 'UH', 'VB', 'VBD', 'VBG', 'VBN', 'VBP', 'VBZ', 'WDT', 'WP', 'WP$', 'WRB'], id=None), length=-1, id=None)"
            ]
          },
          "metadata": {},
          "execution_count": 10
        }
      ]
    },
    {
      "cell_type": "code",
      "source": [
        "conll[\"train\"].features[\"chunk_tags\"]"
      ],
      "metadata": {
        "colab": {
          "base_uri": "https://localhost:8080/"
        },
        "id": "VhnNi8CbIq9P",
        "outputId": "3dec166c-776e-400d-c64d-aabecbb2dbe5"
      },
      "execution_count": 11,
      "outputs": [
        {
          "output_type": "execute_result",
          "data": {
            "text/plain": [
              "Sequence(feature=ClassLabel(names=['O', 'B-ADJP', 'I-ADJP', 'B-ADVP', 'I-ADVP', 'B-CONJP', 'I-CONJP', 'B-INTJ', 'I-INTJ', 'B-LST', 'I-LST', 'B-NP', 'I-NP', 'B-PP', 'I-PP', 'B-PRT', 'I-PRT', 'B-SBAR', 'I-SBAR', 'B-UCP', 'I-UCP', 'B-VP', 'I-VP'], id=None), length=-1, id=None)"
            ]
          },
          "metadata": {},
          "execution_count": 11
        }
      ]
    },
    {
      "cell_type": "markdown",
      "source": [
        "## Preprocess"
      ],
      "metadata": {
        "id": "_Ig-zvYXJMWi"
      }
    },
    {
      "cell_type": "code",
      "source": [
        "#@title\n",
        "from IPython.display import HTML\n",
        "\n",
        "HTML('<iframe width=\"560\" height=\"315\" src=\"https://www.youtube.com/embed/iY2AZYdZAr0?rel=0&amp;controls=0&amp;showinfo=0\" frameborder=\"0\" allowfullscreen></iframe>')"
      ],
      "metadata": {
        "colab": {
          "base_uri": "https://localhost:8080/",
          "height": 371
        },
        "id": "oHS944EUIczT",
        "outputId": "07b1c578-44ba-441d-9606-e807f7b532e9"
      },
      "execution_count": 12,
      "outputs": [
        {
          "output_type": "stream",
          "name": "stderr",
          "text": [
            "/usr/local/lib/python3.10/dist-packages/IPython/core/display.py:724: UserWarning: Consider using IPython.display.IFrame instead\n",
            "  warnings.warn(\"Consider using IPython.display.IFrame instead\")\n"
          ]
        },
        {
          "output_type": "execute_result",
          "data": {
            "text/plain": [
              "<IPython.core.display.HTML object>"
            ],
            "text/html": [
              "<iframe width=\"560\" height=\"315\" src=\"https://www.youtube.com/embed/iY2AZYdZAr0?rel=0&amp;controls=0&amp;showinfo=0\" frameborder=\"0\" allowfullscreen></iframe>"
            ]
          },
          "metadata": {},
          "execution_count": 12
        }
      ]
    },
    {
      "cell_type": "markdown",
      "source": [
        "The next step is to load a DistilBERT tokenizer to preprocess the `tokens` field:"
      ],
      "metadata": {
        "id": "-MaFDHXKJYlY"
      }
    },
    {
      "cell_type": "code",
      "source": [
        "from transformers import AutoTokenizer\n",
        "\n",
        "tokenizer = AutoTokenizer.from_pretrained(\"distilbert-base-cased\")"
      ],
      "metadata": {
        "colab": {
          "base_uri": "https://localhost:8080/",
          "height": 200,
          "referenced_widgets": [
            "b795504887f945e59f400b937f716b8c",
            "fecbbbe8cb2f4a3fae78b70018c50b31",
            "5c33a1d0c1f74208925b6ada60aeadc0",
            "d0a470c01ed346c9943be84cd480fe4c",
            "5f32404b4dc348efb087e7bfd1360c49",
            "df12456f15c342b2bcb95b45dba68b78",
            "ef906390053349338cf84246a5fd3416",
            "1dba54fbd5094570acf3886dd8b8c6aa",
            "d361aba60adb448e9b1aadd0d926a6c8",
            "479f428705074229ab579290d8d8bf8f",
            "da184cca544c47c19befb1f38ac7eb2f",
            "a2b26c3f569a4e30b5409670b9b3f936",
            "c2b010ee83ec41dfa5cb165706946b8f",
            "26a644623a8a4ecaa70663f748de5a9a",
            "ca3f99bc14c84f79b09289ad5240ed9a",
            "f1ed2bc1f46f45fab5a44116a80672e1",
            "82c88f8ee65f42139bf796e64165b621",
            "9a24edd39e1a4e6bac9acc9c0f9c42dd",
            "7fbedf16e5cb41809bca41a199a11f5a",
            "c12b403fe2e34817b71b3cbf1261c5ad",
            "662bea3beb6a43c7afb4210cd7b22342",
            "4c5e363c818c462fad145e40d6610370",
            "a3bc705ed9654c3aadbc9a61966d3e00",
            "bf2e53c10d1f4ddab534d931b70df6eb",
            "5b9cbd8cfa1c459fabd2d4a18a0935e7",
            "bf098618881142cca5080e352ef48bd6",
            "31503bea62084bfa8c1db7b6d452c039",
            "55cd76d594384319b762aaea45dc832d",
            "c4114953f7d14deb896c0292ca87e3bd",
            "178602d3cce44cc3b863c103e1f3fb6d",
            "f9dc5ffb598b4587b6b4f00998a2f67b",
            "149242274290445ca8b69c1ddcf60075",
            "f2ef6641c5c442d8b7ae8e3b9955b71b",
            "2a57bad47bc64ac3ab5ab6b3359a3403",
            "8bc558cf8c514cf093e9aaa78f8f999d",
            "34bedee25c544d63956a5bd2e5d533fc",
            "eb744cd92ffb49ed9b88ff994d962336",
            "ae49ecce06794218a7a416b5643c61ee",
            "ad6849bf9a2c45f6aad7c91b990850ed",
            "f6ec51a561c4466997172eadf1596bd3",
            "e6d7537a85c945588d0afae0ce5d6c50",
            "f16e1e19bdf74927a52ac96f5cf861e9",
            "6f2649520cdc4d518e11c2dc89c50656",
            "6b646eb82ea2400386458c3a24766597"
          ]
        },
        "id": "zdWHNpiLJa_V",
        "outputId": "4896da24-59f9-4360-8754-0d90ebb204d5"
      },
      "execution_count": 13,
      "outputs": [
        {
          "output_type": "display_data",
          "data": {
            "text/plain": [
              "tokenizer_config.json:   0%|          | 0.00/49.0 [00:00<?, ?B/s]"
            ],
            "application/vnd.jupyter.widget-view+json": {
              "version_major": 2,
              "version_minor": 0,
              "model_id": "b795504887f945e59f400b937f716b8c"
            }
          },
          "metadata": {}
        },
        {
          "output_type": "stream",
          "name": "stderr",
          "text": [
            "/usr/local/lib/python3.10/dist-packages/huggingface_hub/file_download.py:1132: FutureWarning: `resume_download` is deprecated and will be removed in version 1.0.0. Downloads always resume when possible. If you want to force a new download, use `force_download=True`.\n",
            "  warnings.warn(\n"
          ]
        },
        {
          "output_type": "display_data",
          "data": {
            "text/plain": [
              "config.json:   0%|          | 0.00/465 [00:00<?, ?B/s]"
            ],
            "application/vnd.jupyter.widget-view+json": {
              "version_major": 2,
              "version_minor": 0,
              "model_id": "a2b26c3f569a4e30b5409670b9b3f936"
            }
          },
          "metadata": {}
        },
        {
          "output_type": "display_data",
          "data": {
            "text/plain": [
              "vocab.txt:   0%|          | 0.00/213k [00:00<?, ?B/s]"
            ],
            "application/vnd.jupyter.widget-view+json": {
              "version_major": 2,
              "version_minor": 0,
              "model_id": "a3bc705ed9654c3aadbc9a61966d3e00"
            }
          },
          "metadata": {}
        },
        {
          "output_type": "display_data",
          "data": {
            "text/plain": [
              "tokenizer.json:   0%|          | 0.00/436k [00:00<?, ?B/s]"
            ],
            "application/vnd.jupyter.widget-view+json": {
              "version_major": 2,
              "version_minor": 0,
              "model_id": "2a57bad47bc64ac3ab5ab6b3359a3403"
            }
          },
          "metadata": {}
        }
      ]
    },
    {
      "cell_type": "markdown",
      "source": [
        "## Using of \"is_split_into_words\" parameters"
      ],
      "metadata": {
        "id": "ce2gEfXhKOIM"
      }
    },
    {
      "cell_type": "markdown",
      "source": [
        "As you saw in the example `tokens` field above, it looks like the input has already been tokenized. But the input actually hasn't been tokenized yet and you'll need to set `is_split_into_words=True` to tokenize the words into subwords. For example:"
      ],
      "metadata": {
        "id": "ftifaua2KTK8"
      }
    },
    {
      "cell_type": "code",
      "source": [
        "example = conll[\"train\"][0]\n",
        "example[\"tokens\"]"
      ],
      "metadata": {
        "colab": {
          "base_uri": "https://localhost:8080/"
        },
        "id": "5Ed-jZQyJheR",
        "outputId": "1698db50-cef4-447b-9cc4-546cbb6557ac"
      },
      "execution_count": 14,
      "outputs": [
        {
          "output_type": "execute_result",
          "data": {
            "text/plain": [
              "['EU', 'rejects', 'German', 'call', 'to', 'boycott', 'British', 'lamb', '.']"
            ]
          },
          "metadata": {},
          "execution_count": 14
        }
      ]
    },
    {
      "cell_type": "code",
      "source": [
        "example = conll[\"train\"][0]\n",
        "tokenizer(example[\"tokens\"])"
      ],
      "metadata": {
        "id": "0_DtcT69KcHp",
        "outputId": "8f2a5048-724d-4e75-b666-b69c0a3fd9f7",
        "colab": {
          "base_uri": "https://localhost:8080/"
        }
      },
      "execution_count": 15,
      "outputs": [
        {
          "output_type": "execute_result",
          "data": {
            "text/plain": [
              "{'input_ids': [[101, 7270, 102], [101, 22961, 102], [101, 1528, 102], [101, 1840, 102], [101, 1106, 102], [101, 21423, 102], [101, 1418, 102], [101, 2495, 12913, 102], [101, 119, 102]], 'attention_mask': [[1, 1, 1], [1, 1, 1], [1, 1, 1], [1, 1, 1], [1, 1, 1], [1, 1, 1], [1, 1, 1], [1, 1, 1, 1], [1, 1, 1]]}"
            ]
          },
          "metadata": {},
          "execution_count": 15
        }
      ]
    },
    {
      "cell_type": "code",
      "source": [
        "tokenizer(example[\"tokens\"], is_split_into_words=True)"
      ],
      "metadata": {
        "id": "TAALjGASKioO",
        "outputId": "c9f0c6f3-59de-4292-efb2-ac8b86799df8",
        "colab": {
          "base_uri": "https://localhost:8080/"
        }
      },
      "execution_count": 16,
      "outputs": [
        {
          "output_type": "execute_result",
          "data": {
            "text/plain": [
              "{'input_ids': [101, 7270, 22961, 1528, 1840, 1106, 21423, 1418, 2495, 12913, 119, 102], 'attention_mask': [1, 1, 1, 1, 1, 1, 1, 1, 1, 1, 1, 1]}"
            ]
          },
          "metadata": {},
          "execution_count": 16
        }
      ]
    },
    {
      "cell_type": "code",
      "source": [
        "example = conll[\"train\"][0]\n",
        "tokenized_input = tokenizer(example[\"tokens\"],\n",
        "                            is_split_into_words=True,\n",
        "                            truncation=True,\n",
        "                            max_length=15,\n",
        "                            padding = \"max_length\")\n",
        "tokens = tokenizer.convert_ids_to_tokens(tokenized_input[\"input_ids\"])\n",
        "tokens"
      ],
      "metadata": {
        "id": "fXSbub8JLIZo",
        "outputId": "b1587429-4e40-400a-c610-076f3bf87226",
        "colab": {
          "base_uri": "https://localhost:8080/"
        }
      },
      "execution_count": 17,
      "outputs": [
        {
          "output_type": "execute_result",
          "data": {
            "text/plain": [
              "['[CLS]',\n",
              " 'EU',\n",
              " 'rejects',\n",
              " 'German',\n",
              " 'call',\n",
              " 'to',\n",
              " 'boycott',\n",
              " 'British',\n",
              " 'la',\n",
              " '##mb',\n",
              " '.',\n",
              " '[SEP]',\n",
              " '[PAD]',\n",
              " '[PAD]',\n",
              " '[PAD]']"
            ]
          },
          "metadata": {},
          "execution_count": 17
        }
      ]
    },
    {
      "cell_type": "code",
      "source": [
        "tokenized_input[\"input_ids\"]"
      ],
      "metadata": {
        "id": "-awHCkJmLN3x",
        "outputId": "f5650d63-c811-432e-c91a-854786e4bd97",
        "colab": {
          "base_uri": "https://localhost:8080/"
        }
      },
      "execution_count": 18,
      "outputs": [
        {
          "output_type": "execute_result",
          "data": {
            "text/plain": [
              "[101,\n",
              " 7270,\n",
              " 22961,\n",
              " 1528,\n",
              " 1840,\n",
              " 1106,\n",
              " 21423,\n",
              " 1418,\n",
              " 2495,\n",
              " 12913,\n",
              " 119,\n",
              " 102,\n",
              " 0,\n",
              " 0,\n",
              " 0]"
            ]
          },
          "metadata": {},
          "execution_count": 18
        }
      ]
    },
    {
      "cell_type": "markdown",
      "source": [
        "## Using of \"word_ids\" metod."
      ],
      "metadata": {
        "id": "kOfWDaHKNQsB"
      }
    },
    {
      "cell_type": "markdown",
      "source": [
        "However, this adds some special tokens `[CLS]` and `[SEP]` and the subword tokenization creates a mismatch between the input and labels. A single word corresponding to a single label may now be split into two subwords. You'll need to realign the tokens and labels by:\n",
        "\n",
        "1. Mapping all tokens to their corresponding word with the [`word_ids`](https://huggingface.co/docs/transformers/main_classes/tokenizer#transformers.BatchEncoding.word_ids) method.\n",
        "2. Assigning the label `0` to the special tokens `[CLS]` and `[SEP]` so they're ignored by the Tensorflow loss function.\n",
        "3. Only labeling the first token of a given word. Assign `0` to other subtokens from the same word.\n",
        "\n",
        "Here is how you can create a function to realign the tokens and labels, and truncate sequences to be no longer than DistilBERT's maximum input length:"
      ],
      "metadata": {
        "id": "EdHZs02sNUnY"
      }
    },
    {
      "cell_type": "code",
      "source": [
        "samples = conll[\"train\"][1:3]\n",
        "samples"
      ],
      "metadata": {
        "id": "T7Oleo7VNVTS",
        "outputId": "41dc1859-c1b6-4d75-b1f4-defcb1873fc7",
        "colab": {
          "base_uri": "https://localhost:8080/"
        }
      },
      "execution_count": 19,
      "outputs": [
        {
          "output_type": "execute_result",
          "data": {
            "text/plain": [
              "{'id': ['1', '2'],\n",
              " 'tokens': [['Peter', 'Blackburn'], ['BRUSSELS', '1996-08-22']],\n",
              " 'pos_tags': [[22, 22], [22, 11]],\n",
              " 'chunk_tags': [[11, 12], [11, 12]],\n",
              " 'ner_tags': [[1, 2], [5, 0]]}"
            ]
          },
          "metadata": {},
          "execution_count": 19
        }
      ]
    },
    {
      "cell_type": "code",
      "source": [
        "samples[\"tokens\"]"
      ],
      "metadata": {
        "id": "yOrPjsYQNY47",
        "outputId": "77a1dffe-33e5-49fd-90c6-466a8c506b5b",
        "colab": {
          "base_uri": "https://localhost:8080/"
        }
      },
      "execution_count": 20,
      "outputs": [
        {
          "output_type": "execute_result",
          "data": {
            "text/plain": [
              "[['Peter', 'Blackburn'], ['BRUSSELS', '1996-08-22']]"
            ]
          },
          "metadata": {},
          "execution_count": 20
        }
      ]
    },
    {
      "cell_type": "code",
      "source": [
        "samples[\"ner_tags\"]"
      ],
      "metadata": {
        "id": "yyMvqhu6NdXO",
        "outputId": "052965cb-5252-4532-c3db-9fc23b443dc3",
        "colab": {
          "base_uri": "https://localhost:8080/"
        }
      },
      "execution_count": 21,
      "outputs": [
        {
          "output_type": "execute_result",
          "data": {
            "text/plain": [
              "[[1, 2], [5, 0]]"
            ]
          },
          "metadata": {},
          "execution_count": 21
        }
      ]
    },
    {
      "cell_type": "code",
      "source": [
        "tokenized_inputs = tokenizer(samples[\"tokens\"],\n",
        "                             truncation=True,\n",
        "                             is_split_into_words=True,\n",
        "                             padding = \"max_length\",\n",
        "                             max_length=12)\n",
        "tokenized_inputs"
      ],
      "metadata": {
        "id": "H22A2koCNe-K",
        "outputId": "eaba80f9-d532-408d-8a0c-46db76450f2a",
        "colab": {
          "base_uri": "https://localhost:8080/"
        }
      },
      "execution_count": 22,
      "outputs": [
        {
          "output_type": "execute_result",
          "data": {
            "text/plain": [
              "{'input_ids': [[101, 1943, 14428, 102, 0, 0, 0, 0, 0, 0, 0, 0], [101, 26660, 13329, 12649, 15928, 1820, 118, 4775, 118, 1659, 102, 0]], 'attention_mask': [[1, 1, 1, 1, 0, 0, 0, 0, 0, 0, 0, 0], [1, 1, 1, 1, 1, 1, 1, 1, 1, 1, 1, 0]]}"
            ]
          },
          "metadata": {},
          "execution_count": 22
        }
      ]
    },
    {
      "cell_type": "code",
      "source": [
        "for i, label in enumerate(samples[\"ner_tags\"]):\n",
        "    word_ids = tokenized_inputs.word_ids(batch_index=i)\n",
        "    print(\"input_ids          :\", tokenized_inputs['input_ids'][i])\n",
        "    print(\"tokens             :\", samples[\"tokens\"][i])\n",
        "    print(\"tokenized_tokens   :\", tokenizer.convert_ids_to_tokens(tokenized_inputs['input_ids'][i]))\n",
        "    print(\"word_ids           :\", word_ids)\n",
        "    print(\"label_ids(ner_tags):\", label)\n",
        "    print()\n",
        "    # word_ids tokenlerin liste içindeki indexlerini, ve özel tokenleri döndürür."
      ],
      "metadata": {
        "id": "lv1CUnZwNnwZ",
        "outputId": "f5e08781-b3cb-45d7-f657-bbd4a9304acc",
        "colab": {
          "base_uri": "https://localhost:8080/"
        }
      },
      "execution_count": 23,
      "outputs": [
        {
          "output_type": "stream",
          "name": "stdout",
          "text": [
            "input_ids          : [101, 1943, 14428, 102, 0, 0, 0, 0, 0, 0, 0, 0]\n",
            "tokens             : ['Peter', 'Blackburn']\n",
            "tokenized_tokens   : ['[CLS]', 'Peter', 'Blackburn', '[SEP]', '[PAD]', '[PAD]', '[PAD]', '[PAD]', '[PAD]', '[PAD]', '[PAD]', '[PAD]']\n",
            "word_ids           : [None, 0, 1, None, None, None, None, None, None, None, None, None]\n",
            "label_ids(ner_tags): [1, 2]\n",
            "\n",
            "input_ids          : [101, 26660, 13329, 12649, 15928, 1820, 118, 4775, 118, 1659, 102, 0]\n",
            "tokens             : ['BRUSSELS', '1996-08-22']\n",
            "tokenized_tokens   : ['[CLS]', 'BR', '##US', '##SE', '##LS', '1996', '-', '08', '-', '22', '[SEP]', '[PAD]']\n",
            "word_ids           : [None, 0, 0, 0, 0, 1, 1, 1, 1, 1, None, None]\n",
            "label_ids(ner_tags): [5, 0]\n",
            "\n"
          ]
        }
      ]
    },
    {
      "cell_type": "markdown",
      "source": [
        "## Tokenization by using \"is_split_into_words\" parameter and \"word_ids\" metod"
      ],
      "metadata": {
        "id": "5ik2LBQBxj39"
      }
    },
    {
      "cell_type": "code",
      "source": [
        "max([len(i) for i in conll[\"train\"][\"tokens\"]])"
      ],
      "metadata": {
        "id": "mtoO3VMkNrch",
        "outputId": "4bf2e0d2-ded1-4e86-892d-32a22cf61a2a",
        "colab": {
          "base_uri": "https://localhost:8080/"
        }
      },
      "execution_count": 24,
      "outputs": [
        {
          "output_type": "execute_result",
          "data": {
            "text/plain": [
              "113"
            ]
          },
          "metadata": {},
          "execution_count": 24
        }
      ]
    },
    {
      "cell_type": "code",
      "source": [
        "def tokenize_and_align_labels(examples):\n",
        "    # examples.reset_index(drop=True)\n",
        "    tokenized_inputs = tokenizer(examples[\"tokens\"],\n",
        "                                 truncation=True,\n",
        "                                 is_split_into_words=True,\n",
        "                                 padding = \"max_length\",\n",
        "                                 max_length=113)\n",
        "    # tüm cümlelerin input_ids ile attention_mask vektörleri en uzun cümlenin token sayısına sabitleniyor.\n",
        "\n",
        "    labels = []\n",
        "    for i, label in enumerate(examples[\"ner_tags\"]):\n",
        "        word_ids = tokenized_inputs.word_ids(batch_index=i)\n",
        "\n",
        "        # i index numaraları batch_index parametresine tanımlanarak her cümleye karşılık gelen word_ids'leri teker teker çekiyoruz.\n",
        "        # word_ids fonksiyonu ile her texte ait tokenler cümledeki sıralamasına göre 0'dan başlayarak numaralandırılıyor. Ancak,\n",
        "        # wordpiece tekniğiyle köklerine ve eklerine ayrılan tokenler aynı tokeni temsil ettiğinden aynı numara ile numaralandırılması gerekiyor.\n",
        "        # [CLS], [SEP], [PAD] special tokenleri ise None'a dönüştürülüyor. None olan bu tokenlere aşağıda kuracağımız for döngüsü\n",
        "        # ile 0 atayacağız.\n",
        "        # örneğin, ['[CLS]', 'Turkey', \"'\", 's', 'Tora', '##s', 'mountains', 'are','famous', '[SEP]', '[PAD]', '[PAD]'] cümlesi\n",
        "        # [None, 0, 0, 0, 1, 1, 2, 3, 4, None, None, None] şeklinde cümledeki token sıralamasına göre 0'dan başlayarak numaralandırılıyor.\n",
        "        # Dikkat ederseniz 'Turkey', \"'\", 's' tokenleri \"Turkey's\" tokenini temsil ettiğinden 0 numarasıyla, 'Tora', '##s' tokenleri de\n",
        "        # \"Toras\" tokenini temsil ettiklerinden 1 numarası ile numaralandırılırken special tokenler None'a dönüştürülüyor. Bu işlemi yapma\n",
        "        # sebebimiz köklerine ve eklerine ayrılan tokenlere aynı tag (etiket)'lerin atanmasını sağlamak.\n",
        "\n",
        "\n",
        "        # Label ile her cümleye ait tagleri çekiyoruz.Ancak çektiğimiz tagler köklerine ve eklerine göre ayrılan tokenleri temsil etmediğinden\n",
        "        # köklerine ve eklerine ayrılan tokenlere aynı tag numarasını atamamız gerekiyor. Bunun için word_ids listesinde yer alan numaraları\n",
        "        # labels'dan çekeceğimiz taglerin indexi için kullanacağız.\n",
        "        # Örnek, yukardaki örnek cümlemizin labelı [1, 2, 11, 0, 0] taglerinden oluşuyor. Gördüğünüz gibi orjinal cümlemiz 5 adet tag'den\n",
        "        # oluşuyor. [Turkey's : 1, Toras :2, mountains :11, are :0, famous :0] şeklinde tag'leri belirlenen cümlemiz, Yukarıdaki gibi\n",
        "        # tokenlerine ayrıldığında \"Turkey\":1, \"'\":1, \"s\":1, \"Tora\":2, \"s\":2, \"mountains\":11, \"are\":0, \"famous\":0=> [1, 1, 1, 2, 2, 11, 0, 0]\n",
        "        # olacak şekilde taglerinin atanması gerekiyor. Bunun için aynı tokeni temsil eden kökler ve eklerine aynı tag'i atamak için\n",
        "        # [None, 0, 0, 0, 1, 1, 2, 3, 4, None, None, None] word_ids listesinde yer alan numaraları index olarak kullanıp sırasıyla\n",
        "        # [1, 2, 11, 0, 0] labelından tagleri çekeceğiz.\n",
        "        # örnek, a = [1, 2, 11, 0, 0] dersek,\n",
        "        # a[0]:1, a[0]:1, a[0]:1, a[1]:2, a[1]:2, a[2]:11, a[3]:0, a[4]:0 --> [1,1,1,2,2,11,0,0] taglerine dönüştürdük. Bu işlemi aşağıda\n",
        "        # label[word_idx] kodu ile yapacağız.\n",
        "        # Bu işlemi yapmaz isek modelimiz bu tokenlerin aynı tokeni temsil ettiğini anlayamaz.\n",
        "\n",
        "        # previous_word_idx = None\n",
        "        label_ids = []\n",
        "        for word_idx in word_ids: # Set the special tokens to 0.\n",
        "        # word_ids içindeki tüm elemanlar çekiliyor. None olanlar için labels_ids boş listesine 0 numarası atanıyor.\n",
        "            if word_idx is None:\n",
        "                label_ids.append(0)\n",
        "            elif word_idx != None: # Only label the first token of a given word.\n",
        "        # None değilse for label ile her cümleye ait token\n",
        "                label_ids.append(label[word_idx])\n",
        "\n",
        "        labels.append(label_ids)\n",
        "\n",
        "    tokenized_inputs[\"labels\"] = labels\n",
        "    return tokenized_inputs"
      ],
      "metadata": {
        "id": "yoiM8fsSxxuL"
      },
      "execution_count": 25,
      "outputs": []
    },
    {
      "cell_type": "code",
      "source": [
        "tokenize_and_align_labels(conll[\"train\"][:1])"
      ],
      "metadata": {
        "id": "gD7RZO9Yx5kO",
        "outputId": "b6d620a3-9ded-4eac-d005-db4c4c553f9b",
        "colab": {
          "base_uri": "https://localhost:8080/"
        }
      },
      "execution_count": 26,
      "outputs": [
        {
          "output_type": "execute_result",
          "data": {
            "text/plain": [
              "{'input_ids': [[101, 7270, 22961, 1528, 1840, 1106, 21423, 1418, 2495, 12913, 119, 102, 0, 0, 0, 0, 0, 0, 0, 0, 0, 0, 0, 0, 0, 0, 0, 0, 0, 0, 0, 0, 0, 0, 0, 0, 0, 0, 0, 0, 0, 0, 0, 0, 0, 0, 0, 0, 0, 0, 0, 0, 0, 0, 0, 0, 0, 0, 0, 0, 0, 0, 0, 0, 0, 0, 0, 0, 0, 0, 0, 0, 0, 0, 0, 0, 0, 0, 0, 0, 0, 0, 0, 0, 0, 0, 0, 0, 0, 0, 0, 0, 0, 0, 0, 0, 0, 0, 0, 0, 0, 0, 0, 0, 0, 0, 0, 0, 0, 0, 0, 0, 0]], 'attention_mask': [[1, 1, 1, 1, 1, 1, 1, 1, 1, 1, 1, 1, 0, 0, 0, 0, 0, 0, 0, 0, 0, 0, 0, 0, 0, 0, 0, 0, 0, 0, 0, 0, 0, 0, 0, 0, 0, 0, 0, 0, 0, 0, 0, 0, 0, 0, 0, 0, 0, 0, 0, 0, 0, 0, 0, 0, 0, 0, 0, 0, 0, 0, 0, 0, 0, 0, 0, 0, 0, 0, 0, 0, 0, 0, 0, 0, 0, 0, 0, 0, 0, 0, 0, 0, 0, 0, 0, 0, 0, 0, 0, 0, 0, 0, 0, 0, 0, 0, 0, 0, 0, 0, 0, 0, 0, 0, 0, 0, 0, 0, 0, 0, 0]], 'labels': [[0, 3, 0, 7, 0, 0, 0, 7, 0, 0, 0, 0, 0, 0, 0, 0, 0, 0, 0, 0, 0, 0, 0, 0, 0, 0, 0, 0, 0, 0, 0, 0, 0, 0, 0, 0, 0, 0, 0, 0, 0, 0, 0, 0, 0, 0, 0, 0, 0, 0, 0, 0, 0, 0, 0, 0, 0, 0, 0, 0, 0, 0, 0, 0, 0, 0, 0, 0, 0, 0, 0, 0, 0, 0, 0, 0, 0, 0, 0, 0, 0, 0, 0, 0, 0, 0, 0, 0, 0, 0, 0, 0, 0, 0, 0, 0, 0, 0, 0, 0, 0, 0, 0, 0, 0, 0, 0, 0, 0, 0, 0, 0, 0]]}"
            ]
          },
          "metadata": {},
          "execution_count": 26
        }
      ]
    },
    {
      "cell_type": "code",
      "source": [
        "tokenize_and_align_labels(conll[\"train\"][100:101])"
      ],
      "metadata": {
        "id": "HX-40ltgx7iF",
        "outputId": "bc54b56d-3c65-4dc9-f25a-497c0355feeb",
        "colab": {
          "base_uri": "https://localhost:8080/"
        }
      },
      "execution_count": 27,
      "outputs": [
        {
          "output_type": "execute_result",
          "data": {
            "text/plain": [
              "{'input_ids': [[101, 16890, 25473, 11690, 1110, 14042, 1146, 1117, 1858, 1112, 9088, 119, 102, 0, 0, 0, 0, 0, 0, 0, 0, 0, 0, 0, 0, 0, 0, 0, 0, 0, 0, 0, 0, 0, 0, 0, 0, 0, 0, 0, 0, 0, 0, 0, 0, 0, 0, 0, 0, 0, 0, 0, 0, 0, 0, 0, 0, 0, 0, 0, 0, 0, 0, 0, 0, 0, 0, 0, 0, 0, 0, 0, 0, 0, 0, 0, 0, 0, 0, 0, 0, 0, 0, 0, 0, 0, 0, 0, 0, 0, 0, 0, 0, 0, 0, 0, 0, 0, 0, 0, 0, 0, 0, 0, 0, 0, 0, 0, 0, 0, 0, 0, 0]], 'attention_mask': [[1, 1, 1, 1, 1, 1, 1, 1, 1, 1, 1, 1, 1, 0, 0, 0, 0, 0, 0, 0, 0, 0, 0, 0, 0, 0, 0, 0, 0, 0, 0, 0, 0, 0, 0, 0, 0, 0, 0, 0, 0, 0, 0, 0, 0, 0, 0, 0, 0, 0, 0, 0, 0, 0, 0, 0, 0, 0, 0, 0, 0, 0, 0, 0, 0, 0, 0, 0, 0, 0, 0, 0, 0, 0, 0, 0, 0, 0, 0, 0, 0, 0, 0, 0, 0, 0, 0, 0, 0, 0, 0, 0, 0, 0, 0, 0, 0, 0, 0, 0, 0, 0, 0, 0, 0, 0, 0, 0, 0, 0, 0, 0, 0]], 'labels': [[0, 1, 1, 1, 0, 0, 0, 0, 0, 0, 0, 0, 0, 0, 0, 0, 0, 0, 0, 0, 0, 0, 0, 0, 0, 0, 0, 0, 0, 0, 0, 0, 0, 0, 0, 0, 0, 0, 0, 0, 0, 0, 0, 0, 0, 0, 0, 0, 0, 0, 0, 0, 0, 0, 0, 0, 0, 0, 0, 0, 0, 0, 0, 0, 0, 0, 0, 0, 0, 0, 0, 0, 0, 0, 0, 0, 0, 0, 0, 0, 0, 0, 0, 0, 0, 0, 0, 0, 0, 0, 0, 0, 0, 0, 0, 0, 0, 0, 0, 0, 0, 0, 0, 0, 0, 0, 0, 0, 0, 0, 0, 0, 0]]}"
            ]
          },
          "metadata": {},
          "execution_count": 27
        }
      ]
    },
    {
      "cell_type": "markdown",
      "source": [
        "To apply the preprocessing function over the entire dataset, use 🤗 Datasets [map](https://huggingface.co/docs/datasets/main/en/package_reference/main_classes#datasets.Dataset.map) function. You can speed up the `map` function by setting `batched=True` to process multiple elements of the dataset at once:"
      ],
      "metadata": {
        "id": "qmcWeZtIyCsK"
      }
    },
    {
      "cell_type": "code",
      "source": [
        "tokenized_conll = conll.map(tokenize_and_align_labels, batched=True)"
      ],
      "metadata": {
        "id": "X09HAyAzyAEF",
        "outputId": "ad4e4813-cbd9-47d9-f091-8954ba4a2605",
        "colab": {
          "base_uri": "https://localhost:8080/",
          "height": 113,
          "referenced_widgets": [
            "e3b67ab98eba444da1ce7ea9389c732e",
            "293dbdc088bd461c9185266bcdddca65",
            "551f6aaa9b0e45698ac17ac721855bed",
            "ded4cd393588466e982edb3695c86a93",
            "1d64011924784c5ab72d97298058a0f6",
            "823571b19d64424497aac6314eea4a1d",
            "fcb6e4b8e95a41e8b09acce0785da93e",
            "93bd2c5e986d453c8369ed7611ba080b",
            "cf3bfd853e4d42e6b171c1a4ccf07640",
            "2fe672ebd0ce426d815922c82ee192ca",
            "45065e9f4e5646f4b14d9da0bdc28182",
            "40487d0b95834313813daae089e29d36",
            "4998bc41e71a4eecb07cb47d6b39d4a9",
            "39e694b93c39466e8b4177ed495623ec",
            "2c1d8acaa9134aa589125483029e0216",
            "7b575f89130b4918870df3d52c47d45f",
            "6857cad03b5f4e79af9e804c12bd9ac2",
            "e79926b212b44d7dba6e8b0171ea89f5",
            "4ba544675e7348b294213719badb1830",
            "054efe962f1546cfb79ea53f84a37d74",
            "b51b5acaa9f243a682b567d08fd4d6e6",
            "7a7234117cf046788c20a9d308d9d6f8",
            "53679abd56e64bb18492b61d87d879c1",
            "087728aa7ee04f93ada746cd4ff53f10",
            "ba3e79be0761451e96f68bbfcf4800c2",
            "53a0a0bad2c947ef9f2576d3126c76fd",
            "d6bdaa4fa2aa41cb9ef43b6cb8e151d3",
            "4b0d7b3fc0e54591a8260250f200c23d",
            "29a7e5f83dee4556b756e17a0dde2656",
            "7c85a72d290341128901497e8fd1cbb2",
            "d63c1d516044477896a1ed0b0bd27f33",
            "515e09d65646456ba99ed388a2c1f457",
            "4bf64a975a644c5f9250eace8edbb831"
          ]
        }
      },
      "execution_count": 28,
      "outputs": [
        {
          "output_type": "display_data",
          "data": {
            "text/plain": [
              "Map:   0%|          | 0/14041 [00:00<?, ? examples/s]"
            ],
            "application/vnd.jupyter.widget-view+json": {
              "version_major": 2,
              "version_minor": 0,
              "model_id": "e3b67ab98eba444da1ce7ea9389c732e"
            }
          },
          "metadata": {}
        },
        {
          "output_type": "display_data",
          "data": {
            "text/plain": [
              "Map:   0%|          | 0/3250 [00:00<?, ? examples/s]"
            ],
            "application/vnd.jupyter.widget-view+json": {
              "version_major": 2,
              "version_minor": 0,
              "model_id": "40487d0b95834313813daae089e29d36"
            }
          },
          "metadata": {}
        },
        {
          "output_type": "display_data",
          "data": {
            "text/plain": [
              "Map:   0%|          | 0/3453 [00:00<?, ? examples/s]"
            ],
            "application/vnd.jupyter.widget-view+json": {
              "version_major": 2,
              "version_minor": 0,
              "model_id": "53679abd56e64bb18492b61d87d879c1"
            }
          },
          "metadata": {}
        }
      ]
    },
    {
      "cell_type": "code",
      "source": [
        "tokenized_conll"
      ],
      "metadata": {
        "id": "Lq7MgiQLyF4g",
        "outputId": "d509892d-6d3c-4f04-f233-390047f53028",
        "colab": {
          "base_uri": "https://localhost:8080/"
        }
      },
      "execution_count": 29,
      "outputs": [
        {
          "output_type": "execute_result",
          "data": {
            "text/plain": [
              "DatasetDict({\n",
              "    train: Dataset({\n",
              "        features: ['id', 'tokens', 'pos_tags', 'chunk_tags', 'ner_tags', 'input_ids', 'attention_mask', 'labels'],\n",
              "        num_rows: 14041\n",
              "    })\n",
              "    validation: Dataset({\n",
              "        features: ['id', 'tokens', 'pos_tags', 'chunk_tags', 'ner_tags', 'input_ids', 'attention_mask', 'labels'],\n",
              "        num_rows: 3250\n",
              "    })\n",
              "    test: Dataset({\n",
              "        features: ['id', 'tokens', 'pos_tags', 'chunk_tags', 'ner_tags', 'input_ids', 'attention_mask', 'labels'],\n",
              "        num_rows: 3453\n",
              "    })\n",
              "})"
            ]
          },
          "metadata": {},
          "execution_count": 29
        }
      ]
    },
    {
      "cell_type": "markdown",
      "source": [
        "## Create Optimizer"
      ],
      "metadata": {
        "id": "p0QWLu_NyMlp"
      }
    },
    {
      "cell_type": "markdown",
      "source": [],
      "metadata": {
        "id": "2z30fDk1yaAF"
      }
    },
    {
      "cell_type": "markdown",
      "source": [
        "<Tip>\n",
        "\n",
        "If you aren't familiar with finetuning a model with Keras, take a look at the basic tutorial [here](https://huggingface.co/docs/transformers/main/en/tasks/../training#train-a-tensorflow-model-with-keras)!\n",
        "\n",
        "</Tip>\n",
        "To finetune a model in TensorFlow, start by setting up an optimizer function, learning rate schedule, and some training hyperparameters:"
      ],
      "metadata": {
        "id": "4MDM1pdCyOlr"
      }
    },
    {
      "cell_type": "code",
      "source": [
        "from transformers import create_optimizer\n",
        "\n",
        "batch_size = 32\n",
        "num_train_epochs = 2\n",
        "num_train_steps = (len(tokenized_conll[\"train\"]) // batch_size) * num_train_epochs\n",
        "optimizer, lr_schedule = create_optimizer(\n",
        "    init_lr=2e-5,\n",
        "    num_train_steps=num_train_steps,\n",
        "    weight_decay_rate=0.01,\n",
        "    num_warmup_steps=0.1\n",
        ")"
      ],
      "metadata": {
        "id": "I7webQHiyH9N"
      },
      "execution_count": 30,
      "outputs": []
    },
    {
      "cell_type": "markdown",
      "source": [
        "Before you start training your model, create a map of the expected ids to their labels with `id2label` and `label2id`:"
      ],
      "metadata": {
        "id": "ganI_ixxybLx"
      }
    },
    {
      "cell_type": "code",
      "source": [
        "id2label = {i:j for i, j in enumerate(label_list)}\n",
        "label2id = {j:i for i, j in enumerate(label_list)}"
      ],
      "metadata": {
        "id": "1if3wN6byYXU"
      },
      "execution_count": 31,
      "outputs": []
    },
    {
      "cell_type": "code",
      "source": [
        "id2label"
      ],
      "metadata": {
        "id": "o8o34TZ2yeK1",
        "outputId": "d3a8d175-aa45-40b0-9dfb-494f7440966d",
        "colab": {
          "base_uri": "https://localhost:8080/"
        }
      },
      "execution_count": 32,
      "outputs": [
        {
          "output_type": "execute_result",
          "data": {
            "text/plain": [
              "{0: 'O',\n",
              " 1: 'B-PER',\n",
              " 2: 'I-PER',\n",
              " 3: 'B-ORG',\n",
              " 4: 'I-ORG',\n",
              " 5: 'B-LOC',\n",
              " 6: 'I-LOC',\n",
              " 7: 'B-MISC',\n",
              " 8: 'I-MISC'}"
            ]
          },
          "metadata": {},
          "execution_count": 32
        }
      ]
    },
    {
      "cell_type": "code",
      "source": [
        "label2id\n"
      ],
      "metadata": {
        "id": "oXbMRKBxyf1F",
        "outputId": "f416b3fe-7822-41de-c318-1877ea192cc5",
        "colab": {
          "base_uri": "https://localhost:8080/"
        }
      },
      "execution_count": 33,
      "outputs": [
        {
          "output_type": "execute_result",
          "data": {
            "text/plain": [
              "{'O': 0,\n",
              " 'B-PER': 1,\n",
              " 'I-PER': 2,\n",
              " 'B-ORG': 3,\n",
              " 'I-ORG': 4,\n",
              " 'B-LOC': 5,\n",
              " 'I-LOC': 6,\n",
              " 'B-MISC': 7,\n",
              " 'I-MISC': 8}"
            ]
          },
          "metadata": {},
          "execution_count": 33
        }
      ]
    },
    {
      "cell_type": "markdown",
      "source": [
        "## Training"
      ],
      "metadata": {
        "id": "9YJyyZxFyj7p"
      }
    },
    {
      "cell_type": "markdown",
      "source": [
        "Then you can load DistilBERT with [TFAutoModelForTokenClassification](https://huggingface.co/docs/transformers/main/en/model_doc/auto#transformers.TFAutoModelForTokenClassification) along with the number of expected labels, and the label mappings:"
      ],
      "metadata": {
        "id": "J10VAQEnyl4_"
      }
    },
    {
      "cell_type": "code",
      "source": [
        "from transformers import TFAutoModelForTokenClassification\n",
        "\n",
        "model = TFAutoModelForTokenClassification.from_pretrained(\n",
        "    \"distilbert-base-cased\",\n",
        "    num_labels=9,\n",
        "    id2label=id2label,\n",
        "    label2id=label2id\n",
        ")"
      ],
      "metadata": {
        "id": "Y5nt07Vsyh2O",
        "outputId": "1ea6772d-246f-48e0-e460-6343ca11d9de",
        "colab": {
          "base_uri": "https://localhost:8080/",
          "height": 156,
          "referenced_widgets": [
            "344d23d57a40406396838228b95ddf38",
            "000a08a00df84f7895f6ca58b9956cc8",
            "a735bfab0428465099acb6995b8c6df0",
            "2dc76829c7d146298910dffeb81f200e",
            "9086c2b14c164f408e3745190ed05569",
            "3ba6850c5df7461283eb9c77f6d973ac",
            "d5627fc031ca4ff1af675640bbd3b6d7",
            "52bf619f30de44eaa2df15b5595ab0f8",
            "55c1f977ae4940cc8cf6cfe067131ed3",
            "98870391fc8a454e8cf8d42b0c38a2ec",
            "003e0b289c1d42a6ab274e7bdc58fe0d"
          ]
        }
      },
      "execution_count": 34,
      "outputs": [
        {
          "output_type": "display_data",
          "data": {
            "text/plain": [
              "model.safetensors:   0%|          | 0.00/263M [00:00<?, ?B/s]"
            ],
            "application/vnd.jupyter.widget-view+json": {
              "version_major": 2,
              "version_minor": 0,
              "model_id": "344d23d57a40406396838228b95ddf38"
            }
          },
          "metadata": {}
        },
        {
          "output_type": "stream",
          "name": "stderr",
          "text": [
            "Some weights of the PyTorch model were not used when initializing the TF 2.0 model TFDistilBertForTokenClassification: ['vocab_projector.bias', 'vocab_layer_norm.bias', 'vocab_transform.weight', 'vocab_transform.bias', 'vocab_layer_norm.weight']\n",
            "- This IS expected if you are initializing TFDistilBertForTokenClassification from a PyTorch model trained on another task or with another architecture (e.g. initializing a TFBertForSequenceClassification model from a BertForPreTraining model).\n",
            "- This IS NOT expected if you are initializing TFDistilBertForTokenClassification from a PyTorch model that you expect to be exactly identical (e.g. initializing a TFBertForSequenceClassification model from a BertForSequenceClassification model).\n",
            "Some weights or buffers of the TF 2.0 model TFDistilBertForTokenClassification were not initialized from the PyTorch model and are newly initialized: ['classifier.weight', 'classifier.bias']\n",
            "You should probably TRAIN this model on a down-stream task to be able to use it for predictions and inference.\n"
          ]
        }
      ]
    },
    {
      "cell_type": "markdown",
      "source": [
        "Convert your datasets to the `tf.data.Dataset` format with [prepare_tf_dataset()](https://huggingface.co/docs/transformers/main/en/main_classes/model#transformers.TFPreTrainedModel.prepare_tf_dataset):"
      ],
      "metadata": {
        "id": "p6cXhoCjyp5w"
      }
    },
    {
      "cell_type": "code",
      "source": [
        "tokenized_conll[\"train\"]"
      ],
      "metadata": {
        "id": "lKCLJb4syoAw",
        "outputId": "09b9d428-31eb-4021-fef1-534a62bf5b75",
        "colab": {
          "base_uri": "https://localhost:8080/"
        }
      },
      "execution_count": 35,
      "outputs": [
        {
          "output_type": "execute_result",
          "data": {
            "text/plain": [
              "Dataset({\n",
              "    features: ['id', 'tokens', 'pos_tags', 'chunk_tags', 'ner_tags', 'input_ids', 'attention_mask', 'labels'],\n",
              "    num_rows: 14041\n",
              "})"
            ]
          },
          "metadata": {},
          "execution_count": 35
        }
      ]
    },
    {
      "cell_type": "code",
      "source": [
        "tokenized_conll[\"validation\"]"
      ],
      "metadata": {
        "id": "lQm7sZXnytDN",
        "outputId": "0cdc5b7b-570d-42ac-9e34-4bd7c8b62c7f",
        "colab": {
          "base_uri": "https://localhost:8080/"
        }
      },
      "execution_count": 36,
      "outputs": [
        {
          "output_type": "execute_result",
          "data": {
            "text/plain": [
              "Dataset({\n",
              "    features: ['id', 'tokens', 'pos_tags', 'chunk_tags', 'ner_tags', 'input_ids', 'attention_mask', 'labels'],\n",
              "    num_rows: 3250\n",
              "})"
            ]
          },
          "metadata": {},
          "execution_count": 36
        }
      ]
    },
    {
      "cell_type": "code",
      "source": [
        "tf_train_set = model.prepare_tf_dataset(\n",
        "    tokenized_conll[\"train\"],\n",
        "    shuffle=False,\n",
        "    batch_size=32\n",
        ")\n",
        "\n",
        "tf_validation_set = model.prepare_tf_dataset(\n",
        "    tokenized_conll[\"validation\"],\n",
        "    shuffle=False,\n",
        "    batch_size=32\n",
        ")"
      ],
      "metadata": {
        "id": "vsN7CbWJyv3M"
      },
      "execution_count": 37,
      "outputs": []
    },
    {
      "cell_type": "code",
      "source": [
        "tf_train_set"
      ],
      "metadata": {
        "id": "vOhG1EYkyxb7",
        "outputId": "31d4da3f-1875-46c3-9631-9d34e065a776",
        "colab": {
          "base_uri": "https://localhost:8080/"
        }
      },
      "execution_count": 38,
      "outputs": [
        {
          "output_type": "execute_result",
          "data": {
            "text/plain": [
              "<_PrefetchDataset element_spec=({'input_ids': TensorSpec(shape=(None, 113), dtype=tf.int64, name=None), 'attention_mask': TensorSpec(shape=(None, 113), dtype=tf.int64, name=None)}, TensorSpec(shape=(None, 113), dtype=tf.int64, name=None))>"
            ]
          },
          "metadata": {},
          "execution_count": 38
        }
      ]
    },
    {
      "cell_type": "markdown",
      "source": [
        "Configure the model for training with [`compile`](https://keras.io/api/models/model_training_apis/#compile-method). Note that Transformers models all have a default task-relevant loss function, so you don't need to specify one unless you want to:"
      ],
      "metadata": {
        "id": "Y4oUTcB8y0rA"
      }
    },
    {
      "cell_type": "code",
      "source": [
        "import tensorflow as tf\n",
        "\n",
        "model.compile(optimizer=optimizer)  # No loss argument!"
      ],
      "metadata": {
        "id": "jPfNfVpZyzIQ"
      },
      "execution_count": 39,
      "outputs": []
    },
    {
      "cell_type": "markdown",
      "source": [
        "## Loading The Model to Huggingface Hub"
      ],
      "metadata": {
        "id": "oW0PJyDwy8N1"
      }
    },
    {
      "cell_type": "markdown",
      "source": [
        "Specify where to push your model and tokenizer in the [PushToHubCallback](https://huggingface.co/docs/transformers/main/en/main_classes/keras_callbacks#transformers.PushToHubCallback):"
      ],
      "metadata": {
        "id": "HcweOQPhy-bg"
      }
    },
    {
      "cell_type": "code",
      "source": [
        "from transformers.keras_callbacks import PushToHubCallback\n",
        "\n",
        "push_to_hub_callback = PushToHubCallback(\n",
        "    output_dir=\"my_awesome_conll_model\",\n",
        "    tokenizer=tokenizer,\n",
        "    hub_token=os.environ['HF_WRITE_TOKEN']\n",
        ")"
      ],
      "metadata": {
        "id": "gVAbkNy0y4yQ",
        "outputId": "d441505b-db35-4fc5-bbab-d7282f41776d",
        "colab": {
          "base_uri": "https://localhost:8080/",
          "height": 188,
          "referenced_widgets": [
            "181478061d76427b84b50f54baa403cc",
            "027e5a58d67a44c69714682dea1ce7b4",
            "f14895b4b4a54787a0addcd35849f681",
            "90c87c3308fc402aaa8d08e71fff094f",
            "4b3f4ab1c0344e57a1e034a3cb4aeb40",
            "16ff4063183c49f0bf2f1bfaf6040edf",
            "66cfd3b4adc442a8b4c52c2538755552",
            "0966b9f43a9748a0a8583023d7a0dd64",
            "2eaa561526514e0a9123a6d1d9b51447",
            "5f654399f2ea45198b9993eda432a09f",
            "1779588adac64589a1a40c3c9db10e0c",
            "0b77d2155c604a058c3c78ec7cfb5446",
            "518606190657462593daf8c347bd6709",
            "f4be6839c97746878bf610db69c5f8c5",
            "7211762425d949a6a0c4a08660364a76",
            "fbd0145c351e4e9d947b365f77244b87",
            "eea7fe9110824532bfaf2f50edd45af7",
            "269dea0d5f03444c903a2ca922d2b67a",
            "228d3598aee04ab1bc205e5ce796f934",
            "7d0e467e5bae45ef83fa54fc2243a284",
            "9507e300a9e34bbe8a0df07a06a37413",
            "47a94aab7b6748b1b93163dff62725a4"
          ]
        }
      },
      "execution_count": 40,
      "outputs": [
        {
          "output_type": "stream",
          "name": "stderr",
          "text": [
            "/usr/local/lib/python3.10/dist-packages/huggingface_hub/utils/_deprecation.py:131: FutureWarning: 'Repository' (from 'huggingface_hub.repository') is deprecated and will be removed from version '1.0'. Please prefer the http-based alternatives instead. Given its large adoption in legacy code, the complete removal is only planned on next major release.\n",
            "For more details, please read https://huggingface.co/docs/huggingface_hub/concepts/git_vs_http.\n",
            "  warnings.warn(warning_message, FutureWarning)\n",
            "Cloning https://huggingface.co/abakirci/my_awesome_conll_model into local empty directory.\n",
            "WARNING:huggingface_hub.repository:Cloning https://huggingface.co/abakirci/my_awesome_conll_model into local empty directory.\n"
          ]
        },
        {
          "output_type": "display_data",
          "data": {
            "text/plain": [
              "Download file tf_model.h5:   0%|          | 8.74k/249M [00:00<?, ?B/s]"
            ],
            "application/vnd.jupyter.widget-view+json": {
              "version_major": 2,
              "version_minor": 0,
              "model_id": "181478061d76427b84b50f54baa403cc"
            }
          },
          "metadata": {}
        },
        {
          "output_type": "display_data",
          "data": {
            "text/plain": [
              "Clean file tf_model.h5:   0%|          | 1.00k/249M [00:00<?, ?B/s]"
            ],
            "application/vnd.jupyter.widget-view+json": {
              "version_major": 2,
              "version_minor": 0,
              "model_id": "0b77d2155c604a058c3c78ec7cfb5446"
            }
          },
          "metadata": {}
        }
      ]
    },
    {
      "cell_type": "markdown",
      "source": [
        "Then bundle your callbacks together:"
      ],
      "metadata": {
        "id": "H1euTqPFzJsX"
      }
    },
    {
      "cell_type": "code",
      "source": [
        "callbacks = [push_to_hub_callback]"
      ],
      "metadata": {
        "id": "AWObbHb8zBPs"
      },
      "execution_count": 41,
      "outputs": []
    },
    {
      "cell_type": "markdown",
      "source": [
        "Finally, you're ready to start training your model! Call [`fit`](https://keras.io/api/models/model_training_apis/#fit-method) with your training and validation datasets, the number of epochs, and your callbacks to finetune the model:"
      ],
      "metadata": {
        "id": "cbKqJFVIzNqA"
      }
    },
    {
      "cell_type": "code",
      "source": [
        "model.fit(x=tf_train_set, validation_data=tf_validation_set, epochs=2, callbacks=callbacks)"
      ],
      "metadata": {
        "id": "2uqSHd1izQ6u",
        "outputId": "3ed1da90-c2cc-44b4-8e30-7340909dfb5e",
        "colab": {
          "base_uri": "https://localhost:8080/"
        }
      },
      "execution_count": 42,
      "outputs": [
        {
          "output_type": "stream",
          "name": "stdout",
          "text": [
            "Epoch 1/2\n"
          ]
        },
        {
          "output_type": "stream",
          "name": "stderr",
          "text": [
            "WARNING:tensorflow:AutoGraph could not transform <function infer_framework at 0x7d3aeb04f880> and will run it as-is.\n",
            "Cause: for/else statement not yet supported\n",
            "To silence this warning, decorate the function with @tf.autograph.experimental.do_not_convert\n"
          ]
        },
        {
          "output_type": "stream",
          "name": "stdout",
          "text": [
            "WARNING: AutoGraph could not transform <function infer_framework at 0x7d3aeb04f880> and will run it as-is.\n",
            "Cause: for/else statement not yet supported\n",
            "To silence this warning, decorate the function with @tf.autograph.experimental.do_not_convert\n",
            "439/439 [==============================] - 257s 472ms/step - loss: 0.1354 - val_loss: 0.0404\n",
            "Epoch 2/2\n",
            "439/439 [==============================] - 207s 472ms/step - loss: 0.0330 - val_loss: 0.0278\n"
          ]
        },
        {
          "output_type": "execute_result",
          "data": {
            "text/plain": [
              "<tf_keras.src.callbacks.History at 0x7d3a707eebc0>"
            ]
          },
          "metadata": {},
          "execution_count": 42
        }
      ]
    },
    {
      "cell_type": "code",
      "source": [
        "tf_test_set = model.prepare_tf_dataset(\n",
        "    tokenized_conll[\"test\"],\n",
        "    shuffle=False,\n",
        "    batch_size=32\n",
        ")"
      ],
      "metadata": {
        "id": "OiiL-4xTzRXw"
      },
      "execution_count": 43,
      "outputs": []
    },
    {
      "cell_type": "code",
      "source": [
        "logits=model.predict(tf_test_set)\n",
        "logits.logits"
      ],
      "metadata": {
        "id": "vicemR14zTog",
        "outputId": "91a4d40b-768b-49a3-a2d8-4aa1339a9c34",
        "colab": {
          "base_uri": "https://localhost:8080/"
        }
      },
      "execution_count": 44,
      "outputs": [
        {
          "output_type": "stream",
          "name": "stdout",
          "text": [
            "108/108 [==============================] - 17s 120ms/step\n"
          ]
        },
        {
          "output_type": "execute_result",
          "data": {
            "text/plain": [
              "array([[[ 7.942959  , -1.257396  , -1.5220163 , ..., -1.677572  ,\n",
              "         -0.90834093, -1.1716164 ],\n",
              "        [ 6.0044923 , -0.9049649 , -1.9183344 , ..., -1.8043091 ,\n",
              "         -0.23565549, -0.90440005],\n",
              "        [ 5.7591934 , -0.90685475, -2.0081348 , ..., -1.9644207 ,\n",
              "          0.13777134, -0.5641049 ],\n",
              "        ...,\n",
              "        [ 8.541131  , -1.5743107 , -1.281029  , ..., -1.4132477 ,\n",
              "         -1.3783226 , -1.1740288 ],\n",
              "        [ 8.538877  , -1.586805  , -1.2880455 , ..., -1.410919  ,\n",
              "         -1.39034   , -1.1713353 ],\n",
              "        [ 8.534825  , -1.5813465 , -1.2989149 , ..., -1.4183424 ,\n",
              "         -1.3888528 , -1.167677  ]],\n",
              "\n",
              "       [[ 6.178022  , -0.12504144, -1.2374213 , ..., -1.5304673 ,\n",
              "         -0.80141395, -1.4598641 ],\n",
              "        [ 0.18268935,  4.2852526 , -0.7624287 , ..., -2.090262  ,\n",
              "         -0.36470595, -1.4740616 ],\n",
              "        [ 0.17136867,  3.8880284 , -0.1836812 , ..., -1.380043  ,\n",
              "         -0.38921493, -0.9367559 ],\n",
              "        ...,\n",
              "        [ 8.043048  , -1.0588236 , -1.1486727 , ..., -1.3798339 ,\n",
              "         -1.3800263 , -1.3923572 ],\n",
              "        [ 8.036534  , -1.0625528 , -1.1692472 , ..., -1.3757486 ,\n",
              "         -1.381081  , -1.3885709 ],\n",
              "        [ 8.043573  , -1.059906  , -1.1660094 , ..., -1.3747599 ,\n",
              "         -1.3832929 , -1.3842908 ]],\n",
              "\n",
              "       [[ 8.059342  , -1.2585131 , -1.5953392 , ..., -1.6257172 ,\n",
              "         -0.9411391 , -1.366222  ],\n",
              "        [-1.4635668 , -1.0230613 , -1.9441348 , ...,  0.27975535,\n",
              "          0.36883935, -1.2552449 ],\n",
              "        [ 0.07000802, -1.4288087 , -2.375314  , ...,  0.22303927,\n",
              "          0.4915139 , -0.70002246],\n",
              "        ...,\n",
              "        [ 8.575675  , -1.5765921 , -1.3721792 , ..., -1.3949087 ,\n",
              "         -1.3484108 , -1.2775223 ],\n",
              "        [ 8.57047   , -1.582672  , -1.3870199 , ..., -1.389556  ,\n",
              "         -1.3534818 , -1.2724066 ],\n",
              "        [ 8.567623  , -1.568814  , -1.3882102 , ..., -1.3986843 ,\n",
              "         -1.3617804 , -1.2714697 ]],\n",
              "\n",
              "       ...,\n",
              "\n",
              "       [[ 7.126396  , -0.6068306 , -1.7045537 , ..., -1.9482596 ,\n",
              "         -0.8838508 , -1.4759976 ],\n",
              "        [-1.2489631 ,  4.90491   ,  0.23886143, ..., -1.9166214 ,\n",
              "         -1.0703305 , -1.3031687 ],\n",
              "        [ 6.7490644 , -0.96221626, -1.8219626 , ..., -1.7543612 ,\n",
              "         -0.52433866, -1.4765301 ],\n",
              "        ...,\n",
              "        [ 8.412341  , -1.5619322 , -1.4452378 , ..., -1.437789  ,\n",
              "         -1.329325  , -1.3627137 ],\n",
              "        [ 8.410776  , -1.5577672 , -1.4593817 , ..., -1.4361222 ,\n",
              "         -1.331449  , -1.3649197 ],\n",
              "        [ 8.413844  , -1.5456057 , -1.4544458 , ..., -1.4404913 ,\n",
              "         -1.3329325 , -1.3611456 ]],\n",
              "\n",
              "       [[ 7.480283  , -0.8081056 , -1.6087409 , ..., -1.8743964 ,\n",
              "         -0.7970804 , -1.4304876 ],\n",
              "        [ 6.155159  , -0.2124431 , -1.4726202 , ..., -1.7717977 ,\n",
              "         -0.7484954 , -1.4743652 ],\n",
              "        [ 7.106582  , -1.0070397 , -1.7596241 , ..., -1.6259017 ,\n",
              "         -0.62746227, -1.4075018 ],\n",
              "        ...,\n",
              "        [ 8.492454  , -1.649394  , -1.3855736 , ..., -1.3768125 ,\n",
              "         -1.2888514 , -1.3014098 ],\n",
              "        [ 8.489076  , -1.6411109 , -1.3975292 , ..., -1.3720433 ,\n",
              "         -1.2905735 , -1.2938828 ],\n",
              "        [ 8.48812   , -1.6283257 , -1.3935616 , ..., -1.3754159 ,\n",
              "         -1.2855856 , -1.2860719 ]],\n",
              "\n",
              "       [[ 7.2936163 , -0.6681136 , -1.6122037 , ..., -1.8557839 ,\n",
              "         -0.87198436, -1.3917569 ],\n",
              "        [ 6.7200165 , -0.49828306, -1.7779207 , ..., -1.8074307 ,\n",
              "         -0.62251985, -1.4959623 ],\n",
              "        [ 6.698361  , -0.43409583, -1.6417449 , ..., -1.900985  ,\n",
              "         -0.23171735, -1.4152379 ],\n",
              "        ...,\n",
              "        [ 8.320878  , -1.5870373 , -1.3079039 , ..., -1.3545042 ,\n",
              "         -1.4541602 , -1.3113011 ],\n",
              "        [ 8.324403  , -1.592896  , -1.3284235 , ..., -1.3566227 ,\n",
              "         -1.4583685 , -1.3103719 ],\n",
              "        [ 8.337135  , -1.5896485 , -1.3308715 , ..., -1.3600225 ,\n",
              "         -1.4593267 , -1.3112963 ]]], dtype=float32)"
            ]
          },
          "metadata": {},
          "execution_count": 44
        }
      ]
    },
    {
      "cell_type": "code",
      "source": [
        "logits.logits[0]"
      ],
      "metadata": {
        "id": "86WgbXaqzVjI",
        "outputId": "be1b6fc3-7a41-48fb-8253-37a47c1c8846",
        "colab": {
          "base_uri": "https://localhost:8080/"
        }
      },
      "execution_count": 45,
      "outputs": [
        {
          "output_type": "execute_result",
          "data": {
            "text/plain": [
              "array([[ 7.942959  , -1.257396  , -1.5220163 , ..., -1.677572  ,\n",
              "        -0.90834093, -1.1716164 ],\n",
              "       [ 6.0044923 , -0.9049649 , -1.9183344 , ..., -1.8043091 ,\n",
              "        -0.23565549, -0.90440005],\n",
              "       [ 5.7591934 , -0.90685475, -2.0081348 , ..., -1.9644207 ,\n",
              "         0.13777134, -0.5641049 ],\n",
              "       ...,\n",
              "       [ 8.541131  , -1.5743107 , -1.281029  , ..., -1.4132477 ,\n",
              "        -1.3783226 , -1.1740288 ],\n",
              "       [ 8.538877  , -1.586805  , -1.2880455 , ..., -1.410919  ,\n",
              "        -1.39034   , -1.1713353 ],\n",
              "       [ 8.534825  , -1.5813465 , -1.2989149 , ..., -1.4183424 ,\n",
              "        -1.3888528 , -1.167677  ]], dtype=float32)"
            ]
          },
          "metadata": {},
          "execution_count": 45
        }
      ]
    },
    {
      "cell_type": "code",
      "source": [
        "len(logits.logits[0]) #first observation"
      ],
      "metadata": {
        "id": "ttRsnPb7zXt_",
        "outputId": "96b35171-6dbb-4269-ee71-85bea73648b5",
        "colab": {
          "base_uri": "https://localhost:8080/"
        }
      },
      "execution_count": 46,
      "outputs": [
        {
          "output_type": "execute_result",
          "data": {
            "text/plain": [
              "113"
            ]
          },
          "metadata": {},
          "execution_count": 46
        }
      ]
    },
    {
      "cell_type": "code",
      "source": [
        "import tensorflow as tf\n",
        "\n",
        "probabilities = tf.nn.softmax(logits.logits, axis=-1).numpy()\n",
        "\n",
        "probabilities"
      ],
      "metadata": {
        "id": "ZbBzvtDszZSl",
        "outputId": "13b6f6b6-d794-4a1e-b233-67312d969ca4",
        "colab": {
          "base_uri": "https://localhost:8080/"
        }
      },
      "execution_count": 47,
      "outputs": [
        {
          "output_type": "execute_result",
          "data": {
            "text/plain": [
              "array([[[9.99222994e-01, 1.00925099e-04, 7.74597065e-05, ...,\n",
              "         6.63008177e-05, 1.43084297e-04, 1.09964538e-04],\n",
              "        [9.92628455e-01, 9.90940607e-04, 3.59705242e-04, ...,\n",
              "         4.03150509e-04, 1.93519657e-03, 9.91500681e-04],\n",
              "        [9.89128292e-01, 1.25957711e-03, 4.18740354e-04, ...,\n",
              "         4.37451177e-04, 3.58013948e-03, 1.77451223e-03],\n",
              "        ...,\n",
              "        [9.99628305e-01, 4.04350685e-05, 5.42161652e-05, ...,\n",
              "         4.75014276e-05, 4.91897481e-05, 6.03390436e-05],\n",
              "        [9.99628067e-01, 4.00230965e-05, 5.39585490e-05, ...,\n",
              "         4.77196336e-05, 4.87118450e-05, 6.06383073e-05],\n",
              "        [9.99627709e-01, 4.04055208e-05, 5.35919062e-05, ...,\n",
              "         4.75589695e-05, 4.89823433e-05, 6.11075811e-05]],\n",
              "\n",
              "       [[9.93781626e-01, 1.81930419e-03, 5.98142680e-04, ...,\n",
              "         4.46207181e-04, 9.25039873e-04, 4.78849688e-04],\n",
              "        [1.51695665e-02, 9.17685390e-01, 5.89540554e-03, ...,\n",
              "         1.56258291e-03, 8.77490547e-03, 2.89371330e-03],\n",
              "        [2.16330718e-02, 8.89698803e-01, 1.51677784e-02, ...,\n",
              "         4.58509987e-03, 1.23498002e-02, 7.14275613e-03],\n",
              "        ...,\n",
              "        [9.99346673e-01, 1.11384208e-04, 1.01812817e-04, ...,\n",
              "         8.07998294e-05, 8.07842735e-05, 7.97943067e-05],\n",
              "        [9.99342740e-01, 1.11694375e-04, 1.00390855e-04, ...,\n",
              "         8.16604806e-05, 8.12262224e-05, 8.06201060e-05],\n",
              "        [9.99347389e-01, 1.11205336e-04, 1.00010431e-04, ...,\n",
              "         8.11682912e-05, 8.04785959e-05, 8.03983494e-05]],\n",
              "\n",
              "       [[9.99347508e-01, 8.97476639e-05, 6.40828439e-05, ...,\n",
              "         6.21653890e-05, 1.23269900e-04, 8.05834352e-05],\n",
              "        [1.25313678e-03, 1.94673846e-03, 7.74979941e-04, ...,\n",
              "         7.16330623e-03, 7.83073064e-03, 1.54337543e-03],\n",
              "        [1.36761731e-02, 3.05518042e-03, 1.18569972e-03, ...,\n",
              "         1.59376860e-02, 2.08459850e-02, 6.33205706e-03],\n",
              "        ...,\n",
              "        [9.99654055e-01, 3.89740926e-05, 4.78136171e-05, ...,\n",
              "         4.67390819e-05, 4.89636877e-05, 5.25606374e-05],\n",
              "        [9.99652267e-01, 3.89399574e-05, 4.73550172e-05, ...,\n",
              "         4.72350875e-05, 4.89701379e-05, 5.31058140e-05],\n",
              "        [9.99652624e-01, 3.95959069e-05, 4.74335466e-05, ...,\n",
              "         4.69393090e-05, 4.87039360e-05, 5.33071216e-05]],\n",
              "\n",
              "       ...,\n",
              "\n",
              "       [[9.98119056e-01, 4.37204493e-04, 1.45864498e-04, ...,\n",
              "         1.14316666e-04, 3.31418065e-04, 1.83320095e-04],\n",
              "        [1.92292547e-03, 9.04806554e-01, 8.51366576e-03, ...,\n",
              "         9.86284809e-04, 2.29901425e-03, 1.82146719e-03],\n",
              "        [9.96869028e-01, 4.46345744e-04, 1.88924590e-04, ...,\n",
              "         2.02137686e-04, 6.91574940e-04, 2.66874966e-04],\n",
              "        ...,\n",
              "        [9.99597728e-01, 4.65643170e-05, 5.23278613e-05, ...,\n",
              "         5.27191150e-05, 5.87588875e-05, 5.68293690e-05],\n",
              "        [9.99597728e-01, 4.68319267e-05, 5.16737564e-05, ...,\n",
              "         5.28897799e-05, 5.87260001e-05, 5.67929601e-05],\n",
              "        [9.99599040e-01, 4.72597858e-05, 5.17704539e-05, ...,\n",
              "         5.24979259e-05, 5.84594236e-05, 5.68331270e-05]],\n",
              "\n",
              "       [[9.98750448e-01, 2.51105230e-04, 1.12757181e-04, ...,\n",
              "         8.64512913e-05, 2.53889069e-04, 1.34759248e-04],\n",
              "        [9.93985474e-01, 1.70594756e-03, 4.83813201e-04, ...,\n",
              "         3.58712481e-04, 9.98069881e-04, 4.82969568e-04],\n",
              "        [9.98033226e-01, 2.98843544e-04, 1.40799340e-04, ...,\n",
              "         1.60944255e-04, 4.36809583e-04, 2.00228256e-04],\n",
              "        ...,\n",
              "        [9.99626398e-01, 3.93812261e-05, 5.12702136e-05, ...,\n",
              "         5.17213375e-05, 5.64768961e-05, 5.57720923e-05],\n",
              "        [9.99624372e-01, 3.98430820e-05, 5.08321791e-05, ...,\n",
              "         5.21443362e-05, 5.65704104e-05, 5.63834619e-05],\n",
              "        [9.99623537e-01, 4.03942940e-05, 5.10830396e-05, ...,\n",
              "         5.20184331e-05, 5.69075783e-05, 5.68799078e-05]],\n",
              "\n",
              "       [[9.98485744e-01, 3.48021829e-04, 1.35392140e-04, ...,\n",
              "         1.06122541e-04, 2.83835368e-04, 1.68784347e-04],\n",
              "        [9.97002065e-01, 7.30850385e-04, 2.03277275e-04, ...,\n",
              "         1.97366302e-04, 6.45465450e-04, 2.69489508e-04],\n",
              "        [9.96671557e-01, 7.96096050e-04, 2.37952365e-04, ...,\n",
              "         1.83613040e-04, 9.74669179e-04, 2.98442639e-04],\n",
              "        ...,\n",
              "        [9.99564707e-01, 4.97574438e-05, 6.57784913e-05, ...,\n",
              "         6.27835107e-05, 5.68284704e-05, 6.55554177e-05],\n",
              "        [9.99567807e-01, 4.92928484e-05, 6.42159721e-05, ...,\n",
              "         6.24304303e-05, 5.63908652e-05, 6.53856623e-05],\n",
              "        [9.99574363e-01, 4.88278711e-05, 6.32489100e-05, ...,\n",
              "         6.14317614e-05, 5.56244486e-05, 6.44992106e-05]]], dtype=float32)"
            ]
          },
          "metadata": {},
          "execution_count": 47
        }
      ]
    },
    {
      "cell_type": "code",
      "source": [
        "import numpy as np\n",
        "\n",
        "y_pred=[]\n",
        "for i in probabilities:\n",
        "  for j in i:\n",
        "      y_pred.append(np.argmax(j))"
      ],
      "metadata": {
        "id": "AEh3yqW6zbE2"
      },
      "execution_count": 48,
      "outputs": []
    },
    {
      "cell_type": "code",
      "source": [
        "y_test = []\n",
        "for i in tokenized_conll[\"test\"][\"labels\"]:\n",
        "  for j in i:\n",
        "    y_test.append(j)"
      ],
      "metadata": {
        "id": "9J-yQhmuzdJb"
      },
      "execution_count": 49,
      "outputs": []
    },
    {
      "cell_type": "code",
      "source": [
        "len(y_pred)"
      ],
      "metadata": {
        "id": "z4odfIy1zeoa",
        "outputId": "31213ec3-0b5d-4609-842c-9544e2946f52",
        "colab": {
          "base_uri": "https://localhost:8080/"
        }
      },
      "execution_count": 50,
      "outputs": [
        {
          "output_type": "execute_result",
          "data": {
            "text/plain": [
              "390189"
            ]
          },
          "metadata": {},
          "execution_count": 50
        }
      ]
    },
    {
      "cell_type": "code",
      "source": [
        "from sklearn.metrics import classification_report, confusion_matrix\n",
        "\n",
        "print(classification_report(y_test, y_pred))"
      ],
      "metadata": {
        "id": "DaIYoPClzf94",
        "outputId": "e24327a4-d8d2-4808-8c59-bd3ab909d641",
        "colab": {
          "base_uri": "https://localhost:8080/"
        }
      },
      "execution_count": 51,
      "outputs": [
        {
          "output_type": "stream",
          "name": "stdout",
          "text": [
            "              precision    recall  f1-score   support\n",
            "\n",
            "           0       1.00      1.00      1.00    374684\n",
            "           1       0.93      0.90      0.91      2982\n",
            "           2       0.96      0.99      0.97      2691\n",
            "           3       0.81      0.84      0.82      3524\n",
            "           4       0.77      0.89      0.83      1309\n",
            "           5       0.85      0.86      0.85      2996\n",
            "           6       0.83      0.61      0.71       415\n",
            "           7       0.68      0.55      0.61      1266\n",
            "           8       0.40      0.22      0.28       322\n",
            "\n",
            "    accuracy                           0.99    390189\n",
            "   macro avg       0.80      0.76      0.78    390189\n",
            "weighted avg       0.99      0.99      0.99    390189\n",
            "\n"
          ]
        }
      ]
    },
    {
      "cell_type": "code",
      "source": [
        "label_list"
      ],
      "metadata": {
        "id": "8ZTuZjIszhXn",
        "outputId": "2054d05e-f84f-4a4a-b76c-d0634f34d6d4",
        "colab": {
          "base_uri": "https://localhost:8080/"
        }
      },
      "execution_count": 52,
      "outputs": [
        {
          "output_type": "execute_result",
          "data": {
            "text/plain": [
              "['O', 'B-PER', 'I-PER', 'B-ORG', 'I-ORG', 'B-LOC', 'I-LOC', 'B-MISC', 'I-MISC']"
            ]
          },
          "metadata": {},
          "execution_count": 52
        }
      ]
    },
    {
      "cell_type": "code",
      "source": [
        "[i for i in range(1, len(label_list))]\n",
        "#labels"
      ],
      "metadata": {
        "id": "SKixFYBvzi5Z",
        "outputId": "d8eb7f31-bc64-4e98-d61a-ae153ea6e98b",
        "colab": {
          "base_uri": "https://localhost:8080/"
        }
      },
      "execution_count": 53,
      "outputs": [
        {
          "output_type": "execute_result",
          "data": {
            "text/plain": [
              "[1, 2, 3, 4, 5, 6, 7, 8]"
            ]
          },
          "metadata": {},
          "execution_count": 53
        }
      ]
    },
    {
      "cell_type": "code",
      "source": [
        "label_list[1:]\n",
        "#target_names"
      ],
      "metadata": {
        "id": "lrBMeAdDzkxs",
        "outputId": "dfa332cd-c92a-4160-861c-94ea21dfde6e",
        "colab": {
          "base_uri": "https://localhost:8080/"
        }
      },
      "execution_count": 54,
      "outputs": [
        {
          "output_type": "execute_result",
          "data": {
            "text/plain": [
              "['B-PER', 'I-PER', 'B-ORG', 'I-ORG', 'B-LOC', 'I-LOC', 'B-MISC', 'I-MISC']"
            ]
          },
          "metadata": {},
          "execution_count": 54
        }
      ]
    },
    {
      "cell_type": "code",
      "source": [
        "print(classification_report(y_test, y_pred, labels=[i for i in range(1, len(label_list))], target_names=label_list[1:]))"
      ],
      "metadata": {
        "id": "-vvHX3uwzmZc",
        "outputId": "eb392fc7-4072-4b10-a563-3c4ff1ffb37e",
        "colab": {
          "base_uri": "https://localhost:8080/"
        }
      },
      "execution_count": 55,
      "outputs": [
        {
          "output_type": "stream",
          "name": "stdout",
          "text": [
            "              precision    recall  f1-score   support\n",
            "\n",
            "       B-PER       0.93      0.90      0.91      2982\n",
            "       I-PER       0.96      0.99      0.97      2691\n",
            "       B-ORG       0.81      0.84      0.82      3524\n",
            "       I-ORG       0.77      0.89      0.83      1309\n",
            "       B-LOC       0.85      0.86      0.85      2996\n",
            "       I-LOC       0.83      0.61      0.71       415\n",
            "      B-MISC       0.68      0.55      0.61      1266\n",
            "      I-MISC       0.40      0.22      0.28       322\n",
            "\n",
            "   micro avg       0.85      0.84      0.85     15505\n",
            "   macro avg       0.78      0.73      0.75     15505\n",
            "weighted avg       0.84      0.84      0.84     15505\n",
            "\n"
          ]
        }
      ]
    },
    {
      "cell_type": "code",
      "source": [
        "def class_report(data, data_type=\"test\"):\n",
        "  from sklearn.metrics import classification_report\n",
        "\n",
        "  logits=model.predict(data)\n",
        "  probabilities=tf.nn.softmax(logits.logits, axis=-1).numpy()\n",
        "  y_pred=[]\n",
        "  for i in probabilities:\n",
        "    for j in i:\n",
        "        y_pred.append(np.argmax(j))\n",
        "\n",
        "  y_test=[]\n",
        "  for i in tokenized_conll[data_type][\"labels\"]:\n",
        "    for j in i:\n",
        "        y_test.append(j)\n",
        "\n",
        "  return print(classification_report(y_test, y_pred, labels=[i for i in range(1, len(label_list))], target_names=label_list[1:]))\n"
      ],
      "metadata": {
        "id": "3PhBQ5sFzn0J"
      },
      "execution_count": 56,
      "outputs": []
    },
    {
      "cell_type": "code",
      "source": [
        "class_report(tf_test_set, data_type=\"test\")"
      ],
      "metadata": {
        "id": "5ae_dGcXzpUh",
        "outputId": "9f09f79f-e808-4789-b6d9-981406614ccb",
        "colab": {
          "base_uri": "https://localhost:8080/"
        }
      },
      "execution_count": 57,
      "outputs": [
        {
          "output_type": "stream",
          "name": "stdout",
          "text": [
            "108/108 [==============================] - 14s 133ms/step\n",
            "              precision    recall  f1-score   support\n",
            "\n",
            "       B-PER       0.93      0.90      0.91      2982\n",
            "       I-PER       0.96      0.99      0.97      2691\n",
            "       B-ORG       0.81      0.84      0.82      3524\n",
            "       I-ORG       0.77      0.89      0.83      1309\n",
            "       B-LOC       0.85      0.86      0.85      2996\n",
            "       I-LOC       0.83      0.61      0.71       415\n",
            "      B-MISC       0.68      0.55      0.61      1266\n",
            "      I-MISC       0.40      0.22      0.28       322\n",
            "\n",
            "   micro avg       0.85      0.84      0.85     15505\n",
            "   macro avg       0.78      0.73      0.75     15505\n",
            "weighted avg       0.84      0.84      0.84     15505\n",
            "\n"
          ]
        }
      ]
    },
    {
      "cell_type": "code",
      "source": [
        "class_report(tf_validation_set, data_type=\"validation\")"
      ],
      "metadata": {
        "id": "OEYH8d3MzrUN",
        "outputId": "155899a7-f72b-42aa-c194-649083a10ed5",
        "colab": {
          "base_uri": "https://localhost:8080/"
        }
      },
      "execution_count": 58,
      "outputs": [
        {
          "output_type": "stream",
          "name": "stdout",
          "text": [
            "102/102 [==============================] - 13s 123ms/step\n",
            "              precision    recall  f1-score   support\n",
            "\n",
            "       B-PER       0.95      0.91      0.93      3304\n",
            "       I-PER       0.96      0.98      0.97      2992\n",
            "       B-ORG       0.81      0.83      0.82      2702\n",
            "       I-ORG       0.72      0.81      0.76      1079\n",
            "       B-LOC       0.89      0.86      0.87      3635\n",
            "       I-LOC       0.82      0.59      0.69       381\n",
            "      B-MISC       0.73      0.61      0.66      1480\n",
            "      I-MISC       0.90      0.21      0.34       591\n",
            "\n",
            "   micro avg       0.87      0.83      0.85     16164\n",
            "   macro avg       0.85      0.73      0.76     16164\n",
            "weighted avg       0.87      0.83      0.84     16164\n",
            "\n"
          ]
        }
      ]
    },
    {
      "cell_type": "code",
      "source": [
        "class_report(tf_train_set, data_type=\"train\")"
      ],
      "metadata": {
        "id": "aW8RA68ozs2a",
        "outputId": "d01d298c-7278-4143-fa2e-5172fd6caa43",
        "colab": {
          "base_uri": "https://localhost:8080/"
        }
      },
      "execution_count": 59,
      "outputs": [
        {
          "output_type": "stream",
          "name": "stdout",
          "text": [
            "439/439 [==============================] - 53s 121ms/step\n",
            "              precision    recall  f1-score   support\n",
            "\n",
            "       B-PER       0.95      0.93      0.94     12276\n",
            "       I-PER       0.97      0.99      0.98     10325\n",
            "       B-ORG       0.83      0.86      0.84     13357\n",
            "       I-ORG       0.80      0.88      0.84      6119\n",
            "       B-LOC       0.90      0.89      0.90     13329\n",
            "       I-LOC       0.86      0.64      0.73      1706\n",
            "      B-MISC       0.78      0.61      0.68      5949\n",
            "      I-MISC       0.92      0.25      0.39      1969\n",
            "\n",
            "   micro avg       0.89      0.85      0.87     65030\n",
            "   macro avg       0.87      0.76      0.79     65030\n",
            "weighted avg       0.88      0.85      0.86     65030\n",
            "\n"
          ]
        }
      ]
    },
    {
      "cell_type": "markdown",
      "source": [
        "Once training is completed, your model is automatically uploaded to the Hub so everyone can use it!\n",
        "\n",
        "<Tip>\n",
        "\n",
        "For a more in-depth example of how to finetune a model for token classification, take a look at the corresponding\n",
        "[PyTorch notebook](https://colab.research.google.com/github/huggingface/notebooks/blob/main/examples/token_classification.ipynb)\n",
        "or [TensorFlow notebook](https://colab.research.google.com/github/huggingface/notebooks/blob/main/examples/token_classification-tf.ipynb).\n",
        "\n",
        "</Tip>"
      ],
      "metadata": {
        "id": "tuBZmBWYzwzR"
      }
    },
    {
      "cell_type": "markdown",
      "source": [
        "## Inference"
      ],
      "metadata": {
        "id": "PUT8grH5zy2v"
      }
    },
    {
      "cell_type": "markdown",
      "source": [
        "Great, now that you've finetuned a model, you can use it for inference!\n",
        "\n",
        "Grab some text you'd like to run inference on:"
      ],
      "metadata": {
        "id": "xQRboL5Szz1_"
      }
    },
    {
      "cell_type": "code",
      "source": [
        "text = \"The Golden State Warriors are an American professional basketball team based in San Francisco.\""
      ],
      "metadata": {
        "id": "s6CBFVK6zu6P"
      },
      "execution_count": 60,
      "outputs": []
    },
    {
      "cell_type": "markdown",
      "source": [
        "The simplest way to try out your finetuned model for inference is to use it in a [pipeline()](https://huggingface.co/docs/transformers/main/en/main_classes/pipelines#transformers.pipeline). Instantiate a `pipeline` for NER with your model, and pass your text to it:"
      ],
      "metadata": {
        "id": "rXkJBgdBz5_e"
      }
    },
    {
      "cell_type": "code",
      "source": [
        "from transformers import pipeline\n",
        "\n",
        "classifier = pipeline(\"ner\", model=\"abakirci/my_awesome_conll_model\")"
      ],
      "metadata": {
        "id": "WukxCodIz3yS",
        "outputId": "f63bdd0e-abb4-4242-bdea-04afa2ed83f8",
        "colab": {
          "base_uri": "https://localhost:8080/",
          "height": 316,
          "referenced_widgets": [
            "032d5089e6c44a7e9717954496945c88",
            "7b701e22c13546cca8fee761a537eda2",
            "2f7df6c871bb47feae57369f738ec3a8",
            "91ac0fa12b2545709565c5b9068ceeed",
            "9a67f09d4a584890aedd07455c40ff48",
            "0220b88798ed40df8d24c87074a729b5",
            "a9da1304a8e54b3ab4147a58be19c25b",
            "83a39e18049f44aaaa0cbf5998fa5e5e",
            "e7b2238a23d649b68da43c51fa772c12",
            "a9b7b04173b64619bc4bc741e21093b5",
            "b4a5eeb7d6394c28a7c85373bff834ac",
            "62eb3fc07457424dbba8204f5cb983da",
            "b0cb55f10e874fa59ce1963e60449e9b",
            "97cb43f46fcf47b3bd893dd1591425d7",
            "40a863e7152c4f61ab58c8d8a6c63e24",
            "10726f6ef5cc4d3e930e55af32dbc8cf",
            "d6c1a3b3363d47468b31308fcf5afb84",
            "e6e99bc8357a4f438f75b2d26f5185d1",
            "9741dd86f332449f86bc41b66a0d3c01",
            "c66ff1c6726948d0a18543240beb4ec8",
            "769d1d940702426ba7859bf9e2fd5961",
            "39d7cee17abd486f9031e6577c8b25c0",
            "986dd71f0d0f4a36b5c40951f9281020",
            "164ac199547e45de99461c33e54b2bb6",
            "7846f145105c49ed966c982a8f0d0392",
            "4e63a4205770402084ec8de26526352d",
            "994a30534c174ca4b4f32e3df69055fc",
            "075fe64881be453b8b4f11ca290ff5df",
            "4111433c21f34a53a9b99f2af1902899",
            "9db5be6cd4044085ba93f3e3cb835162",
            "d311a5e617f6414383f9fa19fdffb54d",
            "0d4e8a70be7b40d38319f339de565178",
            "600225a0f6b64bbb93b80d45b3ebf008",
            "ee6a7b6aec9f42faa87607926fee44ba",
            "3b2da85bb3604cc1a851d815c22f7ce0",
            "be3153850f2445df86a9a4e81c4ed283",
            "5f96705dab4544cfb66b5fbeba145a76",
            "84a6da4a2e4a4d34827b3607922a3fdc",
            "2ca5d6b35922497e9b0abc69f4c21f52",
            "461c4ca9900b45e9b41f0d9649234948",
            "df1b494cc8f04f13986c3a00b4648c6b",
            "3131fc13fee146b4b7cd71949fbf611e",
            "d7a0d5888ec84b178a19de5fffe365ea",
            "efdd5b6078bc4dd79ae9b1a39056bb7a",
            "6ede0715854a47a7af1ad0aad9765913",
            "0075807713ff4ce9bfc19562c90bd26b",
            "f93dd20875ea450ab9e1b939b1e33414",
            "93d3e32d3e8a4edcb7fefa133b37bf3d",
            "b85a9d5739d846c89dd22d0c289a7df2",
            "7cc8a1a7cec84ff69133c7b2b41ace8e",
            "41087bec079b41b8bb388a3b18f9ac9e",
            "0b58278452af4797b86107caa6482501",
            "cb201ab364ad49e38a76e4c89b57bf61",
            "6b88241d8dd849139dacb47b57f1e099",
            "37cca89ef09f436785e26a965f30b410",
            "eb0ee4d94ad547b0a71285cd5fd33164",
            "bd97fcf69ec94307aa318712cf57a823",
            "0f94ce6f0c4f4067a081cbd3b07e7b07",
            "cb76bef501b645c1acf4ac4b88ea205b",
            "a89a5af71c244a54bce18663ea4c8cc7",
            "562ea904ab9a4bb5a272f2311a30e1be",
            "3256b5bc297149ac9b7a2872f602fe3e",
            "bb06e5b9883c45f78f012b26f8368ef4",
            "7f1c8a3a7efb44afb8728cbb6e31c4d3",
            "70e86ae507b543f98632a293e79fed94",
            "c8a5a44707fc4965aced4c25c06e6072"
          ]
        }
      },
      "execution_count": 61,
      "outputs": [
        {
          "output_type": "display_data",
          "data": {
            "text/plain": [
              "config.json:   0%|          | 0.00/898 [00:00<?, ?B/s]"
            ],
            "application/vnd.jupyter.widget-view+json": {
              "version_major": 2,
              "version_minor": 0,
              "model_id": "032d5089e6c44a7e9717954496945c88"
            }
          },
          "metadata": {}
        },
        {
          "output_type": "display_data",
          "data": {
            "text/plain": [
              "tf_model.h5:   0%|          | 0.00/261M [00:00<?, ?B/s]"
            ],
            "application/vnd.jupyter.widget-view+json": {
              "version_major": 2,
              "version_minor": 0,
              "model_id": "62eb3fc07457424dbba8204f5cb983da"
            }
          },
          "metadata": {}
        },
        {
          "output_type": "stream",
          "name": "stderr",
          "text": [
            "Some layers from the model checkpoint at ayucel/my_awesome_conll_model were not used when initializing TFDistilBertForTokenClassification: ['dropout_19']\n",
            "- This IS expected if you are initializing TFDistilBertForTokenClassification from the checkpoint of a model trained on another task or with another architecture (e.g. initializing a BertForSequenceClassification model from a BertForPreTraining model).\n",
            "- This IS NOT expected if you are initializing TFDistilBertForTokenClassification from the checkpoint of a model that you expect to be exactly identical (initializing a BertForSequenceClassification model from a BertForSequenceClassification model).\n",
            "Some layers of TFDistilBertForTokenClassification were not initialized from the model checkpoint at ayucel/my_awesome_conll_model and are newly initialized: ['dropout_39']\n",
            "You should probably TRAIN this model on a down-stream task to be able to use it for predictions and inference.\n"
          ]
        },
        {
          "output_type": "display_data",
          "data": {
            "text/plain": [
              "tokenizer_config.json:   0%|          | 0.00/1.20k [00:00<?, ?B/s]"
            ],
            "application/vnd.jupyter.widget-view+json": {
              "version_major": 2,
              "version_minor": 0,
              "model_id": "986dd71f0d0f4a36b5c40951f9281020"
            }
          },
          "metadata": {}
        },
        {
          "output_type": "display_data",
          "data": {
            "text/plain": [
              "vocab.txt:   0%|          | 0.00/213k [00:00<?, ?B/s]"
            ],
            "application/vnd.jupyter.widget-view+json": {
              "version_major": 2,
              "version_minor": 0,
              "model_id": "ee6a7b6aec9f42faa87607926fee44ba"
            }
          },
          "metadata": {}
        },
        {
          "output_type": "display_data",
          "data": {
            "text/plain": [
              "tokenizer.json:   0%|          | 0.00/669k [00:00<?, ?B/s]"
            ],
            "application/vnd.jupyter.widget-view+json": {
              "version_major": 2,
              "version_minor": 0,
              "model_id": "6ede0715854a47a7af1ad0aad9765913"
            }
          },
          "metadata": {}
        },
        {
          "output_type": "display_data",
          "data": {
            "text/plain": [
              "special_tokens_map.json:   0%|          | 0.00/125 [00:00<?, ?B/s]"
            ],
            "application/vnd.jupyter.widget-view+json": {
              "version_major": 2,
              "version_minor": 0,
              "model_id": "eb0ee4d94ad547b0a71285cd5fd33164"
            }
          },
          "metadata": {}
        }
      ]
    },
    {
      "cell_type": "code",
      "source": [
        "classifier(text)"
      ],
      "metadata": {
        "id": "QuTEKOR30KKR",
        "outputId": "ce1515ab-12c6-4c0d-9d87-95c7e3adc4fd",
        "colab": {
          "base_uri": "https://localhost:8080/"
        }
      },
      "execution_count": 62,
      "outputs": [
        {
          "output_type": "execute_result",
          "data": {
            "text/plain": [
              "[{'entity': 'B-ORG',\n",
              "  'score': 0.80924964,\n",
              "  'index': 2,\n",
              "  'word': 'Golden',\n",
              "  'start': 4,\n",
              "  'end': 10},\n",
              " {'entity': 'I-ORG',\n",
              "  'score': 0.8094912,\n",
              "  'index': 3,\n",
              "  'word': 'State',\n",
              "  'start': 11,\n",
              "  'end': 16},\n",
              " {'entity': 'I-ORG',\n",
              "  'score': 0.7547795,\n",
              "  'index': 4,\n",
              "  'word': 'Warriors',\n",
              "  'start': 17,\n",
              "  'end': 25},\n",
              " {'entity': 'B-MISC',\n",
              "  'score': 0.86971194,\n",
              "  'index': 7,\n",
              "  'word': 'American',\n",
              "  'start': 33,\n",
              "  'end': 41},\n",
              " {'entity': 'B-LOC',\n",
              "  'score': 0.9555224,\n",
              "  'index': 13,\n",
              "  'word': 'San',\n",
              "  'start': 80,\n",
              "  'end': 83},\n",
              " {'entity': 'I-LOC',\n",
              "  'score': 0.6921487,\n",
              "  'index': 14,\n",
              "  'word': 'Francisco',\n",
              "  'start': 84,\n",
              "  'end': 93}]"
            ]
          },
          "metadata": {},
          "execution_count": 62
        }
      ]
    },
    {
      "cell_type": "code",
      "source": [],
      "metadata": {
        "id": "GogYGHWT0LoO"
      },
      "execution_count": 62,
      "outputs": []
    }
  ]
}