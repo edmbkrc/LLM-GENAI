{
  "nbformat": 4,
  "nbformat_minor": 0,
  "metadata": {
    "colab": {
      "provenance": []
    },
    "kernelspec": {
      "name": "python3",
      "display_name": "Python 3"
    },
    "language_info": {
      "name": "python"
    }
  },
  "cells": [
    {
      "cell_type": "markdown",
      "source": [
        "# **RAG_Chatbot_Self_Control**\n"
      ],
      "metadata": {
        "id": "aWufoepHH4NF"
      }
    },
    {
      "cell_type": "code",
      "source": [
        "import google.colab\n",
        "google.colab.drive.mount(\"/content/drive\")\n"
      ],
      "metadata": {
        "colab": {
          "base_uri": "https://localhost:8080/"
        },
        "id": "KDVS-52zOTVq",
        "outputId": "d7095eed-f70e-4644-dc49-e1feb77b8508"
      },
      "execution_count": 2,
      "outputs": [
        {
          "output_type": "stream",
          "name": "stdout",
          "text": [
            "Mounted at /content/drive\n"
          ]
        }
      ]
    },
    {
      "cell_type": "markdown",
      "source": [
        "## Install Libraries"
      ],
      "metadata": {
        "id": "42w324mqM3cL"
      }
    },
    {
      "cell_type": "code",
      "source": [
        "!pip install -qU langchain-google-community\n",
        "\n",
        "#Retrieval (Bilgi Geri Getirme): Bu adımda, belirli bir sorguya yanıt olarak, önceden depolanmış büyük miktardaki metinsel veriden ilgili bilgi\n",
        "#parçaları geri modele beslenme sürecidir.\n",
        "\n",
        "# Generation (Metin Üretme):\n",
        "\n",
        "# Bu adımda, geri getirilen bilgiler kullanılarak model tarafından anlamlı ve doğru bir metin üretim sürecidir. Büyük dil modelleri, bu bilgileri kullanarak\n",
        "# doğal ve akıcı metinler oluşturur."
      ],
      "metadata": {
        "colab": {
          "base_uri": "https://localhost:8080/"
        },
        "id": "rTn_S5bdJaIT",
        "outputId": "5c2d400e-8109-4072-b3b0-f307e2635446"
      },
      "execution_count": 3,
      "outputs": [
        {
          "output_type": "stream",
          "name": "stdout",
          "text": [
            "\u001b[2K     \u001b[90m━━━━━━━━━━━━━━━━━━━━━━━━━━━━━━━━━━━━━━━━\u001b[0m \u001b[32m50.4/50.4 kB\u001b[0m \u001b[31m3.1 MB/s\u001b[0m eta \u001b[36m0:00:00\u001b[0m\n",
            "\u001b[2K   \u001b[90m━━━━━━━━━━━━━━━━━━━━━━━━━━━━━━━━━━━━━━━━\u001b[0m \u001b[32m75.5/75.5 kB\u001b[0m \u001b[31m4.7 MB/s\u001b[0m eta \u001b[36m0:00:00\u001b[0m\n",
            "\u001b[2K   \u001b[90m━━━━━━━━━━━━━━━━━━━━━━━━━━━━━━━━━━━━━━━━\u001b[0m \u001b[32m2.3/2.3 MB\u001b[0m \u001b[31m29.3 MB/s\u001b[0m eta \u001b[36m0:00:00\u001b[0m\n",
            "\u001b[2K   \u001b[90m━━━━━━━━━━━━━━━━━━━━━━━━━━━━━━━━━━━━━━━━\u001b[0m \u001b[32m379.9/379.9 kB\u001b[0m \u001b[31m21.1 MB/s\u001b[0m eta \u001b[36m0:00:00\u001b[0m\n",
            "\u001b[2K   \u001b[90m━━━━━━━━━━━━━━━━━━━━━━━━━━━━━━━━━━━━━━━━\u001b[0m \u001b[32m990.6/990.6 kB\u001b[0m \u001b[31m38.7 MB/s\u001b[0m eta \u001b[36m0:00:00\u001b[0m\n",
            "\u001b[2K   \u001b[90m━━━━━━━━━━━━━━━━━━━━━━━━━━━━━━━━━━━━━━━━\u001b[0m \u001b[32m140.1/140.1 kB\u001b[0m \u001b[31m9.5 MB/s\u001b[0m eta \u001b[36m0:00:00\u001b[0m\n",
            "\u001b[2K   \u001b[90m━━━━━━━━━━━━━━━━━━━━━━━━━━━━━━━━━━━━━━━━\u001b[0m \u001b[32m49.2/49.2 kB\u001b[0m \u001b[31m3.5 MB/s\u001b[0m eta \u001b[36m0:00:00\u001b[0m\n",
            "\u001b[2K   \u001b[90m━━━━━━━━━━━━━━━━━━━━━━━━━━━━━━━━━━━━━━━━\u001b[0m \u001b[32m141.1/141.1 kB\u001b[0m \u001b[31m9.5 MB/s\u001b[0m eta \u001b[36m0:00:00\u001b[0m\n",
            "\u001b[?25h"
          ]
        }
      ]
    },
    {
      "cell_type": "code",
      "source": [
        "!pip install -qU langchain-community"
      ],
      "metadata": {
        "id": "dZeG6z-oFVCc"
      },
      "execution_count": 4,
      "outputs": []
    },
    {
      "cell_type": "code",
      "source": [
        "#!pip install langchain"
      ],
      "metadata": {
        "id": "qRkgtEgtthCt"
      },
      "execution_count": null,
      "outputs": []
    },
    {
      "cell_type": "code",
      "source": [
        "!pip install -qU langchain-openai"
      ],
      "metadata": {
        "id": "ykqYJem0-RCe",
        "colab": {
          "base_uri": "https://localhost:8080/"
        },
        "outputId": "995ea377-7300-43b1-b61a-c15c2cecf0dd"
      },
      "execution_count": 5,
      "outputs": [
        {
          "output_type": "stream",
          "name": "stdout",
          "text": [
            "\u001b[?25l   \u001b[90m━━━━━━━━━━━━━━━━━━━━━━━━━━━━━━━━━━━━━━━━\u001b[0m \u001b[32m0.0/48.2 kB\u001b[0m \u001b[31m?\u001b[0m eta \u001b[36m-:--:--\u001b[0m\r\u001b[2K   \u001b[90m━━━━━━━━━━━━━━━━━━━━━━━━━━━━━━━━━━━━━━━━\u001b[0m \u001b[32m48.2/48.2 kB\u001b[0m \u001b[31m2.0 MB/s\u001b[0m eta \u001b[36m0:00:00\u001b[0m\n",
            "\u001b[2K   \u001b[90m━━━━━━━━━━━━━━━━━━━━━━━━━━━━━━━━━━━━━━━━\u001b[0m \u001b[32m335.9/335.9 kB\u001b[0m \u001b[31m8.9 MB/s\u001b[0m eta \u001b[36m0:00:00\u001b[0m\n",
            "\u001b[2K   \u001b[90m━━━━━━━━━━━━━━━━━━━━━━━━━━━━━━━━━━━━━━━━\u001b[0m \u001b[32m1.1/1.1 MB\u001b[0m \u001b[31m16.9 MB/s\u001b[0m eta \u001b[36m0:00:00\u001b[0m\n",
            "\u001b[2K   \u001b[90m━━━━━━━━━━━━━━━━━━━━━━━━━━━━━━━━━━━━━━━━\u001b[0m \u001b[32m75.6/75.6 kB\u001b[0m \u001b[31m4.1 MB/s\u001b[0m eta \u001b[36m0:00:00\u001b[0m\n",
            "\u001b[2K   \u001b[90m━━━━━━━━━━━━━━━━━━━━━━━━━━━━━━━━━━━━━━━━\u001b[0m \u001b[32m77.9/77.9 kB\u001b[0m \u001b[31m4.2 MB/s\u001b[0m eta \u001b[36m0:00:00\u001b[0m\n",
            "\u001b[2K   \u001b[90m━━━━━━━━━━━━━━━━━━━━━━━━━━━━━━━━━━━━━━━━\u001b[0m \u001b[32m58.3/58.3 kB\u001b[0m \u001b[31m2.3 MB/s\u001b[0m eta \u001b[36m0:00:00\u001b[0m\n",
            "\u001b[?25h"
          ]
        }
      ]
    },
    {
      "cell_type": "code",
      "source": [
        "!pip install -qU langchain-chroma"
      ],
      "metadata": {
        "id": "n8-pVMNKR9QY",
        "colab": {
          "base_uri": "https://localhost:8080/"
        },
        "outputId": "7ad18afa-ee48-45bf-8259-9f212555e634"
      },
      "execution_count": 6,
      "outputs": [
        {
          "output_type": "stream",
          "name": "stdout",
          "text": [
            "\u001b[?25l     \u001b[90m━━━━━━━━━━━━━━━━━━━━━━━━━━━━━━━━━━━━━━━━\u001b[0m \u001b[32m0.0/67.3 kB\u001b[0m \u001b[31m?\u001b[0m eta \u001b[36m-:--:--\u001b[0m\r\u001b[2K     \u001b[91m━━━━━━━━━━━━━━━━━━━━━━━━━━━━━━━━━━━━\u001b[0m\u001b[91m╸\u001b[0m\u001b[90m━━━\u001b[0m \u001b[32m61.4/67.3 kB\u001b[0m \u001b[31m11.1 MB/s\u001b[0m eta \u001b[36m0:00:01\u001b[0m\r\u001b[2K     \u001b[90m━━━━━━━━━━━━━━━━━━━━━━━━━━━━━━━━━━━━━━━━\u001b[0m \u001b[32m67.3/67.3 kB\u001b[0m \u001b[31m1.4 MB/s\u001b[0m eta \u001b[36m0:00:00\u001b[0m\n",
            "\u001b[?25h  Installing build dependencies ... \u001b[?25l\u001b[?25hdone\n",
            "  Getting requirements to build wheel ... \u001b[?25l\u001b[?25hdone\n",
            "  Preparing metadata (pyproject.toml) ... \u001b[?25l\u001b[?25hdone\n",
            "\u001b[2K   \u001b[90m━━━━━━━━━━━━━━━━━━━━━━━━━━━━━━━━━━━━━━━━\u001b[0m \u001b[32m584.3/584.3 kB\u001b[0m \u001b[31m12.9 MB/s\u001b[0m eta \u001b[36m0:00:00\u001b[0m\n",
            "\u001b[2K   \u001b[90m━━━━━━━━━━━━━━━━━━━━━━━━━━━━━━━━━━━━━━━━\u001b[0m \u001b[32m2.4/2.4 MB\u001b[0m \u001b[31m38.5 MB/s\u001b[0m eta \u001b[36m0:00:00\u001b[0m\n",
            "\u001b[2K   \u001b[90m━━━━━━━━━━━━━━━━━━━━━━━━━━━━━━━━━━━━━━━━\u001b[0m \u001b[32m93.1/93.1 kB\u001b[0m \u001b[31m6.2 MB/s\u001b[0m eta \u001b[36m0:00:00\u001b[0m\n",
            "\u001b[2K   \u001b[90m━━━━━━━━━━━━━━━━━━━━━━━━━━━━━━━━━━━━━━━━\u001b[0m \u001b[32m273.8/273.8 kB\u001b[0m \u001b[31m16.0 MB/s\u001b[0m eta \u001b[36m0:00:00\u001b[0m\n",
            "\u001b[2K   \u001b[90m━━━━━━━━━━━━━━━━━━━━━━━━━━━━━━━━━━━━━━━━\u001b[0m \u001b[32m1.7/1.7 MB\u001b[0m \u001b[31m57.1 MB/s\u001b[0m eta \u001b[36m0:00:00\u001b[0m\n",
            "\u001b[2K   \u001b[90m━━━━━━━━━━━━━━━━━━━━━━━━━━━━━━━━━━━━━━━━\u001b[0m \u001b[32m67.6/67.6 kB\u001b[0m \u001b[31m4.4 MB/s\u001b[0m eta \u001b[36m0:00:00\u001b[0m\n",
            "\u001b[2K   \u001b[90m━━━━━━━━━━━━━━━━━━━━━━━━━━━━━━━━━━━━━━━━\u001b[0m \u001b[32m6.8/6.8 MB\u001b[0m \u001b[31m76.8 MB/s\u001b[0m eta \u001b[36m0:00:00\u001b[0m\n",
            "\u001b[2K   \u001b[90m━━━━━━━━━━━━━━━━━━━━━━━━━━━━━━━━━━━━━━━━\u001b[0m \u001b[32m61.5/61.5 kB\u001b[0m \u001b[31m3.8 MB/s\u001b[0m eta \u001b[36m0:00:00\u001b[0m\n",
            "\u001b[2K   \u001b[90m━━━━━━━━━━━━━━━━━━━━━━━━━━━━━━━━━━━━━━━━\u001b[0m \u001b[32m52.5/52.5 kB\u001b[0m \u001b[31m3.3 MB/s\u001b[0m eta \u001b[36m0:00:00\u001b[0m\n",
            "\u001b[2K   \u001b[90m━━━━━━━━━━━━━━━━━━━━━━━━━━━━━━━━━━━━━━━━\u001b[0m \u001b[32m138.0/138.0 kB\u001b[0m \u001b[31m9.0 MB/s\u001b[0m eta \u001b[36m0:00:00\u001b[0m\n",
            "\u001b[2K   \u001b[90m━━━━━━━━━━━━━━━━━━━━━━━━━━━━━━━━━━━━━━━━\u001b[0m \u001b[32m109.5/109.5 kB\u001b[0m \u001b[31m7.6 MB/s\u001b[0m eta \u001b[36m0:00:00\u001b[0m\n",
            "\u001b[2K   \u001b[90m━━━━━━━━━━━━━━━━━━━━━━━━━━━━━━━━━━━━━━━━\u001b[0m \u001b[32m41.3/41.3 kB\u001b[0m \u001b[31m2.0 MB/s\u001b[0m eta \u001b[36m0:00:00\u001b[0m\n",
            "\u001b[2K   \u001b[90m━━━━━━━━━━━━━━━━━━━━━━━━━━━━━━━━━━━━━━━━\u001b[0m \u001b[32m71.9/71.9 kB\u001b[0m \u001b[31m4.6 MB/s\u001b[0m eta \u001b[36m0:00:00\u001b[0m\n",
            "\u001b[2K   \u001b[90m━━━━━━━━━━━━━━━━━━━━━━━━━━━━━━━━━━━━━━━━\u001b[0m \u001b[32m62.8/62.8 kB\u001b[0m \u001b[31m4.0 MB/s\u001b[0m eta \u001b[36m0:00:00\u001b[0m\n",
            "\u001b[2K   \u001b[90m━━━━━━━━━━━━━━━━━━━━━━━━━━━━━━━━━━━━━━━━\u001b[0m \u001b[32m341.4/341.4 kB\u001b[0m \u001b[31m20.3 MB/s\u001b[0m eta \u001b[36m0:00:00\u001b[0m\n",
            "\u001b[2K   \u001b[90m━━━━━━━━━━━━━━━━━━━━━━━━━━━━━━━━━━━━━━━━\u001b[0m \u001b[32m3.4/3.4 MB\u001b[0m \u001b[31m75.7 MB/s\u001b[0m eta \u001b[36m0:00:00\u001b[0m\n",
            "\u001b[2K   \u001b[90m━━━━━━━━━━━━━━━━━━━━━━━━━━━━━━━━━━━━━━━━\u001b[0m \u001b[32m1.2/1.2 MB\u001b[0m \u001b[31m47.6 MB/s\u001b[0m eta \u001b[36m0:00:00\u001b[0m\n",
            "\u001b[2K   \u001b[90m━━━━━━━━━━━━━━━━━━━━━━━━━━━━━━━━━━━━━━━━\u001b[0m \u001b[32m130.2/130.2 kB\u001b[0m \u001b[31m8.7 MB/s\u001b[0m eta \u001b[36m0:00:00\u001b[0m\n",
            "\u001b[2K   \u001b[90m━━━━━━━━━━━━━━━━━━━━━━━━━━━━━━━━━━━━━━━━\u001b[0m \u001b[32m46.0/46.0 kB\u001b[0m \u001b[31m2.9 MB/s\u001b[0m eta \u001b[36m0:00:00\u001b[0m\n",
            "\u001b[2K   \u001b[90m━━━━━━━━━━━━━━━━━━━━━━━━━━━━━━━━━━━━━━━━\u001b[0m \u001b[32m86.8/86.8 kB\u001b[0m \u001b[31m5.3 MB/s\u001b[0m eta \u001b[36m0:00:00\u001b[0m\n",
            "\u001b[?25h  Building wheel for pypika (pyproject.toml) ... \u001b[?25l\u001b[?25hdone\n"
          ]
        }
      ]
    },
    {
      "cell_type": "code",
      "source": [
        "!pip install -qU pypdfium2"
      ],
      "metadata": {
        "colab": {
          "base_uri": "https://localhost:8080/"
        },
        "id": "hqa5i3SlhNMA",
        "outputId": "228ea80f-b500-418e-ccd1-d45ac6fdd506"
      },
      "execution_count": 7,
      "outputs": [
        {
          "output_type": "stream",
          "name": "stdout",
          "text": [
            "\u001b[2K     \u001b[90m━━━━━━━━━━━━━━━━━━━━━━━━━━━━━━━━━━━━━━━━\u001b[0m \u001b[32m48.5/48.5 kB\u001b[0m \u001b[31m1.3 MB/s\u001b[0m eta \u001b[36m0:00:00\u001b[0m\n",
            "\u001b[2K   \u001b[90m━━━━━━━━━━━━━━━━━━━━━━━━━━━━━━━━━━━━━━━━\u001b[0m \u001b[32m2.8/2.8 MB\u001b[0m \u001b[31m19.0 MB/s\u001b[0m eta \u001b[36m0:00:00\u001b[0m\n",
            "\u001b[?25h"
          ]
        }
      ]
    },
    {
      "cell_type": "markdown",
      "source": [
        "## Loading Document"
      ],
      "metadata": {
        "id": "5FOCTfkgN8LH"
      }
    },
    {
      "cell_type": "code",
      "source": [
        "# create a pdf reader function\n",
        "from langchain_community.document_loaders import PyPDFium2Loader\n",
        "\n",
        "def read_doc(directory):\n",
        "    file_loader=PyPDFium2Loader(directory)\n",
        "    pdf_documents=file_loader.load() # PyPDFium2Loader reads page by page\n",
        "    return pdf_documents"
      ],
      "metadata": {
        "id": "YP5C_BgQeWpZ"
      },
      "execution_count": 8,
      "outputs": []
    },
    {
      "cell_type": "code",
      "source": [
        "pdf=read_doc('/content/drive/MyDrive/GENAI-LLM/Langchain/attention is all you need.pdf')\n",
        "len(pdf)\n",
        "\n",
        "# The document consists of 15 pages"
      ],
      "metadata": {
        "colab": {
          "base_uri": "https://localhost:8080/"
        },
        "id": "3y6ebgl7ejgh",
        "outputId": "4d970c97-68f0-43ec-f9eb-60e0ce9bccb6"
      },
      "execution_count": 9,
      "outputs": [
        {
          "output_type": "stream",
          "name": "stderr",
          "text": [
            "/usr/local/lib/python3.10/dist-packages/pypdfium2/_helpers/textpage.py:80: UserWarning: get_text_range() call with default params will be implicitly redirected to get_text_bounded()\n",
            "  warnings.warn(\"get_text_range() call with default params will be implicitly redirected to get_text_bounded()\")\n"
          ]
        },
        {
          "output_type": "execute_result",
          "data": {
            "text/plain": [
              "15"
            ]
          },
          "metadata": {},
          "execution_count": 9
        }
      ]
    },
    {
      "cell_type": "code",
      "source": [
        "pdf"
      ],
      "metadata": {
        "colab": {
          "base_uri": "https://localhost:8080/"
        },
        "id": "Hg8nWTbeZK3Y",
        "outputId": "2ac2492d-43ca-4727-88cb-1d115c55be61"
      },
      "execution_count": 10,
      "outputs": [
        {
          "output_type": "execute_result",
          "data": {
            "text/plain": [
              "[Document(metadata={'source': '/content/drive/MyDrive/GENAI-LLM/Langchain/attention is all you need.pdf', 'page': 0}, page_content='Provided proper attribution is provided, Google hereby grants permission to\\r\\nreproduce the tables and figures in this paper solely for use in journalistic or\\r\\nscholarly works.\\r\\nAttention Is All You Need\\r\\nAshish Vaswani∗\\r\\nGoogle Brain\\r\\navaswani@google.com\\r\\nNoam Shazeer∗\\r\\nGoogle Brain\\r\\nnoam@google.com\\r\\nNiki Parmar∗\\r\\nGoogle Research\\r\\nnikip@google.com\\r\\nJakob Uszkoreit∗\\r\\nGoogle Research\\r\\nusz@google.com\\r\\nLlion Jones∗\\r\\nGoogle Research\\r\\nllion@google.com\\r\\nAidan N. Gomez∗ †\\r\\nUniversity of Toronto\\r\\naidan@cs.toronto.edu\\r\\nŁukasz Kaiser∗\\r\\nGoogle Brain\\r\\nlukaszkaiser@google.com\\r\\nIllia Polosukhin∗ ‡\\r\\nillia.polosukhin@gmail.com\\r\\nAbstract\\r\\nThe dominant sequence transduction models are based on complex recurrent or\\r\\nconvolutional neural networks that include an encoder and a decoder. The best\\r\\nperforming models also connect the encoder and decoder through an attention\\r\\nmechanism. We propose a new simple network architecture, the Transformer,\\r\\nbased solely on attention mechanisms, dispensing with recurrence and convolutions\\r\\nentirely. Experiments on two machine translation tasks show these models to\\r\\nbe superior in quality while being more parallelizable and requiring significantly\\r\\nless time to train. Our model achieves 28.4 BLEU on the WMT 2014 English\\x02to-German translation task, improving over the existing best results, including\\r\\nensembles, by over 2 BLEU. On the WMT 2014 English-to-French translation task,\\r\\nour model establishes a new single-model state-of-the-art BLEU score of 41.8 after\\r\\ntraining for 3.5 days on eight GPUs, a small fraction of the training costs of the\\r\\nbest models from the literature. We show that the Transformer generalizes well to\\r\\nother tasks by applying it successfully to English constituency parsing both with\\r\\nlarge and limited training data.\\r\\n∗Equal contribution. Listing order is random. Jakob proposed replacing RNNs with self-attention and started\\r\\nthe effort to evaluate this idea. Ashish, with Illia, designed and implemented the first Transformer models and\\r\\nhas been crucially involved in every aspect of this work. Noam proposed scaled dot-product attention, multi-head\\r\\nattention and the parameter-free position representation and became the other person involved in nearly every\\r\\ndetail. Niki designed, implemented, tuned and evaluated countless model variants in our original codebase and\\r\\ntensor2tensor. Llion also experimented with novel model variants, was responsible for our initial codebase, and\\r\\nefficient inference and visualizations. Lukasz and Aidan spent countless long days designing various parts of and\\r\\nimplementing tensor2tensor, replacing our earlier codebase, greatly improving results and massively accelerating\\r\\nour research.\\r\\n†Work performed while at Google Brain.\\r\\n‡Work performed while at Google Research.\\r\\n31st Conference on Neural Information Processing Systems (NIPS 2017), Long Beach, CA, USA.\\r\\narXiv:1706.03762v7 [cs.CL] 2 Aug 2023\\n'),\n",
              " Document(metadata={'source': '/content/drive/MyDrive/GENAI-LLM/Langchain/attention is all you need.pdf', 'page': 1}, page_content='1 Introduction\\r\\nRecurrent neural networks, long short-term memory [13] and gated recurrent [7] neural networks\\r\\nin particular, have been firmly established as state of the art approaches in sequence modeling and\\r\\ntransduction problems such as language modeling and machine translation [35, 2, 5]. Numerous\\r\\nefforts have since continued to push the boundaries of recurrent language models and encoder-decoder\\r\\narchitectures [38, 24, 15].\\r\\nRecurrent models typically factor computation along the symbol positions of the input and output\\r\\nsequences. Aligning the positions to steps in computation time, they generate a sequence of hidden\\r\\nstates ht, as a function of the previous hidden state ht−1 and the input for position t. This inherently\\r\\nsequential nature precludes parallelization within training examples, which becomes critical at longer\\r\\nsequence lengths, as memory constraints limit batching across examples. Recent work has achieved\\r\\nsignificant improvements in computational efficiency through factorization tricks [21] and conditional\\r\\ncomputation [32], while also improving model performance in case of the latter. The fundamental\\r\\nconstraint of sequential computation, however, remains.\\r\\nAttention mechanisms have become an integral part of compelling sequence modeling and transduc\\x02tion models in various tasks, allowing modeling of dependencies without regard to their distance in\\r\\nthe input or output sequences [2, 19]. In all but a few cases [27], however, such attention mechanisms\\r\\nare used in conjunction with a recurrent network.\\r\\nIn this work we propose the Transformer, a model architecture eschewing recurrence and instead\\r\\nrelying entirely on an attention mechanism to draw global dependencies between input and output.\\r\\nThe Transformer allows for significantly more parallelization and can reach a new state of the art in\\r\\ntranslation quality after being trained for as little as twelve hours on eight P100 GPUs.\\r\\n2 Background\\r\\nThe goal of reducing sequential computation also forms the foundation of the Extended Neural GPU\\r\\n[16], ByteNet [18] and ConvS2S [9], all of which use convolutional neural networks as basic building\\r\\nblock, computing hidden representations in parallel for all input and output positions. In these models,\\r\\nthe number of operations required to relate signals from two arbitrary input or output positions grows\\r\\nin the distance between positions, linearly for ConvS2S and logarithmically for ByteNet. This makes\\r\\nit more difficult to learn dependencies between distant positions [12]. In the Transformer this is\\r\\nreduced to a constant number of operations, albeit at the cost of reduced effective resolution due\\r\\nto averaging attention-weighted positions, an effect we counteract with Multi-Head Attention as\\r\\ndescribed in section 3.2.\\r\\nSelf-attention, sometimes called intra-attention is an attention mechanism relating different positions\\r\\nof a single sequence in order to compute a representation of the sequence. Self-attention has been\\r\\nused successfully in a variety of tasks including reading comprehension, abstractive summarization,\\r\\ntextual entailment and learning task-independent sentence representations [4, 27, 28, 22].\\r\\nEnd-to-end memory networks are based on a recurrent attention mechanism instead of sequence\\x02aligned recurrence and have been shown to perform well on simple-language question answering and\\r\\nlanguage modeling tasks [34].\\r\\nTo the best of our knowledge, however, the Transformer is the first transduction model relying\\r\\nentirely on self-attention to compute representations of its input and output without using sequence\\x02aligned RNNs or convolution. In the following sections, we will describe the Transformer, motivate\\r\\nself-attention and discuss its advantages over models such as [17, 18] and [9].\\r\\n3 Model Architecture\\r\\nMost competitive neural sequence transduction models have an encoder-decoder structure [5, 2, 35].\\r\\nHere, the encoder maps an input sequence of symbol representations (x1, ..., xn) to a sequence\\r\\nof continuous representations z = (z1, ..., zn). Given z, the decoder then generates an output\\r\\nsequence (y1, ..., ym) of symbols one element at a time. At each step the model is auto-regressive\\r\\n[10], consuming the previously generated symbols as additional input when generating the next.\\r\\n2\\n'),\n",
              " Document(metadata={'source': '/content/drive/MyDrive/GENAI-LLM/Langchain/attention is all you need.pdf', 'page': 2}, page_content='Figure 1: The Transformer - model architecture.\\r\\nThe Transformer follows this overall architecture using stacked self-attention and point-wise, fully\\r\\nconnected layers for both the encoder and decoder, shown in the left and right halves of Figure 1,\\r\\nrespectively.\\r\\n3.1 Encoder and Decoder Stacks\\r\\nEncoder: The encoder is composed of a stack of N = 6 identical layers. Each layer has two\\r\\nsub-layers. The first is a multi-head self-attention mechanism, and the second is a simple, position\\x02wise fully connected feed-forward network. We employ a residual connection [11] around each of\\r\\nthe two sub-layers, followed by layer normalization [1]. That is, the output of each sub-layer is\\r\\nLayerNorm(x + Sublayer(x)), where Sublayer(x) is the function implemented by the sub-layer\\r\\nitself. To facilitate these residual connections, all sub-layers in the model, as well as the embedding\\r\\nlayers, produce outputs of dimension dmodel = 512.\\r\\nDecoder: The decoder is also composed of a stack of N = 6 identical layers. In addition to the two\\r\\nsub-layers in each encoder layer, the decoder inserts a third sub-layer, which performs multi-head\\r\\nattention over the output of the encoder stack. Similar to the encoder, we employ residual connections\\r\\naround each of the sub-layers, followed by layer normalization. We also modify the self-attention\\r\\nsub-layer in the decoder stack to prevent positions from attending to subsequent positions. This\\r\\nmasking, combined with fact that the output embeddings are offset by one position, ensures that the\\r\\npredictions for position i can depend only on the known outputs at positions less than i.\\r\\n3.2 Attention\\r\\nAn attention function can be described as mapping a query and a set of key-value pairs to an output,\\r\\nwhere the query, keys, values, and output are all vectors. The output is computed as a weighted sum\\r\\n3\\n'),\n",
              " Document(metadata={'source': '/content/drive/MyDrive/GENAI-LLM/Langchain/attention is all you need.pdf', 'page': 3}, page_content='Scaled Dot-Product Attention Multi-Head Attention\\r\\nFigure 2: (left) Scaled Dot-Product Attention. (right) Multi-Head Attention consists of several\\r\\nattention layers running in parallel.\\r\\nof the values, where the weight assigned to each value is computed by a compatibility function of the\\r\\nquery with the corresponding key.\\r\\n3.2.1 Scaled Dot-Product Attention\\r\\nWe call our particular attention \"Scaled Dot-Product Attention\" (Figure 2). The input consists of\\r\\nqueries and keys of dimension dk, and values of dimension dv. We compute the dot products of the\\r\\nquery with all keys, divide each by √dk, and apply a softmax function to obtain the weights on the\\r\\nvalues.\\r\\nIn practice, we compute the attention function on a set of queries simultaneously, packed together\\r\\ninto a matrix Q. The keys and values are also packed together into matrices K and V . We compute\\r\\nthe matrix of outputs as:\\r\\nAttention(Q, K, V ) = softmax(QKT\\r\\n√\\r\\ndk\\r\\n)V (1)\\r\\nThe two most commonly used attention functions are additive attention [2], and dot-product (multi\\x02plicative) attention. Dot-product attention is identical to our algorithm, except for the scaling factor\\r\\nof √\\r\\n1\\r\\ndk\\r\\n. Additive attention computes the compatibility function using a feed-forward network with\\r\\na single hidden layer. While the two are similar in theoretical complexity, dot-product attention is\\r\\nmuch faster and more space-efficient in practice, since it can be implemented using highly optimized\\r\\nmatrix multiplication code.\\r\\nWhile for small values of dk the two mechanisms perform similarly, additive attention outperforms\\r\\ndot product attention without scaling for larger values of dk [3]. We suspect that for large values of\\r\\ndk, the dot products grow large in magnitude, pushing the softmax function into regions where it has\\r\\nextremely small gradients 4. To counteract this effect, we scale the dot products by √\\r\\n1\\r\\ndk\\r\\n.\\r\\n3.2.2 Multi-Head Attention\\r\\nInstead of performing a single attention function with dmodel-dimensional keys, values and queries,\\r\\nwe found it beneficial to linearly project the queries, keys and values h times with different, learned\\r\\nlinear projections to dk, dk and dv dimensions, respectively. On each of these projected versions of\\r\\nqueries, keys and values we then perform the attention function in parallel, yielding dv-dimensional\\r\\n4To illustrate why the dot products get large, assume that the components of q and k are independent random\\r\\nvariables with mean 0 and variance 1. Then their dot product, q · k =\\r\\nPdk\\r\\ni=1 qiki, has mean 0 and variance dk.\\r\\n4\\n'),\n",
              " Document(metadata={'source': '/content/drive/MyDrive/GENAI-LLM/Langchain/attention is all you need.pdf', 'page': 4}, page_content='output values. These are concatenated and once again projected, resulting in the final values, as\\r\\ndepicted in Figure 2.\\r\\nMulti-head attention allows the model to jointly attend to information from different representation\\r\\nsubspaces at different positions. With a single attention head, averaging inhibits this.\\r\\nMultiHead(Q, K, V ) = Concat(head1, ..., headh)WO\\r\\nwhere headi = Attention(QWQ\\r\\ni\\r\\n, KW K\\r\\ni\\r\\n, V WV\\r\\ni\\r\\n)\\r\\nWhere the projections are parameter matrices W\\r\\nQ\\r\\ni ∈ R\\r\\ndmodel×dk , W K\\r\\ni ∈ R\\r\\ndmodel×dk , WV\\r\\ni ∈ R\\r\\ndmodel×dv\\r\\nand WO ∈ R\\r\\nhdv×dmodel\\r\\n.\\r\\nIn this work we employ h = 8 parallel attention layers, or heads. For each of these we use\\r\\ndk = dv = dmodel/h = 64. Due to the reduced dimension of each head, the total computational cost\\r\\nis similar to that of single-head attention with full dimensionality.\\r\\n3.2.3 Applications of Attention in our Model\\r\\nThe Transformer uses multi-head attention in three different ways:\\r\\n• In \"encoder-decoder attention\" layers, the queries come from the previous decoder layer,\\r\\nand the memory keys and values come from the output of the encoder. This allows every\\r\\nposition in the decoder to attend over all positions in the input sequence. This mimics the\\r\\ntypical encoder-decoder attention mechanisms in sequence-to-sequence models such as\\r\\n[38, 2, 9].\\r\\n• The encoder contains self-attention layers. In a self-attention layer all of the keys, values\\r\\nand queries come from the same place, in this case, the output of the previous layer in the\\r\\nencoder. Each position in the encoder can attend to all positions in the previous layer of the\\r\\nencoder.\\r\\n• Similarly, self-attention layers in the decoder allow each position in the decoder to attend to\\r\\nall positions in the decoder up to and including that position. We need to prevent leftward\\r\\ninformation flow in the decoder to preserve the auto-regressive property. We implement this\\r\\ninside of scaled dot-product attention by masking out (setting to −∞) all values in the input\\r\\nof the softmax which correspond to illegal connections. See Figure 2.\\r\\n3.3 Position-wise Feed-Forward Networks\\r\\nIn addition to attention sub-layers, each of the layers in our encoder and decoder contains a fully\\r\\nconnected feed-forward network, which is applied to each position separately and identically. This\\r\\nconsists of two linear transformations with a ReLU activation in between.\\r\\nFFN(x) = max(0, xW1 + b1)W2 + b2 (2)\\r\\nWhile the linear transformations are the same across different positions, they use different parameters\\r\\nfrom layer to layer. Another way of describing this is as two convolutions with kernel size 1.\\r\\nThe dimensionality of input and output is dmodel = 512, and the inner-layer has dimensionality\\r\\ndf f = 2048.\\r\\n3.4 Embeddings and Softmax\\r\\nSimilarly to other sequence transduction models, we use learned embeddings to convert the input\\r\\ntokens and output tokens to vectors of dimension dmodel. We also use the usual learned linear transfor\\x02mation and softmax function to convert the decoder output to predicted next-token probabilities. In\\r\\nour model, we share the same weight matrix between the two embedding layers and the pre-softmax\\r\\nlinear transformation, similar to [30]. In the embedding layers, we multiply those weights by √dmodel.\\r\\n5\\n'),\n",
              " Document(metadata={'source': '/content/drive/MyDrive/GENAI-LLM/Langchain/attention is all you need.pdf', 'page': 5}, page_content='Table 1: Maximum path lengths, per-layer complexity and minimum number of sequential operations\\r\\nfor different layer types. n is the sequence length, d is the representation dimension, k is the kernel\\r\\nsize of convolutions and r the size of the neighborhood in restricted self-attention.\\r\\nLayer Type Complexity per Layer Sequential Maximum Path Length\\r\\nOperations\\r\\nSelf-Attention O(n\\r\\n2\\r\\n· d) O(1) O(1)\\r\\nRecurrent O(n · d\\r\\n2\\r\\n) O(n) O(n)\\r\\nConvolutional O(k · n · d\\r\\n2\\r\\n) O(1) O(logk(n))\\r\\nSelf-Attention (restricted) O(r · n · d) O(1) O(n/r)\\r\\n3.5 Positional Encoding\\r\\nSince our model contains no recurrence and no convolution, in order for the model to make use of the\\r\\norder of the sequence, we must inject some information about the relative or absolute position of the\\r\\ntokens in the sequence. To this end, we add \"positional encodings\" to the input embeddings at the\\r\\nbottoms of the encoder and decoder stacks. The positional encodings have the same dimension dmodel\\r\\nas the embeddings, so that the two can be summed. There are many choices of positional encodings,\\r\\nlearned and fixed [9].\\r\\nIn this work, we use sine and cosine functions of different frequencies:\\r\\nP E(pos,2i) = sin(pos/100002i/dmodel)\\r\\nP E(pos,2i+1) = cos(pos/100002i/dmodel)\\r\\nwhere pos is the position and i is the dimension. That is, each dimension of the positional encoding\\r\\ncorresponds to a sinusoid. The wavelengths form a geometric progression from 2π to 10000 · 2π. We\\r\\nchose this function because we hypothesized it would allow the model to easily learn to attend by\\r\\nrelative positions, since for any fixed offset k, P Epos+k can be represented as a linear function of\\r\\nP Epos.\\r\\nWe also experimented with using learned positional embeddings [9] instead, and found that the two\\r\\nversions produced nearly identical results (see Table 3 row (E)). We chose the sinusoidal version\\r\\nbecause it may allow the model to extrapolate to sequence lengths longer than the ones encountered\\r\\nduring training.\\r\\n4 Why Self-Attention\\r\\nIn this section we compare various aspects of self-attention layers to the recurrent and convolu\\x02tional layers commonly used for mapping one variable-length sequence of symbol representations\\r\\n(x1, ..., xn) to another sequence of equal length (z1, ..., zn), with xi, zi ∈ R\\r\\nd\\r\\n, such as a hidden\\r\\nlayer in a typical sequence transduction encoder or decoder. Motivating our use of self-attention we\\r\\nconsider three desiderata.\\r\\nOne is the total computational complexity per layer. Another is the amount of computation that can\\r\\nbe parallelized, as measured by the minimum number of sequential operations required.\\r\\nThe third is the path length between long-range dependencies in the network. Learning long-range\\r\\ndependencies is a key challenge in many sequence transduction tasks. One key factor affecting the\\r\\nability to learn such dependencies is the length of the paths forward and backward signals have to\\r\\ntraverse in the network. The shorter these paths between any combination of positions in the input\\r\\nand output sequences, the easier it is to learn long-range dependencies [12]. Hence we also compare\\r\\nthe maximum path length between any two input and output positions in networks composed of the\\r\\ndifferent layer types.\\r\\nAs noted in Table 1, a self-attention layer connects all positions with a constant number of sequentially\\r\\nexecuted operations, whereas a recurrent layer requires O(n) sequential operations. In terms of\\r\\ncomputational complexity, self-attention layers are faster than recurrent layers when the sequence\\r\\n6\\n'),\n",
              " Document(metadata={'source': '/content/drive/MyDrive/GENAI-LLM/Langchain/attention is all you need.pdf', 'page': 6}, page_content='length n is smaller than the representation dimensionality d, which is most often the case with\\r\\nsentence representations used by state-of-the-art models in machine translations, such as word-piece\\r\\n[38] and byte-pair [31] representations. To improve computational performance for tasks involving\\r\\nvery long sequences, self-attention could be restricted to considering only a neighborhood of size r in\\r\\nthe input sequence centered around the respective output position. This would increase the maximum\\r\\npath length to O(n/r). We plan to investigate this approach further in future work.\\r\\nA single convolutional layer with kernel width k < n does not connect all pairs of input and output\\r\\npositions. Doing so requires a stack of O(n/k) convolutional layers in the case of contiguous kernels,\\r\\nor O(logk(n)) in the case of dilated convolutions [18], increasing the length of the longest paths\\r\\nbetween any two positions in the network. Convolutional layers are generally more expensive than\\r\\nrecurrent layers, by a factor of k. Separable convolutions [6], however, decrease the complexity\\r\\nconsiderably, to O(k · n · d + n · d\\r\\n2\\r\\n). Even with k = n, however, the complexity of a separable\\r\\nconvolution is equal to the combination of a self-attention layer and a point-wise feed-forward layer,\\r\\nthe approach we take in our model.\\r\\nAs side benefit, self-attention could yield more interpretable models. We inspect attention distributions\\r\\nfrom our models and present and discuss examples in the appendix. Not only do individual attention\\r\\nheads clearly learn to perform different tasks, many appear to exhibit behavior related to the syntactic\\r\\nand semantic structure of the sentences.\\r\\n5 Training\\r\\nThis section describes the training regime for our models.\\r\\n5.1 Training Data and Batching\\r\\nWe trained on the standard WMT 2014 English-German dataset consisting of about 4.5 million\\r\\nsentence pairs. Sentences were encoded using byte-pair encoding [3], which has a shared source\\x02target vocabulary of about 37000 tokens. For English-French, we used the significantly larger WMT\\r\\n2014 English-French dataset consisting of 36M sentences and split tokens into a 32000 word-piece\\r\\nvocabulary [38]. Sentence pairs were batched together by approximate sequence length. Each training\\r\\nbatch contained a set of sentence pairs containing approximately 25000 source tokens and 25000\\r\\ntarget tokens.\\r\\n5.2 Hardware and Schedule\\r\\nWe trained our models on one machine with 8 NVIDIA P100 GPUs. For our base models using\\r\\nthe hyperparameters described throughout the paper, each training step took about 0.4 seconds. We\\r\\ntrained the base models for a total of 100,000 steps or 12 hours. For our big models,(described on the\\r\\nbottom line of table 3), step time was 1.0 seconds. The big models were trained for 300,000 steps\\r\\n(3.5 days).\\r\\n5.3 Optimizer\\r\\nWe used the Adam optimizer [20] with β1 = 0.9, β2 = 0.98 and ϵ = 10−9. We varied the learning\\r\\nrate over the course of training, according to the formula:\\r\\nlrate = d\\r\\n−0.5\\r\\nmodel · min(step_num−0.5\\r\\n, step_num · warmup_steps−1.5) (3)\\r\\nThis corresponds to increasing the learning rate linearly for the first warmup_steps training steps,\\r\\nand decreasing it thereafter proportionally to the inverse square root of the step number. We used\\r\\nwarmup_steps = 4000.\\r\\n5.4 Regularization\\r\\nWe employ three types of regularization during training:\\r\\n7\\n'),\n",
              " Document(metadata={'source': '/content/drive/MyDrive/GENAI-LLM/Langchain/attention is all you need.pdf', 'page': 7}, page_content='Table 2: The Transformer achieves better BLEU scores than previous state-of-the-art models on the\\r\\nEnglish-to-German and English-to-French newstest2014 tests at a fraction of the training cost.\\r\\nModel\\r\\nBLEU Training Cost (FLOPs)\\r\\nEN-DE EN-FR EN-DE EN-FR\\r\\nByteNet [18] 23.75\\r\\nDeep-Att + PosUnk [39] 39.2 1.0 · 1020\\r\\nGNMT + RL [38] 24.6 39.92 2.3 · 1019 1.4 · 1020\\r\\nConvS2S [9] 25.16 40.46 9.6 · 1018 1.5 · 1020\\r\\nMoE [32] 26.03 40.56 2.0 · 1019 1.2 · 1020\\r\\nDeep-Att + PosUnk Ensemble [39] 40.4 8.0 · 1020\\r\\nGNMT + RL Ensemble [38] 26.30 41.16 1.8 · 1020 1.1 · 1021\\r\\nConvS2S Ensemble [9] 26.36 41.29 7.7 · 1019 1.2 · 1021\\r\\nTransformer (base model) 27.3 38.1 3.3 · 1018\\r\\nTransformer (big) 28.4 41.8 2.3 · 1019\\r\\nResidual Dropout We apply dropout [33] to the output of each sub-layer, before it is added to the\\r\\nsub-layer input and normalized. In addition, we apply dropout to the sums of the embeddings and the\\r\\npositional encodings in both the encoder and decoder stacks. For the base model, we use a rate of\\r\\nPdrop = 0.1.\\r\\nLabel Smoothing During training, we employed label smoothing of value ϵls = 0.1 [36]. This\\r\\nhurts perplexity, as the model learns to be more unsure, but improves accuracy and BLEU score.\\r\\n6 Results\\r\\n6.1 Machine Translation\\r\\nOn the WMT 2014 English-to-German translation task, the big transformer model (Transformer (big)\\r\\nin Table 2) outperforms the best previously reported models (including ensembles) by more than 2.0\\r\\nBLEU, establishing a new state-of-the-art BLEU score of 28.4. The configuration of this model is\\r\\nlisted in the bottom line of Table 3. Training took 3.5 days on 8 P100 GPUs. Even our base model\\r\\nsurpasses all previously published models and ensembles, at a fraction of the training cost of any of\\r\\nthe competitive models.\\r\\nOn the WMT 2014 English-to-French translation task, our big model achieves a BLEU score of 41.0,\\r\\noutperforming all of the previously published single models, at less than 1/4 the training cost of the\\r\\nprevious state-of-the-art model. The Transformer (big) model trained for English-to-French used\\r\\ndropout rate Pdrop = 0.1, instead of 0.3.\\r\\nFor the base models, we used a single model obtained by averaging the last 5 checkpoints, which\\r\\nwere written at 10-minute intervals. For the big models, we averaged the last 20 checkpoints. We\\r\\nused beam search with a beam size of 4 and length penalty α = 0.6 [38]. These hyperparameters\\r\\nwere chosen after experimentation on the development set. We set the maximum output length during\\r\\ninference to input length + 50, but terminate early when possible [38].\\r\\nTable 2 summarizes our results and compares our translation quality and training costs to other model\\r\\narchitectures from the literature. We estimate the number of floating point operations used to train a\\r\\nmodel by multiplying the training time, the number of GPUs used, and an estimate of the sustained\\r\\nsingle-precision floating-point capacity of each GPU 5.\\r\\n6.2 Model Variations\\r\\nTo evaluate the importance of different components of the Transformer, we varied our base model\\r\\nin different ways, measuring the change in performance on English-to-German translation on the\\r\\n5We used values of 2.8, 3.7, 6.0 and 9.5 TFLOPS for K80, K40, M40 and P100, respectively.\\r\\n8\\n'),\n",
              " Document(metadata={'source': '/content/drive/MyDrive/GENAI-LLM/Langchain/attention is all you need.pdf', 'page': 8}, page_content='Table 3: Variations on the Transformer architecture. Unlisted values are identical to those of the base\\r\\nmodel. All metrics are on the English-to-German translation development set, newstest2013. Listed\\r\\nperplexities are per-wordpiece, according to our byte-pair encoding, and should not be compared to\\r\\nper-word perplexities.\\r\\nN dmodel dff h dk dv Pdrop ϵls\\r\\ntrain PPL BLEU params\\r\\nsteps (dev) (dev) ×106\\r\\nbase 6 512 2048 8 64 64 0.1 0.1 100K 4.92 25.8 65\\r\\n(A)\\r\\n1 512 512 5.29 24.9\\r\\n4 128 128 5.00 25.5\\r\\n16 32 32 4.91 25.8\\r\\n32 16 16 5.01 25.4\\r\\n(B) 16 5.16 25.1 58\\r\\n32 5.01 25.4 60\\r\\n(C)\\r\\n2 6.11 23.7 36\\r\\n4 5.19 25.3 50\\r\\n8 4.88 25.5 80\\r\\n256 32 32 5.75 24.5 28\\r\\n1024 128 128 4.66 26.0 168\\r\\n1024 5.12 25.4 53\\r\\n4096 4.75 26.2 90\\r\\n(D)\\r\\n0.0 5.77 24.6\\r\\n0.2 4.95 25.5\\r\\n0.0 4.67 25.3\\r\\n0.2 5.47 25.7\\r\\n(E) positional embedding instead of sinusoids 4.92 25.7\\r\\nbig 6 1024 4096 16 0.3 300K 4.33 26.4 213\\r\\ndevelopment set, newstest2013. We used beam search as described in the previous section, but no\\r\\ncheckpoint averaging. We present these results in Table 3.\\r\\nIn Table 3 rows (A), we vary the number of attention heads and the attention key and value dimensions,\\r\\nkeeping the amount of computation constant, as described in Section 3.2.2. While single-head\\r\\nattention is 0.9 BLEU worse than the best setting, quality also drops off with too many heads.\\r\\nIn Table 3 rows (B), we observe that reducing the attention key size dk hurts model quality. This\\r\\nsuggests that determining compatibility is not easy and that a more sophisticated compatibility\\r\\nfunction than dot product may be beneficial. We further observe in rows (C) and (D) that, as expected,\\r\\nbigger models are better, and dropout is very helpful in avoiding over-fitting. In row (E) we replace our\\r\\nsinusoidal positional encoding with learned positional embeddings [9], and observe nearly identical\\r\\nresults to the base model.\\r\\n6.3 English Constituency Parsing\\r\\nTo evaluate if the Transformer can generalize to other tasks we performed experiments on English\\r\\nconstituency parsing. This task presents specific challenges: the output is subject to strong structural\\r\\nconstraints and is significantly longer than the input. Furthermore, RNN sequence-to-sequence\\r\\nmodels have not been able to attain state-of-the-art results in small-data regimes [37].\\r\\nWe trained a 4-layer transformer with dmodel = 1024 on the Wall Street Journal (WSJ) portion of the\\r\\nPenn Treebank [25], about 40K training sentences. We also trained it in a semi-supervised setting,\\r\\nusing the larger high-confidence and BerkleyParser corpora from with approximately 17M sentences\\r\\n[37]. We used a vocabulary of 16K tokens for the WSJ only setting and a vocabulary of 32K tokens\\r\\nfor the semi-supervised setting.\\r\\nWe performed only a small number of experiments to select the dropout, both attention and residual\\r\\n(section 5.4), learning rates and beam size on the Section 22 development set, all other parameters\\r\\nremained unchanged from the English-to-German base translation model. During inference, we\\r\\n9\\n'),\n",
              " Document(metadata={'source': '/content/drive/MyDrive/GENAI-LLM/Langchain/attention is all you need.pdf', 'page': 9}, page_content='Table 4: The Transformer generalizes well to English constituency parsing (Results are on Section 23\\r\\nof WSJ)\\r\\nParser Training WSJ 23 F1\\r\\nVinyals & Kaiser el al. (2014) [37] WSJ only, discriminative 88.3\\r\\nPetrov et al. (2006) [29] WSJ only, discriminative 90.4\\r\\nZhu et al. (2013) [40] WSJ only, discriminative 90.4\\r\\nDyer et al. (2016) [8] WSJ only, discriminative 91.7\\r\\nTransformer (4 layers) WSJ only, discriminative 91.3\\r\\nZhu et al. (2013) [40] semi-supervised 91.3\\r\\nHuang & Harper (2009) [14] semi-supervised 91.3\\r\\nMcClosky et al. (2006) [26] semi-supervised 92.1\\r\\nVinyals & Kaiser el al. (2014) [37] semi-supervised 92.1\\r\\nTransformer (4 layers) semi-supervised 92.7\\r\\nLuong et al. (2015) [23] multi-task 93.0\\r\\nDyer et al. (2016) [8] generative 93.3\\r\\nincreased the maximum output length to input length + 300. We used a beam size of 21 and α = 0.3\\r\\nfor both WSJ only and the semi-supervised setting.\\r\\nOur results in Table 4 show that despite the lack of task-specific tuning our model performs sur\\x02prisingly well, yielding better results than all previously reported models with the exception of the\\r\\nRecurrent Neural Network Grammar [8].\\r\\nIn contrast to RNN sequence-to-sequence models [37], the Transformer outperforms the Berkeley\\x02Parser [29] even when training only on the WSJ training set of 40K sentences.\\r\\n7 Conclusion\\r\\nIn this work, we presented the Transformer, the first sequence transduction model based entirely on\\r\\nattention, replacing the recurrent layers most commonly used in encoder-decoder architectures with\\r\\nmulti-headed self-attention.\\r\\nFor translation tasks, the Transformer can be trained significantly faster than architectures based\\r\\non recurrent or convolutional layers. On both WMT 2014 English-to-German and WMT 2014\\r\\nEnglish-to-French translation tasks, we achieve a new state of the art. In the former task our best\\r\\nmodel outperforms even all previously reported ensembles.\\r\\nWe are excited about the future of attention-based models and plan to apply them to other tasks. We\\r\\nplan to extend the Transformer to problems involving input and output modalities other than text and\\r\\nto investigate local, restricted attention mechanisms to efficiently handle large inputs and outputs\\r\\nsuch as images, audio and video. Making generation less sequential is another research goals of ours.\\r\\nThe code we used to train and evaluate our models is available at https://github.com/\\r\\ntensorflow/tensor2tensor.\\r\\nAcknowledgements We are grateful to Nal Kalchbrenner and Stephan Gouws for their fruitful\\r\\ncomments, corrections and inspiration.\\r\\nReferences\\r\\n[1] Jimmy Lei Ba, Jamie Ryan Kiros, and Geoffrey E Hinton. Layer normalization. arXiv preprint\\r\\narXiv:1607.06450, 2016.\\r\\n[2] Dzmitry Bahdanau, Kyunghyun Cho, and Yoshua Bengio. Neural machine translation by jointly\\r\\nlearning to align and translate. CoRR, abs/1409.0473, 2014.\\r\\n[3] Denny Britz, Anna Goldie, Minh-Thang Luong, and Quoc V. Le. Massive exploration of neural\\r\\nmachine translation architectures. CoRR, abs/1703.03906, 2017.\\r\\n[4] Jianpeng Cheng, Li Dong, and Mirella Lapata. Long short-term memory-networks for machine\\r\\nreading. arXiv preprint arXiv:1601.06733, 2016.\\r\\n10\\n'),\n",
              " Document(metadata={'source': '/content/drive/MyDrive/GENAI-LLM/Langchain/attention is all you need.pdf', 'page': 10}, page_content='[5] Kyunghyun Cho, Bart van Merrienboer, Caglar Gulcehre, Fethi Bougares, Holger Schwenk,\\r\\nand Yoshua Bengio. Learning phrase representations using rnn encoder-decoder for statistical\\r\\nmachine translation. CoRR, abs/1406.1078, 2014.\\r\\n[6] Francois Chollet. Xception: Deep learning with depthwise separable convolutions. arXiv\\r\\npreprint arXiv:1610.02357, 2016.\\r\\n[7] Junyoung Chung, Çaglar Gülçehre, Kyunghyun Cho, and Yoshua Bengio. Empirical evaluation\\r\\nof gated recurrent neural networks on sequence modeling. CoRR, abs/1412.3555, 2014.\\r\\n[8] Chris Dyer, Adhiguna Kuncoro, Miguel Ballesteros, and Noah A. Smith. Recurrent neural\\r\\nnetwork grammars. In Proc. of NAACL, 2016.\\r\\n[9] Jonas Gehring, Michael Auli, David Grangier, Denis Yarats, and Yann N. Dauphin. Convolu\\x02tional sequence to sequence learning. arXiv preprint arXiv:1705.03122v2, 2017.\\r\\n[10] Alex Graves. Generating sequences with recurrent neural networks. arXiv preprint\\r\\narXiv:1308.0850, 2013.\\r\\n[11] Kaiming He, Xiangyu Zhang, Shaoqing Ren, and Jian Sun. Deep residual learning for im\\x02age recognition. In Proceedings of the IEEE Conference on Computer Vision and Pattern\\r\\nRecognition, pages 770–778, 2016.\\r\\n[12] Sepp Hochreiter, Yoshua Bengio, Paolo Frasconi, and Jürgen Schmidhuber. Gradient flow in\\r\\nrecurrent nets: the difficulty of learning long-term dependencies, 2001.\\r\\n[13] Sepp Hochreiter and Jürgen Schmidhuber. Long short-term memory. Neural computation,\\r\\n9(8):1735–1780, 1997.\\r\\n[14] Zhongqiang Huang and Mary Harper. Self-training PCFG grammars with latent annotations\\r\\nacross languages. In Proceedings of the 2009 Conference on Empirical Methods in Natural\\r\\nLanguage Processing, pages 832–841. ACL, August 2009.\\r\\n[15] Rafal Jozefowicz, Oriol Vinyals, Mike Schuster, Noam Shazeer, and Yonghui Wu. Exploring\\r\\nthe limits of language modeling. arXiv preprint arXiv:1602.02410, 2016.\\r\\n[16] Łukasz Kaiser and Samy Bengio. Can active memory replace attention? In Advances in Neural\\r\\nInformation Processing Systems, (NIPS), 2016.\\r\\n[17] Łukasz Kaiser and Ilya Sutskever. Neural GPUs learn algorithms. In International Conference\\r\\non Learning Representations (ICLR), 2016.\\r\\n[18] Nal Kalchbrenner, Lasse Espeholt, Karen Simonyan, Aaron van den Oord, Alex Graves, and Ko\\x02ray Kavukcuoglu. Neural machine translation in linear time. arXiv preprint arXiv:1610.10099v2,\\r\\n2017.\\r\\n[19] Yoon Kim, Carl Denton, Luong Hoang, and Alexander M. Rush. Structured attention networks.\\r\\nIn International Conference on Learning Representations, 2017.\\r\\n[20] Diederik Kingma and Jimmy Ba. Adam: A method for stochastic optimization. In ICLR, 2015.\\r\\n[21] Oleksii Kuchaiev and Boris Ginsburg. Factorization tricks for LSTM networks. arXiv preprint\\r\\narXiv:1703.10722, 2017.\\r\\n[22] Zhouhan Lin, Minwei Feng, Cicero Nogueira dos Santos, Mo Yu, Bing Xiang, Bowen\\r\\nZhou, and Yoshua Bengio. A structured self-attentive sentence embedding. arXiv preprint\\r\\narXiv:1703.03130, 2017.\\r\\n[23] Minh-Thang Luong, Quoc V. Le, Ilya Sutskever, Oriol Vinyals, and Lukasz Kaiser. Multi-task\\r\\nsequence to sequence learning. arXiv preprint arXiv:1511.06114, 2015.\\r\\n[24] Minh-Thang Luong, Hieu Pham, and Christopher D Manning. Effective approaches to attention\\x02based neural machine translation. arXiv preprint arXiv:1508.04025, 2015.\\r\\n11\\n'),\n",
              " Document(metadata={'source': '/content/drive/MyDrive/GENAI-LLM/Langchain/attention is all you need.pdf', 'page': 11}, page_content='[25] Mitchell P Marcus, Mary Ann Marcinkiewicz, and Beatrice Santorini. Building a large annotated\\r\\ncorpus of english: The penn treebank. Computational linguistics, 19(2):313–330, 1993.\\r\\n[26] David McClosky, Eugene Charniak, and Mark Johnson. Effective self-training for parsing. In\\r\\nProceedings of the Human Language Technology Conference of the NAACL, Main Conference,\\r\\npages 152–159. ACL, June 2006.\\r\\n[27] Ankur Parikh, Oscar Täckström, Dipanjan Das, and Jakob Uszkoreit. A decomposable attention\\r\\nmodel. In Empirical Methods in Natural Language Processing, 2016.\\r\\n[28] Romain Paulus, Caiming Xiong, and Richard Socher. A deep reinforced model for abstractive\\r\\nsummarization. arXiv preprint arXiv:1705.04304, 2017.\\r\\n[29] Slav Petrov, Leon Barrett, Romain Thibaux, and Dan Klein. Learning accurate, compact,\\r\\nand interpretable tree annotation. In Proceedings of the 21st International Conference on\\r\\nComputational Linguistics and 44th Annual Meeting of the ACL, pages 433–440. ACL, July\\r\\n2006.\\r\\n[30] Ofir Press and Lior Wolf. Using the output embedding to improve language models. arXiv\\r\\npreprint arXiv:1608.05859, 2016.\\r\\n[31] Rico Sennrich, Barry Haddow, and Alexandra Birch. Neural machine translation of rare words\\r\\nwith subword units. arXiv preprint arXiv:1508.07909, 2015.\\r\\n[32] Noam Shazeer, Azalia Mirhoseini, Krzysztof Maziarz, Andy Davis, Quoc Le, Geoffrey Hinton,\\r\\nand Jeff Dean. Outrageously large neural networks: The sparsely-gated mixture-of-experts\\r\\nlayer. arXiv preprint arXiv:1701.06538, 2017.\\r\\n[33] Nitish Srivastava, Geoffrey E Hinton, Alex Krizhevsky, Ilya Sutskever, and Ruslan Salakhutdi\\x02nov. Dropout: a simple way to prevent neural networks from overfitting. Journal of Machine\\r\\nLearning Research, 15(1):1929–1958, 2014.\\r\\n[34] Sainbayar Sukhbaatar, Arthur Szlam, Jason Weston, and Rob Fergus. End-to-end memory\\r\\nnetworks. In C. Cortes, N. D. Lawrence, D. D. Lee, M. Sugiyama, and R. Garnett, editors,\\r\\nAdvances in Neural Information Processing Systems 28, pages 2440–2448. Curran Associates,\\r\\nInc., 2015.\\r\\n[35] Ilya Sutskever, Oriol Vinyals, and Quoc VV Le. Sequence to sequence learning with neural\\r\\nnetworks. In Advances in Neural Information Processing Systems, pages 3104–3112, 2014.\\r\\n[36] Christian Szegedy, Vincent Vanhoucke, Sergey Ioffe, Jonathon Shlens, and Zbigniew Wojna.\\r\\nRethinking the inception architecture for computer vision. CoRR, abs/1512.00567, 2015.\\r\\n[37] Vinyals & Kaiser, Koo, Petrov, Sutskever, and Hinton. Grammar as a foreign language. In\\r\\nAdvances in Neural Information Processing Systems, 2015.\\r\\n[38] Yonghui Wu, Mike Schuster, Zhifeng Chen, Quoc V Le, Mohammad Norouzi, Wolfgang\\r\\nMacherey, Maxim Krikun, Yuan Cao, Qin Gao, Klaus Macherey, et al. Google’s neural machine\\r\\ntranslation system: Bridging the gap between human and machine translation. arXiv preprint\\r\\narXiv:1609.08144, 2016.\\r\\n[39] Jie Zhou, Ying Cao, Xuguang Wang, Peng Li, and Wei Xu. Deep recurrent models with\\r\\nfast-forward connections for neural machine translation. CoRR, abs/1606.04199, 2016.\\r\\n[40] Muhua Zhu, Yue Zhang, Wenliang Chen, Min Zhang, and Jingbo Zhu. Fast and accurate\\r\\nshift-reduce constituent parsing. In Proceedings of the 51st Annual Meeting of the ACL (Volume\\r\\n1: Long Papers), pages 434–443. ACL, August 2013.\\r\\n12\\n'),\n",
              " Document(metadata={'source': '/content/drive/MyDrive/GENAI-LLM/Langchain/attention is all you need.pdf', 'page': 12}, page_content='Attention Visualizations\\r\\nInput-Input Layer5 Itisinthis spirit that\\r\\na\\r\\nmajority\\r\\nofAmerican\\r\\ngovernments\\r\\nhave\\r\\npassed\\r\\nnewlaws\\r\\nsince\\r\\n2009\\r\\nmaking\\r\\nthe\\r\\nregistration\\r\\nor\\r\\nvoting\\r\\nprocess\\r\\nmore\\r\\ndifficult\\r\\n.\\r\\n<EOS>\\r\\n<pad>\\r\\n<pad>\\r\\n<pad>\\r\\n<pad>\\r\\n<pad>\\r\\n<pad>\\r\\nIt\\r\\nis\\r\\nin\\r\\nthis\\r\\nspirit\\r\\nthat\\r\\na\\r\\nmajority\\r\\nof\\r\\nAmerican\\r\\ngovernments\\r\\nhave\\r\\npassed\\r\\nnew\\r\\nlaws\\r\\nsince\\r\\n2009\\r\\nmaking\\r\\nthe\\r\\nregistration\\r\\nor\\r\\nvoting\\r\\nprocess\\r\\nmore\\r\\ndifficult\\r\\n.\\r\\n<EOS>\\r\\n<pad><pad>\\r\\n<pad>\\r\\n<pad>\\r\\n<pad>\\r\\n<pad>\\r\\nFigure 3: An example of the attention mechanism following long-distance dependencies in the\\r\\nencoder self-attention in layer 5 of 6. Many of the attention heads attend to a distant dependency of\\r\\nthe verb ‘making’, completing the phrase ‘making...more difficult’. Attentions here shown only for\\r\\nthe word ‘making’. Different colors represent different heads. Best viewed in color.\\r\\n13\\n'),\n",
              " Document(metadata={'source': '/content/drive/MyDrive/GENAI-LLM/Langchain/attention is all you need.pdf', 'page': 13}, page_content='Input-Input Layer5 The Law will never beperfect\\r\\n,\\r\\nbut\\r\\nitsapplication\\r\\nshould\\r\\nbe\\r\\njust\\r\\n-this\\r\\nis\\r\\nwhat\\r\\nwe\\r\\nare\\r\\nmissing\\r\\n,\\r\\nin\\r\\nmy\\r\\nopinion\\r\\n.\\r\\n<EOS>\\r\\n<pad>\\r\\nThe\\r\\nLaw\\r\\nwill\\r\\nnever\\r\\nbe\\r\\nperfect\\r\\n,\\r\\nbut\\r\\nits\\r\\napplication\\r\\nshould\\r\\nbe\\r\\njust\\r\\n-\\r\\nthis\\r\\nis\\r\\nwhat\\r\\nwe\\r\\nare\\r\\nmissing\\r\\n,\\r\\nin\\r\\nmy\\r\\nopinion\\r\\n.\\r\\n<EOS>\\r\\n<pad>\\r\\nInput-Input Layer5 The Law will never beperfect\\r\\n,\\r\\nbut\\r\\nitsapplication\\r\\nshould\\r\\nbe\\r\\njust\\r\\n-this\\r\\nis\\r\\nwhat\\r\\nwe\\r\\nare\\r\\nmissing\\r\\n,\\r\\nin\\r\\nmy\\r\\nopinion\\r\\n.\\r\\n<EOS>\\r\\n<pad>\\r\\nThe\\r\\nLaw\\r\\nwill\\r\\nnever\\r\\nbe\\r\\nperfect\\r\\n,\\r\\nbut\\r\\nits\\r\\napplication\\r\\nshould\\r\\nbe\\r\\njust\\r\\n-\\r\\nthis\\r\\nis\\r\\nwhat\\r\\nwe\\r\\nare\\r\\nmissing\\r\\n,\\r\\nin\\r\\nmy\\r\\nopinion\\r\\n.\\r\\n<EOS>\\r\\n<pad>\\r\\nFigure 4: Two attention heads, also in layer 5 of 6, apparently involved in anaphora resolution. Top:\\r\\nFull attentions for head 5. Bottom: Isolated attentions from just the word ‘its’ for attention heads 5\\r\\nand 6. Note that the attentions are very sharp for this word.\\r\\n14\\n'),\n",
              " Document(metadata={'source': '/content/drive/MyDrive/GENAI-LLM/Langchain/attention is all you need.pdf', 'page': 14}, page_content='Input-Input Layer5 The Law will never beperfect\\r\\n,\\r\\nbut\\r\\nitsapplication\\r\\nshould\\r\\nbe\\r\\njust\\r\\n-this\\r\\nis\\r\\nwhat\\r\\nwe\\r\\nare\\r\\nmissing\\r\\n,\\r\\nin\\r\\nmy\\r\\nopinion\\r\\n.\\r\\n<EOS>\\r\\n<pad>\\r\\nThe\\r\\nLaw\\r\\nwill\\r\\nnever\\r\\nbe\\r\\nperfect\\r\\n,\\r\\nbut\\r\\nits\\r\\napplication\\r\\nshould\\r\\nbe\\r\\njust\\r\\n-\\r\\nthis\\r\\nis\\r\\nwhat\\r\\nwe\\r\\nare\\r\\nmissing\\r\\n,\\r\\nin\\r\\nmy\\r\\nopinion\\r\\n.\\r\\n<EOS>\\r\\n<pad>\\r\\nInput-Input Layer5 The Law will never beperfect\\r\\n,\\r\\nbut\\r\\nitsapplication\\r\\nshould\\r\\nbe\\r\\njust\\r\\n-this\\r\\nis\\r\\nwhat\\r\\nwe\\r\\nare\\r\\nmissing\\r\\n,\\r\\nin\\r\\nmy\\r\\nopinion\\r\\n.\\r\\n<EOS>\\r\\n<pad>\\r\\nThe\\r\\nLaw\\r\\nwill\\r\\nnever\\r\\nbe\\r\\nperfect\\r\\n,\\r\\nbut\\r\\nits\\r\\napplication\\r\\nshould\\r\\nbe\\r\\njust\\r\\n-\\r\\nthis\\r\\nis\\r\\nwhat\\r\\nwe\\r\\nare\\r\\nmissing\\r\\n,\\r\\nin\\r\\nmy\\r\\nopinion\\r\\n.\\r\\n<EOS>\\r\\n<pad>\\r\\nFigure 5: Many of the attention heads exhibit behaviour that seems related to the structure of the\\r\\nsentence. We give two such examples above, from two different heads from the encoder self-attention\\r\\nat layer 5 of 6. The heads clearly learned to perform different tasks.\\r\\n15\\n')]"
            ]
          },
          "metadata": {},
          "execution_count": 10
        }
      ]
    },
    {
      "cell_type": "code",
      "source": [
        "pdf[2]"
      ],
      "metadata": {
        "id": "c-Gp87ZcOGoO",
        "colab": {
          "base_uri": "https://localhost:8080/"
        },
        "outputId": "75b8732b-3817-4c3b-f813-e1a92b059358"
      },
      "execution_count": 11,
      "outputs": [
        {
          "output_type": "execute_result",
          "data": {
            "text/plain": [
              "Document(metadata={'source': '/content/drive/MyDrive/GENAI-LLM/Langchain/attention is all you need.pdf', 'page': 2}, page_content='Figure 1: The Transformer - model architecture.\\r\\nThe Transformer follows this overall architecture using stacked self-attention and point-wise, fully\\r\\nconnected layers for both the encoder and decoder, shown in the left and right halves of Figure 1,\\r\\nrespectively.\\r\\n3.1 Encoder and Decoder Stacks\\r\\nEncoder: The encoder is composed of a stack of N = 6 identical layers. Each layer has two\\r\\nsub-layers. The first is a multi-head self-attention mechanism, and the second is a simple, position\\x02wise fully connected feed-forward network. We employ a residual connection [11] around each of\\r\\nthe two sub-layers, followed by layer normalization [1]. That is, the output of each sub-layer is\\r\\nLayerNorm(x + Sublayer(x)), where Sublayer(x) is the function implemented by the sub-layer\\r\\nitself. To facilitate these residual connections, all sub-layers in the model, as well as the embedding\\r\\nlayers, produce outputs of dimension dmodel = 512.\\r\\nDecoder: The decoder is also composed of a stack of N = 6 identical layers. In addition to the two\\r\\nsub-layers in each encoder layer, the decoder inserts a third sub-layer, which performs multi-head\\r\\nattention over the output of the encoder stack. Similar to the encoder, we employ residual connections\\r\\naround each of the sub-layers, followed by layer normalization. We also modify the self-attention\\r\\nsub-layer in the decoder stack to prevent positions from attending to subsequent positions. This\\r\\nmasking, combined with fact that the output embeddings are offset by one position, ensures that the\\r\\npredictions for position i can depend only on the known outputs at positions less than i.\\r\\n3.2 Attention\\r\\nAn attention function can be described as mapping a query and a set of key-value pairs to an output,\\r\\nwhere the query, keys, values, and output are all vectors. The output is computed as a weighted sum\\r\\n3\\n')"
            ]
          },
          "metadata": {},
          "execution_count": 11
        }
      ]
    },
    {
      "cell_type": "markdown",
      "source": [
        "## Document/Text Splitter"
      ],
      "metadata": {
        "id": "_b8LNqMVOH3N"
      }
    },
    {
      "cell_type": "code",
      "source": [
        "from langchain.text_splitter import RecursiveCharacterTextSplitter, CharacterTextSplitter\n",
        "\n",
        "\n",
        "def chunk_data(docs, chunk_size=800, chunk_overlap=200):\n",
        "    text_splitter=RecursiveCharacterTextSplitter(chunk_size=chunk_size,\n",
        "                                                 chunk_overlap=chunk_overlap)\n",
        "    pdf=text_splitter.split_documents(docs)\n",
        "    return pdf\n",
        "\n",
        "# This code splits documents into chunks using the RecursiveCharacterTextSplitter class from the langchain library.\n",
        "\n",
        "# A function named chunk_data is defined, which takes a document or a collection of documents (docs) as input. It also takes two parameters:\n",
        "# chunk_size and chunk_overlap. chunk_size specifies the maximum number of characters in each chunk, while chunk_overlap determines the amount of\n",
        "# overlap between consecutive chunks.\n",
        "\n",
        "# The function divides the documents into chunks based on these parameters using the RecursiveCharacterTextSplitter class. Consequently, each chunk\n",
        "# contains chunk_size characters, with an overlap of chunk_overlap characters between consecutive chunks.\n",
        "\n",
        "# As a result, the documents are segmented into chunks of specified sizes, and these chunks are returned.\n",
        "\n",
        "# The chunk_overlap parameter is used to specify the sharing of characters between consecutive chunks. In other words, it ensures that the characters at\n",
        "# the end of one chunk reappear at the beginning of the next chunk. This prevents the loss of information when the text is segmented or divided and\n",
        "# helps preserve a certain context. Especially, overlap can be used to maintain important contextual relationships within a specific text and sustain\n",
        "# meaning across chunks."
      ],
      "metadata": {
        "id": "nnQvcywhfUuY"
      },
      "execution_count": 10,
      "outputs": []
    },
    {
      "cell_type": "code",
      "source": [
        "pdf_doc=chunk_data(docs=pdf)\n",
        "len(pdf_doc)\n",
        "\n",
        "# divided into 71 pieces"
      ],
      "metadata": {
        "colab": {
          "base_uri": "https://localhost:8080/"
        },
        "id": "vNWSvgC-fsNB",
        "outputId": "45e94974-4bc4-46b2-e250-248ab17bccae"
      },
      "execution_count": 11,
      "outputs": [
        {
          "output_type": "execute_result",
          "data": {
            "text/plain": [
              "71"
            ]
          },
          "metadata": {},
          "execution_count": 11
        }
      ]
    },
    {
      "cell_type": "code",
      "source": [
        "pdf_doc[25:27]\n",
        "\n",
        "# Parts 25 and 26.\n",
        "# As you can see, the last 200 characters of the 25th piece and the first 200 characters of the 26th piece are the same."
      ],
      "metadata": {
        "colab": {
          "base_uri": "https://localhost:8080/"
        },
        "id": "pdtnb8WY4CQy",
        "outputId": "e2a81d77-2fe1-4554-bc5e-dafb9c1ec29a"
      },
      "execution_count": 14,
      "outputs": [
        {
          "output_type": "execute_result",
          "data": {
            "text/plain": [
              "[Document(metadata={'source': '/content/drive/MyDrive/GENAI-LLM/Langchain/attention is all you need.pdf', 'page': 5}, page_content='Table 1: Maximum path lengths, per-layer complexity and minimum number of sequential operations\\r\\nfor different layer types. n is the sequence length, d is the representation dimension, k is the kernel\\r\\nsize of convolutions and r the size of the neighborhood in restricted self-attention.\\r\\nLayer Type Complexity per Layer Sequential Maximum Path Length\\r\\nOperations\\r\\nSelf-Attention O(n\\r\\n2\\r\\n· d) O(1) O(1)\\r\\nRecurrent O(n · d\\r\\n2\\r\\n) O(n) O(n)\\r\\nConvolutional O(k · n · d\\r\\n2\\r\\n) O(1) O(logk(n))\\r\\nSelf-Attention (restricted) O(r · n · d) O(1) O(n/r)\\r\\n3.5 Positional Encoding\\r\\nSince our model contains no recurrence and no convolution, in order for the model to make use of the\\r\\norder of the sequence, we must inject some information about the relative or absolute position of the'),\n",
              " Document(metadata={'source': '/content/drive/MyDrive/GENAI-LLM/Langchain/attention is all you need.pdf', 'page': 5}, page_content='order of the sequence, we must inject some information about the relative or absolute position of the\\r\\ntokens in the sequence. To this end, we add \"positional encodings\" to the input embeddings at the\\r\\nbottoms of the encoder and decoder stacks. The positional encodings have the same dimension dmodel\\r\\nas the embeddings, so that the two can be summed. There are many choices of positional encodings,\\r\\nlearned and fixed [9].\\r\\nIn this work, we use sine and cosine functions of different frequencies:\\r\\nP E(pos,2i) = sin(pos/100002i/dmodel)\\r\\nP E(pos,2i+1) = cos(pos/100002i/dmodel)\\r\\nwhere pos is the position and i is the dimension. That is, each dimension of the positional encoding\\r\\ncorresponds to a sinusoid. The wavelengths form a geometric progression from 2π to 10000 · 2π. We')]"
            ]
          },
          "metadata": {},
          "execution_count": 14
        }
      ]
    },
    {
      "cell_type": "markdown",
      "source": [
        "## Embeddings of Each Part of The Split Document/Text"
      ],
      "metadata": {
        "id": "UdCaefvbR3yl"
      }
    },
    {
      "cell_type": "code",
      "source": [
        "import os\n",
        "from google.colab import userdata\n",
        "os.environ['OPENAI_API_KEY']=userdata.get('openai_key')"
      ],
      "metadata": {
        "id": "Sx_jPfTg-0bq"
      },
      "execution_count": 12,
      "outputs": []
    },
    {
      "cell_type": "markdown",
      "source": [
        "The MTEB score is a metric used to assess the comprehensibility of a text. The average MTEB score of an embedding model indicates how effectively the model can enhance the comprehensibility of texts overall. A higher average MTEB score suggests that the embedding model contributes to better comprehensibility of texts, whereas a lower average MTEB score may indicate that the model produces less effective or less comprehensible embedding vectors.\n",
        "\n",
        "Therefore, the average MTEB score of an embedding model can be an important metric used to evaluate the comprehensibility of texts and assess the performance of the model."
      ],
      "metadata": {
        "id": "HQDd6jeNrn2I"
      }
    },
    {
      "cell_type": "markdown",
      "source": [
        "![image.png](data:image/png;base64,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)"
      ],
      "metadata": {
        "id": "-vFWL1P-VIi0"
      }
    },
    {
      "cell_type": "code",
      "source": [
        "from langchain_openai import OpenAIEmbeddings\n",
        "\n",
        "embeddings=OpenAIEmbeddings(model=\"text-embedding-3-large\",\n",
        "                            dimensions=3072) #dimensions=256, 1024, 3072\n",
        "embeddings\n",
        "\n",
        "# As the embedding model, we use Openai's latest introduced text-embedding-3-large model.\n",
        "# dimensions of text-embedding-3-large are 256, 1024 and 3072\n",
        "# dimensions of text-embedding-3-small are 512 and 1536\n",
        "# dimension of text-embedding-ada-002 is only 1536"
      ],
      "metadata": {
        "colab": {
          "base_uri": "https://localhost:8080/"
        },
        "id": "8D8cVq1OlN3Y",
        "outputId": "8c1430e9-852b-47f7-ad6c-95aa397496a2"
      },
      "execution_count": 13,
      "outputs": [
        {
          "output_type": "execute_result",
          "data": {
            "text/plain": [
              "OpenAIEmbeddings(client=<openai.resources.embeddings.Embeddings object at 0x791a4b4cdd50>, async_client=<openai.resources.embeddings.AsyncEmbeddings object at 0x791a4b0d02e0>, model='text-embedding-3-large', dimensions=3072, deployment='text-embedding-ada-002', openai_api_version='', openai_api_base=None, openai_api_type='', openai_proxy='', embedding_ctx_length=8191, openai_api_key=SecretStr('**********'), openai_organization=None, allowed_special=None, disallowed_special=None, chunk_size=1000, max_retries=2, request_timeout=None, headers=None, tiktoken_enabled=True, tiktoken_model_name=None, show_progress_bar=False, model_kwargs={}, skip_empty=False, default_headers=None, default_query=None, retry_min_seconds=4, retry_max_seconds=20, http_client=None, http_async_client=None, check_embedding_ctx_length=True)"
            ]
          },
          "metadata": {},
          "execution_count": 13
        }
      ]
    },
    {
      "cell_type": "code",
      "source": [
        "text = \"This is a test document.\""
      ],
      "metadata": {
        "id": "J3eRwj5A__FH"
      },
      "execution_count": 18,
      "outputs": []
    },
    {
      "cell_type": "code",
      "source": [
        "doc_result = embeddings.embed_documents([text])\n",
        "\n",
        "# We convert the document into embedding vector"
      ],
      "metadata": {
        "id": "xVuD_eRQAA56"
      },
      "execution_count": 19,
      "outputs": []
    },
    {
      "cell_type": "code",
      "source": [
        "doc_result[0][:5]\n",
        "# First 5 elements of 3072 dimensional embedding vector"
      ],
      "metadata": {
        "colab": {
          "base_uri": "https://localhost:8080/"
        },
        "id": "kX9vLnXnADQ-",
        "outputId": "dc9f6ff4-d87b-404e-b3a2-9f0a3052cdd4"
      },
      "execution_count": 19,
      "outputs": [
        {
          "output_type": "execute_result",
          "data": {
            "text/plain": [
              "[-0.014354467391967773,\n",
              " -0.02721329778432846,\n",
              " -0.02002694457769394,\n",
              " 0.05727195367217064,\n",
              " -0.02227040007710457]"
            ]
          },
          "metadata": {},
          "execution_count": 19
        }
      ]
    },
    {
      "cell_type": "code",
      "source": [
        "len(doc_result[0])"
      ],
      "metadata": {
        "colab": {
          "base_uri": "https://localhost:8080/"
        },
        "id": "b-gQ_ugYAMrC",
        "outputId": "d2c4cf67-10a3-4cce-ceb5-e2fa76b61244"
      },
      "execution_count": 20,
      "outputs": [
        {
          "output_type": "execute_result",
          "data": {
            "text/plain": [
              "3072"
            ]
          },
          "metadata": {},
          "execution_count": 20
        }
      ]
    },
    {
      "cell_type": "markdown",
      "source": [
        "## Storing of The Embedding Vectors\n"
      ],
      "metadata": {
        "id": "cw6z8QcwrglU"
      }
    },
    {
      "cell_type": "code",
      "source": [
        "from langchain_chroma import Chroma\n",
        "\n",
        "index=Chroma.from_documents(documents=pdf_doc,\n",
        "                            embedding=embeddings,\n",
        "                            persist_directory=\"/content/drive/MyDrive/GENAI-LLM/Langchain/vectorstore2\") # persist_directory, saves in the directory\n",
        "\n",
        "retriever=index.as_retriever(search_kwargs={\"k\": 4}) # for using agents"
      ],
      "metadata": {
        "id": "zSADp87jvzOO"
      },
      "execution_count": 14,
      "outputs": []
    },
    {
      "cell_type": "code",
      "source": [
        "retriever.invoke(\"What is self-attention?\") #get_relevant_documents"
      ],
      "metadata": {
        "colab": {
          "base_uri": "https://localhost:8080/"
        },
        "id": "yRpKc3w6yn-F",
        "outputId": "45c340ee-a982-49c2-94bf-2c25f39ca297"
      },
      "execution_count": 22,
      "outputs": [
        {
          "output_type": "execute_result",
          "data": {
            "text/plain": [
              "[Document(metadata={'page': 1, 'source': '/content/drive/MyDrive/GENAI-LLM/Langchain/attention is all you need.pdf'}, page_content='it more difficult to learn dependencies between distant positions [12]. In the Transformer this is\\r\\nreduced to a constant number of operations, albeit at the cost of reduced effective resolution due\\r\\nto averaging attention-weighted positions, an effect we counteract with Multi-Head Attention as\\r\\ndescribed in section 3.2.\\r\\nSelf-attention, sometimes called intra-attention is an attention mechanism relating different positions\\r\\nof a single sequence in order to compute a representation of the sequence. Self-attention has been\\r\\nused successfully in a variety of tasks including reading comprehension, abstractive summarization,\\r\\ntextual entailment and learning task-independent sentence representations [4, 27, 28, 22].'),\n",
              " Document(metadata={'page': 4, 'source': '/content/drive/MyDrive/GENAI-LLM/Langchain/attention is all you need.pdf'}, page_content='position in the decoder to attend over all positions in the input sequence. This mimics the\\r\\ntypical encoder-decoder attention mechanisms in sequence-to-sequence models such as\\r\\n[38, 2, 9].\\r\\n• The encoder contains self-attention layers. In a self-attention layer all of the keys, values\\r\\nand queries come from the same place, in this case, the output of the previous layer in the\\r\\nencoder. Each position in the encoder can attend to all positions in the previous layer of the\\r\\nencoder.\\r\\n• Similarly, self-attention layers in the decoder allow each position in the decoder to attend to\\r\\nall positions in the decoder up to and including that position. We need to prevent leftward\\r\\ninformation flow in the decoder to preserve the auto-regressive property. We implement this'),\n",
              " Document(metadata={'page': 5, 'source': '/content/drive/MyDrive/GENAI-LLM/Langchain/attention is all you need.pdf'}, page_content='because it may allow the model to extrapolate to sequence lengths longer than the ones encountered\\r\\nduring training.\\r\\n4 Why Self-Attention\\r\\nIn this section we compare various aspects of self-attention layers to the recurrent and convolu\\x02tional layers commonly used for mapping one variable-length sequence of symbol representations\\r\\n(x1, ..., xn) to another sequence of equal length (z1, ..., zn), with xi, zi ∈ R\\r\\nd\\r\\n, such as a hidden\\r\\nlayer in a typical sequence transduction encoder or decoder. Motivating our use of self-attention we\\r\\nconsider three desiderata.\\r\\nOne is the total computational complexity per layer. Another is the amount of computation that can\\r\\nbe parallelized, as measured by the minimum number of sequential operations required.'),\n",
              " Document(metadata={'page': 3, 'source': '/content/drive/MyDrive/GENAI-LLM/Langchain/attention is all you need.pdf'}, page_content='Scaled Dot-Product Attention Multi-Head Attention\\r\\nFigure 2: (left) Scaled Dot-Product Attention. (right) Multi-Head Attention consists of several\\r\\nattention layers running in parallel.\\r\\nof the values, where the weight assigned to each value is computed by a compatibility function of the\\r\\nquery with the corresponding key.\\r\\n3.2.1 Scaled Dot-Product Attention\\r\\nWe call our particular attention \"Scaled Dot-Product Attention\" (Figure 2). The input consists of\\r\\nqueries and keys of dimension dk, and values of dimension dv. We compute the dot products of the\\r\\nquery with all keys, divide each by √dk, and apply a softmax function to obtain the weights on the\\r\\nvalues.\\r\\nIn practice, we compute the attention function on a set of queries simultaneously, packed together')]"
            ]
          },
          "metadata": {},
          "execution_count": 22
        }
      ]
    },
    {
      "cell_type": "code",
      "source": [
        "retriever2 =index.as_retriever(\n",
        "    search_type=\"similarity_score_threshold\", search_kwargs={\"score_threshold\": 0.5}\n",
        ")"
      ],
      "metadata": {
        "id": "WeFVTdPZ0voj"
      },
      "execution_count": 15,
      "outputs": []
    },
    {
      "cell_type": "code",
      "source": [
        "retriever2.invoke(\"What is self-attention?\")"
      ],
      "metadata": {
        "colab": {
          "base_uri": "https://localhost:8080/"
        },
        "id": "ZfsUCOJn0iuG",
        "outputId": "0d868c4b-a397-4fed-9879-f4590d5d3fd4"
      },
      "execution_count": 24,
      "outputs": [
        {
          "output_type": "execute_result",
          "data": {
            "text/plain": [
              "[Document(metadata={'page': 1, 'source': '/content/drive/MyDrive/GENAI-LLM/Langchain/attention is all you need.pdf'}, page_content='it more difficult to learn dependencies between distant positions [12]. In the Transformer this is\\r\\nreduced to a constant number of operations, albeit at the cost of reduced effective resolution due\\r\\nto averaging attention-weighted positions, an effect we counteract with Multi-Head Attention as\\r\\ndescribed in section 3.2.\\r\\nSelf-attention, sometimes called intra-attention is an attention mechanism relating different positions\\r\\nof a single sequence in order to compute a representation of the sequence. Self-attention has been\\r\\nused successfully in a variety of tasks including reading comprehension, abstractive summarization,\\r\\ntextual entailment and learning task-independent sentence representations [4, 27, 28, 22].')]"
            ]
          },
          "metadata": {},
          "execution_count": 24
        }
      ]
    },
    {
      "cell_type": "markdown",
      "source": [
        "# Load Vectorstore(index)"
      ],
      "metadata": {
        "id": "t9yE4gR207pO"
      }
    },
    {
      "cell_type": "code",
      "source": [
        "loaded_index=Chroma(persist_directory=\"/content/drive/MyDrive/GENAI-LLM/Langchain/vectorstore2\",\n",
        "                    embedding_function=embeddings)"
      ],
      "metadata": {
        "id": "AtsVCWmEyeFW"
      },
      "execution_count": 16,
      "outputs": []
    },
    {
      "cell_type": "markdown",
      "source": [
        "## Retrieval"
      ],
      "metadata": {
        "id": "JB7LK4Q9sKWm"
      }
    },
    {
      "cell_type": "code",
      "source": [
        "our_query = \"What is self-attention?\"\n",
        "matching_results=index.similarity_search(our_query,k=7) #loaded_index\n",
        "matching_results\n",
        "\n",
        "# The query we ask is first converted into an embedding vector. Then, using the cosine similarity metric, the similarity scores between this vector\n",
        "# and the embedding vectors in the vector store are calculated and sorted. The top 4 most similar texts are returned"
      ],
      "metadata": {
        "id": "O0YMjtCWGA3O",
        "colab": {
          "base_uri": "https://localhost:8080/"
        },
        "outputId": "47c4fa14-23c4-46ed-87a2-ddc652c85230"
      },
      "execution_count": 22,
      "outputs": [
        {
          "output_type": "execute_result",
          "data": {
            "text/plain": [
              "[Document(metadata={'page': 1, 'source': '/content/drive/MyDrive/GENAI-LLM/Langchain/attention is all you need.pdf'}, page_content='it more difficult to learn dependencies between distant positions [12]. In the Transformer this is\\r\\nreduced to a constant number of operations, albeit at the cost of reduced effective resolution due\\r\\nto averaging attention-weighted positions, an effect we counteract with Multi-Head Attention as\\r\\ndescribed in section 3.2.\\r\\nSelf-attention, sometimes called intra-attention is an attention mechanism relating different positions\\r\\nof a single sequence in order to compute a representation of the sequence. Self-attention has been\\r\\nused successfully in a variety of tasks including reading comprehension, abstractive summarization,\\r\\ntextual entailment and learning task-independent sentence representations [4, 27, 28, 22].'),\n",
              " Document(metadata={'page': 1, 'source': '/content/drive/MyDrive/GENAI-LLM/Langchain/attention is all you need.pdf'}, page_content='it more difficult to learn dependencies between distant positions [12]. In the Transformer this is\\r\\nreduced to a constant number of operations, albeit at the cost of reduced effective resolution due\\r\\nto averaging attention-weighted positions, an effect we counteract with Multi-Head Attention as\\r\\ndescribed in section 3.2.\\r\\nSelf-attention, sometimes called intra-attention is an attention mechanism relating different positions\\r\\nof a single sequence in order to compute a representation of the sequence. Self-attention has been\\r\\nused successfully in a variety of tasks including reading comprehension, abstractive summarization,\\r\\ntextual entailment and learning task-independent sentence representations [4, 27, 28, 22].'),\n",
              " Document(metadata={'page': 4, 'source': '/content/drive/MyDrive/GENAI-LLM/Langchain/attention is all you need.pdf'}, page_content='position in the decoder to attend over all positions in the input sequence. This mimics the\\r\\ntypical encoder-decoder attention mechanisms in sequence-to-sequence models such as\\r\\n[38, 2, 9].\\r\\n• The encoder contains self-attention layers. In a self-attention layer all of the keys, values\\r\\nand queries come from the same place, in this case, the output of the previous layer in the\\r\\nencoder. Each position in the encoder can attend to all positions in the previous layer of the\\r\\nencoder.\\r\\n• Similarly, self-attention layers in the decoder allow each position in the decoder to attend to\\r\\nall positions in the decoder up to and including that position. We need to prevent leftward\\r\\ninformation flow in the decoder to preserve the auto-regressive property. We implement this'),\n",
              " Document(metadata={'page': 4, 'source': '/content/drive/MyDrive/GENAI-LLM/Langchain/attention is all you need.pdf'}, page_content='position in the decoder to attend over all positions in the input sequence. This mimics the\\r\\ntypical encoder-decoder attention mechanisms in sequence-to-sequence models such as\\r\\n[38, 2, 9].\\r\\n• The encoder contains self-attention layers. In a self-attention layer all of the keys, values\\r\\nand queries come from the same place, in this case, the output of the previous layer in the\\r\\nencoder. Each position in the encoder can attend to all positions in the previous layer of the\\r\\nencoder.\\r\\n• Similarly, self-attention layers in the decoder allow each position in the decoder to attend to\\r\\nall positions in the decoder up to and including that position. We need to prevent leftward\\r\\ninformation flow in the decoder to preserve the auto-regressive property. We implement this'),\n",
              " Document(metadata={'page': 5, 'source': '/content/drive/MyDrive/GENAI-LLM/Langchain/attention is all you need.pdf'}, page_content='because it may allow the model to extrapolate to sequence lengths longer than the ones encountered\\r\\nduring training.\\r\\n4 Why Self-Attention\\r\\nIn this section we compare various aspects of self-attention layers to the recurrent and convolu\\x02tional layers commonly used for mapping one variable-length sequence of symbol representations\\r\\n(x1, ..., xn) to another sequence of equal length (z1, ..., zn), with xi, zi ∈ R\\r\\nd\\r\\n, such as a hidden\\r\\nlayer in a typical sequence transduction encoder or decoder. Motivating our use of self-attention we\\r\\nconsider three desiderata.\\r\\nOne is the total computational complexity per layer. Another is the amount of computation that can\\r\\nbe parallelized, as measured by the minimum number of sequential operations required.'),\n",
              " Document(metadata={'page': 5, 'source': '/content/drive/MyDrive/GENAI-LLM/Langchain/attention is all you need.pdf'}, page_content='because it may allow the model to extrapolate to sequence lengths longer than the ones encountered\\r\\nduring training.\\r\\n4 Why Self-Attention\\r\\nIn this section we compare various aspects of self-attention layers to the recurrent and convolu\\x02tional layers commonly used for mapping one variable-length sequence of symbol representations\\r\\n(x1, ..., xn) to another sequence of equal length (z1, ..., zn), with xi, zi ∈ R\\r\\nd\\r\\n, such as a hidden\\r\\nlayer in a typical sequence transduction encoder or decoder. Motivating our use of self-attention we\\r\\nconsider three desiderata.\\r\\nOne is the total computational complexity per layer. Another is the amount of computation that can\\r\\nbe parallelized, as measured by the minimum number of sequential operations required.'),\n",
              " Document(metadata={'page': 3, 'source': '/content/drive/MyDrive/GENAI-LLM/Langchain/attention is all you need.pdf'}, page_content='Scaled Dot-Product Attention Multi-Head Attention\\r\\nFigure 2: (left) Scaled Dot-Product Attention. (right) Multi-Head Attention consists of several\\r\\nattention layers running in parallel.\\r\\nof the values, where the weight assigned to each value is computed by a compatibility function of the\\r\\nquery with the corresponding key.\\r\\n3.2.1 Scaled Dot-Product Attention\\r\\nWe call our particular attention \"Scaled Dot-Product Attention\" (Figure 2). The input consists of\\r\\nqueries and keys of dimension dk, and values of dimension dv. We compute the dot products of the\\r\\nquery with all keys, divide each by √dk, and apply a softmax function to obtain the weights on the\\r\\nvalues.\\r\\nIn practice, we compute the attention function on a set of queries simultaneously, packed together')]"
            ]
          },
          "metadata": {},
          "execution_count": 22
        }
      ]
    },
    {
      "cell_type": "markdown",
      "source": [
        "### Checking whether documents are related to the question"
      ],
      "metadata": {
        "id": "PwFq0cEJRKsW"
      }
    },
    {
      "cell_type": "code",
      "source": [
        "from langchain_core.output_parsers import StrOutputParser\n",
        "from typing import Literal\n",
        "\n",
        "from langchain_core.prompts import ChatPromptTemplate\n",
        "from langchain_core.pydantic_v1 import BaseModel, Field\n",
        "from langchain_openai import ChatOpenAI\n",
        "\n",
        "def retrival_grader_and_get_relevant_retrival(query, index=index, k=7):\n",
        "\n",
        "\n",
        "    class GradeDocuments(BaseModel):\n",
        "        \"\"\"Binary score for relevance check on retrieved documents.\"\"\"\n",
        "\n",
        "        binary_score: str = Field(\n",
        "            description=\"Documents are relevant to the question, 'yes' or 'no'\",\n",
        "            enum=[\"yes\", \"no\"]\n",
        "        )\n",
        "\n",
        "    # Prompt\n",
        "    system = \"\"\"You are a grader assessing relevance of a retrieved document to a user question. \\n\n",
        "        If the document contains keyword(s) or semantic meaning related to the user question, grade it as relevant. \\n\n",
        "        It does not need to be a stringent test. The goal is to filter out erroneous retrievals. \\n\n",
        "        Give a binary score 'yes' or 'no' score to indicate whether the document is relevant to the question.\n",
        "\n",
        "        yes: relevant\n",
        "        no: no relevant\"\"\"\n",
        "\n",
        "    grade_prompt = ChatPromptTemplate.from_messages(\n",
        "        [\n",
        "            (\"system\", system),\n",
        "            (\"human\", \"Retrieved document: \\n\\n {document} \\n\\n User question: {question}\"),\n",
        "        ]\n",
        "    )\n",
        "\n",
        "    # LLM with function call\n",
        "    llm = ChatOpenAI(model=\"gpt-4o-mini\",\n",
        "                    temperature=0,\n",
        "                    top_p=1.0)\n",
        "\n",
        "\n",
        "    retrieval_grader = grade_prompt | llm.with_structured_output(GradeDocuments)\n",
        "\n",
        "    matching_results=index.similarity_search(query,k=k) #loaded_index\n",
        "\n",
        "    new_docs=[]\n",
        "    binary_score_list=[]\n",
        "\n",
        "    for doc in matching_results:\n",
        "      doc_txt=doc.page_content\n",
        "      binary_score=retrieval_grader.invoke({\"question\": query, \"document\": doc_txt})\n",
        "\n",
        "      binary_score_list.append(binary_score.binary_score)\n",
        "      if binary_score.binary_score==\"yes\":\n",
        "        new_docs.append(doc)\n",
        "      else:\n",
        "        continue\n",
        "    return new_docs, binary_score_list"
      ],
      "metadata": {
        "id": "SpSs0oMLRhCH"
      },
      "execution_count": 17,
      "outputs": []
    },
    {
      "cell_type": "code",
      "source": [
        "query = \"What is self-attention?\"\n",
        "new_docs, binary_score_list=retrival_grader_and_get_relevant_retrival(query)\n",
        "display(binary_score_list)"
      ],
      "metadata": {
        "colab": {
          "base_uri": "https://localhost:8080/",
          "height": 35
        },
        "id": "csbhKmIrOKRE",
        "outputId": "45e027b9-9a72-423e-8560-8999afcd91a6"
      },
      "execution_count": 18,
      "outputs": [
        {
          "output_type": "display_data",
          "data": {
            "text/plain": [
              "['yes', 'yes', 'yes', 'yes', 'yes', 'yes', 'yes']"
            ]
          },
          "metadata": {}
        }
      ]
    },
    {
      "cell_type": "code",
      "source": [
        "len(new_docs)"
      ],
      "metadata": {
        "colab": {
          "base_uri": "https://localhost:8080/"
        },
        "id": "4osWchzaVrCQ",
        "outputId": "ac20bd6e-09df-43b0-c4b6-8c24a60ad99c"
      },
      "execution_count": 29,
      "outputs": [
        {
          "output_type": "execute_result",
          "data": {
            "text/plain": [
              "5"
            ]
          },
          "metadata": {},
          "execution_count": 29
        }
      ]
    },
    {
      "cell_type": "code",
      "source": [
        "new_docs"
      ],
      "metadata": {
        "colab": {
          "base_uri": "https://localhost:8080/"
        },
        "id": "XN66Fm3QZAdG",
        "outputId": "a6696428-f6f6-4d4d-bca5-ddaad834435e"
      },
      "execution_count": 30,
      "outputs": [
        {
          "output_type": "execute_result",
          "data": {
            "text/plain": [
              "[Document(metadata={'page': 1, 'source': '/content/drive/MyDrive/GENAI-LLM/Langchain/attention is all you need.pdf'}, page_content='it more difficult to learn dependencies between distant positions [12]. In the Transformer this is\\r\\nreduced to a constant number of operations, albeit at the cost of reduced effective resolution due\\r\\nto averaging attention-weighted positions, an effect we counteract with Multi-Head Attention as\\r\\ndescribed in section 3.2.\\r\\nSelf-attention, sometimes called intra-attention is an attention mechanism relating different positions\\r\\nof a single sequence in order to compute a representation of the sequence. Self-attention has been\\r\\nused successfully in a variety of tasks including reading comprehension, abstractive summarization,\\r\\ntextual entailment and learning task-independent sentence representations [4, 27, 28, 22].'),\n",
              " Document(metadata={'page': 4, 'source': '/content/drive/MyDrive/GENAI-LLM/Langchain/attention is all you need.pdf'}, page_content='position in the decoder to attend over all positions in the input sequence. This mimics the\\r\\ntypical encoder-decoder attention mechanisms in sequence-to-sequence models such as\\r\\n[38, 2, 9].\\r\\n• The encoder contains self-attention layers. In a self-attention layer all of the keys, values\\r\\nand queries come from the same place, in this case, the output of the previous layer in the\\r\\nencoder. Each position in the encoder can attend to all positions in the previous layer of the\\r\\nencoder.\\r\\n• Similarly, self-attention layers in the decoder allow each position in the decoder to attend to\\r\\nall positions in the decoder up to and including that position. We need to prevent leftward\\r\\ninformation flow in the decoder to preserve the auto-regressive property. We implement this'),\n",
              " Document(metadata={'page': 5, 'source': '/content/drive/MyDrive/GENAI-LLM/Langchain/attention is all you need.pdf'}, page_content='because it may allow the model to extrapolate to sequence lengths longer than the ones encountered\\r\\nduring training.\\r\\n4 Why Self-Attention\\r\\nIn this section we compare various aspects of self-attention layers to the recurrent and convolu\\x02tional layers commonly used for mapping one variable-length sequence of symbol representations\\r\\n(x1, ..., xn) to another sequence of equal length (z1, ..., zn), with xi, zi ∈ R\\r\\nd\\r\\n, such as a hidden\\r\\nlayer in a typical sequence transduction encoder or decoder. Motivating our use of self-attention we\\r\\nconsider three desiderata.\\r\\nOne is the total computational complexity per layer. Another is the amount of computation that can\\r\\nbe parallelized, as measured by the minimum number of sequential operations required.'),\n",
              " Document(metadata={'page': 3, 'source': '/content/drive/MyDrive/GENAI-LLM/Langchain/attention is all you need.pdf'}, page_content='Scaled Dot-Product Attention Multi-Head Attention\\r\\nFigure 2: (left) Scaled Dot-Product Attention. (right) Multi-Head Attention consists of several\\r\\nattention layers running in parallel.\\r\\nof the values, where the weight assigned to each value is computed by a compatibility function of the\\r\\nquery with the corresponding key.\\r\\n3.2.1 Scaled Dot-Product Attention\\r\\nWe call our particular attention \"Scaled Dot-Product Attention\" (Figure 2). The input consists of\\r\\nqueries and keys of dimension dk, and values of dimension dv. We compute the dot products of the\\r\\nquery with all keys, divide each by √dk, and apply a softmax function to obtain the weights on the\\r\\nvalues.\\r\\nIn practice, we compute the attention function on a set of queries simultaneously, packed together'),\n",
              " Document(metadata={'page': 2, 'source': '/content/drive/MyDrive/GENAI-LLM/Langchain/attention is all you need.pdf'}, page_content='around each of the sub-layers, followed by layer normalization. We also modify the self-attention\\r\\nsub-layer in the decoder stack to prevent positions from attending to subsequent positions. This\\r\\nmasking, combined with fact that the output embeddings are offset by one position, ensures that the\\r\\npredictions for position i can depend only on the known outputs at positions less than i.\\r\\n3.2 Attention\\r\\nAn attention function can be described as mapping a query and a set of key-value pairs to an output,\\r\\nwhere the query, keys, values, and output are all vectors. The output is computed as a weighted sum\\r\\n3')]"
            ]
          },
          "metadata": {},
          "execution_count": 30
        }
      ]
    },
    {
      "cell_type": "markdown",
      "source": [
        "## Generating an Answer Based on Similar Embeddings Vectors"
      ],
      "metadata": {
        "id": "b6RYFS13wjNV"
      }
    },
    {
      "cell_type": "code",
      "source": [
        "from langchain_openai import OpenAI, ChatOpenAI\n",
        "from langchain.chains.question_answering import load_qa_chain\n",
        "import textwrap"
      ],
      "metadata": {
        "id": "nPG1Jv4wsYvw"
      },
      "execution_count": 19,
      "outputs": []
    },
    {
      "cell_type": "code",
      "source": [
        "llm=ChatOpenAI(model_name=\"gpt-4o-mini\",\n",
        "               temperature=0)\n",
        "chain=load_qa_chain(llm)"
      ],
      "metadata": {
        "id": "AtxlLpEqywdB"
      },
      "execution_count": 20,
      "outputs": []
    },
    {
      "cell_type": "code",
      "source": [
        "print(chain.llm_chain.prompt.messages[0].prompt.template)"
      ],
      "metadata": {
        "colab": {
          "base_uri": "https://localhost:8080/"
        },
        "id": "0nX2wjBny8e6",
        "outputId": "c6a69bc6-98d8-485f-f33d-e1e914b90e30"
      },
      "execution_count": 33,
      "outputs": [
        {
          "output_type": "stream",
          "name": "stdout",
          "text": [
            "Use the following pieces of context to answer the user's question. \n",
            "If you don't know the answer, just say that you don't know, don't try to make up an answer.\n",
            "----------------\n",
            "{context}\n"
          ]
        }
      ]
    },
    {
      "cell_type": "code",
      "source": [
        "our_query = \"What is self-attention?\"\n",
        "\n",
        "new_docs, _ =retrival_grader_and_get_relevant_retrival(our_query) # first four most similar texts are returned\n",
        "new_docs"
      ],
      "metadata": {
        "colab": {
          "base_uri": "https://localhost:8080/"
        },
        "id": "5ODA4e_r1Cli",
        "outputId": "da028a9d-29f8-4ab6-f0f8-980c015245cf"
      },
      "execution_count": 21,
      "outputs": [
        {
          "output_type": "execute_result",
          "data": {
            "text/plain": [
              "[Document(metadata={'page': 1, 'source': '/content/drive/MyDrive/GENAI-LLM/Langchain/attention is all you need.pdf'}, page_content='it more difficult to learn dependencies between distant positions [12]. In the Transformer this is\\r\\nreduced to a constant number of operations, albeit at the cost of reduced effective resolution due\\r\\nto averaging attention-weighted positions, an effect we counteract with Multi-Head Attention as\\r\\ndescribed in section 3.2.\\r\\nSelf-attention, sometimes called intra-attention is an attention mechanism relating different positions\\r\\nof a single sequence in order to compute a representation of the sequence. Self-attention has been\\r\\nused successfully in a variety of tasks including reading comprehension, abstractive summarization,\\r\\ntextual entailment and learning task-independent sentence representations [4, 27, 28, 22].'),\n",
              " Document(metadata={'page': 1, 'source': '/content/drive/MyDrive/GENAI-LLM/Langchain/attention is all you need.pdf'}, page_content='it more difficult to learn dependencies between distant positions [12]. In the Transformer this is\\r\\nreduced to a constant number of operations, albeit at the cost of reduced effective resolution due\\r\\nto averaging attention-weighted positions, an effect we counteract with Multi-Head Attention as\\r\\ndescribed in section 3.2.\\r\\nSelf-attention, sometimes called intra-attention is an attention mechanism relating different positions\\r\\nof a single sequence in order to compute a representation of the sequence. Self-attention has been\\r\\nused successfully in a variety of tasks including reading comprehension, abstractive summarization,\\r\\ntextual entailment and learning task-independent sentence representations [4, 27, 28, 22].'),\n",
              " Document(metadata={'page': 1, 'source': '/content/drive/MyDrive/GENAI-LLM/Langchain/attention is all you need.pdf'}, page_content='it more difficult to learn dependencies between distant positions [12]. In the Transformer this is\\r\\nreduced to a constant number of operations, albeit at the cost of reduced effective resolution due\\r\\nto averaging attention-weighted positions, an effect we counteract with Multi-Head Attention as\\r\\ndescribed in section 3.2.\\r\\nSelf-attention, sometimes called intra-attention is an attention mechanism relating different positions\\r\\nof a single sequence in order to compute a representation of the sequence. Self-attention has been\\r\\nused successfully in a variety of tasks including reading comprehension, abstractive summarization,\\r\\ntextual entailment and learning task-independent sentence representations [4, 27, 28, 22].'),\n",
              " Document(metadata={'page': 4, 'source': '/content/drive/MyDrive/GENAI-LLM/Langchain/attention is all you need.pdf'}, page_content='position in the decoder to attend over all positions in the input sequence. This mimics the\\r\\ntypical encoder-decoder attention mechanisms in sequence-to-sequence models such as\\r\\n[38, 2, 9].\\r\\n• The encoder contains self-attention layers. In a self-attention layer all of the keys, values\\r\\nand queries come from the same place, in this case, the output of the previous layer in the\\r\\nencoder. Each position in the encoder can attend to all positions in the previous layer of the\\r\\nencoder.\\r\\n• Similarly, self-attention layers in the decoder allow each position in the decoder to attend to\\r\\nall positions in the decoder up to and including that position. We need to prevent leftward\\r\\ninformation flow in the decoder to preserve the auto-regressive property. We implement this'),\n",
              " Document(metadata={'page': 4, 'source': '/content/drive/MyDrive/GENAI-LLM/Langchain/attention is all you need.pdf'}, page_content='position in the decoder to attend over all positions in the input sequence. This mimics the\\r\\ntypical encoder-decoder attention mechanisms in sequence-to-sequence models such as\\r\\n[38, 2, 9].\\r\\n• The encoder contains self-attention layers. In a self-attention layer all of the keys, values\\r\\nand queries come from the same place, in this case, the output of the previous layer in the\\r\\nencoder. Each position in the encoder can attend to all positions in the previous layer of the\\r\\nencoder.\\r\\n• Similarly, self-attention layers in the decoder allow each position in the decoder to attend to\\r\\nall positions in the decoder up to and including that position. We need to prevent leftward\\r\\ninformation flow in the decoder to preserve the auto-regressive property. We implement this'),\n",
              " Document(metadata={'page': 4, 'source': '/content/drive/MyDrive/GENAI-LLM/Langchain/attention is all you need.pdf'}, page_content='position in the decoder to attend over all positions in the input sequence. This mimics the\\r\\ntypical encoder-decoder attention mechanisms in sequence-to-sequence models such as\\r\\n[38, 2, 9].\\r\\n• The encoder contains self-attention layers. In a self-attention layer all of the keys, values\\r\\nand queries come from the same place, in this case, the output of the previous layer in the\\r\\nencoder. Each position in the encoder can attend to all positions in the previous layer of the\\r\\nencoder.\\r\\n• Similarly, self-attention layers in the decoder allow each position in the decoder to attend to\\r\\nall positions in the decoder up to and including that position. We need to prevent leftward\\r\\ninformation flow in the decoder to preserve the auto-regressive property. We implement this'),\n",
              " Document(metadata={'page': 5, 'source': '/content/drive/MyDrive/GENAI-LLM/Langchain/attention is all you need.pdf'}, page_content='because it may allow the model to extrapolate to sequence lengths longer than the ones encountered\\r\\nduring training.\\r\\n4 Why Self-Attention\\r\\nIn this section we compare various aspects of self-attention layers to the recurrent and convolu\\x02tional layers commonly used for mapping one variable-length sequence of symbol representations\\r\\n(x1, ..., xn) to another sequence of equal length (z1, ..., zn), with xi, zi ∈ R\\r\\nd\\r\\n, such as a hidden\\r\\nlayer in a typical sequence transduction encoder or decoder. Motivating our use of self-attention we\\r\\nconsider three desiderata.\\r\\nOne is the total computational complexity per layer. Another is the amount of computation that can\\r\\nbe parallelized, as measured by the minimum number of sequential operations required.')]"
            ]
          },
          "metadata": {},
          "execution_count": 21
        }
      ]
    },
    {
      "cell_type": "code",
      "source": [
        "output= chain.invoke(input={\"input_documents\":new_docs, \"question\":our_query})\n",
        "output[\"output_text\"]"
      ],
      "metadata": {
        "colab": {
          "base_uri": "https://localhost:8080/",
          "height": 73
        },
        "id": "XjFYrvJe3ULY",
        "outputId": "9710891a-5468-4a82-976a-2829ed025520"
      },
      "execution_count": 22,
      "outputs": [
        {
          "output_type": "execute_result",
          "data": {
            "text/plain": [
              "'Self-attention, sometimes called intra-attention, is an attention mechanism that relates different positions of a single sequence in order to compute a representation of that sequence. It allows each position in the sequence to attend to all other positions, enabling the model to capture dependencies and relationships within the sequence effectively. Self-attention has been successfully used in various tasks, including reading comprehension, abstractive summarization, textual entailment, and learning task-independent sentence representations.'"
            ],
            "application/vnd.google.colaboratory.intrinsic+json": {
              "type": "string"
            }
          },
          "metadata": {},
          "execution_count": 22
        }
      ]
    },
    {
      "cell_type": "markdown",
      "source": [
        "### Checking whether answer of model is related to the new_docs (retrival documents)"
      ],
      "metadata": {
        "id": "M5hNRK-yZWX9"
      }
    },
    {
      "cell_type": "code",
      "source": [
        "def hallucination_grader(documents, generation):\n",
        "    ### Hallucination Grader\n",
        "\n",
        "    # Data model\n",
        "    class GradeHallucinations(BaseModel):\n",
        "        \"\"\"Binary score for hallucination present in generation answer.\"\"\"\n",
        "\n",
        "        binary_score: str = Field(\n",
        "            description=\"Answer is grounded in the facts, 'yes' or 'no'\",\n",
        "            enum=[\"yes\", \"no\"]\n",
        "        )\n",
        "\n",
        "    # Prompt\n",
        "    system = \"\"\"You are a grader assessing whether an LLM generation is grounded in a set of retrieved facts. \\n\n",
        "        Give a binary score 'yes' or 'no'.\n",
        "\n",
        "        'no' means that the answer is grounded in the set of facts.\n",
        "\n",
        "        'yes' means that the answer is not grounded in the set of facts.\"\"\"\n",
        "\n",
        "    hallucination_prompt = ChatPromptTemplate.from_messages(\n",
        "        [\n",
        "            (\"system\", system),\n",
        "            (\"human\", \"Set of facts: \\n\\n {documents} \\n\\n LLM generation: {generation}\"),\n",
        "        ]\n",
        "    )\n",
        "\n",
        "    # LLM with function call\n",
        "    llm = ChatOpenAI(model=\"gpt-4o-mini\",\n",
        "                    temperature=0,\n",
        "                    top_p=1.0)\n",
        "\n",
        "    combined_docs=\"\\n\".join([d.page_content for d in documents])\n",
        "\n",
        "\n",
        "    hallucination_grader = hallucination_prompt | llm.with_structured_output(GradeHallucinations)\n",
        "    hal_gr=hallucination_grader.invoke({\"documents\": combined_docs, \"generation\": generation})\n",
        "    return hal_gr\n",
        "\n"
      ],
      "metadata": {
        "id": "AA30TeyKaRo3"
      },
      "execution_count": 23,
      "outputs": []
    },
    {
      "cell_type": "code",
      "source": [
        "hallucination_grader(new_docs, output[\"output_text\"])"
      ],
      "metadata": {
        "colab": {
          "base_uri": "https://localhost:8080/"
        },
        "id": "MIBPn2weS24U",
        "outputId": "b7908179-2595-4140-8f78-1af3e5daff05"
      },
      "execution_count": 24,
      "outputs": [
        {
          "output_type": "execute_result",
          "data": {
            "text/plain": [
              "GradeHallucinations(binary_score='no')"
            ]
          },
          "metadata": {},
          "execution_count": 24
        }
      ]
    },
    {
      "cell_type": "markdown",
      "source": [
        "### Checking whether answer of model is related to the question"
      ],
      "metadata": {
        "id": "jtRo4EdZcXXX"
      }
    },
    {
      "cell_type": "code",
      "source": [
        "def answer_grader(query, generation):\n",
        "\n",
        "    ### Answer Grader\n",
        "\n",
        "    # Data model\n",
        "    class GradeAnswer(BaseModel):\n",
        "        \"\"\"Binary score to assess answer addresses question.\"\"\"\n",
        "\n",
        "        binary_score: str = Field(\n",
        "            description=\"Answer addresses the question, 'yes' or 'no'\",\n",
        "            enum=[\"yes\", \"no\"]\n",
        "        )\n",
        "\n",
        "\n",
        "    # Prompt\n",
        "    system = \"\"\"You are a grader assessing whether an answer addresses / resolves a question \\n\n",
        "        Give a binary score 'yes' or 'no'.\n",
        "        yes means that the answer resolves the question.\n",
        "        no means that the answer does not resolves the question. \"\"\"\n",
        "\n",
        "    answer_prompt = ChatPromptTemplate.from_messages(\n",
        "        [\n",
        "            (\"system\", system),\n",
        "            (\"human\", \"User question: \\n\\n {question} \\n\\n LLM generation: {generation}\"),\n",
        "        ]\n",
        "    )\n",
        "\n",
        "    # LLM with function call\n",
        "    llm = ChatOpenAI(model=\"gpt-4o-mini\",\n",
        "                    temperature=0,\n",
        "                    top_p=1.0)\n",
        "\n",
        "    answer_grader = answer_prompt | llm.with_structured_output(GradeAnswer)\n",
        "    answer_gr=answer_grader.invoke({\"question\": query , \"generation\": generation})\n",
        "    return answer_gr"
      ],
      "metadata": {
        "id": "v02ivZWJaRce"
      },
      "execution_count": 25,
      "outputs": []
    },
    {
      "cell_type": "code",
      "source": [
        "query"
      ],
      "metadata": {
        "colab": {
          "base_uri": "https://localhost:8080/",
          "height": 36
        },
        "id": "X8Gyfw4_c0ZX",
        "outputId": "aa400cdb-58f9-40aa-c386-ba0071448e98"
      },
      "execution_count": 39,
      "outputs": [
        {
          "output_type": "execute_result",
          "data": {
            "text/plain": [
              "'What is self-attention?'"
            ],
            "application/vnd.google.colaboratory.intrinsic+json": {
              "type": "string"
            }
          },
          "metadata": {},
          "execution_count": 39
        }
      ]
    },
    {
      "cell_type": "code",
      "source": [
        "answer_grader(query, output[\"output_text\"])"
      ],
      "metadata": {
        "colab": {
          "base_uri": "https://localhost:8080/"
        },
        "id": "zaUk48f9cUZ2",
        "outputId": "d7b8b434-a598-498d-8485-d14becac3602"
      },
      "execution_count": 26,
      "outputs": [
        {
          "output_type": "execute_result",
          "data": {
            "text/plain": [
              "GradeAnswer(binary_score='yes')"
            ]
          },
          "metadata": {},
          "execution_count": 26
        }
      ]
    },
    {
      "cell_type": "markdown",
      "source": [
        "#### Rewrite Query (if the answer of model isn't related to the question)"
      ],
      "metadata": {
        "id": "3conKPrMEa1U"
      }
    },
    {
      "cell_type": "code",
      "source": [
        "def rewrite_query(query):\n",
        "\n",
        "    ### Question Re-writer\n",
        "    from langchain_core.output_parsers import StrOutputParser\n",
        "\n",
        "    # LLM\n",
        "    llm = ChatOpenAI(model=\"gpt-4o\",\n",
        "                    temperature=0,\n",
        "                    top_p=1.0)\n",
        "\n",
        "    # Prompt\n",
        "    system = \"\"\"You a question re-writer that converts an input question to a better version that is optimized \\n\n",
        "        for vectorstore retrieval. Look at the input and try to reason about the underlying semantic intent / meaning.\"\"\"\n",
        "    re_write_prompt = ChatPromptTemplate.from_messages(\n",
        "        [\n",
        "            (\"system\", system),\n",
        "            (\n",
        "                \"human\",\n",
        "                \"Here is the initial question: \\n\\n {question} \\n Formulate an improved question.\",\n",
        "            ),\n",
        "        ]\n",
        "    )\n",
        "\n",
        "    question_rewriter = re_write_prompt | llm | StrOutputParser()\n",
        "    return question_rewriter.invoke({\"question\": query})"
      ],
      "metadata": {
        "id": "YoXtDm3bi3KI"
      },
      "execution_count": 27,
      "outputs": []
    },
    {
      "cell_type": "code",
      "source": [
        "query=\"What is self-attention?\"\n",
        "rewrite_query(query)"
      ],
      "metadata": {
        "colab": {
          "base_uri": "https://localhost:8080/",
          "height": 36
        },
        "id": "uVqZWqcMdUGn",
        "outputId": "9908b3f2-cc8b-4dc2-b4f1-b9d9ff739119"
      },
      "execution_count": 27,
      "outputs": [
        {
          "output_type": "execute_result",
          "data": {
            "text/plain": [
              "'What is the concept of self-attention in machine learning and how does it work?'"
            ],
            "application/vnd.google.colaboratory.intrinsic+json": {
              "type": "string"
            }
          },
          "metadata": {},
          "execution_count": 27
        }
      ]
    },
    {
      "cell_type": "code",
      "source": [
        "def rag_chatbot(query, model_name=\"gpt-4o-mini\", k=7):\n",
        "  \"\"\"Search for information about transformers and attention. For any questions about transformers and attention.\n",
        "    For any question about article of 'Attention Is All You Need', you must use this tool!\"\"\"\n",
        "  from langchain_openai import OpenAI, ChatOpenAI\n",
        "  from langchain.chains.question_answering import load_qa_chain\n",
        "\n",
        "  print(\"RAG_CHATBOT\")\n",
        "  new_docs, _=retrival_grader_and_get_relevant_retrival(query, k=k)\n",
        "  llm=ChatOpenAI(model_name=model_name,\n",
        "                 temperature=0.0,\n",
        "                 top_p=1.0)\n",
        "  chain=load_qa_chain(llm)\n",
        "\n",
        "  output= chain.invoke(input={\"input_documents\":new_docs, \"question\":query})\n",
        "\n",
        "  hallucination_gr=hallucination_grader(new_docs, output[\"output_text\"])\n",
        "  a=0\n",
        "  while hallucination_gr.binary_score == \"yes\":\n",
        "    print(\"hallucination detected\")\n",
        "    output = chain.invoke(input={\"input_documents\": new_docs, \"question\": query})\n",
        "    hallucination_gr=hallucination_grader(new_docs, output[\"output_text\"])\n",
        "    if a==3:\n",
        "      print(\"hallucination problem could not be resolved\")\n",
        "      break\n",
        "    a+=1\n",
        "\n",
        "  answer_gr=answer_grader(query, output[\"output_text\"])\n",
        "  b=0\n",
        "  while answer_gr.binary_score == \"no\":\n",
        "    print(\"query is being rebuilt\")\n",
        "    rewritten_query = rewrite_query(query)\n",
        "    new_docs, _ = retrival_grader_and_get_relevant_retrival(rewritten_query, k=k)\n",
        "    output = chain.invoke(input={\"input_documents\": new_docs, \"question\": rewritten_query})\n",
        "    if b==3:\n",
        "      print(\"answer problem could not be resolved\")\n",
        "      break\n",
        "    b+=1\n",
        "\n",
        "    hallucination_gr=hallucination_grader(new_docs, output[\"output_text\"])\n",
        "    c=0\n",
        "    while hallucination_gr.binary_score == \"yes\":\n",
        "      print(\"hallucination detected\")\n",
        "      output = chain.invoke(input={\"input_documents\": new_docs, \"question\": rewritten_query})\n",
        "      hallucination_gr = hallucination_grader(new_docs, output[\"output_text\"])\n",
        "      if c==3:\n",
        "        print(\"hallucination problem could not be resolved\")\n",
        "        break\n",
        "      c+=1\n",
        "\n",
        "    answer_gr=answer_grader(query, output[\"output_text\"])\n",
        "    query = rewritten_query\n",
        "\n",
        "  return output[\"output_text\"]"
      ],
      "metadata": {
        "id": "AsHqzLLhG_cn"
      },
      "execution_count": 28,
      "outputs": []
    },
    {
      "cell_type": "code",
      "source": [
        "our_query = \"What is self-attention?\"\n",
        "rag_chatbot(our_query)"
      ],
      "metadata": {
        "colab": {
          "base_uri": "https://localhost:8080/",
          "height": 91
        },
        "id": "OKVpPpXIG_kX",
        "outputId": "df2dadce-088f-4eee-8fc9-de3f40b7488b"
      },
      "execution_count": 29,
      "outputs": [
        {
          "output_type": "stream",
          "name": "stdout",
          "text": [
            "RAG_CHATBOT\n"
          ]
        },
        {
          "output_type": "execute_result",
          "data": {
            "text/plain": [
              "'Self-attention, sometimes called intra-attention, is an attention mechanism that relates different positions of a single sequence in order to compute a representation of that sequence. It allows the model to weigh the importance of different words or tokens in the sequence when generating a representation, enabling it to capture dependencies and relationships between them effectively. Self-attention has been successfully used in various tasks, including reading comprehension, abstractive summarization, textual entailment, and learning task-independent sentence representations.'"
            ],
            "application/vnd.google.colaboratory.intrinsic+json": {
              "type": "string"
            }
          },
          "metadata": {},
          "execution_count": 29
        }
      ]
    },
    {
      "cell_type": "markdown",
      "source": [
        "## Web Search"
      ],
      "metadata": {
        "id": "7FWNhumhANlm"
      }
    },
    {
      "cell_type": "code",
      "source": [
        "import os\n",
        "from google.colab import userdata\n",
        "\n",
        "os.environ[\"TAVILY_API_KEY\"] = userdata.get('tavily_key')"
      ],
      "metadata": {
        "id": "zIw6LrNNo8Ek"
      },
      "execution_count": 30,
      "outputs": []
    },
    {
      "cell_type": "code",
      "source": [
        "### Search\n",
        "\n",
        "from langchain_community.tools.tavily_search import TavilySearchResults\n",
        "\n",
        "web_search_tool = TavilySearchResults(max_results=1)"
      ],
      "metadata": {
        "id": "tTr4sMp0owJE"
      },
      "execution_count": 31,
      "outputs": []
    },
    {
      "cell_type": "code",
      "source": [
        "web_search_tool.invoke({\"query\": \"What is self-attention?\"})"
      ],
      "metadata": {
        "colab": {
          "base_uri": "https://localhost:8080/"
        },
        "id": "Y9s0GAQXiaan",
        "outputId": "1d13d4b4-0f5d-44b3-81c4-3f264af3ff33"
      },
      "execution_count": 32,
      "outputs": [
        {
          "output_type": "execute_result",
          "data": {
            "text/plain": [
              "[{'url': 'https://armanasq.github.io/nlp/self-attention/',\n",
              "  'content': 'Now, we compute the query, key, and value vectors for each element in $X$:\\nFor the first element $x_1$:\\nFor the second element $x_2$:\\nFor the third element $x_3$:\\nStep 2: Attention Scores\\nNow that we have the query ($q_i$) and key ($k_j$) vectors for each element, we calculate the attention scores between all pairs of elements:\\nContinue this process for all pairs of elements.\\n Step 5: Weighted Sum\\nFinally, we compute the weighted sum of the value vectors using the attention weights:\\nThis weighted sum represents the self-attention output for $x_1$. Repeat this process for $x_2$ and $x_3$ to get the self-attention outputs for all elements in the sequence.\\n One popular method for obtaining sentence embeddings is by averaging the word vectors in the sentence:\\nIn this code, we take a sample sentence and obtain the word embeddings for each word in the sentence using the Word2Vec model we trained earlier. [x_1, x_2, …, x_n]$, where $x_i$ is a vector representing the i-th element in the sequence, we compute the self-attention output $Y$ as follows:\\n$$\\nY = \\\\text{softmax}\\\\left(\\\\frac{QK^T}{\\\\sqrt{d_k}}\\\\right)V\\n$$\\nNow, let’s break down each step with a detailed example.\\n Search\\nUnderstanding Self-Attention - A Step-by-Step Guide\\n⇐ Natural Language Processing\\nUnderstanding Self-Attention - A Step-by-Step Guide\\nSelf-attention is a fundamental concept in natural language processing (NLP) and deep learning, especially prominent in transformer-based models.'}]"
            ]
          },
          "metadata": {},
          "execution_count": 32
        }
      ]
    },
    {
      "cell_type": "code",
      "source": [
        "def web_search(query):\n",
        "    \"\"\"\n",
        "    Web search based on the re-phrased question.\n",
        "\n",
        "    Args:\n",
        "        state (dict): The current graph state\n",
        "\n",
        "    Returns:\n",
        "        state (dict): Updates documents key with appended web results\n",
        "    \"\"\"\n",
        "    from langchain.schema import Document\n",
        "    from langchain_core.output_parsers import StrOutputParser\n",
        "    from langchain_community.tools.tavily_search import TavilySearchResults\n",
        "\n",
        "    web_search_tool = TavilySearchResults(max_results=1)\n",
        "\n",
        "    print(\"WEB SEARCH\")\n",
        "\n",
        "    # Web search\n",
        "    docs = web_search_tool.invoke({\"query\": query})\n",
        "    web_results = \"\\n\".join([d[\"content\"] for d in docs])\n",
        "    web_results = Document(page_content=web_results)\n",
        "\n",
        "    prompt = ChatPromptTemplate.from_template(\n",
        "    \"\"\"You are an assistant for question-answering tasks. Use the following pieces of retrieved context to answer the question.\n",
        "    If you don't know the answer, just say that you don't know. Use three sentences maximum and keep the answer concise.\n",
        "    Question: {question}\n",
        "    Context: {context}\n",
        "    Answer:\"\"\"\n",
        "    )\n",
        "\n",
        "    llm = ChatOpenAI(model=\"gpt-4o-mini\",\n",
        "                     temperature=0.0,\n",
        "                     top_p=1.0)\n",
        "\n",
        "    chain = prompt | llm | StrOutputParser()\n",
        "    answer = chain.invoke({\"context\": web_results, \"question\": query})\n",
        "\n",
        "    return answer"
      ],
      "metadata": {
        "id": "-YCBj0ujaRIH"
      },
      "execution_count": 33,
      "outputs": []
    },
    {
      "cell_type": "code",
      "source": [
        "def router(query):\n",
        "\n",
        "    from typing import Literal\n",
        "\n",
        "    from langchain_core.prompts import ChatPromptTemplate\n",
        "    from langchain_core.pydantic_v1 import BaseModel, Field\n",
        "    from langchain_openai import ChatOpenAI\n",
        "\n",
        "\n",
        "    # Data model\n",
        "    class RouteQuery(BaseModel):\n",
        "        \"\"\"Route a user query to the most relevant datasource.\"\"\"\n",
        "\n",
        "        datasource: Literal[\"vectorstore\", \"web_search\", \"answer_yourself\"] = Field(\n",
        "            description=\"Given a user question choose to route it to web_search or  vectorstore or  answer_yourself.\"\n",
        "        )\n",
        "\n",
        "\n",
        "    # Prompt\n",
        "    system = \"\"\"You are an expert at routing a user question to a answer_yourself or web_search or vectorstore.\n",
        "\n",
        "      - answer_yourself: Use this for questions that a typical large language model (LLM) would be confident in answering. \\\n",
        "      These are generally factual questions about common knowledge topics.\n",
        "      - vectorstore: Use this for any questions specifically related to transformers and attention mechanisms as described \\\n",
        "      in the \"Attention is All You Need\" paper. This includes questions about the architecture, components, or functioning of transformers.\n",
        "      - web_search: Use this for all other questions that don't fit into the above categories, especially if they require \\\n",
        "      specialized knowledge or if an LLM might be uncertain about the answer.\n",
        "\n",
        "\n",
        "    After analyzing the question, make your decision about which of them to use.\"\"\"\n",
        "\n",
        "    route_prompt = ChatPromptTemplate.from_messages(\n",
        "        [\n",
        "            (\"system\", system),\n",
        "            (\"human\", \"{question}\"),\n",
        "        ]\n",
        "    )\n",
        "\n",
        "    # LLM with function call\n",
        "    llm = ChatOpenAI(model=\"gpt-4o-mini\", temperature=0)\n",
        "    question_router = route_prompt | llm.with_structured_output(RouteQuery)\n",
        "    return question_router.invoke({\"question\": query})"
      ],
      "metadata": {
        "id": "vOtsZ3g0_z0-"
      },
      "execution_count": 34,
      "outputs": []
    },
    {
      "cell_type": "code",
      "source": [
        "print(router(\"Who will the Bears draft first in the NFL draft?\"))\n",
        "print(router(\"How to work transformers?\"))\n",
        "print(router(\"Who is the 5th president of USA?\"))"
      ],
      "metadata": {
        "colab": {
          "base_uri": "https://localhost:8080/"
        },
        "id": "tWig3Wdl_z9F",
        "outputId": "0376ce90-24fe-4e7e-bcee-ed9e702ff371"
      },
      "execution_count": 35,
      "outputs": [
        {
          "output_type": "stream",
          "name": "stdout",
          "text": [
            "datasource='web_search'\n",
            "datasource='vectorstore'\n",
            "datasource='answer_yourself'\n"
          ]
        }
      ]
    },
    {
      "cell_type": "code",
      "source": [
        "def final_chat_bot(query):\n",
        "  from langchain_core.output_parsers import StrOutputParser\n",
        "  from langchain_openai import ChatOpenAI\n",
        "  from langchain.prompts import PromptTemplate\n",
        "\n",
        "  if router(query).datasource==\"vectorstore\":\n",
        "    print(\"vectorstore\")\n",
        "    return rag_chatbot(query)\n",
        "  elif router(query).datasource==\"web_search\":\n",
        "    print(\"web_search\")\n",
        "    return web_search(query)\n",
        "  else:\n",
        "    print(\"answer_yourself\")\n",
        "    prompt_template_name = PromptTemplate.from_template(\n",
        "    \"Answer the user's {question} in the most accurate way possible.\"\n",
        "    )\n",
        "    llm = ChatOpenAI(model=\"gpt-4o-mini\",\n",
        "                     temperature=0.0,\n",
        "                     top_p=1.0)\n",
        "    chain = prompt_template_name | llm | StrOutputParser()\n",
        "\n",
        "    return chain.invoke({\"question\": query})"
      ],
      "metadata": {
        "id": "4ig6e93L_0El"
      },
      "execution_count": 36,
      "outputs": []
    },
    {
      "cell_type": "code",
      "source": [
        "query=\"What is self-attention?\"\n",
        "final_chat_bot(query)"
      ],
      "metadata": {
        "colab": {
          "base_uri": "https://localhost:8080/",
          "height": 110
        },
        "id": "1_2Oe1k-_0Ll",
        "outputId": "dd68e534-fb10-4f75-bd8a-5dba17afbcdd"
      },
      "execution_count": 37,
      "outputs": [
        {
          "output_type": "stream",
          "name": "stdout",
          "text": [
            "vectorstore\n",
            "RAG_CHATBOT\n"
          ]
        },
        {
          "output_type": "execute_result",
          "data": {
            "text/plain": [
              "'Self-attention, sometimes called intra-attention, is an attention mechanism that relates different positions of a single sequence in order to compute a representation of that sequence. It allows the model to weigh the importance of different words or tokens in the sequence when generating a representation, enabling it to capture dependencies and relationships between them effectively. Self-attention has been successfully used in various tasks, including reading comprehension, abstractive summarization, textual entailment, and learning task-independent sentence representations.'"
            ],
            "application/vnd.google.colaboratory.intrinsic+json": {
              "type": "string"
            }
          },
          "metadata": {},
          "execution_count": 37
        }
      ]
    },
    {
      "cell_type": "code",
      "source": [
        "query=\"Who is the 5th president of America?\"\n",
        "final_chat_bot(query)"
      ],
      "metadata": {
        "colab": {
          "base_uri": "https://localhost:8080/",
          "height": 55
        },
        "id": "l6z2OvlV_0S1",
        "outputId": "4abd659d-eb90-4b96-cbd1-b69cf15227e2"
      },
      "execution_count": 42,
      "outputs": [
        {
          "output_type": "stream",
          "name": "stdout",
          "text": [
            "answer_yourself\n"
          ]
        },
        {
          "output_type": "execute_result",
          "data": {
            "text/plain": [
              "'The 5th president of the United States is James Monroe. He served from 1817 to 1825.'"
            ],
            "application/vnd.google.colaboratory.intrinsic+json": {
              "type": "string"
            }
          },
          "metadata": {},
          "execution_count": 42
        }
      ]
    },
    {
      "cell_type": "code",
      "source": [
        "query=\"Which team won the 2024 Football European Champions League, with what score?\"\n",
        "final_chat_bot(query)"
      ],
      "metadata": {
        "colab": {
          "base_uri": "https://localhost:8080/",
          "height": 73
        },
        "id": "FgU9z9pcMk0D",
        "outputId": "7dfba70b-ad44-4b15-8c50-f35274fbb250"
      },
      "execution_count": 47,
      "outputs": [
        {
          "output_type": "stream",
          "name": "stdout",
          "text": [
            "web_search\n",
            "WEB SEARCH\n"
          ]
        },
        {
          "output_type": "execute_result",
          "data": {
            "text/plain": [
              "'Real Madrid won the 2024 UEFA Champions League final against Borussia Dortmund with a score of 2-0.'"
            ],
            "application/vnd.google.colaboratory.intrinsic+json": {
              "type": "string"
            }
          },
          "metadata": {},
          "execution_count": 47
        }
      ]
    },
    {
      "cell_type": "markdown",
      "source": [
        "## Using Agents with Retriver in GPT"
      ],
      "metadata": {
        "id": "ejRgKLuzGIyi"
      }
    },
    {
      "cell_type": "code",
      "source": [
        "from langchain_core.tools import tool\n",
        "\n",
        "\n",
        "@tool\n",
        "def rag_chatbot_tl(query:str, model_name:str =\"gpt-4o-mini\", k:int=7):\n",
        "  \"\"\"Search for information about transformers and attention. For any questions about transformers and attention.\n",
        "    For any question about article of 'Attention Is All You Need', you must use this tool!\"\"\"\n",
        "  from langchain_openai import OpenAI, ChatOpenAI\n",
        "  from langchain.chains.question_answering import load_qa_chain\n",
        "\n",
        "  print(\"RAG_CHATBOT\")\n",
        "  new_docs, _=retrival_grader_and_get_relevant_retrival(query, k=k)\n",
        "  llm=ChatOpenAI(model_name=model_name,\n",
        "                 temperature=0.0,\n",
        "                 top_p=1.0)\n",
        "  chain=load_qa_chain(llm)\n",
        "\n",
        "  output= chain.invoke(input={\"input_documents\":new_docs, \"question\":query})\n",
        "\n",
        "  hallucination_gr=hallucination_grader(new_docs, output[\"output_text\"])\n",
        "\n",
        "  a=0\n",
        "  while hallucination_gr.binary_score == \"yes\":\n",
        "    print(\"hallucination detected\")\n",
        "    output = chain.invoke(input={\"input_documents\": new_docs, \"question\": query})\n",
        "    hallucination_gr=hallucination_grader(new_docs, output[\"output_text\"])\n",
        "    if a==3:\n",
        "      print(\"hallucination problem could not be resolved\")\n",
        "      break\n",
        "    a+=1\n",
        "\n",
        "  answer_gr=answer_grader(query, output[\"output_text\"])\n",
        "\n",
        "  b=0\n",
        "  while answer_gr.binary_score == \"no\":\n",
        "    print(\"query is being rebuilt\")\n",
        "    rewritten_query = rewrite_query(query)\n",
        "    new_docs, _ = retrival_grader_and_get_relevant_retrival(rewritten_query, k=k)\n",
        "    output = chain.invoke(input={\"input_documents\": new_docs, \"question\": rewritten_query})\n",
        "    if b==3:\n",
        "      print(\"answer problem could not be resolved\")\n",
        "      break\n",
        "    b+=1\n",
        "\n",
        "    hallucination_gr=hallucination_grader(new_docs, output[\"output_text\"])\n",
        "    c=0\n",
        "    while hallucination_gr.binary_score == \"yes\":\n",
        "      print(\"hallucination detected\")\n",
        "      output = chain.invoke(input={\"input_documents\": new_docs, \"question\": rewritten_query})\n",
        "      hallucination_gr = hallucination_grader(new_docs, output[\"output_text\"])\n",
        "      if c==3:\n",
        "        print(\"hallucination problem could not be resolved\")\n",
        "        break\n",
        "      c+=1\n",
        "\n",
        "    answer_gr=answer_grader(query, output[\"output_text\"])\n",
        "    query = rewritten_query\n",
        "\n",
        "  return output[\"output_text\"]"
      ],
      "metadata": {
        "id": "EAxOsFK5NHVV"
      },
      "execution_count": 38,
      "outputs": []
    },
    {
      "cell_type": "code",
      "source": [
        "rag_chatbot_tl.name"
      ],
      "metadata": {
        "colab": {
          "base_uri": "https://localhost:8080/",
          "height": 36
        },
        "id": "sazMvSKylGX1",
        "outputId": "9e6b9e75-917a-4178-c2fd-6c6f0ce5f2f1"
      },
      "execution_count": 39,
      "outputs": [
        {
          "output_type": "execute_result",
          "data": {
            "text/plain": [
              "'rag_chatbot_tl'"
            ],
            "application/vnd.google.colaboratory.intrinsic+json": {
              "type": "string"
            }
          },
          "metadata": {},
          "execution_count": 39
        }
      ]
    },
    {
      "cell_type": "code",
      "source": [
        "rag_chatbot_tl.description"
      ],
      "metadata": {
        "colab": {
          "base_uri": "https://localhost:8080/",
          "height": 36
        },
        "id": "yXj33AmklKpo",
        "outputId": "1c3bb814-b7fa-4b9f-a688-7d2eb06a42f0"
      },
      "execution_count": 40,
      "outputs": [
        {
          "output_type": "execute_result",
          "data": {
            "text/plain": [
              "\"Search for information about transformers and attention. For any questions about transformers and attention.\\n    For any question about article of 'Attention Is All You Need', you must use this tool!\""
            ],
            "application/vnd.google.colaboratory.intrinsic+json": {
              "type": "string"
            }
          },
          "metadata": {},
          "execution_count": 40
        }
      ]
    },
    {
      "cell_type": "code",
      "source": [
        "import os\n",
        "from google.colab import userdata\n",
        "\n",
        "os.environ[\"TAVILY_API_KEY\"] = userdata.get('tavily_key')"
      ],
      "metadata": {
        "id": "2Ex4Lcnb-P4C"
      },
      "execution_count": 41,
      "outputs": []
    },
    {
      "cell_type": "code",
      "source": [
        "from langchain_community.tools.tavily_search import TavilySearchResults\n",
        "\n",
        "search_tool = TavilySearchResults(max_results=1)"
      ],
      "metadata": {
        "id": "cbY6awQw-fNH"
      },
      "execution_count": 42,
      "outputs": []
    },
    {
      "cell_type": "code",
      "source": [
        "!pip install -qU langchainhub"
      ],
      "metadata": {
        "id": "iqutAFZm2-7S"
      },
      "execution_count": 43,
      "outputs": []
    },
    {
      "cell_type": "code",
      "source": [
        "from langchain import hub\n",
        "prompt = hub.pull(\"hwchase17/openai-tools-agent\")"
      ],
      "metadata": {
        "id": "3uDSVIcS24z5"
      },
      "execution_count": 44,
      "outputs": []
    },
    {
      "cell_type": "code",
      "source": [
        "prompt.messages[0].prompt.template"
      ],
      "metadata": {
        "colab": {
          "base_uri": "https://localhost:8080/",
          "height": 36
        },
        "id": "vNT2ochdlG_0",
        "outputId": "ba49e600-9f0b-49c8-a27c-9b36578ace03"
      },
      "execution_count": 45,
      "outputs": [
        {
          "output_type": "execute_result",
          "data": {
            "text/plain": [
              "'You are a helpful assistant'"
            ],
            "application/vnd.google.colaboratory.intrinsic+json": {
              "type": "string"
            }
          },
          "metadata": {},
          "execution_count": 45
        }
      ]
    },
    {
      "cell_type": "code",
      "source": [
        "prompt.messages[0].prompt.template=\"Make sure to use the rag_chatbot_tl tool for questions about transformers and attentions, and the tavily_search_results_json tool for questions you don't know about.\""
      ],
      "metadata": {
        "id": "zWhkqFaVlYm4"
      },
      "execution_count": 46,
      "outputs": []
    },
    {
      "cell_type": "code",
      "source": [
        "user_input= \"what is transformers?\""
      ],
      "metadata": {
        "id": "g10KGMWL3bkM"
      },
      "execution_count": 47,
      "outputs": []
    },
    {
      "cell_type": "code",
      "source": [
        "from langchain.agents import AgentExecutor, create_openai_tools_agent\n",
        "llm = ChatOpenAI(temperature=0.0,\n",
        "                 model=\"gpt-4o-mini\",\n",
        "                 top_p=1.0)\n",
        "\n",
        "# The tools we'll give the Agent access to.\n",
        "tools=[rag_chatbot_tl, search_tool]\n",
        "\n",
        "# Finally, let's create an openai agent with the tools, the language model, and the prompt\n",
        "agent = create_openai_tools_agent(llm, tools, prompt)\n",
        "\n",
        "# agent_executor performs all the preparations necessary to execute a query.\n",
        "agent_executor = AgentExecutor(agent=agent, tools=tools, verbose=True)\n",
        "\n",
        "# Let's test it out!\n",
        "agent_executor.invoke({\"input\": user_input})"
      ],
      "metadata": {
        "colab": {
          "base_uri": "https://localhost:8080/"
        },
        "id": "0MrJzxr124uZ",
        "outputId": "4e789827-8c11-4ced-abec-73a062b8cf9a"
      },
      "execution_count": 48,
      "outputs": [
        {
          "output_type": "stream",
          "name": "stdout",
          "text": [
            "\n",
            "\n",
            "\u001b[1m> Entering new AgentExecutor chain...\u001b[0m\n",
            "\u001b[32;1m\u001b[1;3m\n",
            "Invoking: `rag_chatbot_tl` with `{'query': 'What is a transformer in machine learning?'}`\n",
            "\n",
            "\n",
            "\u001b[0mRAG_CHATBOT\n",
            "\u001b[36;1m\u001b[1;3mA transformer in machine learning is a model architecture that relies entirely on an attention mechanism to draw global dependencies between input and output sequences, without using recurrence or convolution. It is composed of an encoder and a decoder, each made up of stacked layers that include multi-head self-attention mechanisms and fully connected feed-forward networks. The transformer allows for significant parallelization during training and has achieved state-of-the-art results in various tasks, particularly in natural language processing, such as translation, reading comprehension, and summarization.\u001b[0m\u001b[32;1m\u001b[1;3mA transformer in machine learning is a model architecture that relies entirely on an attention mechanism to establish global dependencies between input and output sequences, without using recurrence or convolution. It consists of an encoder and a decoder, each made up of stacked layers that include multi-head self-attention mechanisms and fully connected feed-forward networks. This architecture allows for significant parallelization during training and has achieved state-of-the-art results in various tasks, particularly in natural language processing, such as translation, reading comprehension, and summarization.\u001b[0m\n",
            "\n",
            "\u001b[1m> Finished chain.\u001b[0m\n"
          ]
        },
        {
          "output_type": "execute_result",
          "data": {
            "text/plain": [
              "{'input': 'what is transformers?',\n",
              " 'output': 'A transformer in machine learning is a model architecture that relies entirely on an attention mechanism to establish global dependencies between input and output sequences, without using recurrence or convolution. It consists of an encoder and a decoder, each made up of stacked layers that include multi-head self-attention mechanisms and fully connected feed-forward networks. This architecture allows for significant parallelization during training and has achieved state-of-the-art results in various tasks, particularly in natural language processing, such as translation, reading comprehension, and summarization.'}"
            ]
          },
          "metadata": {},
          "execution_count": 48
        }
      ]
    },
    {
      "cell_type": "code",
      "source": [
        "user_input=\"What is langchain?\"\n",
        "\n",
        "agent_executor = AgentExecutor(agent=agent, tools=tools, verbose=True)\n",
        "\n",
        "# Let's test it out!\n",
        "agent_executor.invoke({\"input\": user_input})"
      ],
      "metadata": {
        "colab": {
          "base_uri": "https://localhost:8080/"
        },
        "id": "lPOEA07S24oh",
        "outputId": "3344e09e-5323-422c-ba8f-c8b9aefd86ca"
      },
      "execution_count": 49,
      "outputs": [
        {
          "output_type": "stream",
          "name": "stdout",
          "text": [
            "\n",
            "\n",
            "\u001b[1m> Entering new AgentExecutor chain...\u001b[0m\n",
            "\u001b[32;1m\u001b[1;3m\n",
            "Invoking: `tavily_search_results_json` with `{'query': 'What is LangChain?'}`\n",
            "\n",
            "\n",
            "\u001b[0m\u001b[33;1m\u001b[1;3m[{'url': 'https://python.langchain.com/v0.2/docs/introduction/', 'content': \"Introduction. LangChain is a framework for developing applications powered by large language models (LLMs).. LangChain simplifies every stage of the LLM application lifecycle: Development: Build your applications using LangChain's open-source building blocks, components, and third-party integrations.Use LangGraph to build stateful agents with first-class streaming and human-in-the-loop support.\"}]\u001b[0m\u001b[32;1m\u001b[1;3mLangChain is a framework designed for developing applications powered by large language models (LLMs). It simplifies various stages of the LLM application lifecycle, including development, by providing open-source building blocks, components, and third-party integrations. Additionally, it offers tools like LangGraph to create stateful agents with support for streaming and human-in-the-loop interactions. \n",
            "\n",
            "For more detailed information, you can visit the [LangChain documentation](https://python.langchain.com/v0.2/docs/introduction/).\u001b[0m\n",
            "\n",
            "\u001b[1m> Finished chain.\u001b[0m\n"
          ]
        },
        {
          "output_type": "execute_result",
          "data": {
            "text/plain": [
              "{'input': 'What is langchain?',\n",
              " 'output': 'LangChain is a framework designed for developing applications powered by large language models (LLMs). It simplifies various stages of the LLM application lifecycle, including development, by providing open-source building blocks, components, and third-party integrations. Additionally, it offers tools like LangGraph to create stateful agents with support for streaming and human-in-the-loop interactions. \\n\\nFor more detailed information, you can visit the [LangChain documentation](https://python.langchain.com/v0.2/docs/introduction/).'}"
            ]
          },
          "metadata": {},
          "execution_count": 49
        }
      ]
    },
    {
      "cell_type": "markdown",
      "source": [
        "## Using Agents with Retriver in Gemini"
      ],
      "metadata": {
        "id": "aQI4TzuAnrDD"
      }
    },
    {
      "cell_type": "code",
      "source": [
        "!pip install -qU  langchain-google-genai # for gemini models"
      ],
      "metadata": {
        "id": "zIW6YR_TOkQw"
      },
      "execution_count": 50,
      "outputs": []
    },
    {
      "cell_type": "code",
      "source": [
        "os.environ['GOOGLE_API_KEY']=userdata.get('gemini_key')"
      ],
      "metadata": {
        "id": "KOGZOXgTUYEm"
      },
      "execution_count": 51,
      "outputs": []
    },
    {
      "cell_type": "code",
      "source": [
        "from langchain_google_genai import ChatGoogleGenerativeAI\n",
        "\n",
        "llm = ChatGoogleGenerativeAI(model=\"gemini-1.5-flash\",\n",
        "                             temperature=0.0,\n",
        "                             top_p=1.0)"
      ],
      "metadata": {
        "id": "M8-iMqX1OkJd"
      },
      "execution_count": 52,
      "outputs": []
    },
    {
      "cell_type": "code",
      "source": [
        "user_input=\"What is the transformers and attention?\""
      ],
      "metadata": {
        "id": "Svemhcl1_n0M"
      },
      "execution_count": 53,
      "outputs": []
    },
    {
      "cell_type": "code",
      "source": [
        "# The tools we'll give the Agent access to.\n",
        "from langchain.agents import AgentExecutor, create_tool_calling_agent\n",
        "from langchain_core.prompts import ChatPromptTemplate\n",
        "prompt = ChatPromptTemplate.from_messages(\n",
        "    [\n",
        "        (\n",
        "            \"system\",\n",
        "\n",
        "            \"Make sure to use the rag_chatbot_tl tool for questions about transformers and attension, and the tavily_search_results_json tool for questions you don't know about.\"\n",
        "        ),\n",
        "        (\"placeholder\", \"{chat_history}\"),\n",
        "        (\"human\", \"{input}\"),\n",
        "        (\"placeholder\", \"{agent_scratchpad}\")\n",
        "    ]\n",
        ")\n",
        "\n",
        "tools=[rag_chatbot_tl, search_tool]\n",
        "\n",
        "# Construct the Tools agent\n",
        "agent = create_tool_calling_agent(llm, tools, prompt)\n",
        "\n",
        "agent_executor = AgentExecutor(agent=agent, tools=tools, verbose=True)\n",
        "agent_executor.invoke({\"input\": user_input})"
      ],
      "metadata": {
        "colab": {
          "base_uri": "https://localhost:8080/"
        },
        "id": "iXBQoPGjm1Ay",
        "outputId": "9e034b64-b843-408f-f496-7791bcd06997"
      },
      "execution_count": 54,
      "outputs": [
        {
          "output_type": "stream",
          "name": "stderr",
          "text": [
            "WARNING:langchain_google_genai._function_utils:Key 'title' is not supported in schema, ignoring\n",
            "WARNING:langchain_google_genai._function_utils:Key 'title' is not supported in schema, ignoring\n",
            "WARNING:langchain_google_genai._function_utils:Key 'title' is not supported in schema, ignoring\n",
            "WARNING:langchain_google_genai._function_utils:Key 'default' is not supported in schema, ignoring\n",
            "WARNING:langchain_google_genai._function_utils:Key 'title' is not supported in schema, ignoring\n",
            "WARNING:langchain_google_genai._function_utils:Key 'default' is not supported in schema, ignoring\n",
            "WARNING:langchain_google_genai._function_utils:Key 'title' is not supported in schema, ignoring\n",
            "WARNING:langchain_google_genai._function_utils:Key 'title' is not supported in schema, ignoring\n"
          ]
        },
        {
          "output_type": "stream",
          "name": "stdout",
          "text": [
            "\n",
            "\n",
            "\u001b[1m> Entering new AgentExecutor chain...\u001b[0m\n",
            "\u001b[32;1m\u001b[1;3m\n",
            "Invoking: `rag_chatbot_tl` with `{'query': 'What is the transformers and attention?'}`\n",
            "\n",
            "\n",
            "\u001b[0mRAG_CHATBOT\n",
            "\u001b[36;1m\u001b[1;3mThe Transformer is a model architecture that relies entirely on an attention mechanism to draw global dependencies between input and output sequences, without using recurrence. This allows for significantly more parallelization in processing data. The attention mechanism enables the model to focus on different parts of the input sequence when generating the output, effectively modeling dependencies regardless of their distance in the sequence.\n",
            "\n",
            "Attention mechanisms, including self-attention, allow the model to relate different positions of a single sequence to compute a representation of that sequence. This has been successfully applied in various tasks such as reading comprehension, summarization, and sentence representation. The Transformer architecture employs multi-head attention, which uses multiple attention layers to enhance the model's ability to capture different aspects of the input data.\u001b[0m\u001b[32;1m\u001b[1;3mTransformers are a type of neural network architecture that relies entirely on an attention mechanism to draw global dependencies between input and output sequences, without using recurrence. This allows for significantly more parallelization in processing data. The attention mechanism enables the model to focus on different parts of the input sequence when generating the output, effectively modeling dependencies regardless of their distance in the sequence.\n",
            "\n",
            "Attention mechanisms, including self-attention, allow the model to relate different positions of a single sequence to compute a representation of that sequence. This has been successfully applied in various tasks such as reading comprehension, summarization, and sentence representation. The Transformer architecture employs multi-head attention, which uses multiple attention layers to enhance the model's ability to capture different aspects of the input data. \n",
            "\u001b[0m\n",
            "\n",
            "\u001b[1m> Finished chain.\u001b[0m\n"
          ]
        },
        {
          "output_type": "execute_result",
          "data": {
            "text/plain": [
              "{'input': 'What is the transformers and attention?',\n",
              " 'output': \"Transformers are a type of neural network architecture that relies entirely on an attention mechanism to draw global dependencies between input and output sequences, without using recurrence. This allows for significantly more parallelization in processing data. The attention mechanism enables the model to focus on different parts of the input sequence when generating the output, effectively modeling dependencies regardless of their distance in the sequence.\\n\\nAttention mechanisms, including self-attention, allow the model to relate different positions of a single sequence to compute a representation of that sequence. This has been successfully applied in various tasks such as reading comprehension, summarization, and sentence representation. The Transformer architecture employs multi-head attention, which uses multiple attention layers to enhance the model's ability to capture different aspects of the input data. \\n\"}"
            ]
          },
          "metadata": {},
          "execution_count": 54
        }
      ]
    },
    {
      "cell_type": "code",
      "source": [
        "tools[1].name"
      ],
      "metadata": {
        "colab": {
          "base_uri": "https://localhost:8080/",
          "height": 36
        },
        "id": "xgjm4R9FCp9x",
        "outputId": "59dc68f0-e149-4422-aab9-c36d2a7f4330"
      },
      "execution_count": 55,
      "outputs": [
        {
          "output_type": "execute_result",
          "data": {
            "text/plain": [
              "'tavily_search_results_json'"
            ],
            "application/vnd.google.colaboratory.intrinsic+json": {
              "type": "string"
            }
          },
          "metadata": {},
          "execution_count": 55
        }
      ]
    },
    {
      "cell_type": "code",
      "source": [
        "tools[0].name"
      ],
      "metadata": {
        "colab": {
          "base_uri": "https://localhost:8080/",
          "height": 36
        },
        "id": "bkkawL8dDT6D",
        "outputId": "45380d15-60e9-4857-8223-4af041dd9735"
      },
      "execution_count": 56,
      "outputs": [
        {
          "output_type": "execute_result",
          "data": {
            "text/plain": [
              "'rag_chatbot_tl'"
            ],
            "application/vnd.google.colaboratory.intrinsic+json": {
              "type": "string"
            }
          },
          "metadata": {},
          "execution_count": 56
        }
      ]
    },
    {
      "cell_type": "code",
      "source": [
        "user_input=\"What is the langchain?\"\n",
        "agent_executor = AgentExecutor(agent=agent, tools=tools, verbose=True)\n",
        "agent_executor.invoke({\"input\": user_input})"
      ],
      "metadata": {
        "colab": {
          "base_uri": "https://localhost:8080/"
        },
        "id": "QhODHbcSUkVu",
        "outputId": "fcc429da-d939-46d5-e7cf-8679d7c6bc60"
      },
      "execution_count": 57,
      "outputs": [
        {
          "output_type": "stream",
          "name": "stdout",
          "text": [
            "\n",
            "\n",
            "\u001b[1m> Entering new AgentExecutor chain...\u001b[0m\n",
            "\u001b[32;1m\u001b[1;3m\n",
            "Invoking: `tavily_search_results_json` with `{'query': 'What is the langchain?'}`\n",
            "\n",
            "\n",
            "\u001b[0m\u001b[33;1m\u001b[1;3m[{'url': 'https://python.langchain.com/v0.2/docs/introduction/', 'content': \"Introduction. LangChain is a framework for developing applications powered by large language models (LLMs).. LangChain simplifies every stage of the LLM application lifecycle: Development: Build your applications using LangChain's open-source building blocks, components, and third-party integrations.Use LangGraph to build stateful agents with first-class streaming and human-in-the-loop support.\"}]\u001b[0m\u001b[32;1m\u001b[1;3mLangChain is a framework for developing applications powered by large language models (LLMs). It simplifies every stage of the LLM application lifecycle, from development to deployment. LangChain provides open-source building blocks, components, and third-party integrations to help you build your applications. You can also use LangGraph to build stateful agents with first-class streaming and human-in-the-loop support. \n",
            "\u001b[0m\n",
            "\n",
            "\u001b[1m> Finished chain.\u001b[0m\n"
          ]
        },
        {
          "output_type": "execute_result",
          "data": {
            "text/plain": [
              "{'input': 'What is the langchain?',\n",
              " 'output': 'LangChain is a framework for developing applications powered by large language models (LLMs). It simplifies every stage of the LLM application lifecycle, from development to deployment. LangChain provides open-source building blocks, components, and third-party integrations to help you build your applications. You can also use LangGraph to build stateful agents with first-class streaming and human-in-the-loop support. \\n'}"
            ]
          },
          "metadata": {},
          "execution_count": 57
        }
      ]
    },
    {
      "cell_type": "markdown",
      "source": [
        "## Langgraph Agent\n",
        "\n",
        "### GPT Models"
      ],
      "metadata": {
        "id": "IS0PvCjXuuEr"
      }
    },
    {
      "cell_type": "code",
      "source": [
        "!pip install -qU langgraph"
      ],
      "metadata": {
        "id": "vlsOAjvmvFOI",
        "colab": {
          "base_uri": "https://localhost:8080/"
        },
        "outputId": "e2422229-b7e1-4c91-c7d5-dbfd037b069b"
      },
      "execution_count": 58,
      "outputs": [
        {
          "output_type": "stream",
          "name": "stdout",
          "text": [
            "\u001b[?25l   \u001b[90m━━━━━━━━━━━━━━━━━━━━━━━━━━━━━━━━━━━━━━━━\u001b[0m \u001b[32m0.0/102.6 kB\u001b[0m \u001b[31m?\u001b[0m eta \u001b[36m-:--:--\u001b[0m\r\u001b[2K   \u001b[91m━━━━━━━━━━━━━━━━━━━━━━━━━━━━━━━━━━━━━━━\u001b[0m\u001b[91m╸\u001b[0m \u001b[32m102.4/102.6 kB\u001b[0m \u001b[31m3.9 MB/s\u001b[0m eta \u001b[36m0:00:01\u001b[0m\r\u001b[2K   \u001b[90m━━━━━━━━━━━━━━━━━━━━━━━━━━━━━━━━━━━━━━━━\u001b[0m \u001b[32m102.6/102.6 kB\u001b[0m \u001b[31m2.5 MB/s\u001b[0m eta \u001b[36m0:00:00\u001b[0m\n",
            "\u001b[?25h"
          ]
        }
      ]
    },
    {
      "cell_type": "code",
      "source": [
        "user_input= \"what is transformers?\""
      ],
      "metadata": {
        "id": "FvAUpvuVuzLG"
      },
      "execution_count": 59,
      "outputs": []
    },
    {
      "cell_type": "code",
      "source": [
        "from langchain_core.messages import SystemMessage, HumanMessage\n",
        "from langgraph.prebuilt import create_react_agent\n",
        "\n",
        "llm = ChatOpenAI(temperature=0.0,\n",
        "                 model=\"gpt-4o-mini\",\n",
        "                 top_p=1)\n",
        "\n",
        "# The tools we'll give the Agent access to.\n",
        "tools = [rag_chatbot_tl, search_tool] # search_tool\n",
        "\n",
        "prompt=\"Make sure to use the rag_chatbot_tl tool for questions about transformers and attentions, and the tavily_search_results_json tool for questions you don't know about.\"\n",
        "model_with_tools = llm.bind_tools(tools)\n",
        "\n",
        "agent_executor = create_react_agent(model_with_tools, tools, state_modifier=prompt)\n",
        "\n",
        "response = agent_executor.invoke({\"messages\": [HumanMessage(content=user_input)]})\n",
        "\n",
        "response[\"messages\"]"
      ],
      "metadata": {
        "colab": {
          "base_uri": "https://localhost:8080/"
        },
        "id": "vdvs2SO-u7bM",
        "outputId": "60513f94-3e1f-4d19-d427-4440b36662b4"
      },
      "execution_count": 60,
      "outputs": [
        {
          "output_type": "stream",
          "name": "stdout",
          "text": [
            "RAG_CHATBOT\n"
          ]
        },
        {
          "output_type": "execute_result",
          "data": {
            "text/plain": [
              "[HumanMessage(content='what is transformers?', id='c01647ca-70c2-42d3-9288-462e6af0e9bf'),\n",
              " AIMessage(content='', additional_kwargs={'tool_calls': [{'id': 'call_9SLNAniqAk7LN6tpjy2JLE5E', 'function': {'arguments': '{\"query\":\"What is a transformer in machine learning?\"}', 'name': 'rag_chatbot_tl'}, 'type': 'function'}]}, response_metadata={'token_usage': {'completion_tokens': 25, 'prompt_tokens': 196, 'total_tokens': 221}, 'model_name': 'gpt-4o-mini-2024-07-18', 'system_fingerprint': 'fp_9b0abffe81', 'finish_reason': 'tool_calls', 'logprobs': None}, id='run-cadbdc3e-b5db-4c05-add6-0173d6666a74-0', tool_calls=[{'name': 'rag_chatbot_tl', 'args': {'query': 'What is a transformer in machine learning?'}, 'id': 'call_9SLNAniqAk7LN6tpjy2JLE5E', 'type': 'tool_call'}], usage_metadata={'input_tokens': 196, 'output_tokens': 25, 'total_tokens': 221}),\n",
              " ToolMessage(content='A transformer in machine learning is a model architecture that relies entirely on an attention mechanism to draw global dependencies between input and output sequences, without using recurrence or convolution. It is composed of an encoder and a decoder, each made up of stacked layers that include multi-head self-attention mechanisms and fully connected feed-forward networks. The transformer allows for significant parallelization during training and has achieved state-of-the-art results in various tasks, particularly in natural language processing, such as translation, reading comprehension, and summarization.', name='rag_chatbot_tl', id='6351a645-d4bf-45f8-897a-547902c635e3', tool_call_id='call_9SLNAniqAk7LN6tpjy2JLE5E'),\n",
              " AIMessage(content='A transformer in machine learning is a model architecture that uses an attention mechanism to establish global dependencies between input and output sequences, without relying on recurrence or convolution. It consists of an encoder and a decoder, each made up of stacked layers that include multi-head self-attention mechanisms and fully connected feed-forward networks. This architecture allows for significant parallelization during training and has achieved state-of-the-art results in various tasks, especially in natural language processing, such as translation, reading comprehension, and summarization.', response_metadata={'token_usage': {'completion_tokens': 100, 'prompt_tokens': 333, 'total_tokens': 433}, 'model_name': 'gpt-4o-mini-2024-07-18', 'system_fingerprint': 'fp_9b0abffe81', 'finish_reason': 'stop', 'logprobs': None}, id='run-e8cdcbb8-23d9-48e3-9c21-f26aa14c1fc8-0', usage_metadata={'input_tokens': 333, 'output_tokens': 100, 'total_tokens': 433})]"
            ]
          },
          "metadata": {},
          "execution_count": 60
        }
      ]
    },
    {
      "cell_type": "code",
      "source": [
        "response[\"messages\"][-1].content"
      ],
      "metadata": {
        "colab": {
          "base_uri": "https://localhost:8080/",
          "height": 73
        },
        "id": "-9yOJlxqVPwX",
        "outputId": "83742963-fdca-4d87-f1cc-5f83b78f0a5c"
      },
      "execution_count": 61,
      "outputs": [
        {
          "output_type": "execute_result",
          "data": {
            "text/plain": [
              "'A transformer in machine learning is a model architecture that uses an attention mechanism to establish global dependencies between input and output sequences, without relying on recurrence or convolution. It consists of an encoder and a decoder, each made up of stacked layers that include multi-head self-attention mechanisms and fully connected feed-forward networks. This architecture allows for significant parallelization during training and has achieved state-of-the-art results in various tasks, especially in natural language processing, such as translation, reading comprehension, and summarization.'"
            ],
            "application/vnd.google.colaboratory.intrinsic+json": {
              "type": "string"
            }
          },
          "metadata": {},
          "execution_count": 61
        }
      ]
    },
    {
      "cell_type": "markdown",
      "source": [
        "### Claude Models"
      ],
      "metadata": {
        "id": "kTDIhWC9Vj59"
      }
    },
    {
      "cell_type": "code",
      "source": [
        "!pip install -qU langchain-anthropic"
      ],
      "metadata": {
        "id": "qdg9syltF4s8",
        "colab": {
          "base_uri": "https://localhost:8080/"
        },
        "outputId": "a0348bc0-12fe-447b-ece3-0cd568ebac20"
      },
      "execution_count": 62,
      "outputs": [
        {
          "output_type": "stream",
          "name": "stdout",
          "text": [
            "\u001b[?25l   \u001b[90m━━━━━━━━━━━━━━━━━━━━━━━━━━━━━━━━━━━━━━━━\u001b[0m \u001b[32m0.0/866.6 kB\u001b[0m \u001b[31m?\u001b[0m eta \u001b[36m-:--:--\u001b[0m\r\u001b[2K   \u001b[91m━━━━━━━━━━━━━━━━━\u001b[0m\u001b[90m╺\u001b[0m\u001b[90m━━━━━━━━━━━━━━━━━━━━━━\u001b[0m \u001b[32m368.6/866.6 kB\u001b[0m \u001b[31m10.8 MB/s\u001b[0m eta \u001b[36m0:00:01\u001b[0m\r\u001b[2K   \u001b[90m━━━━━━━━━━━━━━━━━━━━━━━━━━━━━━━━━━━━━━━━\u001b[0m \u001b[32m866.6/866.6 kB\u001b[0m \u001b[31m12.5 MB/s\u001b[0m eta \u001b[36m0:00:00\u001b[0m\n",
            "\u001b[?25h\u001b[?25l   \u001b[90m━━━━━━━━━━━━━━━━━━━━━━━━━━━━━━━━━━━━━━━━\u001b[0m \u001b[32m0.0/318.9 kB\u001b[0m \u001b[31m?\u001b[0m eta \u001b[36m-:--:--\u001b[0m\r\u001b[2K   \u001b[90m━━━━━━━━━━━━━━━━━━━━━━━━━━━━━━━━━━━━━━━━\u001b[0m \u001b[32m318.9/318.9 kB\u001b[0m \u001b[31m13.8 MB/s\u001b[0m eta \u001b[36m0:00:00\u001b[0m\n",
            "\u001b[?25h"
          ]
        }
      ]
    },
    {
      "cell_type": "code",
      "source": [
        "os.environ[\"CLAUDE_API_KEY\"] = userdata.get('claude-key')"
      ],
      "metadata": {
        "id": "3HwpdiJHRpx4"
      },
      "execution_count": 63,
      "outputs": []
    },
    {
      "cell_type": "code",
      "source": [
        "from langchain_anthropic import ChatAnthropic\n",
        "\n",
        "llm = ChatAnthropic(model='claude-3-5-sonnet-20240620', #claude-3-sonnet, claude-3-opus, claude-3-haiku\n",
        "                    temperature=0,\n",
        "                    top_p=1.0,\n",
        "                    api_key=os.environ[\"CLAUDE_API_KEY\"]\n",
        "                    )"
      ],
      "metadata": {
        "id": "XSFUgxggF4zD"
      },
      "execution_count": 64,
      "outputs": []
    },
    {
      "cell_type": "code",
      "source": [
        "user_input= \"what is transformers and attentions?\"\n",
        "\n",
        "tools = [rag_chatbot_tl, search_tool] # search_tool\n",
        "\n",
        "prompt=\"Make sure to use the rag_chatbot_tl tool for questions about transformers and attentions, and the tavily_search_results_json tool for questions you don't know about.\"\n",
        "model_with_tools = llm.bind_tools(tools)\n",
        "\n",
        "agent_executor = create_react_agent(model_with_tools, tools, state_modifier=prompt)\n",
        "\n",
        "response = agent_executor.invoke({\"messages\": [HumanMessage(content=user_input)]})\n",
        "\n",
        "response[\"messages\"]"
      ],
      "metadata": {
        "id": "N9qvWo-LWEil"
      },
      "execution_count": 65,
      "outputs": []
    },
    {
      "cell_type": "code",
      "source": [
        "response[\"messages\"][-1].content"
      ],
      "metadata": {
        "colab": {
          "base_uri": "https://localhost:8080/",
          "height": 139
        },
        "id": "xazmRCGSWUf_",
        "outputId": "ac087ed4-e33d-44a5-c665-69eae34b0332"
      },
      "execution_count": null,
      "outputs": [
        {
          "output_type": "execute_result",
          "data": {
            "text/plain": [
              "'Based on the information provided, I can explain transformers and attention in the context of machine learning:\\n\\nTransformers:\\nTransformers are a type of model architecture in machine learning that has revolutionized how we process sequences of data, particularly in natural language processing tasks. The key features of transformers are:\\n\\n1. They rely entirely on an attention mechanism to process input and output sequences.\\n2. They don\\'t use recurrent neural networks (RNNs) or convolutional layers, which were common in previous architectures.\\n3. This design allows them to model dependencies between elements in a sequence regardless of how far apart they are.\\n4. Transformers enable more efficient parallelization during training, which can lead to faster and more effective learning.\\n\\nAttention:\\nAttention mechanisms, particularly self-attention, are the core component of transformer models. Here\\'s what you need to know about attention:\\n\\n1. It allows the model to weigh the importance of different positions in a sequence when computing representations.\\n2. In transformers, a specific type called \"multi-head attention\" is used.\\n3. Multi-head attention involves multiple attention layers that can focus on different parts of the input sequence simultaneously.\\n4. This approach enables the model to capture various aspects of the relationships between elements in the sequence.\\n\\nThe combination of transformers and attention mechanisms has led to significant advancements in machine learning, particularly in natural language processing. These models have achieved state-of-the-art results in various tasks, including:\\n\\n1. Machine translation\\n2. Text summarization\\n3. Question answering\\n4. And many other language-related tasks\\n\\nThe power of transformers and attention lies in their ability to process and understand complex relationships within sequences of data, making them highly effective for tasks that involve understanding and generating human language.'"
            ],
            "application/vnd.google.colaboratory.intrinsic+json": {
              "type": "string"
            }
          },
          "metadata": {},
          "execution_count": 95
        }
      ]
    },
    {
      "cell_type": "markdown",
      "source": [
        "### Gemini Models"
      ],
      "metadata": {
        "id": "uAGQlq8DW9Fb"
      }
    },
    {
      "cell_type": "code",
      "source": [
        "from langchain_google_genai import ChatGoogleGenerativeAI\n",
        "\n",
        "llm = ChatGoogleGenerativeAI(model=\"gemini-1.5-flash\",\n",
        "                             temperature=0.0,\n",
        "                             top_p=1.0)"
      ],
      "metadata": {
        "id": "7nyJzHXWXFAu"
      },
      "execution_count": 66,
      "outputs": []
    },
    {
      "cell_type": "code",
      "source": [
        "user_input= \"what is langchain framework?\"\n",
        "\n",
        "tools = [rag_chatbot_tl, search_tool] # search_tool\n",
        "\n",
        "prompt=\"Make sure to use the rag_chatbot_tl tool for questions about transformers and attentions, and the tavily_search_results_json tool for questions you don't know about.\"\n",
        "model_with_tools = llm.bind_tools(tools)\n",
        "\n",
        "agent_executor = create_react_agent(model_with_tools, tools, state_modifier=prompt)\n",
        "\n",
        "response = agent_executor.invoke({\"messages\": [HumanMessage(content=user_input)]})\n",
        "\n",
        "response[\"messages\"]"
      ],
      "metadata": {
        "colab": {
          "base_uri": "https://localhost:8080/"
        },
        "id": "kFFPscfVWzY4",
        "outputId": "17a2e223-3a62-4cad-9b5b-71b41af949f4"
      },
      "execution_count": 67,
      "outputs": [
        {
          "output_type": "stream",
          "name": "stderr",
          "text": [
            "WARNING:langchain_google_genai._function_utils:Key 'title' is not supported in schema, ignoring\n",
            "WARNING:langchain_google_genai._function_utils:Key 'title' is not supported in schema, ignoring\n",
            "WARNING:langchain_google_genai._function_utils:Key 'title' is not supported in schema, ignoring\n",
            "WARNING:langchain_google_genai._function_utils:Key 'default' is not supported in schema, ignoring\n",
            "WARNING:langchain_google_genai._function_utils:Key 'title' is not supported in schema, ignoring\n",
            "WARNING:langchain_google_genai._function_utils:Key 'default' is not supported in schema, ignoring\n",
            "WARNING:langchain_google_genai._function_utils:Key 'title' is not supported in schema, ignoring\n",
            "WARNING:langchain_google_genai._function_utils:Key 'title' is not supported in schema, ignoring\n",
            "WARNING:langchain_google_genai._function_utils:Key 'title' is not supported in schema, ignoring\n",
            "WARNING:langchain_google_genai._function_utils:Key 'title' is not supported in schema, ignoring\n",
            "WARNING:langchain_google_genai._function_utils:Key 'title' is not supported in schema, ignoring\n",
            "WARNING:langchain_google_genai._function_utils:Key 'default' is not supported in schema, ignoring\n",
            "WARNING:langchain_google_genai._function_utils:Key 'title' is not supported in schema, ignoring\n",
            "WARNING:langchain_google_genai._function_utils:Key 'default' is not supported in schema, ignoring\n",
            "WARNING:langchain_google_genai._function_utils:Key 'title' is not supported in schema, ignoring\n",
            "WARNING:langchain_google_genai._function_utils:Key 'title' is not supported in schema, ignoring\n"
          ]
        },
        {
          "output_type": "execute_result",
          "data": {
            "text/plain": [
              "[HumanMessage(content='what is langchain framework?', id='2f71799a-f065-4997-b0b1-45af88da8e60'),\n",
              " AIMessage(content='', additional_kwargs={'function_call': {'name': 'tavily_search_results_json', 'arguments': '{\"query\": \"what is langchain framework\"}'}}, response_metadata={'prompt_feedback': {'block_reason': 0, 'safety_ratings': []}, 'finish_reason': 'STOP', 'safety_ratings': [{'category': 'HARM_CATEGORY_HARASSMENT', 'probability': 'NEGLIGIBLE', 'blocked': False}, {'category': 'HARM_CATEGORY_SEXUALLY_EXPLICIT', 'probability': 'NEGLIGIBLE', 'blocked': False}, {'category': 'HARM_CATEGORY_DANGEROUS_CONTENT', 'probability': 'NEGLIGIBLE', 'blocked': False}, {'category': 'HARM_CATEGORY_HATE_SPEECH', 'probability': 'NEGLIGIBLE', 'blocked': False}]}, id='run-356c3afc-6060-4037-809d-0a13c8ec03a2-0', tool_calls=[{'name': 'tavily_search_results_json', 'args': {'query': 'what is langchain framework'}, 'id': '5546dcc0-4770-4b9f-8f83-ffe5aec9dec7', 'type': 'tool_call'}], usage_metadata={'input_tokens': 225, 'output_tokens': 24, 'total_tokens': 249}),\n",
              " ToolMessage(content='[{\"url\": \"https://python.langchain.com/v0.2/docs/introduction/\", \"content\": \"Introduction. LangChain is a framework for developing applications powered by large language models (LLMs).. LangChain simplifies every stage of the LLM application lifecycle: Development: Build your applications using LangChain\\'s open-source building blocks, components, and third-party integrations.Use LangGraph to build stateful agents with first-class streaming and human-in-the-loop support.\"}]', name='tavily_search_results_json', id='a1433800-68b7-419f-a009-9df47488132f', tool_call_id='5546dcc0-4770-4b9f-8f83-ffe5aec9dec7', artifact={'query': 'what is langchain framework', 'follow_up_questions': None, 'answer': None, 'images': [], 'results': [{'title': 'Introduction | ️ LangChain', 'url': 'https://python.langchain.com/v0.2/docs/introduction/', 'content': \"Introduction. LangChain is a framework for developing applications powered by large language models (LLMs).. LangChain simplifies every stage of the LLM application lifecycle: Development: Build your applications using LangChain's open-source building blocks, components, and third-party integrations.Use LangGraph to build stateful agents with first-class streaming and human-in-the-loop support.\", 'score': 0.9997851, 'raw_content': None}], 'response_time': 1.16}),\n",
              " AIMessage(content='LangChain is a framework for developing applications powered by large language models (LLMs). It simplifies every stage of the LLM application lifecycle, from development to deployment. LangChain provides open-source building blocks, components, and third-party integrations to help you build your applications. You can also use LangGraph to build stateful agents with first-class streaming and human-in-the-loop support. \\n', response_metadata={'prompt_feedback': {'block_reason': 0, 'safety_ratings': []}, 'finish_reason': 'STOP', 'safety_ratings': [{'category': 'HARM_CATEGORY_SEXUALLY_EXPLICIT', 'probability': 'NEGLIGIBLE', 'blocked': False}, {'category': 'HARM_CATEGORY_HATE_SPEECH', 'probability': 'NEGLIGIBLE', 'blocked': False}, {'category': 'HARM_CATEGORY_HARASSMENT', 'probability': 'NEGLIGIBLE', 'blocked': False}, {'category': 'HARM_CATEGORY_DANGEROUS_CONTENT', 'probability': 'NEGLIGIBLE', 'blocked': False}]}, id='run-489057d4-1ef8-4ff8-b6e6-01fb79524d21-0', usage_metadata={'input_tokens': 375, 'output_tokens': 82, 'total_tokens': 457})]"
            ]
          },
          "metadata": {},
          "execution_count": 67
        }
      ]
    },
    {
      "cell_type": "code",
      "source": [
        "response[\"messages\"][-1].content"
      ],
      "metadata": {
        "colab": {
          "base_uri": "https://localhost:8080/",
          "height": 55
        },
        "id": "I-KRGTQDXTqX",
        "outputId": "ee843590-4ccf-463e-fdee-0363b20ecd8d"
      },
      "execution_count": 68,
      "outputs": [
        {
          "output_type": "execute_result",
          "data": {
            "text/plain": [
              "'LangChain is a framework for developing applications powered by large language models (LLMs). It simplifies every stage of the LLM application lifecycle, from development to deployment. LangChain provides open-source building blocks, components, and third-party integrations to help you build your applications. You can also use LangGraph to build stateful agents with first-class streaming and human-in-the-loop support. \\n'"
            ],
            "application/vnd.google.colaboratory.intrinsic+json": {
              "type": "string"
            }
          },
          "metadata": {},
          "execution_count": 68
        }
      ]
    },
    {
      "cell_type": "code",
      "source": [
        "user_input= \"What is the transformers and attention?\"\n",
        "\n",
        "\n",
        "response = agent_executor.invoke({\"messages\": [HumanMessage(content=user_input)]})\n",
        "\n",
        "response[\"messages\"]"
      ],
      "metadata": {
        "colab": {
          "base_uri": "https://localhost:8080/"
        },
        "id": "8LeQ-UBDXURP",
        "outputId": "a4c360fb-af11-495d-edb7-0eafdb44545e"
      },
      "execution_count": 69,
      "outputs": [
        {
          "output_type": "stream",
          "name": "stdout",
          "text": [
            "RAG_CHATBOT\n"
          ]
        },
        {
          "output_type": "execute_result",
          "data": {
            "text/plain": [
              "[HumanMessage(content='What is the transformers and attention?', id='0cbbcaa9-27ec-4c6d-95a1-acebf386d112'),\n",
              " AIMessage(content='', additional_kwargs={'function_call': {'name': 'rag_chatbot_tl', 'arguments': '{\"query\": \"What is the transformers and attention?\"}'}}, response_metadata={'prompt_feedback': {'block_reason': 0, 'safety_ratings': []}, 'finish_reason': 'STOP', 'safety_ratings': [{'category': 'HARM_CATEGORY_SEXUALLY_EXPLICIT', 'probability': 'NEGLIGIBLE', 'blocked': False}, {'category': 'HARM_CATEGORY_HATE_SPEECH', 'probability': 'NEGLIGIBLE', 'blocked': False}, {'category': 'HARM_CATEGORY_DANGEROUS_CONTENT', 'probability': 'NEGLIGIBLE', 'blocked': False}, {'category': 'HARM_CATEGORY_HARASSMENT', 'probability': 'NEGLIGIBLE', 'blocked': False}]}, id='run-118960af-ff3f-4cd9-b7c4-b6875971a0ef-0', tool_calls=[{'name': 'rag_chatbot_tl', 'args': {'query': 'What is the transformers and attention?'}, 'id': '3a37d1e7-84cb-4e0e-a242-0dfd385ac199', 'type': 'tool_call'}], usage_metadata={'input_tokens': 226, 'output_tokens': 24, 'total_tokens': 250}),\n",
              " ToolMessage(content=\"The Transformer is a model architecture that relies entirely on an attention mechanism to draw global dependencies between input and output sequences, without using recurrence. This allows for significantly more parallelization in processing data. The attention mechanism enables the model to focus on different parts of the input sequence when generating the output, effectively modeling dependencies regardless of their distance in the sequence.\\n\\nAttention mechanisms, including self-attention, allow the model to relate different positions of a single sequence to compute a representation of that sequence. This has been successfully applied in various tasks such as reading comprehension, summarization, and sentence representation. The Transformer architecture employs multi-head attention, which uses multiple attention layers to enhance the model's ability to capture different aspects of the input data.\", name='rag_chatbot_tl', id='dab81120-684f-4d51-976c-71558013e908', tool_call_id='3a37d1e7-84cb-4e0e-a242-0dfd385ac199'),\n",
              " AIMessage(content=\"Transformers are a type of neural network architecture that relies entirely on an attention mechanism to draw global dependencies between input and output sequences, without using recurrence. This allows for significantly more parallelization in processing data. The attention mechanism enables the model to focus on different parts of the input sequence when generating the output, effectively modeling dependencies regardless of their distance in the sequence.\\n\\nAttention mechanisms, including self-attention, allow the model to relate different positions of a single sequence to compute a representation of that sequence. This has been successfully applied in various tasks such as reading comprehension, summarization, and sentence representation. The Transformer architecture employs multi-head attention, which uses multiple attention layers to enhance the model's ability to capture different aspects of the input data. \\n\", response_metadata={'prompt_feedback': {'block_reason': 0, 'safety_ratings': []}, 'finish_reason': 'STOP', 'safety_ratings': [{'category': 'HARM_CATEGORY_SEXUALLY_EXPLICIT', 'probability': 'NEGLIGIBLE', 'blocked': False}, {'category': 'HARM_CATEGORY_HATE_SPEECH', 'probability': 'NEGLIGIBLE', 'blocked': False}, {'category': 'HARM_CATEGORY_HARASSMENT', 'probability': 'NEGLIGIBLE', 'blocked': False}, {'category': 'HARM_CATEGORY_DANGEROUS_CONTENT', 'probability': 'NEGLIGIBLE', 'blocked': False}]}, id='run-d5a1513a-3587-4121-9093-615c9fbbd7c5-0', usage_metadata={'input_tokens': 418, 'output_tokens': 149, 'total_tokens': 567})]"
            ]
          },
          "metadata": {},
          "execution_count": 69
        }
      ]
    },
    {
      "cell_type": "code",
      "source": [
        "response[\"messages\"][-1].content"
      ],
      "metadata": {
        "colab": {
          "base_uri": "https://localhost:8080/",
          "height": 91
        },
        "id": "xYCpvwYfXqu-",
        "outputId": "8f5cdd7c-0d17-4d8b-8f25-5c1a5994f69d"
      },
      "execution_count": 70,
      "outputs": [
        {
          "output_type": "execute_result",
          "data": {
            "text/plain": [
              "\"Transformers are a type of neural network architecture that relies entirely on an attention mechanism to draw global dependencies between input and output sequences, without using recurrence. This allows for significantly more parallelization in processing data. The attention mechanism enables the model to focus on different parts of the input sequence when generating the output, effectively modeling dependencies regardless of their distance in the sequence.\\n\\nAttention mechanisms, including self-attention, allow the model to relate different positions of a single sequence to compute a representation of that sequence. This has been successfully applied in various tasks such as reading comprehension, summarization, and sentence representation. The Transformer architecture employs multi-head attention, which uses multiple attention layers to enhance the model's ability to capture different aspects of the input data. \\n\""
            ],
            "application/vnd.google.colaboratory.intrinsic+json": {
              "type": "string"
            }
          },
          "metadata": {},
          "execution_count": 70
        }
      ]
    },
    {
      "cell_type": "code",
      "source": [],
      "metadata": {
        "id": "0quYoe7QjWlh"
      },
      "execution_count": null,
      "outputs": []
    }
  ]
}